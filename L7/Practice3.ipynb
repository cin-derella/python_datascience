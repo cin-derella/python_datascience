{
 "cells": [
  {
   "cell_type": "code",
   "execution_count": 69,
   "metadata": {},
   "outputs": [],
   "source": [
    "import pandas as pd\n",
    "import numpy as np"
   ]
  },
  {
   "cell_type": "code",
   "execution_count": 52,
   "metadata": {},
   "outputs": [],
   "source": [
    "csdnFilePath = '../YC_DataAnalysis/password/YCdata/csdntiny.txt'\n",
    "df_table = pd.read_table(csdnFilePath, ' # ', engine='python')"
   ]
  },
  {
   "cell_type": "code",
   "execution_count": 53,
   "metadata": {},
   "outputs": [
    {
     "data": {
      "text/html": [
       "<div>\n",
       "<style scoped>\n",
       "    .dataframe tbody tr th:only-of-type {\n",
       "        vertical-align: middle;\n",
       "    }\n",
       "\n",
       "    .dataframe tbody tr th {\n",
       "        vertical-align: top;\n",
       "    }\n",
       "\n",
       "    .dataframe thead th {\n",
       "        text-align: right;\n",
       "    }\n",
       "</style>\n",
       "<table border=\"1\" class=\"dataframe\">\n",
       "  <thead>\n",
       "    <tr style=\"text-align: right;\">\n",
       "      <th></th>\n",
       "      <th>Name</th>\n",
       "      <th>Password</th>\n",
       "      <th>Email</th>\n",
       "    </tr>\n",
       "  </thead>\n",
       "  <tbody>\n",
       "    <tr>\n",
       "      <th>0</th>\n",
       "      <td>Hutuwen123</td>\n",
       "      <td>568236599</td>\n",
       "      <td>568236599@qq.com</td>\n",
       "    </tr>\n",
       "    <tr>\n",
       "      <th>1</th>\n",
       "      <td>Keke-0601</td>\n",
       "      <td>05157538076jjj</td>\n",
       "      <td>Keke-0601@163.com</td>\n",
       "    </tr>\n",
       "    <tr>\n",
       "      <th>2</th>\n",
       "      <td>LP WONG</td>\n",
       "      <td>dearbook</td>\n",
       "      <td>lpwong@innacoustic.com.cn</td>\n",
       "    </tr>\n",
       "    <tr>\n",
       "      <th>3</th>\n",
       "      <td>iop88iop88</td>\n",
       "      <td>1q2w3edearbook</td>\n",
       "      <td>ww99pp@yahoo.com.cn</td>\n",
       "    </tr>\n",
       "    <tr>\n",
       "      <th>4</th>\n",
       "      <td>kuanhg616</td>\n",
       "      <td>liao359829</td>\n",
       "      <td>kuang616@sina.com</td>\n",
       "    </tr>\n",
       "    <tr>\n",
       "      <th>5</th>\n",
       "      <td>liang13938725609</td>\n",
       "      <td>02365415325</td>\n",
       "      <td>zllzxz2006@163.com</td>\n",
       "    </tr>\n",
       "    <tr>\n",
       "      <th>6</th>\n",
       "      <td>shun1123</td>\n",
       "      <td>qqqqqqdearbook</td>\n",
       "      <td>sded@fjkf.com</td>\n",
       "    </tr>\n",
       "    <tr>\n",
       "      <th>7</th>\n",
       "      <td>wy20150</td>\n",
       "      <td>dearbook</td>\n",
       "      <td>wy20150@163.com</td>\n",
       "    </tr>\n",
       "    <tr>\n",
       "      <th>8</th>\n",
       "      <td>ybbihdx</td>\n",
       "      <td>dearbook</td>\n",
       "      <td>guoxiiaolng@163.com</td>\n",
       "    </tr>\n",
       "    <tr>\n",
       "      <th>9</th>\n",
       "      <td>0000</td>\n",
       "      <td>54616</td>\n",
       "      <td>xfnhero@163.com</td>\n",
       "    </tr>\n",
       "  </tbody>\n",
       "</table>\n",
       "</div>"
      ],
      "text/plain": [
       "               Name        Password                      Email\n",
       "0        Hutuwen123       568236599           568236599@qq.com\n",
       "1         Keke-0601  05157538076jjj          Keke-0601@163.com\n",
       "2           LP WONG        dearbook  lpwong@innacoustic.com.cn\n",
       "3        iop88iop88  1q2w3edearbook        ww99pp@yahoo.com.cn\n",
       "4         kuanhg616      liao359829          kuang616@sina.com\n",
       "5  liang13938725609     02365415325         zllzxz2006@163.com\n",
       "6          shun1123  qqqqqqdearbook              sded@fjkf.com\n",
       "7           wy20150        dearbook            wy20150@163.com\n",
       "8          ybbihdx         dearbook        guoxiiaolng@163.com\n",
       "9              0000           54616            xfnhero@163.com"
      ]
     },
     "execution_count": 53,
     "metadata": {},
     "output_type": "execute_result"
    }
   ],
   "source": [
    "df_table"
   ]
  },
  {
   "cell_type": "code",
   "execution_count": 50,
   "metadata": {},
   "outputs": [
    {
     "data": {
      "text/plain": [
       "'LP WONG'"
      ]
     },
     "execution_count": 50,
     "metadata": {},
     "output_type": "execute_result"
    }
   ],
   "source": [
    "df_table.sort_values('Name')['Name'][2]"
   ]
  },
  {
   "cell_type": "code",
   "execution_count": 60,
   "metadata": {},
   "outputs": [],
   "source": [
    "df_table['Password'].to_csv('../YC_DataAnalysis/password/YCdata/csdnpasstinyju.txt')"
   ]
  },
  {
   "cell_type": "code",
   "execution_count": 66,
   "metadata": {},
   "outputs": [],
   "source": [
    "df = df_table['Password'].tolist()"
   ]
  },
  {
   "cell_type": "code",
   "execution_count": 67,
   "metadata": {},
   "outputs": [
    {
     "data": {
      "text/plain": [
       "['568236599',\n",
       " '05157538076jjj',\n",
       " 'dearbook',\n",
       " '1q2w3edearbook',\n",
       " 'liao359829',\n",
       " '02365415325',\n",
       " 'qqqqqqdearbook',\n",
       " 'dearbook',\n",
       " 'dearbook',\n",
       " '54616']"
      ]
     },
     "execution_count": 67,
     "metadata": {},
     "output_type": "execute_result"
    }
   ],
   "source": [
    "df"
   ]
  },
  {
   "cell_type": "code",
   "execution_count": 84,
   "metadata": {},
   "outputs": [],
   "source": [
    "csdnPassFile = open('../YC_DataAnalysis/password/YCdata/csdnpasstinyju.txt','w')\n",
    "for i in df:\n",
    "    csdnPassFile.write(f'{i}\\r\\n')\n",
    "csdnPassFile.close()"
   ]
  },
  {
   "cell_type": "code",
   "execution_count": null,
   "metadata": {},
   "outputs": [],
   "source": []
  }
 ],
 "metadata": {
  "kernelspec": {
   "display_name": "Python 3",
   "language": "python",
   "name": "python3"
  },
  "language_info": {
   "codemirror_mode": {
    "name": "ipython",
    "version": 3
   },
   "file_extension": ".py",
   "mimetype": "text/x-python",
   "name": "python",
   "nbconvert_exporter": "python",
   "pygments_lexer": "ipython3",
   "version": "3.7.6"
  }
 },
 "nbformat": 4,
 "nbformat_minor": 4
}
