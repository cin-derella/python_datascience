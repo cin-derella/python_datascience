{
 "cells": [
  {
   "cell_type": "code",
   "execution_count": 3,
   "metadata": {
    "collapsed": true
   },
   "outputs": [],
   "source": [
    "import numpy as np"
   ]
  },
  {
   "cell_type": "code",
   "execution_count": 4,
   "metadata": {},
   "outputs": [
    {
     "name": "stdout",
     "output_type": "stream",
     "text": [
      "[0 1 2 3 4 5 6 7 8 9]\n"
     ]
    }
   ],
   "source": [
    "myArr  = np.arange(10)\n",
    "myArr\n",
    "print(myArr)"
   ]
  },
  {
   "cell_type": "code",
   "execution_count": 6,
   "metadata": {},
   "outputs": [
    {
     "name": "stdout",
     "output_type": "stream",
     "text": [
      "<class 'slice'>\n"
     ]
    },
    {
     "data": {
      "text/plain": [
       "array([2, 4, 6])"
      ]
     },
     "execution_count": 6,
     "metadata": {},
     "output_type": "execute_result"
    }
   ],
   "source": [
    "s = slice(2,7,2) # 2-7之间，不包含7，每次+2\n",
    "print(type(s)) #class 'slice' 索引\n",
    "myArr[s]"
   ]
  },
  {
   "cell_type": "code",
   "execution_count": 7,
   "metadata": {},
   "outputs": [
    {
     "data": {
      "text/plain": [
       "array([2, 5])"
      ]
     },
     "execution_count": 7,
     "metadata": {},
     "output_type": "execute_result"
    }
   ],
   "source": [
    "myArr[2:7:3]  # 等价与slice（2，7，3）"
   ]
  },
  {
   "cell_type": "code",
   "execution_count": 10,
   "metadata": {},
   "outputs": [
    {
     "name": "stdout",
     "output_type": "stream",
     "text": [
      "[0 1 2 3 4 5 6 7 8 9]\n"
     ]
    }
   ],
   "source": [
    "print(myArr[::]) "
   ]
  },
  {
   "cell_type": "code",
   "execution_count": 11,
   "metadata": {},
   "outputs": [
    {
     "data": {
      "text/plain": [
       "4"
      ]
     },
     "execution_count": 11,
     "metadata": {},
     "output_type": "execute_result"
    }
   ],
   "source": [
    "myArr[4]"
   ]
  },
  {
   "cell_type": "code",
   "execution_count": 12,
   "metadata": {},
   "outputs": [
    {
     "data": {
      "text/plain": [
       "array([0, 1, 2, 3, 4, 5, 6, 7, 8, 9])"
      ]
     },
     "execution_count": 12,
     "metadata": {},
     "output_type": "execute_result"
    }
   ],
   "source": [
    "myArr[:]  #显示全部"
   ]
  },
  {
   "cell_type": "code",
   "execution_count": 13,
   "metadata": {},
   "outputs": [
    {
     "data": {
      "text/plain": [
       "array([2, 3, 4, 5, 6, 7, 8])"
      ]
     },
     "execution_count": 13,
     "metadata": {},
     "output_type": "execute_result"
    }
   ],
   "source": [
    "myArr[2:-1]  # stop在倒数第二个位置"
   ]
  },
  {
   "cell_type": "code",
   "execution_count": 14,
   "metadata": {},
   "outputs": [
    {
     "data": {
      "text/plain": [
       "array([2, 3, 4])"
      ]
     },
     "execution_count": 14,
     "metadata": {},
     "output_type": "execute_result"
    }
   ],
   "source": [
    "myArr[2:5]"
   ]
  },
  {
   "cell_type": "code",
   "execution_count": 6,
   "metadata": {},
   "outputs": [
    {
     "data": {
      "text/plain": [
       "array([[ 0,  1,  2,  3,  4],\n       [ 5,  6,  7,  8,  9],\n       [10, 11, 12, 13, 14],\n       [15, 16, 17, 18, 19]])"
      ]
     },
     "execution_count": 6,
     "metadata": {},
     "output_type": "execute_result"
    }
   ],
   "source": [
    "myArr = np.arange(20)\n",
    "myArr.shape=(4,5)\n",
    "myArr"
   ]
  },
  {
   "cell_type": "code",
   "execution_count": 8,
   "metadata": {},
   "outputs": [
    {
     "data": {
      "text/plain": [
       "array([0, 1, 2, 3, 4])"
      ]
     },
     "execution_count": 8,
     "metadata": {},
     "output_type": "execute_result"
    }
   ],
   "source": [
    "myArr[0] # 取出二维数组中的一维数组"
   ]
  },
  {
   "cell_type": "code",
   "execution_count": 7,
   "metadata": {},
   "outputs": [
    {
     "data": {
      "text/plain": [
       "array([11, 12])"
      ]
     },
     "execution_count": 7,
     "metadata": {},
     "output_type": "execute_result"
    }
   ],
   "source": [
    "myArr[2][1:3] #取出二维数组中某一行的某一个序列"
   ]
  },
  {
   "cell_type": "code",
   "execution_count": 10,
   "metadata": {},
   "outputs": [
    {
     "data": {
      "text/plain": [
       "array([[0, 1, 2, 3, 4],\n       [5, 6, 7, 8, 9]])"
      ]
     },
     "execution_count": 10,
     "metadata": {},
     "output_type": "execute_result"
    }
   ],
   "source": [
    "myArr[0:2]  #二维数组"
   ]
  },
  {
   "cell_type": "code",
   "execution_count": 11,
   "metadata": {},
   "outputs": [
    {
     "data": {
      "text/plain": [
       "array([[0, 1, 2, 3, 4],\n       [5, 6, 7, 8, 9]])"
      ]
     },
     "execution_count": 11,
     "metadata": {},
     "output_type": "execute_result"
    }
   ],
   "source": [
    "myArr[0:2][0:2]"
   ]
  },
  {
   "cell_type": "code",
   "execution_count": 13,
   "metadata": {},
   "outputs": [
    {
     "data": {
      "text/plain": [
       "array([[5, 6, 7, 8, 9]])"
      ]
     },
     "execution_count": 13,
     "metadata": {},
     "output_type": "execute_result"
    }
   ],
   "source": [
    "myArr[0:2][1:3]  #非横纵列筛选，还是在[0:2]筛选之后的二维数组上，再次进行[1;3]的筛选"
   ]
  },
  {
   "cell_type": "code",
   "execution_count": 15,
   "metadata": {},
   "outputs": [
    {
     "data": {
      "text/plain": [
       "array([[ 0,  1,  2,  3,  4],\n       [ 5,  6,  7,  8,  9],\n       [10, 11, 12, 13, 14],\n       [15, 16, 17, 18, 19]])"
      ]
     },
     "execution_count": 15,
     "metadata": {},
     "output_type": "execute_result"
    }
   ],
   "source": [
    "myArr"
   ]
  },
  {
   "cell_type": "code",
   "execution_count": 16,
   "metadata": {},
   "outputs": [
    {
     "data": {
      "text/plain": [
       "array([[ 0,  1,  2,  3,  4],\n       [10, 11, 12, 13, 14]])"
      ]
     },
     "execution_count": 16,
     "metadata": {},
     "output_type": "execute_result"
    }
   ],
   "source": [
    "myArr[::2] # 2为步长"
   ]
  },
  {
   "cell_type": "code",
   "execution_count": 17,
   "metadata": {},
   "outputs": [
    {
     "data": {
      "text/plain": [
       "array([[ 0,  1,  2,  3,  4],\n       [ 5,  6,  7,  8,  9],\n       [10, 11, 12, 13, 14],\n       [15, 16, 17, 18, 19]])"
      ]
     },
     "execution_count": 17,
     "metadata": {},
     "output_type": "execute_result"
    }
   ],
   "source": [
    "myArr"
   ]
  },
  {
   "cell_type": "code",
   "execution_count": 18,
   "metadata": {},
   "outputs": [
    {
     "data": {
      "text/plain": [
       "array([5, 6, 7, 8, 9])"
      ]
     },
     "execution_count": 18,
     "metadata": {},
     "output_type": "execute_result"
    }
   ],
   "source": [
    "myArr[1,...] # 取出第二行"
   ]
  },
  {
   "cell_type": "code",
   "execution_count": 19,
   "metadata": {},
   "outputs": [
    {
     "data": {
      "text/plain": [
       "array([ 1,  6, 11, 16])"
      ]
     },
     "execution_count": 19,
     "metadata": {},
     "output_type": "execute_result"
    }
   ],
   "source": [
    "myArr[...,1] # 取出第二列"
   ]
  },
  {
   "cell_type": "code",
   "execution_count": 20,
   "metadata": {},
   "outputs": [
    {
     "data": {
      "text/plain": [
       "array([[ 5,  6,  7,  8,  9],\n       [10, 11, 12, 13, 14]])"
      ]
     },
     "execution_count": 20,
     "metadata": {},
     "output_type": "execute_result"
    }
   ],
   "source": [
    "myArr[1:3,...]  #1-2行"
   ]
  },
  {
   "cell_type": "code",
   "execution_count": 21,
   "metadata": {},
   "outputs": [
    {
     "data": {
      "text/plain": [
       "array([[ 1,  2],\n       [ 6,  7],\n       [11, 12],\n       [16, 17]])"
      ]
     },
     "execution_count": 21,
     "metadata": {},
     "output_type": "execute_result"
    }
   ],
   "source": [
    "myArr[...,1:3] # 1-2列"
   ]
  },
  {
   "cell_type": "code",
   "execution_count": 22,
   "metadata": {},
   "outputs": [
    {
     "data": {
      "text/plain": [
       "array([[1, 2],\n       [6, 7]])"
      ]
     },
     "execution_count": 22,
     "metadata": {},
     "output_type": "execute_result"
    }
   ],
   "source": [
    "myArr[0:2,1:3]"
   ]
  },
  {
   "cell_type": "code",
   "execution_count": 3,
   "metadata": {},
   "outputs": [
    {
     "data": {
      "text/html": [
       "<div>\n",
       "<style scoped>\n",
       "    .dataframe tbody tr th:only-of-type {\n",
       "        vertical-align: middle;\n",
       "    }\n",
       "\n",
       "    .dataframe tbody tr th {\n",
       "        vertical-align: top;\n",
       "    }\n",
       "\n",
       "    .dataframe thead th {\n",
       "        text-align: right;\n",
       "    }\n",
       "</style>\n",
       "<table border=\"1\" class=\"dataframe\">\n",
       "  <thead>\n",
       "    <tr style=\"text-align: right;\">\n",
       "      <th></th>\n",
       "      <th>open</th>\n",
       "      <th>high</th>\n",
       "      <th>close</th>\n",
       "      <th>low</th>\n",
       "      <th>volume</th>\n",
       "      <th>price_change</th>\n",
       "      <th>p_change</th>\n",
       "      <th>ma5</th>\n",
       "      <th>ma10</th>\n",
       "      <th>ma20</th>\n",
       "      <th>v_ma5</th>\n",
       "      <th>v_ma10</th>\n",
       "      <th>v_ma20</th>\n",
       "    </tr>\n",
       "    <tr>\n",
       "      <th>date</th>\n",
       "      <th></th>\n",
       "      <th></th>\n",
       "      <th></th>\n",
       "      <th></th>\n",
       "      <th></th>\n",
       "      <th></th>\n",
       "      <th></th>\n",
       "      <th></th>\n",
       "      <th></th>\n",
       "      <th></th>\n",
       "      <th></th>\n",
       "      <th></th>\n",
       "      <th></th>\n",
       "    </tr>\n",
       "  </thead>\n",
       "  <tbody>\n",
       "    <tr>\n",
       "      <th>2020-04-17</th>\n",
       "      <td>19.50</td>\n",
       "      <td>19.76</td>\n",
       "      <td>19.52</td>\n",
       "      <td>19.42</td>\n",
       "      <td>30986.41</td>\n",
       "      <td>0.08</td>\n",
       "      <td>0.41</td>\n",
       "      <td>19.386</td>\n",
       "      <td>19.487</td>\n",
       "      <td>19.372</td>\n",
       "      <td>27932.33</td>\n",
       "      <td>29716.51</td>\n",
       "      <td>40609.42</td>\n",
       "    </tr>\n",
       "    <tr>\n",
       "      <th>2020-04-16</th>\n",
       "      <td>19.34</td>\n",
       "      <td>19.61</td>\n",
       "      <td>19.44</td>\n",
       "      <td>19.25</td>\n",
       "      <td>19242.38</td>\n",
       "      <td>-0.07</td>\n",
       "      <td>-0.36</td>\n",
       "      <td>19.384</td>\n",
       "      <td>19.495</td>\n",
       "      <td>19.356</td>\n",
       "      <td>28713.78</td>\n",
       "      <td>30451.68</td>\n",
       "      <td>42135.92</td>\n",
       "    </tr>\n",
       "    <tr>\n",
       "      <th>2020-04-15</th>\n",
       "      <td>19.35</td>\n",
       "      <td>19.99</td>\n",
       "      <td>19.51</td>\n",
       "      <td>19.26</td>\n",
       "      <td>42097.65</td>\n",
       "      <td>0.16</td>\n",
       "      <td>0.83</td>\n",
       "      <td>19.410</td>\n",
       "      <td>19.500</td>\n",
       "      <td>19.344</td>\n",
       "      <td>29794.98</td>\n",
       "      <td>34737.28</td>\n",
       "      <td>43578.49</td>\n",
       "    </tr>\n",
       "    <tr>\n",
       "      <th>2020-04-14</th>\n",
       "      <td>19.20</td>\n",
       "      <td>19.36</td>\n",
       "      <td>19.35</td>\n",
       "      <td>19.12</td>\n",
       "      <td>24102.21</td>\n",
       "      <td>0.24</td>\n",
       "      <td>1.26</td>\n",
       "      <td>19.418</td>\n",
       "      <td>19.559</td>\n",
       "      <td>19.339</td>\n",
       "      <td>27476.99</td>\n",
       "      <td>42044.24</td>\n",
       "      <td>44088.32</td>\n",
       "    </tr>\n",
       "    <tr>\n",
       "      <th>2020-04-13</th>\n",
       "      <td>19.48</td>\n",
       "      <td>19.48</td>\n",
       "      <td>19.11</td>\n",
       "      <td>19.01</td>\n",
       "      <td>23232.98</td>\n",
       "      <td>-0.40</td>\n",
       "      <td>-2.05</td>\n",
       "      <td>19.500</td>\n",
       "      <td>19.584</td>\n",
       "      <td>19.361</td>\n",
       "      <td>29939.95</td>\n",
       "      <td>48381.43</td>\n",
       "      <td>46148.55</td>\n",
       "    </tr>\n",
       "    <tr>\n",
       "      <th>...</th>\n",
       "      <td>...</td>\n",
       "      <td>...</td>\n",
       "      <td>...</td>\n",
       "      <td>...</td>\n",
       "      <td>...</td>\n",
       "      <td>...</td>\n",
       "      <td>...</td>\n",
       "      <td>...</td>\n",
       "      <td>...</td>\n",
       "      <td>...</td>\n",
       "      <td>...</td>\n",
       "      <td>...</td>\n",
       "      <td>...</td>\n",
       "    </tr>\n",
       "    <tr>\n",
       "      <th>2017-10-24</th>\n",
       "      <td>28.20</td>\n",
       "      <td>28.75</td>\n",
       "      <td>28.05</td>\n",
       "      <td>27.22</td>\n",
       "      <td>313290.41</td>\n",
       "      <td>-1.74</td>\n",
       "      <td>-5.84</td>\n",
       "      <td>27.804</td>\n",
       "      <td>27.804</td>\n",
       "      <td>27.804</td>\n",
       "      <td>296239.76</td>\n",
       "      <td>296239.76</td>\n",
       "      <td>296239.76</td>\n",
       "    </tr>\n",
       "    <tr>\n",
       "      <th>2017-10-23</th>\n",
       "      <td>29.00</td>\n",
       "      <td>31.16</td>\n",
       "      <td>29.79</td>\n",
       "      <td>28.90</td>\n",
       "      <td>466494.47</td>\n",
       "      <td>1.46</td>\n",
       "      <td>5.15</td>\n",
       "      <td>27.743</td>\n",
       "      <td>27.743</td>\n",
       "      <td>27.743</td>\n",
       "      <td>291977.10</td>\n",
       "      <td>291977.10</td>\n",
       "      <td>291977.10</td>\n",
       "    </tr>\n",
       "    <tr>\n",
       "      <th>2017-10-20</th>\n",
       "      <td>29.20</td>\n",
       "      <td>29.83</td>\n",
       "      <td>28.33</td>\n",
       "      <td>27.85</td>\n",
       "      <td>411570.12</td>\n",
       "      <td>1.17</td>\n",
       "      <td>4.31</td>\n",
       "      <td>27.060</td>\n",
       "      <td>27.060</td>\n",
       "      <td>27.060</td>\n",
       "      <td>233804.65</td>\n",
       "      <td>233804.65</td>\n",
       "      <td>233804.65</td>\n",
       "    </tr>\n",
       "    <tr>\n",
       "      <th>2017-10-19</th>\n",
       "      <td>25.61</td>\n",
       "      <td>27.20</td>\n",
       "      <td>27.16</td>\n",
       "      <td>25.61</td>\n",
       "      <td>180490.47</td>\n",
       "      <td>1.47</td>\n",
       "      <td>5.72</td>\n",
       "      <td>26.425</td>\n",
       "      <td>26.425</td>\n",
       "      <td>26.425</td>\n",
       "      <td>144921.91</td>\n",
       "      <td>144921.91</td>\n",
       "      <td>144921.91</td>\n",
       "    </tr>\n",
       "    <tr>\n",
       "      <th>2017-10-18</th>\n",
       "      <td>25.63</td>\n",
       "      <td>26.41</td>\n",
       "      <td>25.69</td>\n",
       "      <td>25.50</td>\n",
       "      <td>109353.35</td>\n",
       "      <td>0.26</td>\n",
       "      <td>1.02</td>\n",
       "      <td>25.690</td>\n",
       "      <td>25.690</td>\n",
       "      <td>25.690</td>\n",
       "      <td>109353.35</td>\n",
       "      <td>109353.35</td>\n",
       "      <td>109353.35</td>\n",
       "    </tr>\n",
       "  </tbody>\n",
       "</table>\n",
       "<p>533 rows × 13 columns</p>\n",
       "</div>"
      ],
      "text/plain": [
       "<div>\n",
       "<style scoped>\n",
       "    .dataframe tbody tr th:only-of-type {\n",
       "        vertical-align: middle;\n",
       "    }\n",
       "\n",
       "    .dataframe tbody tr th {\n",
       "        vertical-align: top;\n",
       "    }\n",
       "\n",
       "    .dataframe thead th {\n",
       "        text-align: right;\n",
       "    }\n",
       "</style>\n",
       "<table border=\"1\" class=\"dataframe\">\n",
       "  <thead>\n",
       "    <tr style=\"text-align: right;\">\n",
       "      <th></th>\n",
       "      <th>open</th>\n",
       "      <th>high</th>\n",
       "      <th>close</th>\n",
       "      <th>low</th>\n",
       "      <th>volume</th>\n",
       "      <th>price_change</th>\n",
       "      <th>p_change</th>\n",
       "      <th>ma5</th>\n",
       "      <th>ma10</th>\n",
       "      <th>ma20</th>\n",
       "      <th>v_ma5</th>\n",
       "      <th>v_ma10</th>\n",
       "      <th>v_ma20</th>\n",
       "    </tr>\n",
       "    <tr>\n",
       "      <th>date</th>\n",
       "      <th></th>\n",
       "      <th></th>\n",
       "      <th></th>\n",
       "      <th></th>\n",
       "      <th></th>\n",
       "      <th></th>\n",
       "      <th></th>\n",
       "      <th></th>\n",
       "      <th></th>\n",
       "      <th></th>\n",
       "      <th></th>\n",
       "      <th></th>\n",
       "      <th></th>\n",
       "    </tr>\n",
       "  </thead>\n",
       "  <tbody>\n",
       "    <tr>\n",
       "      <th>2020-04-17</th>\n",
       "      <td>19.50</td>\n",
       "      <td>19.76</td>\n",
       "      <td>19.52</td>\n",
       "      <td>19.42</td>\n",
       "      <td>30986.41</td>\n",
       "      <td>0.08</td>\n",
       "      <td>0.41</td>\n",
       "      <td>19.386</td>\n",
       "      <td>19.487</td>\n",
       "      <td>19.372</td>\n",
       "      <td>27932.33</td>\n",
       "      <td>29716.51</td>\n",
       "      <td>40609.42</td>\n",
       "    </tr>\n",
       "    <tr>\n",
       "      <th>2020-04-16</th>\n",
       "      <td>19.34</td>\n",
       "      <td>19.61</td>\n",
       "      <td>19.44</td>\n",
       "      <td>19.25</td>\n",
       "      <td>19242.38</td>\n",
       "      <td>-0.07</td>\n",
       "      <td>-0.36</td>\n",
       "      <td>19.384</td>\n",
       "      <td>19.495</td>\n",
       "      <td>19.356</td>\n",
       "      <td>28713.78</td>\n",
       "      <td>30451.68</td>\n",
       "      <td>42135.92</td>\n",
       "    </tr>\n",
       "    <tr>\n",
       "      <th>2020-04-15</th>\n",
       "      <td>19.35</td>\n",
       "      <td>19.99</td>\n",
       "      <td>19.51</td>\n",
       "      <td>19.26</td>\n",
       "      <td>42097.65</td>\n",
       "      <td>0.16</td>\n",
       "      <td>0.83</td>\n",
       "      <td>19.410</td>\n",
       "      <td>19.500</td>\n",
       "      <td>19.344</td>\n",
       "      <td>29794.98</td>\n",
       "      <td>34737.28</td>\n",
       "      <td>43578.49</td>\n",
       "    </tr>\n",
       "    <tr>\n",
       "      <th>2020-04-14</th>\n",
       "      <td>19.20</td>\n",
       "      <td>19.36</td>\n",
       "      <td>19.35</td>\n",
       "      <td>19.12</td>\n",
       "      <td>24102.21</td>\n",
       "      <td>0.24</td>\n",
       "      <td>1.26</td>\n",
       "      <td>19.418</td>\n",
       "      <td>19.559</td>\n",
       "      <td>19.339</td>\n",
       "      <td>27476.99</td>\n",
       "      <td>42044.24</td>\n",
       "      <td>44088.32</td>\n",
       "    </tr>\n",
       "    <tr>\n",
       "      <th>2020-04-13</th>\n",
       "      <td>19.48</td>\n",
       "      <td>19.48</td>\n",
       "      <td>19.11</td>\n",
       "      <td>19.01</td>\n",
       "      <td>23232.98</td>\n",
       "      <td>-0.40</td>\n",
       "      <td>-2.05</td>\n",
       "      <td>19.500</td>\n",
       "      <td>19.584</td>\n",
       "      <td>19.361</td>\n",
       "      <td>29939.95</td>\n",
       "      <td>48381.43</td>\n",
       "      <td>46148.55</td>\n",
       "    </tr>\n",
       "    <tr>\n",
       "      <th>...</th>\n",
       "      <td>...</td>\n",
       "      <td>...</td>\n",
       "      <td>...</td>\n",
       "      <td>...</td>\n",
       "      <td>...</td>\n",
       "      <td>...</td>\n",
       "      <td>...</td>\n",
       "      <td>...</td>\n",
       "      <td>...</td>\n",
       "      <td>...</td>\n",
       "      <td>...</td>\n",
       "      <td>...</td>\n",
       "      <td>...</td>\n",
       "    </tr>\n",
       "    <tr>\n",
       "      <th>2017-10-24</th>\n",
       "      <td>28.20</td>\n",
       "      <td>28.75</td>\n",
       "      <td>28.05</td>\n",
       "      <td>27.22</td>\n",
       "      <td>313290.41</td>\n",
       "      <td>-1.74</td>\n",
       "      <td>-5.84</td>\n",
       "      <td>27.804</td>\n",
       "      <td>27.804</td>\n",
       "      <td>27.804</td>\n",
       "      <td>296239.76</td>\n",
       "      <td>296239.76</td>\n",
       "      <td>296239.76</td>\n",
       "    </tr>\n",
       "    <tr>\n",
       "      <th>2017-10-23</th>\n",
       "      <td>29.00</td>\n",
       "      <td>31.16</td>\n",
       "      <td>29.79</td>\n",
       "      <td>28.90</td>\n",
       "      <td>466494.47</td>\n",
       "      <td>1.46</td>\n",
       "      <td>5.15</td>\n",
       "      <td>27.743</td>\n",
       "      <td>27.743</td>\n",
       "      <td>27.743</td>\n",
       "      <td>291977.10</td>\n",
       "      <td>291977.10</td>\n",
       "      <td>291977.10</td>\n",
       "    </tr>\n",
       "    <tr>\n",
       "      <th>2017-10-20</th>\n",
       "      <td>29.20</td>\n",
       "      <td>29.83</td>\n",
       "      <td>28.33</td>\n",
       "      <td>27.85</td>\n",
       "      <td>411570.12</td>\n",
       "      <td>1.17</td>\n",
       "      <td>4.31</td>\n",
       "      <td>27.060</td>\n",
       "      <td>27.060</td>\n",
       "      <td>27.060</td>\n",
       "      <td>233804.65</td>\n",
       "      <td>233804.65</td>\n",
       "      <td>233804.65</td>\n",
       "    </tr>\n",
       "    <tr>\n",
       "      <th>2017-10-19</th>\n",
       "      <td>25.61</td>\n",
       "      <td>27.20</td>\n",
       "      <td>27.16</td>\n",
       "      <td>25.61</td>\n",
       "      <td>180490.47</td>\n",
       "      <td>1.47</td>\n",
       "      <td>5.72</td>\n",
       "      <td>26.425</td>\n",
       "      <td>26.425</td>\n",
       "      <td>26.425</td>\n",
       "      <td>144921.91</td>\n",
       "      <td>144921.91</td>\n",
       "      <td>144921.91</td>\n",
       "    </tr>\n",
       "    <tr>\n",
       "      <th>2017-10-18</th>\n",
       "      <td>25.63</td>\n",
       "      <td>26.41</td>\n",
       "      <td>25.69</td>\n",
       "      <td>25.50</td>\n",
       "      <td>109353.35</td>\n",
       "      <td>0.26</td>\n",
       "      <td>1.02</td>\n",
       "      <td>25.690</td>\n",
       "      <td>25.690</td>\n",
       "      <td>25.690</td>\n",
       "      <td>109353.35</td>\n",
       "      <td>109353.35</td>\n",
       "      <td>109353.35</td>\n",
       "    </tr>\n",
       "  </tbody>\n",
       "</table>\n",
       "<p>533 rows × 13 columns</p>\n",
       "</div>"
      ]
     },
     "execution_count": 3,
     "metadata": {},
     "output_type": "execute_result"
    }
   ],
   "source": [
    "import tushare as ts\n",
    "stock = ts.get_hist_data('600848')\n",
    "stock"
   ]
  },
  {
   "cell_type": "code",
   "execution_count": 4,
   "metadata": {},
   "outputs": [
    {
     "data": {
      "text/plain": [
       "date\n2020-04-17    19.76\n2020-04-16    19.61\n2020-04-15    19.99\n2020-04-14    19.36\n2020-04-13    19.48\n              ...  \n2017-10-24    28.75\n2017-10-23    31.16\n2017-10-20    29.83\n2017-10-19    27.20\n2017-10-18    26.41\nName: high, Length: 533, dtype: float64"
      ]
     },
     "execution_count": 4,
     "metadata": {},
     "output_type": "execute_result"
    }
   ],
   "source": [
    "stock['high']  #取出列"
   ]
  },
  {
   "cell_type": "code",
   "execution_count": 6,
   "metadata": {},
   "outputs": [
    {
     "data": {
      "text/html": [
       "<div>\n",
       "<style scoped>\n",
       "    .dataframe tbody tr th:only-of-type {\n",
       "        vertical-align: middle;\n",
       "    }\n",
       "\n",
       "    .dataframe tbody tr th {\n",
       "        vertical-align: top;\n",
       "    }\n",
       "\n",
       "    .dataframe thead th {\n",
       "        text-align: right;\n",
       "    }\n",
       "</style>\n",
       "<table border=\"1\" class=\"dataframe\">\n",
       "  <thead>\n",
       "    <tr style=\"text-align: right;\">\n",
       "      <th></th>\n",
       "      <th>open</th>\n",
       "      <th>high</th>\n",
       "      <th>close</th>\n",
       "      <th>low</th>\n",
       "      <th>volume</th>\n",
       "      <th>price_change</th>\n",
       "      <th>p_change</th>\n",
       "      <th>ma5</th>\n",
       "      <th>ma10</th>\n",
       "      <th>ma20</th>\n",
       "      <th>v_ma5</th>\n",
       "      <th>v_ma10</th>\n",
       "      <th>v_ma20</th>\n",
       "    </tr>\n",
       "    <tr>\n",
       "      <th>date</th>\n",
       "      <th></th>\n",
       "      <th></th>\n",
       "      <th></th>\n",
       "      <th></th>\n",
       "      <th></th>\n",
       "      <th></th>\n",
       "      <th></th>\n",
       "      <th></th>\n",
       "      <th></th>\n",
       "      <th></th>\n",
       "      <th></th>\n",
       "      <th></th>\n",
       "      <th></th>\n",
       "    </tr>\n",
       "  </thead>\n",
       "  <tbody>\n",
       "    <tr>\n",
       "      <th>2020-04-17</th>\n",
       "      <td>19.50</td>\n",
       "      <td>19.76</td>\n",
       "      <td>19.52</td>\n",
       "      <td>19.42</td>\n",
       "      <td>30986.41</td>\n",
       "      <td>0.08</td>\n",
       "      <td>0.41</td>\n",
       "      <td>19.386</td>\n",
       "      <td>19.487</td>\n",
       "      <td>19.372</td>\n",
       "      <td>27932.33</td>\n",
       "      <td>29716.51</td>\n",
       "      <td>40609.42</td>\n",
       "    </tr>\n",
       "    <tr>\n",
       "      <th>2020-04-16</th>\n",
       "      <td>19.34</td>\n",
       "      <td>19.61</td>\n",
       "      <td>19.44</td>\n",
       "      <td>19.25</td>\n",
       "      <td>19242.38</td>\n",
       "      <td>-0.07</td>\n",
       "      <td>-0.36</td>\n",
       "      <td>19.384</td>\n",
       "      <td>19.495</td>\n",
       "      <td>19.356</td>\n",
       "      <td>28713.78</td>\n",
       "      <td>30451.68</td>\n",
       "      <td>42135.92</td>\n",
       "    </tr>\n",
       "    <tr>\n",
       "      <th>2020-04-15</th>\n",
       "      <td>19.35</td>\n",
       "      <td>19.99</td>\n",
       "      <td>19.51</td>\n",
       "      <td>19.26</td>\n",
       "      <td>42097.65</td>\n",
       "      <td>0.16</td>\n",
       "      <td>0.83</td>\n",
       "      <td>19.410</td>\n",
       "      <td>19.500</td>\n",
       "      <td>19.344</td>\n",
       "      <td>29794.98</td>\n",
       "      <td>34737.28</td>\n",
       "      <td>43578.49</td>\n",
       "    </tr>\n",
       "    <tr>\n",
       "      <th>2020-04-14</th>\n",
       "      <td>19.20</td>\n",
       "      <td>19.36</td>\n",
       "      <td>19.35</td>\n",
       "      <td>19.12</td>\n",
       "      <td>24102.21</td>\n",
       "      <td>0.24</td>\n",
       "      <td>1.26</td>\n",
       "      <td>19.418</td>\n",
       "      <td>19.559</td>\n",
       "      <td>19.339</td>\n",
       "      <td>27476.99</td>\n",
       "      <td>42044.24</td>\n",
       "      <td>44088.32</td>\n",
       "    </tr>\n",
       "    <tr>\n",
       "      <th>2020-04-13</th>\n",
       "      <td>19.48</td>\n",
       "      <td>19.48</td>\n",
       "      <td>19.11</td>\n",
       "      <td>19.01</td>\n",
       "      <td>23232.98</td>\n",
       "      <td>-0.40</td>\n",
       "      <td>-2.05</td>\n",
       "      <td>19.500</td>\n",
       "      <td>19.584</td>\n",
       "      <td>19.361</td>\n",
       "      <td>29939.95</td>\n",
       "      <td>48381.43</td>\n",
       "      <td>46148.55</td>\n",
       "    </tr>\n",
       "  </tbody>\n",
       "</table>\n",
       "</div>"
      ],
      "text/plain": [
       "<div>\n",
       "<style scoped>\n",
       "    .dataframe tbody tr th:only-of-type {\n",
       "        vertical-align: middle;\n",
       "    }\n",
       "\n",
       "    .dataframe tbody tr th {\n",
       "        vertical-align: top;\n",
       "    }\n",
       "\n",
       "    .dataframe thead th {\n",
       "        text-align: right;\n",
       "    }\n",
       "</style>\n",
       "<table border=\"1\" class=\"dataframe\">\n",
       "  <thead>\n",
       "    <tr style=\"text-align: right;\">\n",
       "      <th></th>\n",
       "      <th>open</th>\n",
       "      <th>high</th>\n",
       "      <th>close</th>\n",
       "      <th>low</th>\n",
       "      <th>volume</th>\n",
       "      <th>price_change</th>\n",
       "      <th>p_change</th>\n",
       "      <th>ma5</th>\n",
       "      <th>ma10</th>\n",
       "      <th>ma20</th>\n",
       "      <th>v_ma5</th>\n",
       "      <th>v_ma10</th>\n",
       "      <th>v_ma20</th>\n",
       "    </tr>\n",
       "    <tr>\n",
       "      <th>date</th>\n",
       "      <th></th>\n",
       "      <th></th>\n",
       "      <th></th>\n",
       "      <th></th>\n",
       "      <th></th>\n",
       "      <th></th>\n",
       "      <th></th>\n",
       "      <th></th>\n",
       "      <th></th>\n",
       "      <th></th>\n",
       "      <th></th>\n",
       "      <th></th>\n",
       "      <th></th>\n",
       "    </tr>\n",
       "  </thead>\n",
       "  <tbody>\n",
       "    <tr>\n",
       "      <th>2020-04-17</th>\n",
       "      <td>19.50</td>\n",
       "      <td>19.76</td>\n",
       "      <td>19.52</td>\n",
       "      <td>19.42</td>\n",
       "      <td>30986.41</td>\n",
       "      <td>0.08</td>\n",
       "      <td>0.41</td>\n",
       "      <td>19.386</td>\n",
       "      <td>19.487</td>\n",
       "      <td>19.372</td>\n",
       "      <td>27932.33</td>\n",
       "      <td>29716.51</td>\n",
       "      <td>40609.42</td>\n",
       "    </tr>\n",
       "    <tr>\n",
       "      <th>2020-04-16</th>\n",
       "      <td>19.34</td>\n",
       "      <td>19.61</td>\n",
       "      <td>19.44</td>\n",
       "      <td>19.25</td>\n",
       "      <td>19242.38</td>\n",
       "      <td>-0.07</td>\n",
       "      <td>-0.36</td>\n",
       "      <td>19.384</td>\n",
       "      <td>19.495</td>\n",
       "      <td>19.356</td>\n",
       "      <td>28713.78</td>\n",
       "      <td>30451.68</td>\n",
       "      <td>42135.92</td>\n",
       "    </tr>\n",
       "    <tr>\n",
       "      <th>2020-04-15</th>\n",
       "      <td>19.35</td>\n",
       "      <td>19.99</td>\n",
       "      <td>19.51</td>\n",
       "      <td>19.26</td>\n",
       "      <td>42097.65</td>\n",
       "      <td>0.16</td>\n",
       "      <td>0.83</td>\n",
       "      <td>19.410</td>\n",
       "      <td>19.500</td>\n",
       "      <td>19.344</td>\n",
       "      <td>29794.98</td>\n",
       "      <td>34737.28</td>\n",
       "      <td>43578.49</td>\n",
       "    </tr>\n",
       "    <tr>\n",
       "      <th>2020-04-14</th>\n",
       "      <td>19.20</td>\n",
       "      <td>19.36</td>\n",
       "      <td>19.35</td>\n",
       "      <td>19.12</td>\n",
       "      <td>24102.21</td>\n",
       "      <td>0.24</td>\n",
       "      <td>1.26</td>\n",
       "      <td>19.418</td>\n",
       "      <td>19.559</td>\n",
       "      <td>19.339</td>\n",
       "      <td>27476.99</td>\n",
       "      <td>42044.24</td>\n",
       "      <td>44088.32</td>\n",
       "    </tr>\n",
       "    <tr>\n",
       "      <th>2020-04-13</th>\n",
       "      <td>19.48</td>\n",
       "      <td>19.48</td>\n",
       "      <td>19.11</td>\n",
       "      <td>19.01</td>\n",
       "      <td>23232.98</td>\n",
       "      <td>-0.40</td>\n",
       "      <td>-2.05</td>\n",
       "      <td>19.500</td>\n",
       "      <td>19.584</td>\n",
       "      <td>19.361</td>\n",
       "      <td>29939.95</td>\n",
       "      <td>48381.43</td>\n",
       "      <td>46148.55</td>\n",
       "    </tr>\n",
       "  </tbody>\n",
       "</table>\n",
       "</div>"
      ]
     },
     "execution_count": 6,
     "metadata": {},
     "output_type": "execute_result"
    }
   ],
   "source": [
    "stock[0:5]  #取出列"
   ]
  },
  {
   "cell_type": "code",
   "execution_count": 7,
   "metadata": {},
   "outputs": [
    {
     "data": {
      "text/plain": [
       "date\n2020-04-17    19.50\n2020-04-16    19.34\n2020-04-15    19.35\n2020-04-14    19.20\n2020-04-13    19.48\nName: open, dtype: float64"
      ]
     },
     "execution_count": 7,
     "metadata": {},
     "output_type": "execute_result"
    }
   ],
   "source": [
    "stock['open'][0:5] #查看前5行的开盘价"
   ]
  },
  {
   "cell_type": "code",
   "execution_count": 8,
   "metadata": {},
   "outputs": [
    {
     "data": {
      "text/plain": [
       "date\n2020-04-17    19.50\n2020-04-16    19.34\n2020-04-15    19.35\n2020-04-14    19.20\n2020-04-13    19.48\nName: open, dtype: float64"
      ]
     },
     "execution_count": 8,
     "metadata": {},
     "output_type": "execute_result"
    }
   ],
   "source": [
    "stock[0:5]['open']"
   ]
  },
  {
   "cell_type": "code",
   "execution_count": 9,
   "metadata": {},
   "outputs": [
    {
     "data": {
      "text/html": [
       "<div>\n",
       "<style scoped>\n",
       "    .dataframe tbody tr th:only-of-type {\n",
       "        vertical-align: middle;\n",
       "    }\n",
       "\n",
       "    .dataframe tbody tr th {\n",
       "        vertical-align: top;\n",
       "    }\n",
       "\n",
       "    .dataframe thead th {\n",
       "        text-align: right;\n",
       "    }\n",
       "</style>\n",
       "<table border=\"1\" class=\"dataframe\">\n",
       "  <thead>\n",
       "    <tr style=\"text-align: right;\">\n",
       "      <th></th>\n",
       "      <th>open</th>\n",
       "      <th>high</th>\n",
       "      <th>close</th>\n",
       "      <th>low</th>\n",
       "    </tr>\n",
       "    <tr>\n",
       "      <th>date</th>\n",
       "      <th></th>\n",
       "      <th></th>\n",
       "      <th></th>\n",
       "      <th></th>\n",
       "    </tr>\n",
       "  </thead>\n",
       "  <tbody>\n",
       "    <tr>\n",
       "      <th>2020-04-17</th>\n",
       "      <td>19.50</td>\n",
       "      <td>19.76</td>\n",
       "      <td>19.52</td>\n",
       "      <td>19.42</td>\n",
       "    </tr>\n",
       "    <tr>\n",
       "      <th>2020-04-16</th>\n",
       "      <td>19.34</td>\n",
       "      <td>19.61</td>\n",
       "      <td>19.44</td>\n",
       "      <td>19.25</td>\n",
       "    </tr>\n",
       "    <tr>\n",
       "      <th>2020-04-15</th>\n",
       "      <td>19.35</td>\n",
       "      <td>19.99</td>\n",
       "      <td>19.51</td>\n",
       "      <td>19.26</td>\n",
       "    </tr>\n",
       "    <tr>\n",
       "      <th>2020-04-14</th>\n",
       "      <td>19.20</td>\n",
       "      <td>19.36</td>\n",
       "      <td>19.35</td>\n",
       "      <td>19.12</td>\n",
       "    </tr>\n",
       "    <tr>\n",
       "      <th>2020-04-13</th>\n",
       "      <td>19.48</td>\n",
       "      <td>19.48</td>\n",
       "      <td>19.11</td>\n",
       "      <td>19.01</td>\n",
       "    </tr>\n",
       "  </tbody>\n",
       "</table>\n",
       "</div>"
      ],
      "text/plain": [
       "<div>\n",
       "<style scoped>\n",
       "    .dataframe tbody tr th:only-of-type {\n",
       "        vertical-align: middle;\n",
       "    }\n",
       "\n",
       "    .dataframe tbody tr th {\n",
       "        vertical-align: top;\n",
       "    }\n",
       "\n",
       "    .dataframe thead th {\n",
       "        text-align: right;\n",
       "    }\n",
       "</style>\n",
       "<table border=\"1\" class=\"dataframe\">\n",
       "  <thead>\n",
       "    <tr style=\"text-align: right;\">\n",
       "      <th></th>\n",
       "      <th>open</th>\n",
       "      <th>high</th>\n",
       "      <th>close</th>\n",
       "      <th>low</th>\n",
       "    </tr>\n",
       "    <tr>\n",
       "      <th>date</th>\n",
       "      <th></th>\n",
       "      <th></th>\n",
       "      <th></th>\n",
       "      <th></th>\n",
       "    </tr>\n",
       "  </thead>\n",
       "  <tbody>\n",
       "    <tr>\n",
       "      <th>2020-04-17</th>\n",
       "      <td>19.50</td>\n",
       "      <td>19.76</td>\n",
       "      <td>19.52</td>\n",
       "      <td>19.42</td>\n",
       "    </tr>\n",
       "    <tr>\n",
       "      <th>2020-04-16</th>\n",
       "      <td>19.34</td>\n",
       "      <td>19.61</td>\n",
       "      <td>19.44</td>\n",
       "      <td>19.25</td>\n",
       "    </tr>\n",
       "    <tr>\n",
       "      <th>2020-04-15</th>\n",
       "      <td>19.35</td>\n",
       "      <td>19.99</td>\n",
       "      <td>19.51</td>\n",
       "      <td>19.26</td>\n",
       "    </tr>\n",
       "    <tr>\n",
       "      <th>2020-04-14</th>\n",
       "      <td>19.20</td>\n",
       "      <td>19.36</td>\n",
       "      <td>19.35</td>\n",
       "      <td>19.12</td>\n",
       "    </tr>\n",
       "    <tr>\n",
       "      <th>2020-04-13</th>\n",
       "      <td>19.48</td>\n",
       "      <td>19.48</td>\n",
       "      <td>19.11</td>\n",
       "      <td>19.01</td>\n",
       "    </tr>\n",
       "  </tbody>\n",
       "</table>\n",
       "</div>"
      ]
     },
     "execution_count": 9,
     "metadata": {},
     "output_type": "execute_result"
    }
   ],
   "source": [
    "stock[['open','high','close','low']][0:5]"
   ]
  },
  {
   "cell_type": "code",
   "execution_count": 10,
   "metadata": {},
   "outputs": [
    {
     "data": {
      "text/plain": [
       "23.91    4\n24.60    4\n24.40    4\n24.00    4\n29.00    4\n        ..\n32.26    1\n20.70    1\n21.06    1\n16.54    1\n27.70    1\nName: open, Length: 420, dtype: int64"
      ]
     },
     "execution_count": 10,
     "metadata": {},
     "output_type": "execute_result"
    }
   ],
   "source": [
    "stock['open'].value_counts() #记录value出现的次数，并排序"
   ]
  },
  {
   "cell_type": "code",
   "execution_count": 14,
   "metadata": {},
   "outputs": [],
   "source": [
    "high = stock['high'].value_counts()"
   ]
  },
  {
   "cell_type": "code",
   "execution_count": 15,
   "metadata": {},
   "outputs": [
    {
     "data": {
      "text/plain": [
       "pandas.core.series.Series"
      ]
     },
     "execution_count": 15,
     "metadata": {},
     "output_type": "execute_result"
    }
   ],
   "source": [
    "type(high)"
   ]
  },
  {
   "cell_type": "code",
   "execution_count": 16,
   "metadata": {},
   "outputs": [
    {
     "data": {
      "text/plain": [
       "24.95    5\n24.30    4\n24.25    4\n22.15    3\n24.48    3\n        ..\n17.23    1\n22.31    1\n28.04    1\n31.07    1\n20.25    1\nName: high, Length: 431, dtype: int64"
      ]
     },
     "execution_count": 16,
     "metadata": {},
     "output_type": "execute_result"
    }
   ],
   "source": [
    "high"
   ]
  },
  {
   "cell_type": "code",
   "execution_count": null,
   "metadata": {},
   "outputs": [],
   "source": []
  }
 ],
 "metadata": {
  "kernelspec": {
   "display_name": "Python 2",
   "language": "python",
   "name": "python2"
  },
  "language_info": {
   "codemirror_mode": {
    "name": "ipython",
    "version": 2
   },
   "file_extension": ".py",
   "mimetype": "text/x-python",
   "name": "python",
   "nbconvert_exporter": "python",
   "pygments_lexer": "ipython2",
   "version": "2.7.6"
  }
 },
 "nbformat": 4,
 "nbformat_minor": 0
}
