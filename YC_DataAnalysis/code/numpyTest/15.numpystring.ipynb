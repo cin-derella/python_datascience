{
 "cells": [
  {
   "cell_type": "code",
   "execution_count": 1,
   "metadata": {
    "collapsed": true
   },
   "outputs": [
    {
     "name": "stdout",
     "output_type": "stream",
     "text": [
      "['hellobaby']\n"
     ]
    }
   ],
   "source": [
    "import numpy as np\n",
    "print(np.char.add(['hello'],['baby']))"
   ]
  },
  {
   "cell_type": "code",
   "execution_count": 3,
   "metadata": {},
   "outputs": [
    {
     "name": "stdout",
     "output_type": "stream",
     "text": [
      "['hellobaby' 'ab']\n"
     ]
    }
   ],
   "source": [
    "print(np.char.add(['hello','a'],['baby','b'])) #字符串数组的拼接"
   ]
  },
  {
   "cell_type": "code",
   "execution_count": 5,
   "metadata": {},
   "outputs": [
    {
     "name": "stdout",
     "output_type": "stream",
     "text": [
      "nimei nimei nimei \n"
     ]
    }
   ],
   "source": [
    "print(np.char.multiply('nimei ',3)) #多个字符串叠加一个字符串"
   ]
  },
  {
   "cell_type": "code",
   "execution_count": 7,
   "metadata": {},
   "outputs": [
    {
     "name": "stdout",
     "output_type": "stream",
     "text": [
      "_________*__________\n"
     ]
    }
   ],
   "source": [
    "print(np.char.center('*',20,fillchar='_')) #字符串填充"
   ]
  },
  {
   "cell_type": "code",
   "execution_count": 9,
   "metadata": {},
   "outputs": [
    {
     "name": "stdout",
     "output_type": "stream",
     "text": [
      "Nimei \n"
     ]
    }
   ],
   "source": [
    "print(np.char.capitalize('nimei ')) #返回副本，开头字母大写"
   ]
  },
  {
   "cell_type": "code",
   "execution_count": 11,
   "metadata": {},
   "outputs": [
    {
     "name": "stdout",
     "output_type": "stream",
     "text": [
      "Nimeititle ，How Are You\n"
     ]
    }
   ],
   "source": [
    "print(np.char.title('nimeititle ，how are you'))  #每个单词字母大写"
   ]
  },
  {
   "cell_type": "code",
   "execution_count": 13,
   "metadata": {},
   "outputs": [
    {
     "name": "stdout",
     "output_type": "stream",
     "text": [
      "mtv\n"
     ]
    }
   ],
   "source": [
    "print(np.char.lower('MTV'))"
   ]
  },
  {
   "cell_type": "code",
   "execution_count": 14,
   "metadata": {},
   "outputs": [
    {
     "name": "stdout",
     "output_type": "stream",
     "text": [
      "MTV\n"
     ]
    }
   ],
   "source": [
    "print(np.char.upper('mtv'))"
   ]
  },
  {
   "cell_type": "code",
   "execution_count": 20,
   "metadata": {},
   "outputs": [
    {
     "name": "stdout",
     "output_type": "stream",
     "text": [
      "['hello ', ' 123213']\n"
     ]
    }
   ],
   "source": [
    "print(np.char.splitlines('hello \\n 123213'))"
   ]
  },
  {
   "cell_type": "code",
   "execution_count": 24,
   "metadata": {},
   "outputs": [
    {
     "name": "stdout",
     "output_type": "stream",
     "text": [
      "['hello', '123213']\n"
     ]
    }
   ],
   "source": [
    "print(np.char.split('hello 123213'),sep = '\\n')"
   ]
  },
  {
   "cell_type": "code",
   "execution_count": 25,
   "metadata": {},
   "outputs": [
    {
     "name": "stdout",
     "output_type": "stream",
     "text": [
      "BBS\n"
     ]
    }
   ],
   "source": [
    "print(np.char.strip('BBS  '))"
   ]
  },
  {
   "cell_type": "code",
   "execution_count": 26,
   "metadata": {},
   "outputs": [
    {
     "name": "stdout",
     "output_type": "stream",
     "text": [
      "5\n"
     ]
    }
   ],
   "source": [
    "print(np.char.str_len('BBS  '))"
   ]
  },
  {
   "cell_type": "code",
   "execution_count": 27,
   "metadata": {},
   "outputs": [
    {
     "name": "stdout",
     "output_type": "stream",
     "text": [
      "n:i:m:e:i\n"
     ]
    }
   ],
   "source": [
    "print(np.char.join(':','nimei'))"
   ]
  },
  {
   "cell_type": "code",
   "execution_count": 28,
   "metadata": {},
   "outputs": [
    {
     "name": "stdout",
     "output_type": "stream",
     "text": [
      "['n:i:m:e:i' 'n:i:j:i:e']\n"
     ]
    }
   ],
   "source": [
    "print(np.char.join(':',['nimei','nijie'])) #切割填充"
   ]
  },
  {
   "cell_type": "code",
   "execution_count": 29,
   "metadata": {},
   "outputs": [
    {
     "name": "stdout",
     "output_type": "stream",
     "text": [
      "['n:i:m:e:i' 'n@i@j@i@e']\n"
     ]
    }
   ],
   "source": [
    "print(np.char.join([':','@'],['nimei','nijie']))"
   ]
  },
  {
   "cell_type": "code",
   "execution_count": 32,
   "metadata": {},
   "outputs": [
    {
     "name": "stdout",
     "output_type": "stream",
     "text": [
      "hello babe\n"
     ]
    }
   ],
   "source": [
    "print(np.char.replace('hello baby','baby','babe'))"
   ]
  },
  {
   "cell_type": "code",
   "execution_count": 34,
   "metadata": {},
   "outputs": [
    {
     "name": "stdout",
     "output_type": "stream",
     "text": [
      "b'\\xe4\\xbd\\xa0\\xe5\\xa6\\xb9'\n"
     ]
    }
   ],
   "source": [
    "print(np.char.encode('你妹','utf-8')) #编码解码"
   ]
  },
  {
   "cell_type": "code",
   "execution_count": 37,
   "metadata": {},
   "outputs": [
    {
     "name": "stdout",
     "output_type": "stream",
     "text": [
      "你妹\n"
     ]
    }
   ],
   "source": [
    "print(np.char.decode(b'\\xe4\\xbd\\xa0\\xe5\\xa6\\xb9','utf-8'))"
   ]
  },
  {
   "cell_type": "code",
   "execution_count": null,
   "metadata": {},
   "outputs": [],
   "source": []
  }
 ],
 "metadata": {
  "kernelspec": {
   "display_name": "Python 2",
   "language": "python",
   "name": "python2"
  },
  "language_info": {
   "codemirror_mode": {
    "name": "ipython",
    "version": 2
   },
   "file_extension": ".py",
   "mimetype": "text/x-python",
   "name": "python",
   "nbconvert_exporter": "python",
   "pygments_lexer": "ipython2",
   "version": "2.7.6"
  }
 },
 "nbformat": 4,
 "nbformat_minor": 0
}
