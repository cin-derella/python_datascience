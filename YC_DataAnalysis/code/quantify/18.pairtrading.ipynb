{
 "cells": [
  {
   "cell_type": "code",
   "execution_count": 4,
   "metadata": {
    "collapsed": true
   },
   "outputs": [],
   "source": [
    "import pandas as pd\n",
    "import numpy as np\n",
    "import matplotlib.pyplot as plt\n",
    "from arch import arch_model   #数据模型\n",
    "from statsmodels.graphics.tsaplots import *\n",
    "from statsmodels.tsa import stattools #模型工具\n",
    "\n",
    "%matplotlib inline\n",
    "import matplotlib\n",
    "matplotlib.rcParams['font.sans-serif'] = ['SimHei']\n",
    "matplotlib.rcParams['font.family'] = 'sans-serif'\n",
    "matplotlib.rcParams['axes.unicode_minus'] = False\n",
    "\n",
    "from arch.unitroot import ADF\n",
    "import statsmodels.api as sm\n",
    "from statsmodels.tsa.stattools import adfuller\n"
   ]
  },
  {
   "cell_type": "code",
   "execution_count": 13,
   "metadata": {},
   "outputs": [
    {
     "data": {
      "text/html": [
       "<div>\n",
       "<style scoped>\n",
       "    .dataframe tbody tr th:only-of-type {\n",
       "        vertical-align: middle;\n",
       "    }\n",
       "\n",
       "    .dataframe tbody tr th {\n",
       "        vertical-align: top;\n",
       "    }\n",
       "\n",
       "    .dataframe thead th {\n",
       "        text-align: right;\n",
       "    }\n",
       "</style>\n",
       "<table border=\"1\" class=\"dataframe\">\n",
       "  <thead>\n",
       "    <tr style=\"text-align: right;\">\n",
       "      <th></th>\n",
       "      <th>600000</th>\n",
       "      <th>600010</th>\n",
       "      <th>600015</th>\n",
       "      <th>600016</th>\n",
       "      <th>600018</th>\n",
       "      <th>600028</th>\n",
       "      <th>600030</th>\n",
       "      <th>600036</th>\n",
       "      <th>600048</th>\n",
       "      <th>600050</th>\n",
       "      <th>...</th>\n",
       "      <th>601688</th>\n",
       "      <th>601766</th>\n",
       "      <th>601800</th>\n",
       "      <th>601818</th>\n",
       "      <th>601857</th>\n",
       "      <th>601901</th>\n",
       "      <th>601985</th>\n",
       "      <th>601988</th>\n",
       "      <th>601989</th>\n",
       "      <th>601998</th>\n",
       "    </tr>\n",
       "    <tr>\n",
       "      <th>Trddt</th>\n",
       "      <th></th>\n",
       "      <th></th>\n",
       "      <th></th>\n",
       "      <th></th>\n",
       "      <th></th>\n",
       "      <th></th>\n",
       "      <th></th>\n",
       "      <th></th>\n",
       "      <th></th>\n",
       "      <th></th>\n",
       "      <th></th>\n",
       "      <th></th>\n",
       "      <th></th>\n",
       "      <th></th>\n",
       "      <th></th>\n",
       "      <th></th>\n",
       "      <th></th>\n",
       "      <th></th>\n",
       "      <th></th>\n",
       "      <th></th>\n",
       "      <th></th>\n",
       "    </tr>\n",
       "  </thead>\n",
       "  <tbody>\n",
       "    <tr>\n",
       "      <th>2010-01-04</th>\n",
       "      <td>9.997</td>\n",
       "      <td>2.260</td>\n",
       "      <td>6.541</td>\n",
       "      <td>4.627</td>\n",
       "      <td>4.775</td>\n",
       "      <td>8.445</td>\n",
       "      <td>17.927</td>\n",
       "      <td>13.174</td>\n",
       "      <td>6.443</td>\n",
       "      <td>6.703</td>\n",
       "      <td>...</td>\n",
       "      <td>-</td>\n",
       "      <td>4.991</td>\n",
       "      <td>-</td>\n",
       "      <td>-</td>\n",
       "      <td>11.284</td>\n",
       "      <td>-</td>\n",
       "      <td>-</td>\n",
       "      <td>3.055</td>\n",
       "      <td>4.591</td>\n",
       "      <td>6.498</td>\n",
       "    </tr>\n",
       "    <tr>\n",
       "      <th>2010-01-05</th>\n",
       "      <td>10.072</td>\n",
       "      <td>2.250</td>\n",
       "      <td>6.706</td>\n",
       "      <td>4.708</td>\n",
       "      <td>4.783</td>\n",
       "      <td>8.494</td>\n",
       "      <td>18.804</td>\n",
       "      <td>13.188</td>\n",
       "      <td>6.243</td>\n",
       "      <td>6.937</td>\n",
       "      <td>...</td>\n",
       "      <td>-</td>\n",
       "      <td>4.982</td>\n",
       "      <td>-</td>\n",
       "      <td>-</td>\n",
       "      <td>11.499</td>\n",
       "      <td>-</td>\n",
       "      <td>-</td>\n",
       "      <td>3.090</td>\n",
       "      <td>4.573</td>\n",
       "      <td>6.578</td>\n",
       "    </tr>\n",
       "    <tr>\n",
       "      <th>2010-01-06</th>\n",
       "      <td>9.874</td>\n",
       "      <td>2.255</td>\n",
       "      <td>6.461</td>\n",
       "      <td>4.615</td>\n",
       "      <td>4.733</td>\n",
       "      <td>8.311</td>\n",
       "      <td>18.586</td>\n",
       "      <td>12.913</td>\n",
       "      <td>6.237</td>\n",
       "      <td>6.787</td>\n",
       "      <td>...</td>\n",
       "      <td>-</td>\n",
       "      <td>4.947</td>\n",
       "      <td>-</td>\n",
       "      <td>-</td>\n",
       "      <td>11.342</td>\n",
       "      <td>-</td>\n",
       "      <td>-</td>\n",
       "      <td>3.055</td>\n",
       "      <td>4.627</td>\n",
       "      <td>6.393</td>\n",
       "    </tr>\n",
       "    <tr>\n",
       "      <th>2010-01-07</th>\n",
       "      <td>9.652</td>\n",
       "      <td>2.201</td>\n",
       "      <td>6.328</td>\n",
       "      <td>4.493</td>\n",
       "      <td>4.602</td>\n",
       "      <td>8.091</td>\n",
       "      <td>18.133</td>\n",
       "      <td>12.578</td>\n",
       "      <td>6.240</td>\n",
       "      <td>6.590</td>\n",
       "      <td>...</td>\n",
       "      <td>-</td>\n",
       "      <td>4.875</td>\n",
       "      <td>-</td>\n",
       "      <td>-</td>\n",
       "      <td>11.267</td>\n",
       "      <td>-</td>\n",
       "      <td>-</td>\n",
       "      <td>2.998</td>\n",
       "      <td>4.573</td>\n",
       "      <td>6.176</td>\n",
       "    </tr>\n",
       "    <tr>\n",
       "      <th>2010-01-08</th>\n",
       "      <td>9.761</td>\n",
       "      <td>2.211</td>\n",
       "      <td>6.370</td>\n",
       "      <td>4.539</td>\n",
       "      <td>4.618</td>\n",
       "      <td>8.005</td>\n",
       "      <td>18.483</td>\n",
       "      <td>12.578</td>\n",
       "      <td>6.322</td>\n",
       "      <td>6.674</td>\n",
       "      <td>...</td>\n",
       "      <td>-</td>\n",
       "      <td>4.902</td>\n",
       "      <td>-</td>\n",
       "      <td>-</td>\n",
       "      <td>11.135</td>\n",
       "      <td>-</td>\n",
       "      <td>-</td>\n",
       "      <td>3.012</td>\n",
       "      <td>4.525</td>\n",
       "      <td>6.232</td>\n",
       "    </tr>\n",
       "    <tr>\n",
       "      <th>...</th>\n",
       "      <td>...</td>\n",
       "      <td>...</td>\n",
       "      <td>...</td>\n",
       "      <td>...</td>\n",
       "      <td>...</td>\n",
       "      <td>...</td>\n",
       "      <td>...</td>\n",
       "      <td>...</td>\n",
       "      <td>...</td>\n",
       "      <td>...</td>\n",
       "      <td>...</td>\n",
       "      <td>...</td>\n",
       "      <td>...</td>\n",
       "      <td>...</td>\n",
       "      <td>...</td>\n",
       "      <td>...</td>\n",
       "      <td>...</td>\n",
       "      <td>...</td>\n",
       "      <td>...</td>\n",
       "      <td>...</td>\n",
       "      <td>...</td>\n",
       "    </tr>\n",
       "    <tr>\n",
       "      <th>2015-12-25</th>\n",
       "      <td>19.320</td>\n",
       "      <td>3.710</td>\n",
       "      <td>11.970</td>\n",
       "      <td>9.354</td>\n",
       "      <td>6.690</td>\n",
       "      <td>5.030</td>\n",
       "      <td>20.790</td>\n",
       "      <td>18.330</td>\n",
       "      <td>11.400</td>\n",
       "      <td>6.250</td>\n",
       "      <td>...</td>\n",
       "      <td>21.41</td>\n",
       "      <td>13.120</td>\n",
       "      <td>13.97</td>\n",
       "      <td>4.34</td>\n",
       "      <td>8.480</td>\n",
       "      <td>9.89</td>\n",
       "      <td>9.66</td>\n",
       "      <td>4.060</td>\n",
       "      <td>9.730</td>\n",
       "      <td>7.640</td>\n",
       "    </tr>\n",
       "    <tr>\n",
       "      <th>2015-12-28</th>\n",
       "      <td>18.700</td>\n",
       "      <td>3.620</td>\n",
       "      <td>11.440</td>\n",
       "      <td>9.057</td>\n",
       "      <td>6.560</td>\n",
       "      <td>4.920</td>\n",
       "      <td>19.560</td>\n",
       "      <td>17.840</td>\n",
       "      <td>10.830</td>\n",
       "      <td>6.280</td>\n",
       "      <td>...</td>\n",
       "      <td>20.17</td>\n",
       "      <td>12.790</td>\n",
       "      <td>13.44</td>\n",
       "      <td>4.22</td>\n",
       "      <td>8.370</td>\n",
       "      <td>9.59</td>\n",
       "      <td>9.46</td>\n",
       "      <td>4.020</td>\n",
       "      <td>9.420</td>\n",
       "      <td>7.260</td>\n",
       "    </tr>\n",
       "    <tr>\n",
       "      <th>2015-12-29</th>\n",
       "      <td>18.740</td>\n",
       "      <td>3.650</td>\n",
       "      <td>11.800</td>\n",
       "      <td>9.126</td>\n",
       "      <td>6.550</td>\n",
       "      <td>4.960</td>\n",
       "      <td>19.810</td>\n",
       "      <td>17.940</td>\n",
       "      <td>10.950</td>\n",
       "      <td>6.210</td>\n",
       "      <td>...</td>\n",
       "      <td>20.24</td>\n",
       "      <td>12.840</td>\n",
       "      <td>13.47</td>\n",
       "      <td>4.26</td>\n",
       "      <td>8.420</td>\n",
       "      <td>9.75</td>\n",
       "      <td>9.5</td>\n",
       "      <td>4.040</td>\n",
       "      <td>9.470</td>\n",
       "      <td>7.310</td>\n",
       "    </tr>\n",
       "    <tr>\n",
       "      <th>2015-12-30</th>\n",
       "      <td>18.570</td>\n",
       "      <td>3.640</td>\n",
       "      <td>11.920</td>\n",
       "      <td>9.344</td>\n",
       "      <td>6.620</td>\n",
       "      <td>4.970</td>\n",
       "      <td>19.700</td>\n",
       "      <td>18.260</td>\n",
       "      <td>10.850</td>\n",
       "      <td>6.320</td>\n",
       "      <td>...</td>\n",
       "      <td>20.07</td>\n",
       "      <td>12.960</td>\n",
       "      <td>13.48</td>\n",
       "      <td>4.26</td>\n",
       "      <td>8.410</td>\n",
       "      <td>9.72</td>\n",
       "      <td>9.49</td>\n",
       "      <td>4.030</td>\n",
       "      <td>9.480</td>\n",
       "      <td>7.320</td>\n",
       "    </tr>\n",
       "    <tr>\n",
       "      <th>2015-12-31</th>\n",
       "      <td>18.270</td>\n",
       "      <td>3.610</td>\n",
       "      <td>12.140</td>\n",
       "      <td>9.552</td>\n",
       "      <td>6.480</td>\n",
       "      <td>4.960</td>\n",
       "      <td>19.350</td>\n",
       "      <td>17.990</td>\n",
       "      <td>10.640</td>\n",
       "      <td>6.180</td>\n",
       "      <td>...</td>\n",
       "      <td>19.72</td>\n",
       "      <td>12.850</td>\n",
       "      <td>13.41</td>\n",
       "      <td>4.24</td>\n",
       "      <td>8.350</td>\n",
       "      <td>9.6</td>\n",
       "      <td>9.54</td>\n",
       "      <td>4.010</td>\n",
       "      <td>9.400</td>\n",
       "      <td>7.220</td>\n",
       "    </tr>\n",
       "  </tbody>\n",
       "</table>\n",
       "<p>1456 rows × 50 columns</p>\n",
       "</div>"
      ],
      "text/plain": [
       "<div>\n",
       "<style scoped>\n",
       "    .dataframe tbody tr th:only-of-type {\n",
       "        vertical-align: middle;\n",
       "    }\n",
       "\n",
       "    .dataframe tbody tr th {\n",
       "        vertical-align: top;\n",
       "    }\n",
       "\n",
       "    .dataframe thead th {\n",
       "        text-align: right;\n",
       "    }\n",
       "</style>\n",
       "<table border=\"1\" class=\"dataframe\">\n",
       "  <thead>\n",
       "    <tr style=\"text-align: right;\">\n",
       "      <th></th>\n",
       "      <th>600000</th>\n",
       "      <th>600010</th>\n",
       "      <th>600015</th>\n",
       "      <th>600016</th>\n",
       "      <th>600018</th>\n",
       "      <th>600028</th>\n",
       "      <th>600030</th>\n",
       "      <th>600036</th>\n",
       "      <th>600048</th>\n",
       "      <th>600050</th>\n",
       "      <th>...</th>\n",
       "      <th>601688</th>\n",
       "      <th>601766</th>\n",
       "      <th>601800</th>\n",
       "      <th>601818</th>\n",
       "      <th>601857</th>\n",
       "      <th>601901</th>\n",
       "      <th>601985</th>\n",
       "      <th>601988</th>\n",
       "      <th>601989</th>\n",
       "      <th>601998</th>\n",
       "    </tr>\n",
       "    <tr>\n",
       "      <th>Trddt</th>\n",
       "      <th></th>\n",
       "      <th></th>\n",
       "      <th></th>\n",
       "      <th></th>\n",
       "      <th></th>\n",
       "      <th></th>\n",
       "      <th></th>\n",
       "      <th></th>\n",
       "      <th></th>\n",
       "      <th></th>\n",
       "      <th></th>\n",
       "      <th></th>\n",
       "      <th></th>\n",
       "      <th></th>\n",
       "      <th></th>\n",
       "      <th></th>\n",
       "      <th></th>\n",
       "      <th></th>\n",
       "      <th></th>\n",
       "      <th></th>\n",
       "      <th></th>\n",
       "    </tr>\n",
       "  </thead>\n",
       "  <tbody>\n",
       "    <tr>\n",
       "      <th>2010-01-04</th>\n",
       "      <td>9.997</td>\n",
       "      <td>2.260</td>\n",
       "      <td>6.541</td>\n",
       "      <td>4.627</td>\n",
       "      <td>4.775</td>\n",
       "      <td>8.445</td>\n",
       "      <td>17.927</td>\n",
       "      <td>13.174</td>\n",
       "      <td>6.443</td>\n",
       "      <td>6.703</td>\n",
       "      <td>...</td>\n",
       "      <td>-</td>\n",
       "      <td>4.991</td>\n",
       "      <td>-</td>\n",
       "      <td>-</td>\n",
       "      <td>11.284</td>\n",
       "      <td>-</td>\n",
       "      <td>-</td>\n",
       "      <td>3.055</td>\n",
       "      <td>4.591</td>\n",
       "      <td>6.498</td>\n",
       "    </tr>\n",
       "    <tr>\n",
       "      <th>2010-01-05</th>\n",
       "      <td>10.072</td>\n",
       "      <td>2.250</td>\n",
       "      <td>6.706</td>\n",
       "      <td>4.708</td>\n",
       "      <td>4.783</td>\n",
       "      <td>8.494</td>\n",
       "      <td>18.804</td>\n",
       "      <td>13.188</td>\n",
       "      <td>6.243</td>\n",
       "      <td>6.937</td>\n",
       "      <td>...</td>\n",
       "      <td>-</td>\n",
       "      <td>4.982</td>\n",
       "      <td>-</td>\n",
       "      <td>-</td>\n",
       "      <td>11.499</td>\n",
       "      <td>-</td>\n",
       "      <td>-</td>\n",
       "      <td>3.090</td>\n",
       "      <td>4.573</td>\n",
       "      <td>6.578</td>\n",
       "    </tr>\n",
       "    <tr>\n",
       "      <th>2010-01-06</th>\n",
       "      <td>9.874</td>\n",
       "      <td>2.255</td>\n",
       "      <td>6.461</td>\n",
       "      <td>4.615</td>\n",
       "      <td>4.733</td>\n",
       "      <td>8.311</td>\n",
       "      <td>18.586</td>\n",
       "      <td>12.913</td>\n",
       "      <td>6.237</td>\n",
       "      <td>6.787</td>\n",
       "      <td>...</td>\n",
       "      <td>-</td>\n",
       "      <td>4.947</td>\n",
       "      <td>-</td>\n",
       "      <td>-</td>\n",
       "      <td>11.342</td>\n",
       "      <td>-</td>\n",
       "      <td>-</td>\n",
       "      <td>3.055</td>\n",
       "      <td>4.627</td>\n",
       "      <td>6.393</td>\n",
       "    </tr>\n",
       "    <tr>\n",
       "      <th>2010-01-07</th>\n",
       "      <td>9.652</td>\n",
       "      <td>2.201</td>\n",
       "      <td>6.328</td>\n",
       "      <td>4.493</td>\n",
       "      <td>4.602</td>\n",
       "      <td>8.091</td>\n",
       "      <td>18.133</td>\n",
       "      <td>12.578</td>\n",
       "      <td>6.240</td>\n",
       "      <td>6.590</td>\n",
       "      <td>...</td>\n",
       "      <td>-</td>\n",
       "      <td>4.875</td>\n",
       "      <td>-</td>\n",
       "      <td>-</td>\n",
       "      <td>11.267</td>\n",
       "      <td>-</td>\n",
       "      <td>-</td>\n",
       "      <td>2.998</td>\n",
       "      <td>4.573</td>\n",
       "      <td>6.176</td>\n",
       "    </tr>\n",
       "    <tr>\n",
       "      <th>2010-01-08</th>\n",
       "      <td>9.761</td>\n",
       "      <td>2.211</td>\n",
       "      <td>6.370</td>\n",
       "      <td>4.539</td>\n",
       "      <td>4.618</td>\n",
       "      <td>8.005</td>\n",
       "      <td>18.483</td>\n",
       "      <td>12.578</td>\n",
       "      <td>6.322</td>\n",
       "      <td>6.674</td>\n",
       "      <td>...</td>\n",
       "      <td>-</td>\n",
       "      <td>4.902</td>\n",
       "      <td>-</td>\n",
       "      <td>-</td>\n",
       "      <td>11.135</td>\n",
       "      <td>-</td>\n",
       "      <td>-</td>\n",
       "      <td>3.012</td>\n",
       "      <td>4.525</td>\n",
       "      <td>6.232</td>\n",
       "    </tr>\n",
       "    <tr>\n",
       "      <th>...</th>\n",
       "      <td>...</td>\n",
       "      <td>...</td>\n",
       "      <td>...</td>\n",
       "      <td>...</td>\n",
       "      <td>...</td>\n",
       "      <td>...</td>\n",
       "      <td>...</td>\n",
       "      <td>...</td>\n",
       "      <td>...</td>\n",
       "      <td>...</td>\n",
       "      <td>...</td>\n",
       "      <td>...</td>\n",
       "      <td>...</td>\n",
       "      <td>...</td>\n",
       "      <td>...</td>\n",
       "      <td>...</td>\n",
       "      <td>...</td>\n",
       "      <td>...</td>\n",
       "      <td>...</td>\n",
       "      <td>...</td>\n",
       "      <td>...</td>\n",
       "    </tr>\n",
       "    <tr>\n",
       "      <th>2015-12-25</th>\n",
       "      <td>19.320</td>\n",
       "      <td>3.710</td>\n",
       "      <td>11.970</td>\n",
       "      <td>9.354</td>\n",
       "      <td>6.690</td>\n",
       "      <td>5.030</td>\n",
       "      <td>20.790</td>\n",
       "      <td>18.330</td>\n",
       "      <td>11.400</td>\n",
       "      <td>6.250</td>\n",
       "      <td>...</td>\n",
       "      <td>21.41</td>\n",
       "      <td>13.120</td>\n",
       "      <td>13.97</td>\n",
       "      <td>4.34</td>\n",
       "      <td>8.480</td>\n",
       "      <td>9.89</td>\n",
       "      <td>9.66</td>\n",
       "      <td>4.060</td>\n",
       "      <td>9.730</td>\n",
       "      <td>7.640</td>\n",
       "    </tr>\n",
       "    <tr>\n",
       "      <th>2015-12-28</th>\n",
       "      <td>18.700</td>\n",
       "      <td>3.620</td>\n",
       "      <td>11.440</td>\n",
       "      <td>9.057</td>\n",
       "      <td>6.560</td>\n",
       "      <td>4.920</td>\n",
       "      <td>19.560</td>\n",
       "      <td>17.840</td>\n",
       "      <td>10.830</td>\n",
       "      <td>6.280</td>\n",
       "      <td>...</td>\n",
       "      <td>20.17</td>\n",
       "      <td>12.790</td>\n",
       "      <td>13.44</td>\n",
       "      <td>4.22</td>\n",
       "      <td>8.370</td>\n",
       "      <td>9.59</td>\n",
       "      <td>9.46</td>\n",
       "      <td>4.020</td>\n",
       "      <td>9.420</td>\n",
       "      <td>7.260</td>\n",
       "    </tr>\n",
       "    <tr>\n",
       "      <th>2015-12-29</th>\n",
       "      <td>18.740</td>\n",
       "      <td>3.650</td>\n",
       "      <td>11.800</td>\n",
       "      <td>9.126</td>\n",
       "      <td>6.550</td>\n",
       "      <td>4.960</td>\n",
       "      <td>19.810</td>\n",
       "      <td>17.940</td>\n",
       "      <td>10.950</td>\n",
       "      <td>6.210</td>\n",
       "      <td>...</td>\n",
       "      <td>20.24</td>\n",
       "      <td>12.840</td>\n",
       "      <td>13.47</td>\n",
       "      <td>4.26</td>\n",
       "      <td>8.420</td>\n",
       "      <td>9.75</td>\n",
       "      <td>9.5</td>\n",
       "      <td>4.040</td>\n",
       "      <td>9.470</td>\n",
       "      <td>7.310</td>\n",
       "    </tr>\n",
       "    <tr>\n",
       "      <th>2015-12-30</th>\n",
       "      <td>18.570</td>\n",
       "      <td>3.640</td>\n",
       "      <td>11.920</td>\n",
       "      <td>9.344</td>\n",
       "      <td>6.620</td>\n",
       "      <td>4.970</td>\n",
       "      <td>19.700</td>\n",
       "      <td>18.260</td>\n",
       "      <td>10.850</td>\n",
       "      <td>6.320</td>\n",
       "      <td>...</td>\n",
       "      <td>20.07</td>\n",
       "      <td>12.960</td>\n",
       "      <td>13.48</td>\n",
       "      <td>4.26</td>\n",
       "      <td>8.410</td>\n",
       "      <td>9.72</td>\n",
       "      <td>9.49</td>\n",
       "      <td>4.030</td>\n",
       "      <td>9.480</td>\n",
       "      <td>7.320</td>\n",
       "    </tr>\n",
       "    <tr>\n",
       "      <th>2015-12-31</th>\n",
       "      <td>18.270</td>\n",
       "      <td>3.610</td>\n",
       "      <td>12.140</td>\n",
       "      <td>9.552</td>\n",
       "      <td>6.480</td>\n",
       "      <td>4.960</td>\n",
       "      <td>19.350</td>\n",
       "      <td>17.990</td>\n",
       "      <td>10.640</td>\n",
       "      <td>6.180</td>\n",
       "      <td>...</td>\n",
       "      <td>19.72</td>\n",
       "      <td>12.850</td>\n",
       "      <td>13.41</td>\n",
       "      <td>4.24</td>\n",
       "      <td>8.350</td>\n",
       "      <td>9.6</td>\n",
       "      <td>9.54</td>\n",
       "      <td>4.010</td>\n",
       "      <td>9.400</td>\n",
       "      <td>7.220</td>\n",
       "    </tr>\n",
       "  </tbody>\n",
       "</table>\n",
       "<p>1456 rows × 50 columns</p>\n",
       "</div>"
      ]
     },
     "execution_count": 13,
     "metadata": {},
     "output_type": "execute_result"
    }
   ],
   "source": [
    "path = '../YCdata/sh50p.csv'\n",
    "sh = pd.read_csv(path,index_col='Trddt')\n",
    "sh.index = pd.to_datetime(sh.index)\n",
    "sh"
   ]
  },
  {
   "cell_type": "code",
   "execution_count": 14,
   "metadata": {},
   "outputs": [
    {
     "data": {
      "text/plain": [
       "<matplotlib.axes._subplots.AxesSubplot at 0x12169a130>"
      ]
     },
     "execution_count": 14,
     "metadata": {},
     "output_type": "execute_result"
    },
    {
     "data": {
      "image/png": "[encoded data removed]",
      "text/plain": [
       "<Figure size 432x288 with 1 Axes>"
      ]
     },
     "metadata": {},
     "output_type": "display_data"
    }
   ],
   "source": [
    "\n",
    "start = '2014-01-01'\n",
    "end = '2015-01-01'\n",
    "shform = sh[start:end]\n",
    "shform.head(10)\n",
    "\n",
    "paf = shform['600000']\n",
    "pbf = shform['601988']\n",
    "mydata = pd.concat([paf,pbf],axis = 1)\n",
    "mydata.plot()\n"
   ]
  },
  {
   "cell_type": "code",
   "execution_count": 15,
   "metadata": {},
   "outputs": [
    {
     "data": {
      "text/plain": [
       "1.4016014372429635e+273"
      ]
     },
     "execution_count": 15,
     "metadata": {},
     "output_type": "execute_result"
    }
   ],
   "source": [
    "def SSD(priceX,priceY):\n",
    "    if priceX is None or priceY is None:\n",
    "        return None\n",
    "    else:\n",
    "        returnx = (priceX-priceX.shift(1))/priceX.shift(1)[1:]\n",
    "        returny = (priceX-priceY.shift(1))/priceY.shift(1)[1:]\n",
    "        stdx = (returnx+1).cumprod()\n",
    "        stdy = (returny+1).cumprod()\n",
    "        SSD = np.sum((stdx-stdy)**2)\n",
    "        return SSD\n",
    "distance = SSD(paf,pbf)\n",
    "distance"
   ]
  },
  {
   "cell_type": "code",
   "execution_count": 17,
   "metadata": {},
   "outputs": [
    {
     "name": "stdout",
     "output_type": "stream",
     "text": [
      "   Augmented Dickey-Fuller Results   \n=====================================\nTest Statistic                  2.392\nP-value                         0.999\nLags                               12\n-------------------------------------\n\nTrend: Constant\nCritical Values: -3.46 (1%), -2.87 (5%), -2.57 (10%)\nNull Hypothesis: The process contains a unit root.\nAlternative Hypothesis: The process is weakly stationary.\n"
     ]
    }
   ],
   "source": [
    "PAflog = np.log(paf) #指数计算\n",
    "adfA = ADF(PAflog)\n",
    "print(adfA.summary().as_text())\n"
   ]
  },
  {
   "cell_type": "code",
   "execution_count": 18,
   "metadata": {},
   "outputs": [
    {
     "data": {
      "text/plain": [
       "Trddt\n2014-01-03   -0.020554\n2014-01-06    0.005392\n2014-01-07   -0.005392\n2014-01-08    0.006492\n2014-01-09    0.009719\n                ...   \n2014-12-25    0.057037\n2014-12-26    0.035846\n2014-12-29    0.012112\n2014-12-30    0.027068\n2014-12-31    0.021232\nName: 600000, Length: 244, dtype: float64"
      ]
     },
     "execution_count": 18,
     "metadata": {},
     "output_type": "execute_result"
    }
   ],
   "source": [
    "retA = PAflog.diff()[1:]\n",
    "retA"
   ]
  },
  {
   "cell_type": "code",
   "execution_count": 19,
   "metadata": {},
   "outputs": [
    {
     "name": "stdout",
     "output_type": "stream",
     "text": [
      "   Augmented Dickey-Fuller Results   \n=====================================\nTest Statistic                 -3.888\nP-value                         0.002\nLags                               11\n-------------------------------------\n\nTrend: Constant\nCritical Values: -3.46 (1%), -2.87 (5%), -2.57 (10%)\nNull Hypothesis: The process contains a unit root.\nAlternative Hypothesis: The process is weakly stationary.\n"
     ]
    }
   ],
   "source": [
    "adfretA = ADF(retA)\n",
    "print(adfretA.summary().as_text())"
   ]
  },
  {
   "cell_type": "code",
   "execution_count": 20,
   "metadata": {},
   "outputs": [
    {
     "name": "stdout",
     "output_type": "stream",
     "text": [
      "   Augmented Dickey-Fuller Results   \n=====================================\nTest Statistic                  3.409\nP-value                         1.000\nLags                               12\n-------------------------------------\n\nTrend: Constant\nCritical Values: -3.46 (1%), -2.87 (5%), -2.57 (10%)\nNull Hypothesis: The process contains a unit root.\nAlternative Hypothesis: The process is weakly stationary.\n"
     ]
    }
   ],
   "source": [
    "PBflog = np.log(pbf) #指数计算\n",
    "adfB = ADF(PBflog)\n",
    "print(adfB.summary().as_text())"
   ]
  },
  {
   "cell_type": "code",
   "execution_count": 22,
   "metadata": {},
   "outputs": [
    {
     "data": {
      "text/plain": [
       "Trddt\n2014-01-03   -0.019040\n2014-01-06   -0.011866\n2014-01-07   -0.003987\n2014-01-08   -0.004003\n2014-01-09   -0.004019\n                ...   \n2014-12-25    0.041067\n2014-12-26    0.026470\n2014-12-29    0.007860\n2014-12-30    0.023217\n2014-12-31    0.051913\nName: 601988, Length: 244, dtype: float64"
      ]
     },
     "execution_count": 22,
     "metadata": {},
     "output_type": "execute_result"
    }
   ],
   "source": [
    "retB = PBflog.diff()[1:]\n",
    "retB"
   ]
  },
  {
   "cell_type": "code",
   "execution_count": 23,
   "metadata": {},
   "outputs": [
    {
     "name": "stdout",
     "output_type": "stream",
     "text": [
      "   Augmented Dickey-Fuller Results   \n=====================================\nTest Statistic                 -4.571\nP-value                         0.000\nLags                               11\n-------------------------------------\n\nTrend: Constant\nCritical Values: -3.46 (1%), -2.87 (5%), -2.57 (10%)\nNull Hypothesis: The process contains a unit root.\nAlternative Hypothesis: The process is weakly stationary.\n"
     ]
    }
   ],
   "source": [
    "adfretB = ADF(retB)\n",
    "print(adfretB.summary().as_text())"
   ]
  },
  {
   "cell_type": "code",
   "execution_count": 24,
   "metadata": {},
   "outputs": [
    {
     "data": {
      "text/plain": [
       "Text(0.5, 1.0, '对数价格时间序列图')"
      ]
     },
     "execution_count": 24,
     "metadata": {},
     "output_type": "execute_result"
    },
    {
     "data": {
      "image/png": "[encoded data removed]",
      "text/plain": [
       "<Figure size 432x288 with 1 Axes>"
      ]
     },
     "metadata": {},
     "output_type": "display_data"
    }
   ],
   "source": [
    "PAflog.plot(label = '601988',style = '--')\n",
    "PBflog.plot(label = '600000',style = '-')\n",
    "plt.title('对数价格时间序列图')"
   ]
  },
  {
   "cell_type": "code",
   "execution_count": 25,
   "metadata": {},
   "outputs": [
    {
     "data": {
      "text/plain": [
       "Text(0.5, 1.0, '对数价格时间序列图')"
      ]
     },
     "execution_count": 25,
     "metadata": {},
     "output_type": "execute_result"
    },
    {
     "data": {
      "image/png": "[encoded data removed]",
      "text/plain": [
       "<Figure size 432x288 with 1 Axes>"
      ]
     },
     "metadata": {},
     "output_type": "display_data"
    }
   ],
   "source": [
    "retA.plot(label = '601988',style = '--')\n",
    "retB.plot(label = '600000',style = '-')\n",
    "plt.title('收益率时间序列图')"
   ]
  },
  {
   "cell_type": "code",
   "execution_count": 26,
   "metadata": {},
   "outputs": [
    {
     "name": "stdout",
     "output_type": "stream",
     "text": [
      "                            OLS Regression Results                            \n==============================================================================\nDep. Variable:                 601988   R-squared:                       0.949\nModel:                            OLS   Adj. R-squared:                  0.949\nMethod:                 Least Squares   F-statistic:                     4560.\nDate:                Sat, 25 Apr 2020   Prob (F-statistic):          1.83e-159\nTime:                        15:56:20   Log-Likelihood:                 531.15\nNo. Observations:                 245   AIC:                            -1058.\nDf Residuals:                     243   BIC:                            -1051.\nDf Model:                           1                                         \nCovariance Type:            nonrobust                                         \n==============================================================================\n                 coef    std err          t      P>|t|      [0.025      0.975]\n------------------------------------------------------------------------------\nconst         -1.0476      0.029    -35.723      0.000      -1.105      -0.990\n600000         0.8922      0.013     67.531      0.000       0.866       0.918\n==============================================================================\nOmnibus:                       22.871   Durbin-Watson:                   0.162\nProb(Omnibus):                  0.000   Jarque-Bera (JB):               13.947\nSkew:                          -0.440   Prob(JB):                     0.000936\nKurtosis:                       2.231   Cond. No.                         44.1\n==============================================================================\n\nWarnings:\n[1] Standard Errors assume that the covariance matrix of the errors is correctly specified.\n"
     ]
    }
   ],
   "source": [
    "model = sm.OLS(PBflog,sm.add_constant(PAflog))\n",
    "results = model.fit()\n",
    "print(results.summary())"
   ]
  },
  {
   "cell_type": "code",
   "execution_count": 27,
   "metadata": {},
   "outputs": [
    {
     "name": "stdout",
     "output_type": "stream",
     "text": [
      "                            OLS Regression Results                            \n==============================================================================\nDep. Variable:                 600000   R-squared:                       0.949\nModel:                            OLS   Adj. R-squared:                  0.949\nMethod:                 Least Squares   F-statistic:                     4560.\nDate:                Sat, 25 Apr 2020   Prob (F-statistic):          1.83e-159\nTime:                        15:56:36   Log-Likelihood:                 509.57\nNo. Observations:                 245   AIC:                            -1015.\nDf Residuals:                     243   BIC:                            -1008.\nDf Model:                           1                                         \nCovariance Type:            nonrobust                                         \n==============================================================================\n                 coef    std err          t      P>|t|      [0.025      0.975]\n------------------------------------------------------------------------------\nconst          1.2269      0.015     83.071      0.000       1.198       1.256\n601988         1.0641      0.016     67.531      0.000       1.033       1.095\n==============================================================================\nOmnibus:                       19.538   Durbin-Watson:                   0.161\nProb(Omnibus):                  0.000   Jarque-Bera (JB):               13.245\nSkew:                           0.444   Prob(JB):                      0.00133\nKurtosis:                       2.286   Cond. No.                         15.2\n==============================================================================\n\nWarnings:\n[1] Standard Errors assume that the covariance matrix of the errors is correctly specified.\n"
     ]
    }
   ],
   "source": [
    "model = sm.OLS(PAflog,sm.add_constant(PBflog))\n",
    "results = model.fit()\n",
    "print(results.summary())"
   ]
  },
  {
   "cell_type": "code",
   "execution_count": 28,
   "metadata": {},
   "outputs": [
    {
     "data": {
      "text/plain": [
       "-1.0476136225676425"
      ]
     },
     "execution_count": 28,
     "metadata": {},
     "output_type": "execute_result"
    }
   ],
   "source": [
    "model = sm.OLS(PBflog,sm.add_constant(PAflog))\n",
    "results = model.fit()\n",
    "alpha = results.params[0]\n",
    "alpha"
   ]
  },
  {
   "cell_type": "code",
   "execution_count": 29,
   "metadata": {},
   "outputs": [
    {
     "data": {
      "text/plain": [
       "0.8922170924539079"
      ]
     },
     "execution_count": 29,
     "metadata": {},
     "output_type": "execute_result"
    }
   ],
   "source": [
    "beta = results.params[1]\n",
    "beta"
   ]
  },
  {
   "cell_type": "code",
   "execution_count": 30,
   "metadata": {},
   "outputs": [
    {
     "data": {
      "text/plain": [
       "Trddt\n2014-01-02    0.005857\n2014-01-03    0.005156\n2014-01-06   -0.011521\n2014-01-07   -0.010697\n2014-01-08   -0.020491\n                ...   \n2014-12-25   -0.007232\n2014-12-26   -0.012744\n2014-12-29   -0.015691\n2014-12-30   -0.016625\n2014-12-31    0.016345\nLength: 245, dtype: float64"
      ]
     },
     "execution_count": 30,
     "metadata": {},
     "output_type": "execute_result"
    }
   ],
   "source": [
    "spread = PBflog-beta*PAflog - alpha\n",
    "spread"
   ]
  },
  {
   "cell_type": "code",
   "execution_count": 31,
   "metadata": {},
   "outputs": [
    {
     "data": {
      "text/plain": [
       "Text(0.5, 1.0, '价格差距序列')"
      ]
     },
     "execution_count": 31,
     "metadata": {},
     "output_type": "execute_result"
    },
    {
     "data": {
      "image/png": "[encoded data removed]",
      "text/plain": [
       "<Figure size 432x288 with 1 Axes>"
      ]
     },
     "metadata": {},
     "output_type": "display_data"
    }
   ],
   "source": [
    "spread.plot()\n",
    "plt.title('价格差距序列')"
   ]
  },
  {
   "cell_type": "code",
   "execution_count": 32,
   "metadata": {},
   "outputs": [
    {
     "name": "stdout",
     "output_type": "stream",
     "text": [
      "   Augmented Dickey-Fuller Results   \n=====================================\nTest Statistic                 -3.183\nP-value                         0.001\nLags                                0\n-------------------------------------\n\nTrend: No Trend\nCritical Values: -2.57 (1%), -1.94 (5%), -1.62 (10%)\nNull Hypothesis: The process contains a unit root.\nAlternative Hypothesis: The process is weakly stationary.\n"
     ]
    },
    {
     "name": "stderr",
     "output_type": "stream",
     "text": [
      "/Library/Frameworks/Python.framework/Versions/3.8/lib/python3.8/site-packages/arch/unitroot/unitroot.py:463: FutureWarning: Trend \"nc\" is deprecated and has been replaced with \"n\" (for none).\n  warnings.warn(\n"
     ]
    }
   ],
   "source": [
    "adfSpread =ADF(spread,trend = 'nc')\n",
    "print(adfSpread.summary().as_text()) #平方根的校验"
   ]
  },
  {
   "cell_type": "code",
   "execution_count": 33,
   "metadata": {},
   "outputs": [],
   "source": [
    "STDA=(1+retA).cumprod() #计算下标价格\n",
    "STDB=(1+retB).cumprod()\n"
   ]
  },
  {
   "cell_type": "code",
   "execution_count": 35,
   "metadata": {},
   "outputs": [
    {
     "data": {
      "text/plain": [
       "Trddt\n2014-01-03    0.001514\n2014-01-06   -0.015407\n2014-01-07   -0.013962\n2014-01-08   -0.024184\n2014-01-09   -0.037629\n                ...   \n2014-12-25   -0.093747\n2014-12-26   -0.110997\n2014-12-29   -0.118807\n2014-12-30   -0.127925\n2014-12-31   -0.082529\nLength: 244, dtype: float64"
      ]
     },
     "execution_count": 35,
     "metadata": {},
     "output_type": "execute_result"
    }
   ],
   "source": [
    "SSD_pair= STDB-STDA\n",
    "SSD_pair"
   ]
  },
  {
   "cell_type": "code",
   "execution_count": 36,
   "metadata": {},
   "outputs": [
    {
     "data": {
      "text/plain": [
       "-0.01189434525521933"
      ]
     },
     "execution_count": 36,
     "metadata": {},
     "output_type": "execute_result"
    }
   ],
   "source": [
    "meanSSD_pair = np.mean(SSD_pair)\n",
    "meanSSD_pair"
   ]
  },
  {
   "cell_type": "code",
   "execution_count": 37,
   "metadata": {},
   "outputs": [
    {
     "data": {
      "text/plain": [
       "0.038793501413793924"
      ]
     },
     "execution_count": 37,
     "metadata": {},
     "output_type": "execute_result"
    }
   ],
   "source": [
    "stdSSD_pair = np.std(SSD_pair)\n",
    "stdSSD_pair"
   ]
  },
  {
   "cell_type": "code",
   "execution_count": 38,
   "metadata": {},
   "outputs": [],
   "source": [
    "thresholdup = meanSSD_pair + stdSSD_pair*1.2\n",
    "thresholddown = meanSSD_pair - stdSSD_pair*1.2  #计算自定义的上限和下限\n",
    "\n",
    "  "
   ]
  },
  {
   "cell_type": "code",
   "execution_count": 42,
   "metadata": {},
   "outputs": [
    {
     "data": {
      "text/plain": [
       "<matplotlib.lines.Line2D at 0x120e23490>"
      ]
     },
     "execution_count": 42,
     "metadata": {},
     "output_type": "execute_result"
    },
    {
     "data": {
      "image/png": "[encoded data removed]",
      "text/plain": [
       "<Figure size 432x288 with 1 Axes>"
      ]
     },
     "metadata": {},
     "output_type": "display_data"
    }
   ],
   "source": [
    "SSD_pair.plot()\n",
    "plt.title('标准化价差序列')\n",
    "plt.axhline(y =meanSSD_pair,color = 'yellow')\n",
    "plt.axhline(y =thresholdup,color = 'green')\n",
    "plt.axhline(y =thresholddown,color = 'black')"
   ]
  },
  {
   "cell_type": "code",
   "execution_count": 45,
   "metadata": {},
   "outputs": [],
   "source": [
    "tradeStart = '2015-01-02'\n",
    "tradeEnd = '2015-06-30'\n",
    "PAt = sh.loc[tradeStart:tradeEnd,'601988']\n",
    "PBt = sh.loc[tradeStart:tradeEnd,'600000']\n",
    "\n",
    "def spreadcalc(priceX,priceY):  #标准差\n",
    "    if priceX is None or priceY is None:\n",
    "        return None\n",
    "    else:\n",
    "        returnx = (priceX-priceX.shift(1))/priceX.shift(1)[1:]  #收益率\n",
    "        returny = (priceX-priceY.shift(1))/priceY.shift(1)[1:]\n",
    "        stdx = (returnx+1).cumprod() #累计收益\n",
    "        stdy = (returny+1).cumprod()\n",
    "        spread = stdx - stdy\n",
    "        return spread"
   ]
  },
  {
   "cell_type": "code",
   "execution_count": 46,
   "metadata": {},
   "outputs": [
    {
     "data": {
      "text/plain": [
       "count    1.180000e+02\nmean    -7.398198e+63\nstd      6.111506e+64\nmin     -6.430621e+65\n25%     -1.004605e+49\n50%     -1.693430e+32\n75%     -1.009197e+16\nmax     -2.621576e+00\ndtype: float64"
      ]
     },
     "execution_count": 46,
     "metadata": {},
     "output_type": "execute_result"
    }
   ],
   "source": [
    "TradeSpread = spreadcalc(PBt,PAt).dropna()\n",
    "TradeSpread.describe()"
   ]
  },
  {
   "cell_type": "code",
   "execution_count": 47,
   "metadata": {},
   "outputs": [
    {
     "data": {
      "text/plain": [
       "<matplotlib.lines.Line2D at 0x120fffbe0>"
      ]
     },
     "execution_count": 47,
     "metadata": {},
     "output_type": "execute_result"
    },
    {
     "data": {
      "image/png": "[encoded data removed]",
      "text/plain": [
       "<Figure size 432x288 with 1 Axes>"
      ]
     },
     "metadata": {},
     "output_type": "display_data"
    }
   ],
   "source": [
    "TradeSpread.plot()\n",
    "plt.title('交易差时间序列')\n",
    "plt.axhline(y = meanSSD_pair,color = 'yellow')\n",
    "plt.axhline(y = meanSSD_pair,color = 'green')\n",
    "plt.axhline(y = meanSSD_pair,color = 'black')"
   ]
  },
  {
   "cell_type": "code",
   "execution_count": 48,
   "metadata": {},
   "outputs": [
    {
     "data": {
      "text/plain": [
       "0.03322027965912166"
      ]
     },
     "execution_count": 48,
     "metadata": {},
     "output_type": "execute_result"
    }
   ],
   "source": [
    "spreadf = PBflog - beta*PAflog - alpha\n",
    "mu = np.mean(spreadf)\n",
    "sd = np.std(spreadf)\n",
    "mu+1.2*sd"
   ]
  },
  {
   "cell_type": "code",
   "execution_count": 49,
   "metadata": {},
   "outputs": [
    {
     "data": {
      "text/plain": [
       "-0.03322027965912431"
      ]
     },
     "execution_count": 49,
     "metadata": {},
     "output_type": "execute_result"
    }
   ],
   "source": [
    "mu - 1.2*sd"
   ]
  },
  {
   "cell_type": "code",
   "execution_count": 50,
   "metadata": {},
   "outputs": [
    {
     "data": {
      "text/plain": [
       "count    119.000000\nmean       2.488518\nstd        0.054398\nmin        2.376750\n25%        2.450080\n50%        2.495289\n75%        2.531945\nmax        2.583569\ndtype: float64"
      ]
     },
     "execution_count": 50,
     "metadata": {},
     "output_type": "execute_result"
    }
   ],
   "source": [
    "CosSpreadT = np.log(PBt) - beta*np.log(PAt) - alpha  \n",
    "CosSpreadT.describe()"
   ]
  },
  {
   "cell_type": "code",
   "execution_count": 52,
   "metadata": {},
   "outputs": [
    {
     "data": {
      "text/plain": [
       "Text(0.5, 1.0, '交易期间价格差距序列')"
      ]
     },
     "execution_count": 52,
     "metadata": {},
     "output_type": "execute_result"
    },
    {
     "data": {
      "image/png": "[encoded data removed]",
      "text/plain": [
       "<Figure size 432x288 with 1 Axes>"
      ]
     },
     "metadata": {},
     "output_type": "display_data"
    }
   ],
   "source": [
    "CosSpreadT.plot()\n",
    "plt.title('交易期间价格差距序列')"
   ]
  },
  {
   "cell_type": "code",
   "execution_count": 54,
   "metadata": {},
   "outputs": [
    {
     "data": {
      "text/plain": [
       "<matplotlib.lines.Line2D at 0x1214664f0>"
      ]
     },
     "execution_count": 54,
     "metadata": {},
     "output_type": "execute_result"
    },
    {
     "data": {
      "image/png": "[encoded data removed]",
      "text/plain": [
       "<Figure size 432x288 with 1 Axes>"
      ]
     },
     "metadata": {},
     "output_type": "display_data"
    }
   ],
   "source": [
    "TradeSpread.plot()\n",
    "plt.title('交易差时间序列')\n",
    "plt.axhline(y = mu,color = 'yellow')\n",
    "plt.axhline(y = mu+1.2*sd,color = 'green')\n",
    "plt.axhline(y = mu-1.2*sd,color = 'black')"
   ]
  },
  {
   "cell_type": "code",
   "execution_count": null,
   "metadata": {},
   "outputs": [],
   "source": []
  }
 ],
 "metadata": {
  "kernelspec": {
   "display_name": "Python 2",
   "language": "python",
   "name": "python2"
  },
  "language_info": {
   "codemirror_mode": {
    "name": "ipython",
    "version": 2
   },
   "file_extension": ".py",
   "mimetype": "text/x-python",
   "name": "python",
   "nbconvert_exporter": "python",
   "pygments_lexer": "ipython2",
   "version": "2.7.6"
  }
 },
 "nbformat": 4,
 "nbformat_minor": 0
}
