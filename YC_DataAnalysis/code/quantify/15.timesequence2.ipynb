{
 "cells": [
  {
   "cell_type": "code",
   "execution_count": 1,
   "metadata": {
    "collapsed": true
   },
   "outputs": [],
   "source": [
    "import numpy as np\n",
    "import pandas as pd\n",
    "import matplotlib.pyplot as plt\n",
    "%matplotlib inline\n",
    "import matplotlib\n",
    "matplotlib.rcParams['font.sans-serif'] = ['SimHei']\n",
    "matplotlib.rcParams['font.family'] = 'sans-serif'\n",
    "matplotlib.rcParams['axes.unicode_minus'] = False"
   ]
  },
  {
   "cell_type": "code",
   "execution_count": 4,
   "metadata": {},
   "outputs": [],
   "source": [
    "import arch\n",
    "from statsmodels.tsa import stattools \n",
    "from statsmodels.graphics.tsaplots import *\n",
    "from arch.unitroot import ADF\n",
    "import math"
   ]
  },
  {
   "cell_type": "code",
   "execution_count": 5,
   "metadata": {},
   "outputs": [
    {
     "data": {
      "text/html": [
       "<div>\n",
       "<style scoped>\n",
       "    .dataframe tbody tr th:only-of-type {\n",
       "        vertical-align: middle;\n",
       "    }\n",
       "\n",
       "    .dataframe tbody tr th {\n",
       "        vertical-align: top;\n",
       "    }\n",
       "\n",
       "    .dataframe thead th {\n",
       "        text-align: right;\n",
       "    }\n",
       "</style>\n",
       "<table border=\"1\" class=\"dataframe\">\n",
       "  <thead>\n",
       "    <tr style=\"text-align: right;\">\n",
       "      <th></th>\n",
       "      <th>Indexcd</th>\n",
       "      <th>Daywk</th>\n",
       "      <th>Opnindex</th>\n",
       "      <th>Hiindex</th>\n",
       "      <th>Loindex</th>\n",
       "      <th>Clsindex</th>\n",
       "      <th>Retindex</th>\n",
       "    </tr>\n",
       "    <tr>\n",
       "      <th>Trddt</th>\n",
       "      <th></th>\n",
       "      <th></th>\n",
       "      <th></th>\n",
       "      <th></th>\n",
       "      <th></th>\n",
       "      <th></th>\n",
       "      <th></th>\n",
       "    </tr>\n",
       "  </thead>\n",
       "  <tbody>\n",
       "    <tr>\n",
       "      <th>2014/1/2</th>\n",
       "      <td>1</td>\n",
       "      <td>4</td>\n",
       "      <td>2112.126</td>\n",
       "      <td>2113.110</td>\n",
       "      <td>2101.016</td>\n",
       "      <td>2109.387</td>\n",
       "      <td>-0.003115</td>\n",
       "    </tr>\n",
       "    <tr>\n",
       "      <th>2014/1/3</th>\n",
       "      <td>1</td>\n",
       "      <td>5</td>\n",
       "      <td>2101.542</td>\n",
       "      <td>2102.167</td>\n",
       "      <td>2075.899</td>\n",
       "      <td>2083.136</td>\n",
       "      <td>-0.012445</td>\n",
       "    </tr>\n",
       "    <tr>\n",
       "      <th>2014/1/6</th>\n",
       "      <td>1</td>\n",
       "      <td>1</td>\n",
       "      <td>2078.684</td>\n",
       "      <td>2078.684</td>\n",
       "      <td>2034.006</td>\n",
       "      <td>2045.709</td>\n",
       "      <td>-0.017967</td>\n",
       "    </tr>\n",
       "    <tr>\n",
       "      <th>2014/1/7</th>\n",
       "      <td>1</td>\n",
       "      <td>2</td>\n",
       "      <td>2034.224</td>\n",
       "      <td>2052.279</td>\n",
       "      <td>2029.246</td>\n",
       "      <td>2047.317</td>\n",
       "      <td>0.000786</td>\n",
       "    </tr>\n",
       "    <tr>\n",
       "      <th>2014/1/8</th>\n",
       "      <td>1</td>\n",
       "      <td>3</td>\n",
       "      <td>2047.256</td>\n",
       "      <td>2062.952</td>\n",
       "      <td>2037.110</td>\n",
       "      <td>2044.340</td>\n",
       "      <td>-0.001454</td>\n",
       "    </tr>\n",
       "    <tr>\n",
       "      <th>...</th>\n",
       "      <td>...</td>\n",
       "      <td>...</td>\n",
       "      <td>...</td>\n",
       "      <td>...</td>\n",
       "      <td>...</td>\n",
       "      <td>...</td>\n",
       "      <td>...</td>\n",
       "    </tr>\n",
       "    <tr>\n",
       "      <th>2015/4/8</th>\n",
       "      <td>399903</td>\n",
       "      <td>3</td>\n",
       "      <td>3911.265</td>\n",
       "      <td>3972.410</td>\n",
       "      <td>3870.373</td>\n",
       "      <td>3964.860</td>\n",
       "      <td>0.018826</td>\n",
       "    </tr>\n",
       "    <tr>\n",
       "      <th>2015/4/9</th>\n",
       "      <td>399903</td>\n",
       "      <td>4</td>\n",
       "      <td>3987.818</td>\n",
       "      <td>4027.243</td>\n",
       "      <td>3904.136</td>\n",
       "      <td>3934.731</td>\n",
       "      <td>-0.007599</td>\n",
       "    </tr>\n",
       "    <tr>\n",
       "      <th>2015/4/10</th>\n",
       "      <td>399903</td>\n",
       "      <td>5</td>\n",
       "      <td>3922.880</td>\n",
       "      <td>4007.416</td>\n",
       "      <td>3903.789</td>\n",
       "      <td>4000.756</td>\n",
       "      <td>0.016780</td>\n",
       "    </tr>\n",
       "    <tr>\n",
       "      <th>2015/4/13</th>\n",
       "      <td>399903</td>\n",
       "      <td>1</td>\n",
       "      <td>4057.985</td>\n",
       "      <td>4087.377</td>\n",
       "      <td>4031.636</td>\n",
       "      <td>4076.697</td>\n",
       "      <td>0.018982</td>\n",
       "    </tr>\n",
       "    <tr>\n",
       "      <th>2015/4/14</th>\n",
       "      <td>399903</td>\n",
       "      <td>2</td>\n",
       "      <td>4089.519</td>\n",
       "      <td>4132.088</td>\n",
       "      <td>4049.741</td>\n",
       "      <td>4098.419</td>\n",
       "      <td>0.005328</td>\n",
       "    </tr>\n",
       "  </tbody>\n",
       "</table>\n",
       "<p>4665 rows × 7 columns</p>\n",
       "</div>"
      ],
      "text/plain": [
       "<div>\n",
       "<style scoped>\n",
       "    .dataframe tbody tr th:only-of-type {\n",
       "        vertical-align: middle;\n",
       "    }\n",
       "\n",
       "    .dataframe tbody tr th {\n",
       "        vertical-align: top;\n",
       "    }\n",
       "\n",
       "    .dataframe thead th {\n",
       "        text-align: right;\n",
       "    }\n",
       "</style>\n",
       "<table border=\"1\" class=\"dataframe\">\n",
       "  <thead>\n",
       "    <tr style=\"text-align: right;\">\n",
       "      <th></th>\n",
       "      <th>Indexcd</th>\n",
       "      <th>Daywk</th>\n",
       "      <th>Opnindex</th>\n",
       "      <th>Hiindex</th>\n",
       "      <th>Loindex</th>\n",
       "      <th>Clsindex</th>\n",
       "      <th>Retindex</th>\n",
       "    </tr>\n",
       "    <tr>\n",
       "      <th>Trddt</th>\n",
       "      <th></th>\n",
       "      <th></th>\n",
       "      <th></th>\n",
       "      <th></th>\n",
       "      <th></th>\n",
       "      <th></th>\n",
       "      <th></th>\n",
       "    </tr>\n",
       "  </thead>\n",
       "  <tbody>\n",
       "    <tr>\n",
       "      <th>2014/1/2</th>\n",
       "      <td>1</td>\n",
       "      <td>4</td>\n",
       "      <td>2112.126</td>\n",
       "      <td>2113.110</td>\n",
       "      <td>2101.016</td>\n",
       "      <td>2109.387</td>\n",
       "      <td>-0.003115</td>\n",
       "    </tr>\n",
       "    <tr>\n",
       "      <th>2014/1/3</th>\n",
       "      <td>1</td>\n",
       "      <td>5</td>\n",
       "      <td>2101.542</td>\n",
       "      <td>2102.167</td>\n",
       "      <td>2075.899</td>\n",
       "      <td>2083.136</td>\n",
       "      <td>-0.012445</td>\n",
       "    </tr>\n",
       "    <tr>\n",
       "      <th>2014/1/6</th>\n",
       "      <td>1</td>\n",
       "      <td>1</td>\n",
       "      <td>2078.684</td>\n",
       "      <td>2078.684</td>\n",
       "      <td>2034.006</td>\n",
       "      <td>2045.709</td>\n",
       "      <td>-0.017967</td>\n",
       "    </tr>\n",
       "    <tr>\n",
       "      <th>2014/1/7</th>\n",
       "      <td>1</td>\n",
       "      <td>2</td>\n",
       "      <td>2034.224</td>\n",
       "      <td>2052.279</td>\n",
       "      <td>2029.246</td>\n",
       "      <td>2047.317</td>\n",
       "      <td>0.000786</td>\n",
       "    </tr>\n",
       "    <tr>\n",
       "      <th>2014/1/8</th>\n",
       "      <td>1</td>\n",
       "      <td>3</td>\n",
       "      <td>2047.256</td>\n",
       "      <td>2062.952</td>\n",
       "      <td>2037.110</td>\n",
       "      <td>2044.340</td>\n",
       "      <td>-0.001454</td>\n",
       "    </tr>\n",
       "    <tr>\n",
       "      <th>...</th>\n",
       "      <td>...</td>\n",
       "      <td>...</td>\n",
       "      <td>...</td>\n",
       "      <td>...</td>\n",
       "      <td>...</td>\n",
       "      <td>...</td>\n",
       "      <td>...</td>\n",
       "    </tr>\n",
       "    <tr>\n",
       "      <th>2015/4/8</th>\n",
       "      <td>399903</td>\n",
       "      <td>3</td>\n",
       "      <td>3911.265</td>\n",
       "      <td>3972.410</td>\n",
       "      <td>3870.373</td>\n",
       "      <td>3964.860</td>\n",
       "      <td>0.018826</td>\n",
       "    </tr>\n",
       "    <tr>\n",
       "      <th>2015/4/9</th>\n",
       "      <td>399903</td>\n",
       "      <td>4</td>\n",
       "      <td>3987.818</td>\n",
       "      <td>4027.243</td>\n",
       "      <td>3904.136</td>\n",
       "      <td>3934.731</td>\n",
       "      <td>-0.007599</td>\n",
       "    </tr>\n",
       "    <tr>\n",
       "      <th>2015/4/10</th>\n",
       "      <td>399903</td>\n",
       "      <td>5</td>\n",
       "      <td>3922.880</td>\n",
       "      <td>4007.416</td>\n",
       "      <td>3903.789</td>\n",
       "      <td>4000.756</td>\n",
       "      <td>0.016780</td>\n",
       "    </tr>\n",
       "    <tr>\n",
       "      <th>2015/4/13</th>\n",
       "      <td>399903</td>\n",
       "      <td>1</td>\n",
       "      <td>4057.985</td>\n",
       "      <td>4087.377</td>\n",
       "      <td>4031.636</td>\n",
       "      <td>4076.697</td>\n",
       "      <td>0.018982</td>\n",
       "    </tr>\n",
       "    <tr>\n",
       "      <th>2015/4/14</th>\n",
       "      <td>399903</td>\n",
       "      <td>2</td>\n",
       "      <td>4089.519</td>\n",
       "      <td>4132.088</td>\n",
       "      <td>4049.741</td>\n",
       "      <td>4098.419</td>\n",
       "      <td>0.005328</td>\n",
       "    </tr>\n",
       "  </tbody>\n",
       "</table>\n",
       "<p>4665 rows × 7 columns</p>\n",
       "</div>"
      ]
     },
     "execution_count": 5,
     "metadata": {},
     "output_type": "execute_result"
    }
   ],
   "source": [
    "path = '../YCdata/TRD_Index.txt'\n",
    "data = pd.read_table(path,sep='\\t',index_col='Trddt')\n",
    "data"
   ]
  },
  {
   "cell_type": "code",
   "execution_count": 7,
   "metadata": {},
   "outputs": [
    {
     "data": {
      "text/html": [
       "<div>\n",
       "<style scoped>\n",
       "    .dataframe tbody tr th:only-of-type {\n",
       "        vertical-align: middle;\n",
       "    }\n",
       "\n",
       "    .dataframe tbody tr th {\n",
       "        vertical-align: top;\n",
       "    }\n",
       "\n",
       "    .dataframe thead th {\n",
       "        text-align: right;\n",
       "    }\n",
       "</style>\n",
       "<table border=\"1\" class=\"dataframe\">\n",
       "  <thead>\n",
       "    <tr style=\"text-align: right;\">\n",
       "      <th></th>\n",
       "      <th>Indexcd</th>\n",
       "      <th>Daywk</th>\n",
       "      <th>Opnindex</th>\n",
       "      <th>Hiindex</th>\n",
       "      <th>Loindex</th>\n",
       "      <th>Clsindex</th>\n",
       "      <th>Retindex</th>\n",
       "    </tr>\n",
       "    <tr>\n",
       "      <th>Trddt</th>\n",
       "      <th></th>\n",
       "      <th></th>\n",
       "      <th></th>\n",
       "      <th></th>\n",
       "      <th></th>\n",
       "      <th></th>\n",
       "      <th></th>\n",
       "    </tr>\n",
       "  </thead>\n",
       "  <tbody>\n",
       "    <tr>\n",
       "      <th>2014-01-02</th>\n",
       "      <td>1</td>\n",
       "      <td>4</td>\n",
       "      <td>2112.126</td>\n",
       "      <td>2113.110</td>\n",
       "      <td>2101.016</td>\n",
       "      <td>2109.387</td>\n",
       "      <td>-0.003115</td>\n",
       "    </tr>\n",
       "    <tr>\n",
       "      <th>2014-01-03</th>\n",
       "      <td>1</td>\n",
       "      <td>5</td>\n",
       "      <td>2101.542</td>\n",
       "      <td>2102.167</td>\n",
       "      <td>2075.899</td>\n",
       "      <td>2083.136</td>\n",
       "      <td>-0.012445</td>\n",
       "    </tr>\n",
       "    <tr>\n",
       "      <th>2014-01-06</th>\n",
       "      <td>1</td>\n",
       "      <td>1</td>\n",
       "      <td>2078.684</td>\n",
       "      <td>2078.684</td>\n",
       "      <td>2034.006</td>\n",
       "      <td>2045.709</td>\n",
       "      <td>-0.017967</td>\n",
       "    </tr>\n",
       "    <tr>\n",
       "      <th>2014-01-07</th>\n",
       "      <td>1</td>\n",
       "      <td>2</td>\n",
       "      <td>2034.224</td>\n",
       "      <td>2052.279</td>\n",
       "      <td>2029.246</td>\n",
       "      <td>2047.317</td>\n",
       "      <td>0.000786</td>\n",
       "    </tr>\n",
       "    <tr>\n",
       "      <th>2014-01-08</th>\n",
       "      <td>1</td>\n",
       "      <td>3</td>\n",
       "      <td>2047.256</td>\n",
       "      <td>2062.952</td>\n",
       "      <td>2037.110</td>\n",
       "      <td>2044.340</td>\n",
       "      <td>-0.001454</td>\n",
       "    </tr>\n",
       "    <tr>\n",
       "      <th>...</th>\n",
       "      <td>...</td>\n",
       "      <td>...</td>\n",
       "      <td>...</td>\n",
       "      <td>...</td>\n",
       "      <td>...</td>\n",
       "      <td>...</td>\n",
       "      <td>...</td>\n",
       "    </tr>\n",
       "    <tr>\n",
       "      <th>2015-04-08</th>\n",
       "      <td>1</td>\n",
       "      <td>3</td>\n",
       "      <td>3976.532</td>\n",
       "      <td>4000.220</td>\n",
       "      <td>3903.648</td>\n",
       "      <td>3994.811</td>\n",
       "      <td>0.008440</td>\n",
       "    </tr>\n",
       "    <tr>\n",
       "      <th>2015-04-09</th>\n",
       "      <td>1</td>\n",
       "      <td>4</td>\n",
       "      <td>4006.130</td>\n",
       "      <td>4016.396</td>\n",
       "      <td>3900.027</td>\n",
       "      <td>3957.534</td>\n",
       "      <td>-0.009331</td>\n",
       "    </tr>\n",
       "    <tr>\n",
       "      <th>2015-04-10</th>\n",
       "      <td>1</td>\n",
       "      <td>5</td>\n",
       "      <td>3947.492</td>\n",
       "      <td>4040.348</td>\n",
       "      <td>3929.319</td>\n",
       "      <td>4034.310</td>\n",
       "      <td>0.019400</td>\n",
       "    </tr>\n",
       "    <tr>\n",
       "      <th>2015-04-13</th>\n",
       "      <td>1</td>\n",
       "      <td>1</td>\n",
       "      <td>4072.723</td>\n",
       "      <td>4128.072</td>\n",
       "      <td>4057.293</td>\n",
       "      <td>4121.715</td>\n",
       "      <td>0.021665</td>\n",
       "    </tr>\n",
       "    <tr>\n",
       "      <th>2015-04-14</th>\n",
       "      <td>1</td>\n",
       "      <td>2</td>\n",
       "      <td>4125.782</td>\n",
       "      <td>4168.346</td>\n",
       "      <td>4091.257</td>\n",
       "      <td>4135.565</td>\n",
       "      <td>0.003360</td>\n",
       "    </tr>\n",
       "  </tbody>\n",
       "</table>\n",
       "<p>311 rows × 7 columns</p>\n",
       "</div>"
      ],
      "text/plain": [
       "<div>\n",
       "<style scoped>\n",
       "    .dataframe tbody tr th:only-of-type {\n",
       "        vertical-align: middle;\n",
       "    }\n",
       "\n",
       "    .dataframe tbody tr th {\n",
       "        vertical-align: top;\n",
       "    }\n",
       "\n",
       "    .dataframe thead th {\n",
       "        text-align: right;\n",
       "    }\n",
       "</style>\n",
       "<table border=\"1\" class=\"dataframe\">\n",
       "  <thead>\n",
       "    <tr style=\"text-align: right;\">\n",
       "      <th></th>\n",
       "      <th>Indexcd</th>\n",
       "      <th>Daywk</th>\n",
       "      <th>Opnindex</th>\n",
       "      <th>Hiindex</th>\n",
       "      <th>Loindex</th>\n",
       "      <th>Clsindex</th>\n",
       "      <th>Retindex</th>\n",
       "    </tr>\n",
       "    <tr>\n",
       "      <th>Trddt</th>\n",
       "      <th></th>\n",
       "      <th></th>\n",
       "      <th></th>\n",
       "      <th></th>\n",
       "      <th></th>\n",
       "      <th></th>\n",
       "      <th></th>\n",
       "    </tr>\n",
       "  </thead>\n",
       "  <tbody>\n",
       "    <tr>\n",
       "      <th>2014-01-02</th>\n",
       "      <td>1</td>\n",
       "      <td>4</td>\n",
       "      <td>2112.126</td>\n",
       "      <td>2113.110</td>\n",
       "      <td>2101.016</td>\n",
       "      <td>2109.387</td>\n",
       "      <td>-0.003115</td>\n",
       "    </tr>\n",
       "    <tr>\n",
       "      <th>2014-01-03</th>\n",
       "      <td>1</td>\n",
       "      <td>5</td>\n",
       "      <td>2101.542</td>\n",
       "      <td>2102.167</td>\n",
       "      <td>2075.899</td>\n",
       "      <td>2083.136</td>\n",
       "      <td>-0.012445</td>\n",
       "    </tr>\n",
       "    <tr>\n",
       "      <th>2014-01-06</th>\n",
       "      <td>1</td>\n",
       "      <td>1</td>\n",
       "      <td>2078.684</td>\n",
       "      <td>2078.684</td>\n",
       "      <td>2034.006</td>\n",
       "      <td>2045.709</td>\n",
       "      <td>-0.017967</td>\n",
       "    </tr>\n",
       "    <tr>\n",
       "      <th>2014-01-07</th>\n",
       "      <td>1</td>\n",
       "      <td>2</td>\n",
       "      <td>2034.224</td>\n",
       "      <td>2052.279</td>\n",
       "      <td>2029.246</td>\n",
       "      <td>2047.317</td>\n",
       "      <td>0.000786</td>\n",
       "    </tr>\n",
       "    <tr>\n",
       "      <th>2014-01-08</th>\n",
       "      <td>1</td>\n",
       "      <td>3</td>\n",
       "      <td>2047.256</td>\n",
       "      <td>2062.952</td>\n",
       "      <td>2037.110</td>\n",
       "      <td>2044.340</td>\n",
       "      <td>-0.001454</td>\n",
       "    </tr>\n",
       "    <tr>\n",
       "      <th>...</th>\n",
       "      <td>...</td>\n",
       "      <td>...</td>\n",
       "      <td>...</td>\n",
       "      <td>...</td>\n",
       "      <td>...</td>\n",
       "      <td>...</td>\n",
       "      <td>...</td>\n",
       "    </tr>\n",
       "    <tr>\n",
       "      <th>2015-04-08</th>\n",
       "      <td>1</td>\n",
       "      <td>3</td>\n",
       "      <td>3976.532</td>\n",
       "      <td>4000.220</td>\n",
       "      <td>3903.648</td>\n",
       "      <td>3994.811</td>\n",
       "      <td>0.008440</td>\n",
       "    </tr>\n",
       "    <tr>\n",
       "      <th>2015-04-09</th>\n",
       "      <td>1</td>\n",
       "      <td>4</td>\n",
       "      <td>4006.130</td>\n",
       "      <td>4016.396</td>\n",
       "      <td>3900.027</td>\n",
       "      <td>3957.534</td>\n",
       "      <td>-0.009331</td>\n",
       "    </tr>\n",
       "    <tr>\n",
       "      <th>2015-04-10</th>\n",
       "      <td>1</td>\n",
       "      <td>5</td>\n",
       "      <td>3947.492</td>\n",
       "      <td>4040.348</td>\n",
       "      <td>3929.319</td>\n",
       "      <td>4034.310</td>\n",
       "      <td>0.019400</td>\n",
       "    </tr>\n",
       "    <tr>\n",
       "      <th>2015-04-13</th>\n",
       "      <td>1</td>\n",
       "      <td>1</td>\n",
       "      <td>4072.723</td>\n",
       "      <td>4128.072</td>\n",
       "      <td>4057.293</td>\n",
       "      <td>4121.715</td>\n",
       "      <td>0.021665</td>\n",
       "    </tr>\n",
       "    <tr>\n",
       "      <th>2015-04-14</th>\n",
       "      <td>1</td>\n",
       "      <td>2</td>\n",
       "      <td>4125.782</td>\n",
       "      <td>4168.346</td>\n",
       "      <td>4091.257</td>\n",
       "      <td>4135.565</td>\n",
       "      <td>0.003360</td>\n",
       "    </tr>\n",
       "  </tbody>\n",
       "</table>\n",
       "<p>311 rows × 7 columns</p>\n",
       "</div>"
      ]
     },
     "execution_count": 7,
     "metadata": {},
     "output_type": "execute_result"
    }
   ],
   "source": [
    "SHindex = data[data.Indexcd ==1]\n",
    "SHindex.index = pd.to_datetime(SHindex.index)\n",
    "SHindex"
   ]
  },
  {
   "cell_type": "code",
   "execution_count": 8,
   "metadata": {},
   "outputs": [
    {
     "data": {
      "text/plain": [
       "Trddt\n2014-01-02   -0.003115\n2014-01-03   -0.012445\n2014-01-06   -0.017967\n2014-01-07    0.000786\n2014-01-08   -0.001454\n                ...   \n2015-04-08    0.008440\n2015-04-09   -0.009331\n2015-04-10    0.019400\n2015-04-13    0.021665\n2015-04-14    0.003360\nName: Retindex, Length: 311, dtype: float64"
      ]
     },
     "execution_count": 8,
     "metadata": {},
     "output_type": "execute_result"
    }
   ],
   "source": [
    "SHRet = SHindex.Retindex\n",
    "SHRet"
   ]
  },
  {
   "cell_type": "code",
   "execution_count": 9,
   "metadata": {},
   "outputs": [
    {
     "data": {
      "text/plain": [
       "<matplotlib.axes._subplots.AxesSubplot at 0x108efa700>"
      ]
     },
     "execution_count": 9,
     "metadata": {},
     "output_type": "execute_result"
    },
    {
     "data": {
      "image/png": "[encoded data removed]",
      "text/plain": [
       "<Figure size 432x288 with 1 Axes>"
      ]
     },
     "metadata": {},
     "output_type": "display_data"
    }
   ],
   "source": [
    "SHRet.plot()"
   ]
  },
  {
   "cell_type": "code",
   "execution_count": 10,
   "metadata": {},
   "outputs": [
    {
     "name": "stderr",
     "output_type": "stream",
     "text": [
      "/Library/Frameworks/Python.framework/Versions/3.8/lib/python3.8/site-packages/statsmodels/tsa/stattools.py:568: FutureWarning: fft=True will become the default in a future version of statsmodels. To suppress this warning, explicitly set fft=False.\n  warnings.warn(\n"
     ]
    },
    {
     "data": {
      "text/plain": [
       "array([ 1.        ,  0.03527714, -0.01178861, -0.02953388,  0.16043181])"
      ]
     },
     "execution_count": 10,
     "metadata": {},
     "output_type": "execute_result"
    }
   ],
   "source": [
    "acfs = stattools.acf(SHRet)\n",
    "acfs[:5]"
   ]
  },
  {
   "cell_type": "code",
   "execution_count": 11,
   "metadata": {},
   "outputs": [
    {
     "data": {
      "image/png": "[encoded data removed]",
      "text/plain": [
       "<Figure size 432x288 with 1 Axes>"
      ]
     },
     "metadata": {},
     "output_type": "display_data"
    },
    {
     "data": {
      "image/png": "[encoded data removed]",
      "text/plain": [
       "<Figure size 432x288 with 1 Axes>"
      ]
     },
     "metadata": {},
     "output_type": "display_data"
    }
   ],
   "source": [
    "plot_acf(SHRet,use_vlines=True,lags=30) #绘制自相关图"
   ]
  },
  {
   "cell_type": "code",
   "execution_count": 12,
   "metadata": {},
   "outputs": [
    {
     "data": {
      "text/plain": [
       "array([ 1.        ,  0.03539094, -0.01313388, -0.02897258,  0.16483494])"
      ]
     },
     "execution_count": 12,
     "metadata": {},
     "output_type": "execute_result"
    }
   ],
   "source": [
    "pacfs = stattools.pacf(SHRet)\n",
    "pacfs[:5]\n"
   ]
  },
  {
   "cell_type": "code",
   "execution_count": 13,
   "metadata": {},
   "outputs": [
    {
     "data": {
      "image/png": "[encoded data removed]",
      "text/plain": [
       "<Figure size 432x288 with 1 Axes>"
      ]
     },
     "metadata": {},
     "output_type": "display_data"
    },
    {
     "data": {
      "image/png": "[encoded data removed]",
      "text/plain": [
       "<Figure size 432x288 with 1 Axes>"
      ]
     },
     "metadata": {},
     "output_type": "display_data"
    }
   ],
   "source": [
    "plot_pacf(SHRet,use_vlines=True,lags=30) "
   ]
  },
  {
   "cell_type": "code",
   "execution_count": 14,
   "metadata": {},
   "outputs": [
    {
     "data": {
      "text/plain": [
       "Text(0.5, 1.0, '2014-2015收盘指数时序')"
      ]
     },
     "execution_count": 14,
     "metadata": {},
     "output_type": "execute_result"
    },
    {
     "data": {
      "image/png": "[encoded data removed]",
      "text/plain": [
       "<Figure size 432x288 with 1 Axes>"
      ]
     },
     "metadata": {},
     "output_type": "display_data"
    }
   ],
   "source": [
    "SHclose = SHindex.Clsindex\n",
    "SHclose.plot()\n",
    "plt.title('2014-2015收盘指数时序')"
   ]
  },
  {
   "cell_type": "code",
   "execution_count": 17,
   "metadata": {},
   "outputs": [
    {
     "data": {
      "text/plain": [
       "Text(0.5, 1.0, '2014-2015上证指数的时序图')"
      ]
     },
     "execution_count": 17,
     "metadata": {},
     "output_type": "execute_result"
    },
    {
     "data": {
      "image/png": "[encoded data removed]",
      "text/plain": [
       "<Figure size 432x288 with 1 Axes>"
      ]
     },
     "metadata": {},
     "output_type": "display_data"
    }
   ],
   "source": [
    "SHRet.plot()\n",
    "plt.title('2014-2015上证指数的时序图')"
   ]
  },
  {
   "cell_type": "code",
   "execution_count": 18,
   "metadata": {},
   "outputs": [
    {
     "data": {
      "image/png": "[encoded data removed]",
      "text/plain": [
       "<Figure size 432x288 with 1 Axes>"
      ]
     },
     "metadata": {},
     "output_type": "display_data"
    },
    {
     "data": {
      "image/png": "[encoded data removed]",
      "text/plain": [
       "<Figure size 432x288 with 1 Axes>"
      ]
     },
     "metadata": {},
     "output_type": "display_data"
    }
   ],
   "source": [
    "plot_acf(SHclose,use_vlines=True,lags=30) "
   ]
  },
  {
   "cell_type": "code",
   "execution_count": 19,
   "metadata": {},
   "outputs": [
    {
     "data": {
      "image/png": "[encoded data removed]",
      "text/plain": [
       "<Figure size 432x288 with 1 Axes>"
      ]
     },
     "metadata": {},
     "output_type": "display_data"
    },
    {
     "data": {
      "image/png": "[encoded data removed]",
      "text/plain": [
       "<Figure size 432x288 with 1 Axes>"
      ]
     },
     "metadata": {},
     "output_type": "display_data"
    }
   ],
   "source": [
    "plot_pacf(SHclose,use_vlines=True,lags=30) "
   ]
  },
  {
   "cell_type": "code",
   "execution_count": 20,
   "metadata": {},
   "outputs": [
    {
     "name": "stdout",
     "output_type": "stream",
     "text": [
      "   Augmented Dickey-Fuller Results   \n=====================================\nTest Statistic                 -7.559\nP-value                         0.000\nLags                                3\n-------------------------------------\n\nTrend: Constant\nCritical Values: -3.45 (1%), -2.87 (5%), -2.57 (10%)\nNull Hypothesis: The process contains a unit root.\nAlternative Hypothesis: The process is weakly stationary.\n"
     ]
    }
   ],
   "source": [
    "adfSHRET = ADF(SHRet)\n",
    "print(adfSHRET.summary().as_text())"
   ]
  },
  {
   "cell_type": "code",
   "execution_count": 21,
   "metadata": {},
   "outputs": [
    {
     "name": "stdout",
     "output_type": "stream",
     "text": [
      "   Augmented Dickey-Fuller Results   \n=====================================\nTest Statistic                  2.549\nP-value                         0.999\nLags                                4\n-------------------------------------\n\nTrend: Constant\nCritical Values: -3.45 (1%), -2.87 (5%), -2.57 (10%)\nNull Hypothesis: The process contains a unit root.\nAlternative Hypothesis: The process is weakly stationary.\n"
     ]
    }
   ],
   "source": [
    "adfSHclose = ADF(SHclose)\n",
    "print(adfSHclose.summary().as_text()) #ADF 判断波动是否平稳"
   ]
  },
  {
   "cell_type": "code",
   "execution_count": 22,
   "metadata": {},
   "outputs": [
    {
     "data": {
      "text/plain": [
       "array([ 2.94320639,  0.75379867, -1.20968321,  0.99903353, -0.98687966,\n        1.25196162,  1.83687895, -0.71084441,  0.96195994,  0.78070449,\n       -1.65955447, -0.62001754,  0.49592398,  0.99368592, -0.27465156,\n        0.75069263, -0.05636348,  0.45239966, -0.51716974,  1.04399975,\n       -1.2562471 , -0.41561229,  0.83065979,  0.16841692,  0.46261995,\n       -0.41514802, -0.14135946, -1.51132547,  0.06683209,  0.42687107,\n       -2.22200744, -0.38947078, -1.99278728,  0.68469795, -0.00304801,\n        0.81612853,  1.65491339, -0.38764166, -0.37088611,  0.37414745,\n        1.83819609, -1.17291612,  0.58620236,  0.28998357,  1.27490842,\n       -1.345261  ,  0.75166641, -0.00595954,  1.12627427,  0.236002  ])"
      ]
     },
     "execution_count": 22,
     "metadata": {},
     "output_type": "execute_result"
    }
   ],
   "source": [
    "whitenoise = np.random.standard_normal(size = 50)\n",
    "whitenoise"
   ]
  },
  {
   "cell_type": "code",
   "execution_count": 23,
   "metadata": {},
   "outputs": [
    {
     "data": {
      "text/plain": [
       "Text(0.5, 1.0, '白噪声')"
      ]
     },
     "execution_count": 23,
     "metadata": {},
     "output_type": "execute_result"
    },
    {
     "data": {
      "image/png": "[encoded data removed]",
      "text/plain": [
       "<Figure size 432x288 with 1 Axes>"
      ]
     },
     "metadata": {},
     "output_type": "display_data"
    }
   ],
   "source": [
    "plt.plot(whitenoise)\n",
    "plt.title('白噪声')"
   ]
  },
  {
   "cell_type": "code",
   "execution_count": 24,
   "metadata": {},
   "outputs": [
    {
     "name": "stderr",
     "output_type": "stream",
     "text": [
      "/Library/Frameworks/Python.framework/Versions/3.8/lib/python3.8/site-packages/statsmodels/tsa/stattools.py:568: FutureWarning: fft=True will become the default in a future version of statsmodels. To suppress this warning, explicitly set fft=False.\n  warnings.warn(\n"
     ]
    },
    {
     "data": {
      "text/plain": [
       "(array([ 0.39077768,  0.43455722,  0.7102307 ,  8.87130492,  9.68869854,\n         9.69861023,  9.90782614, 10.00770409, 10.05187169, 10.90544768,\n        11.41474472, 11.41630878]),\n array([0.53189091, 0.80470574, 0.87079499, 0.06439799, 0.08455194,\n        0.13793151, 0.19385734, 0.26448561, 0.34630225, 0.36493184,\n        0.40919934, 0.4936175 ]))"
      ]
     },
     "execution_count": 24,
     "metadata": {},
     "output_type": "execute_result"
    }
   ],
   "source": [
    "box1 = stattools.q_stat(stattools.acf(SHRet)[1:13],len(SHRet))\n",
    "box1"
   ]
  },
  {
   "cell_type": "code",
   "execution_count": 25,
   "metadata": {},
   "outputs": [
    {
     "data": {
      "text/plain": [
       "0.409199337510353"
      ]
     },
     "execution_count": 25,
     "metadata": {},
     "output_type": "execute_result"
    }
   ],
   "source": [
    "box1[1][-2] #取最后一个数据"
   ]
  },
  {
   "cell_type": "code",
   "execution_count": 27,
   "metadata": {},
   "outputs": [],
   "source": [
    "box2 = stattools.q_stat(stattools.acf(SHclose)[1:13],len(SHclose))\n",
    "box2"
   ]
  },
  {
   "cell_type": "code",
   "execution_count": null,
   "metadata": {},
   "outputs": [],
   "source": []
  }
 ],
 "metadata": {
  "kernelspec": {
   "display_name": "Python 2",
   "language": "python",
   "name": "python2"
  },
  "language_info": {
   "codemirror_mode": {
    "name": "ipython",
    "version": 2
   },
   "file_extension": ".py",
   "mimetype": "text/x-python",
   "name": "python",
   "nbconvert_exporter": "python",
   "pygments_lexer": "ipython2",
   "version": "2.7.6"
  }
 },
 "nbformat": 4,
 "nbformat_minor": 0
}
