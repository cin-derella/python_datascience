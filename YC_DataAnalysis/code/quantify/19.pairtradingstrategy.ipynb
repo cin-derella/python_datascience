{
 "cells": [
  {
   "cell_type": "code",
   "execution_count": 54,
   "metadata": {
    "collapsed": true
   },
   "outputs": [],
   "source": [
    "import pandas as pd\n",
    "import numpy as np\n",
    "import matplotlib.pyplot as plt\n",
    "from arch import arch_model   #数据模型\n",
    "from statsmodels.graphics.tsaplots import *\n",
    "from statsmodels.tsa import stattools #模型工具\n",
    "\n",
    "%matplotlib inline\n",
    "import matplotlib\n",
    "matplotlib.rcParams['font.sans-serif'] = ['SimHei']\n",
    "matplotlib.rcParams['font.family'] = 'sans-serif'\n",
    "matplotlib.rcParams['axes.unicode_minus'] = False\n",
    "\n",
    "from arch.unitroot import ADF\n",
    "import statsmodels.api as sm\n",
    "from statsmodels.tsa.stattools import adfuller\n",
    "import re"
   ]
  },
  {
   "cell_type": "code",
   "execution_count": 55,
   "metadata": {},
   "outputs": [],
   "source": [
    "class PairTrading:\n",
    "    def SSD(self,priceX,priceY):\n",
    "        if priceX is None or priceY is None:\n",
    "            print('缺少价格序列')\n",
    "        else:\n",
    "            returnx = (priceX-priceX.shift(1))/priceX.shift(1)[1:]\n",
    "            returny = (priceX-priceY.shift(1))/priceY.shift(1)[1:]\n",
    "            stdx = (returnx+1).cumprod()\n",
    "            stdy = (returny+1).cumprod()\n",
    "            SSD = np.sum((stdx-stdy)**2)\n",
    "            return(SSD)\n",
    "        \n",
    "    def SSDSpread(self,priceX,priceY):\n",
    "        if priceX is None or priceY is None:\n",
    "            print('缺少价格序列')\n",
    "        priceX = np.log(priceX)\n",
    "        priceY = np.log(priceY)\n",
    "        retx = priceX.diff()[1:]\n",
    "        rety = priceY.diff()[1:]\n",
    "        standardX = (1+retx).cumprod()\n",
    "        standardY = (1+rety).cumprod()\n",
    "        spread = standardY-standardX\n",
    "        return (spread)\n",
    "        \n",
    "    def cointegration(self,priceX,priceY):\n",
    "        if priceX is None or priceY is None:\n",
    "            print('缺少价格序列')\n",
    "        priceX = np.log(priceX)\n",
    "        priceY = np.log(priceY)\n",
    "        results = sm.OLS(priceY,sm.add_constant(priceX)).fit()\n",
    "        resid =results.resid\n",
    "        adfSpread = ADF(resid)\n",
    "        if adfSpread.pvalue>=0.05:\n",
    "            print('''交易价格不具有协整关系.\n",
    "            p-value of ADF test: %f\n",
    "            Coefficients of regression:\n",
    "            Intercept:%f\n",
    "            Beta:%f\n",
    "            '''%(adfSpread.pvalue,results.params[0],results.params[1]))\n",
    "            return(None)\n",
    "        else:\n",
    "            print('''交易价格具有协整关系.\n",
    "            p-value of ADF test: %f\n",
    "            Coefficients of regression:\n",
    "            Intercept:%f\n",
    "            Beta:%f\n",
    "            '''%(adfSpread.pvalue,results.params[0],results.params[1]))\n",
    "            return(results.params[0],results.params[1])\n",
    "        \n",
    "    def CointegrationSpread(self,priceX,priceY,formPeriod,tradePeriod):\n",
    "        if priceX is None or priceY is None:\n",
    "            print('缺少价格序列')\n",
    "        if not (re.fullmatch('\\d{4}-\\d{2}-\\d{2}:\\d{4}-\\d{2}-\\d{2}',formPeriod) or\n",
    "            re.fullmatch('\\d{4}-\\d{2}-\\d{2}:\\d{4}-\\d{2}-\\d{2}',tradePeriod)):\n",
    "            print('形成期货交易格式错误')\n",
    "        formX  = priceX[formPeriod.split(':')[0]:formPeriod.split(':')[1]]\n",
    "        formY  = priceY[formPeriod.split(':')[0]:formPeriod.split(':')[1]]\n",
    "        coefficients = self.cointegration(formX,formY)\n",
    "        if coefficients is None:\n",
    "            print('未形成协调关系，无法配对')\n",
    "        else:\n",
    "            spread = (np.log(priceY[tradePeriod.split(':')[0]:tradePeriod.split(':')[1]])\n",
    "                      -coefficients[0]-coefficients[1]*np.log(priceX[tradePeriod.split(':')[0]:tradePeriod.split(':')[1]]))\n",
    "            return(spread)\n",
    "            \n",
    "    def calBound(self,priceX,priceY,method,formPeriod,width = 1.5):\n",
    "        if not (re.fullmatch('\\d{4}-\\d{2}-\\d{2}:\\d{4}-\\d{2}-\\d{2}',formPeriod) or\n",
    "            re.fullmatch('\\d{4}-\\d{2}-\\d{2}:\\d{4}-\\d{2}-\\d{2}',tradePeriod)):\n",
    "            print('形成期货交易格式错误')\n",
    "        if method =='SSD':\n",
    "            spread = self.SSDSpread(priceX[formPeriod.split(':')[0]:formPeriod.split(':')[1]],\n",
    "                                    priceY[formPeriod.split(':')[0]:formPeriod.split(':')[1]])\n",
    "            mu = np.mean(spread)\n",
    "            sd = np.std(spread)\n",
    "            UpperBound = mu+width*sd\n",
    "            LowerBound = mu-width*sd\n",
    "            return(UpperBound,LowerBound)\n",
    "\n",
    "        elif method == 'Cointegration':\n",
    "            spread = self.CointegrationSpread(priceX,priceY,formPeriod,formPeriod)\n",
    "            mu=np.mean(spread)\n",
    "            sd = np.std(spread)\n",
    "            UpperBound = mu+width*sd\n",
    "            LowerBound = mu-width*sd\n",
    "            return(UpperBound,LowerBound)\n",
    "        else:\n",
    "            print('不存在该方法，请选择\"SSD\"或是\"Cointegration\"')"
   ]
  },
  {
   "cell_type": "code",
   "execution_count": 56,
   "metadata": {},
   "outputs": [],
   "source": [
    "path = '../YCdata/sh50p.csv'\n",
    "sh = pd.read_csv(path,index_col='Trddt')\n",
    "sh.index = pd.to_datetime(sh.index)\n",
    "\n",
    "formPeriod = '2014-01-01:2015-01-01'\n",
    "tradePeriod = '2015-01-01:2015-06-30'\n",
    "\n",
    "priceA = sh['601988']\n",
    "priceB = sh['600000']\n",
    "priceAf = priceA[formPeriod.split(':')[0]:formPeriod.split(':')[1]]\n",
    "priceBf = priceB[formPeriod.split(':')[0]:formPeriod.split(':')[1]]\n",
    "priceAt= priceA[tradePeriod.split(':')[0]:tradePeriod.split(':')[1]]\n",
    "priceBt= priceB[tradePeriod.split(':')[0]:tradePeriod.split(':')[1]]\n",
    "\n"
   ]
  },
  {
   "cell_type": "code",
   "execution_count": 57,
   "metadata": {},
   "outputs": [
    {
     "data": {
      "text/plain": [
       "297.073966886026"
      ]
     },
     "execution_count": 57,
     "metadata": {},
     "output_type": "execute_result"
    }
   ],
   "source": [
    "pt = PairTrading()\n",
    "SSD = pt.SSD(priceAf,priceBf)\n",
    "SSD\n"
   ]
  },
  {
   "cell_type": "code",
   "execution_count": 58,
   "metadata": {},
   "outputs": [
    {
     "data": {
      "text/plain": [
       "Trddt\n2014-01-03   -0.001514\n2014-01-06    0.015407\n2014-01-07    0.013962\n2014-01-08    0.024184\n2014-01-09    0.037629\ndtype: float64"
      ]
     },
     "execution_count": 58,
     "metadata": {},
     "output_type": "execute_result"
    }
   ],
   "source": [
    "SSDspread = pt.SSDSpread(priceAf,priceBf)\n",
    "SSDspread.describe()\n",
    "SSDspread.head()"
   ]
  },
  {
   "cell_type": "code",
   "execution_count": 59,
   "metadata": {},
   "outputs": [
    {
     "name": "stdout",
     "output_type": "stream",
     "text": [
      "交易价格具有协整关系.\n            p-value of ADF test: 0.020415\n            Coefficients of regression:\n            Intercept:1.226852\n            Beta:1.064103\n            \n"
     ]
    },
    {
     "data": {
      "text/plain": [
       "(1.2268515742404364, 1.064103452588816)"
      ]
     },
     "execution_count": 59,
     "metadata": {},
     "output_type": "execute_result"
    }
   ],
   "source": [
    "coefficients = pt.cointegration(priceAf,priceBf)\n",
    "coefficients"
   ]
  },
  {
   "cell_type": "code",
   "execution_count": 60,
   "metadata": {},
   "outputs": [
    {
     "name": "stdout",
     "output_type": "stream",
     "text": [
      "交易价格具有协整关系.\n            p-value of ADF test: 0.020415\n            Coefficients of regression:\n            Intercept:1.226852\n            Beta:1.064103\n            \n"
     ]
    },
    {
     "data": {
      "text/plain": [
       "Trddt\n2014-01-02   -0.011214\n2014-01-03   -0.011507\n2014-01-06    0.006511\n2014-01-07    0.005361\n2014-01-08    0.016112\ndtype: float64"
      ]
     },
     "execution_count": 60,
     "metadata": {},
     "output_type": "execute_result"
    }
   ],
   "source": [
    "CoSpreadF = pt.CointegrationSpread(priceA,priceB,formPeriod,formPeriod)\n",
    "CoSpreadF.head()"
   ]
  },
  {
   "cell_type": "code",
   "execution_count": 61,
   "metadata": {},
   "outputs": [
    {
     "name": "stdout",
     "output_type": "stream",
     "text": [
      "交易价格具有协整关系.\n            p-value of ADF test: 0.020415\n            Coefficients of regression:\n            Intercept:1.226852\n            Beta:1.064103\n            \n"
     ]
    },
    {
     "data": {
      "text/plain": [
       "Trddt\n2015-01-05   -0.035452\n2015-01-06   -0.064942\n2015-01-07   -0.080374\n2015-01-08   -0.066042\n2015-01-09   -0.087997\ndtype: float64"
      ]
     },
     "execution_count": 61,
     "metadata": {},
     "output_type": "execute_result"
    }
   ],
   "source": [
    "CoSpreadTr = pt.CointegrationSpread(priceA,priceB,formPeriod,tradePeriod)\n",
    "CoSpreadTr.head()"
   ]
  },
  {
   "cell_type": "code",
   "execution_count": 62,
   "metadata": {},
   "outputs": [],
   "source": [
    "formStart = '2014-01-01'\n",
    "formEnd = '2015-01-01'\n",
    "PA = sh['601988']\n",
    "PB = sh['600000']"
   ]
  },
  {
   "cell_type": "code",
   "execution_count": 63,
   "metadata": {},
   "outputs": [],
   "source": [
    "PAf = PA[formStart:formEnd]\n",
    "PBf = PB[formStart:formEnd] #取两个股票，配对交易"
   ]
  },
  {
   "cell_type": "code",
   "execution_count": 64,
   "metadata": {},
   "outputs": [
    {
     "data": {
      "text/plain": [
       "Trddt\n2014-01-02    2.333\n2014-01-03    2.289\n2014-01-06    2.262\n2014-01-07    2.253\n2014-01-08    2.244\n              ...  \n2014-12-25    3.579\n2014-12-26    3.675\n2014-12-29    3.704\n2014-12-30    3.791\n2014-12-31    3.993\nName: 601988, Length: 245, dtype: float64"
      ]
     },
     "execution_count": 64,
     "metadata": {},
     "output_type": "execute_result"
    }
   ],
   "source": [
    "PAf"
   ]
  },
  {
   "cell_type": "code",
   "execution_count": 65,
   "metadata": {},
   "outputs": [
    {
     "data": {
      "text/plain": [
       "Trddt\n2014-01-02     8.307\n2014-01-03     8.138\n2014-01-06     8.182\n2014-01-07     8.138\n2014-01-08     8.191\n               ...  \n2014-12-25    13.618\n2014-12-26    14.115\n2014-12-29    14.287\n2014-12-30    14.679\n2014-12-31    14.994\nName: 600000, Length: 245, dtype: float64"
      ]
     },
     "execution_count": 65,
     "metadata": {},
     "output_type": "execute_result"
    }
   ],
   "source": [
    "PBf"
   ]
  },
  {
   "cell_type": "code",
   "execution_count": 66,
   "metadata": {},
   "outputs": [
    {
     "name": "stdout",
     "output_type": "stream",
     "text": [
      "   Augmented Dickey-Fuller Results   \n=====================================\nTest Statistic                  3.409\nP-value                         1.000\nLags                               12\n-------------------------------------\n\nTrend: Constant\nCritical Values: -3.46 (1%), -2.87 (5%), -2.57 (10%)\nNull Hypothesis: The process contains a unit root.\nAlternative Hypothesis: The process is weakly stationary.\n"
     ]
    }
   ],
   "source": [
    "log_PAf = np.log(PAf) #协整关系\n",
    "adfA = ADF(log_PAf)\n",
    "print(adfA.summary().as_text()) #ADF自相关"
   ]
  },
  {
   "cell_type": "code",
   "execution_count": 67,
   "metadata": {},
   "outputs": [
    {
     "name": "stdout",
     "output_type": "stream",
     "text": [
      "   Augmented Dickey-Fuller Results   \n=====================================\nTest Statistic                 -4.571\nP-value                         0.000\nLags                               11\n-------------------------------------\n\nTrend: Constant\nCritical Values: -3.46 (1%), -2.87 (5%), -2.57 (10%)\nNull Hypothesis: The process contains a unit root.\nAlternative Hypothesis: The process is weakly stationary.\n"
     ]
    }
   ],
   "source": [
    "adfAd = ADF(log_PAf.diff()[1:])\n",
    "print(adfAd.summary().as_text())  #计算差距数据"
   ]
  },
  {
   "cell_type": "code",
   "execution_count": 68,
   "metadata": {},
   "outputs": [
    {
     "data": {
      "text/plain": [
       "<matplotlib.axes._subplots.AxesSubplot at 0x11fbc9580>"
      ]
     },
     "execution_count": 68,
     "metadata": {},
     "output_type": "execute_result"
    },
    {
     "data": {
      "image/png": "[encoded data removed]",
      "text/plain": [
       "<Figure size 432x288 with 1 Axes>"
      ]
     },
     "metadata": {},
     "output_type": "display_data"
    }
   ],
   "source": [
    "log_PAf.plot()\n",
    "log_PAf.diff()[1:].plot()"
   ]
  },
  {
   "cell_type": "code",
   "execution_count": 69,
   "metadata": {},
   "outputs": [
    {
     "name": "stdout",
     "output_type": "stream",
     "text": [
      "   Augmented Dickey-Fuller Results   \n=====================================\nTest Statistic                  2.392\nP-value                         0.999\nLags                               12\n-------------------------------------\n\nTrend: Constant\nCritical Values: -3.46 (1%), -2.87 (5%), -2.57 (10%)\nNull Hypothesis: The process contains a unit root.\nAlternative Hypothesis: The process is weakly stationary.\n"
     ]
    }
   ],
   "source": [
    "log_PBf = np.log(PBf) #协整关系\n",
    "adfB = ADF(log_PBf) \n",
    "print(adfB.summary().as_text()) #ADF自相关"
   ]
  },
  {
   "cell_type": "code",
   "execution_count": 74,
   "metadata": {},
   "outputs": [
    {
     "data": {
      "text/html": [
       "<table class=\"simpletable\">\n",
       "<caption>OLS Regression Results</caption>\n",
       "<tr>\n",
       "  <th>Dep. Variable:</th>         <td>600000</td>      <th>  R-squared:         </th> <td>   0.949</td> \n",
       "</tr>\n",
       "<tr>\n",
       "  <th>Model:</th>                   <td>OLS</td>       <th>  Adj. R-squared:    </th> <td>   0.949</td> \n",
       "</tr>\n",
       "<tr>\n",
       "  <th>Method:</th>             <td>Least Squares</td>  <th>  F-statistic:       </th> <td>   4560.</td> \n",
       "</tr>\n",
       "<tr>\n",
       "  <th>Date:</th>             <td>Sat, 25 Apr 2020</td> <th>  Prob (F-statistic):</th> <td>1.83e-159</td>\n",
       "</tr>\n",
       "<tr>\n",
       "  <th>Time:</th>                 <td>18:42:22</td>     <th>  Log-Likelihood:    </th> <td>  509.57</td> \n",
       "</tr>\n",
       "<tr>\n",
       "  <th>No. Observations:</th>      <td>   245</td>      <th>  AIC:               </th> <td>  -1015.</td> \n",
       "</tr>\n",
       "<tr>\n",
       "  <th>Df Residuals:</th>          <td>   243</td>      <th>  BIC:               </th> <td>  -1008.</td> \n",
       "</tr>\n",
       "<tr>\n",
       "  <th>Df Model:</th>              <td>     1</td>      <th>                     </th>     <td> </td>    \n",
       "</tr>\n",
       "<tr>\n",
       "  <th>Covariance Type:</th>      <td>nonrobust</td>    <th>                     </th>     <td> </td>    \n",
       "</tr>\n",
       "</table>\n",
       "<table class=\"simpletable\">\n",
       "<tr>\n",
       "     <td></td>       <th>coef</th>     <th>std err</th>      <th>t</th>      <th>P>|t|</th>  <th>[0.025</th>    <th>0.975]</th>  \n",
       "</tr>\n",
       "<tr>\n",
       "  <th>const</th>  <td>    1.2269</td> <td>    0.015</td> <td>   83.071</td> <td> 0.000</td> <td>    1.198</td> <td>    1.256</td>\n",
       "</tr>\n",
       "<tr>\n",
       "  <th>601988</th> <td>    1.0641</td> <td>    0.016</td> <td>   67.531</td> <td> 0.000</td> <td>    1.033</td> <td>    1.095</td>\n",
       "</tr>\n",
       "</table>\n",
       "<table class=\"simpletable\">\n",
       "<tr>\n",
       "  <th>Omnibus:</th>       <td>19.538</td> <th>  Durbin-Watson:     </th> <td>   0.161</td>\n",
       "</tr>\n",
       "<tr>\n",
       "  <th>Prob(Omnibus):</th> <td> 0.000</td> <th>  Jarque-Bera (JB):  </th> <td>  13.245</td>\n",
       "</tr>\n",
       "<tr>\n",
       "  <th>Skew:</th>          <td> 0.444</td> <th>  Prob(JB):          </th> <td> 0.00133</td>\n",
       "</tr>\n",
       "<tr>\n",
       "  <th>Kurtosis:</th>      <td> 2.286</td> <th>  Cond. No.          </th> <td>    15.2</td>\n",
       "</tr>\n",
       "</table><br/><br/>Warnings:<br/>[1] Standard Errors assume that the covariance matrix of the errors is correctly specified."
      ],
      "text/plain": [
       "<table class=\"simpletable\">\n",
       "<caption>OLS Regression Results</caption>\n",
       "<tr>\n",
       "  <th>Dep. Variable:</th>         <td>600000</td>      <th>  R-squared:         </th> <td>   0.949</td> \n",
       "</tr>\n",
       "<tr>\n",
       "  <th>Model:</th>                   <td>OLS</td>       <th>  Adj. R-squared:    </th> <td>   0.949</td> \n",
       "</tr>\n",
       "<tr>\n",
       "  <th>Method:</th>             <td>Least Squares</td>  <th>  F-statistic:       </th> <td>   4560.</td> \n",
       "</tr>\n",
       "<tr>\n",
       "  <th>Date:</th>             <td>Sat, 25 Apr 2020</td> <th>  Prob (F-statistic):</th> <td>1.83e-159</td>\n",
       "</tr>\n",
       "<tr>\n",
       "  <th>Time:</th>                 <td>18:42:22</td>     <th>  Log-Likelihood:    </th> <td>  509.57</td> \n",
       "</tr>\n",
       "<tr>\n",
       "  <th>No. Observations:</th>      <td>   245</td>      <th>  AIC:               </th> <td>  -1015.</td> \n",
       "</tr>\n",
       "<tr>\n",
       "  <th>Df Residuals:</th>          <td>   243</td>      <th>  BIC:               </th> <td>  -1008.</td> \n",
       "</tr>\n",
       "<tr>\n",
       "  <th>Df Model:</th>              <td>     1</td>      <th>                     </th>     <td> </td>    \n",
       "</tr>\n",
       "<tr>\n",
       "  <th>Covariance Type:</th>      <td>nonrobust</td>    <th>                     </th>     <td> </td>    \n",
       "</tr>\n",
       "</table>\n",
       "<table class=\"simpletable\">\n",
       "<tr>\n",
       "     <td></td>       <th>coef</th>     <th>std err</th>      <th>t</th>      <th>P>|t|</th>  <th>[0.025</th>    <th>0.975]</th>  \n",
       "</tr>\n",
       "<tr>\n",
       "  <th>const</th>  <td>    1.2269</td> <td>    0.015</td> <td>   83.071</td> <td> 0.000</td> <td>    1.198</td> <td>    1.256</td>\n",
       "</tr>\n",
       "<tr>\n",
       "  <th>601988</th> <td>    1.0641</td> <td>    0.016</td> <td>   67.531</td> <td> 0.000</td> <td>    1.033</td> <td>    1.095</td>\n",
       "</tr>\n",
       "</table>\n",
       "<table class=\"simpletable\">\n",
       "<tr>\n",
       "  <th>Omnibus:</th>       <td>19.538</td> <th>  Durbin-Watson:     </th> <td>   0.161</td>\n",
       "</tr>\n",
       "<tr>\n",
       "  <th>Prob(Omnibus):</th> <td> 0.000</td> <th>  Jarque-Bera (JB):  </th> <td>  13.245</td>\n",
       "</tr>\n",
       "<tr>\n",
       "  <th>Skew:</th>          <td> 0.444</td> <th>  Prob(JB):          </th> <td> 0.00133</td>\n",
       "</tr>\n",
       "<tr>\n",
       "  <th>Kurtosis:</th>      <td> 2.286</td> <th>  Cond. No.          </th> <td>    15.2</td>\n",
       "</tr>\n",
       "</table><br/><br/>Warnings:<br/>[1] Standard Errors assume that the covariance matrix of the errors is correctly specified."
      ]
     },
     "execution_count": 74,
     "metadata": {},
     "output_type": "execute_result"
    }
   ],
   "source": [
    "model = sm.OLS(log_PBf,sm.add_constant(log_PAf)).fit()\n",
    "model.summary()"
   ]
  },
  {
   "cell_type": "code",
   "execution_count": 75,
   "metadata": {},
   "outputs": [],
   "source": [
    "alpha = model.params[0]\n",
    "beta = model.params[1]"
   ]
  },
  {
   "cell_type": "code",
   "execution_count": 76,
   "metadata": {},
   "outputs": [
    {
     "data": {
      "text/plain": [
       "Trddt\n2014-01-02   -0.011214\n2014-01-03   -0.011507\n2014-01-06    0.006511\n2014-01-07    0.005361\n2014-01-08    0.016112\n                ...   \n2014-12-25    0.027720\n2014-12-26    0.035399\n2014-12-29    0.039147\n2014-12-30    0.041510\n2014-12-31    0.007502\nLength: 245, dtype: float64"
      ]
     },
     "execution_count": 76,
     "metadata": {},
     "output_type": "execute_result"
    }
   ],
   "source": [
    "spreadf = log_PBf - beta*log_PAf - alpha\n",
    "spreadf"
   ]
  },
  {
   "cell_type": "code",
   "execution_count": 77,
   "metadata": {},
   "outputs": [
    {
     "name": "stdout",
     "output_type": "stream",
     "text": [
      "   Augmented Dickey-Fuller Results   \n=====================================\nTest Statistic                 -3.193\nP-value                         0.020\nLags                                0\n-------------------------------------\n\nTrend: Constant\nCritical Values: -3.46 (1%), -2.87 (5%), -2.57 (10%)\nNull Hypothesis: The process contains a unit root.\nAlternative Hypothesis: The process is weakly stationary.\n"
     ]
    }
   ],
   "source": [
    "adfSpread  = ADF(spreadf)\n",
    "print(adfSpread.summary().as_text())\n",
    "\n",
    "mu = np.mean(spreadf)\n",
    "sd = np.std(spreadf)"
   ]
  },
  {
   "cell_type": "code",
   "execution_count": 80,
   "metadata": {},
   "outputs": [
    {
     "data": {
      "text/plain": [
       "count    101.000000\nmean      -0.039812\nstd        0.054575\nmin       -0.163903\n25%       -0.063720\n50%       -0.040649\n75%        0.002773\nmax        0.057989\ndtype: float64"
      ]
     },
     "execution_count": 80,
     "metadata": {},
     "output_type": "execute_result"
    }
   ],
   "source": [
    "tradeStart = '2015-01-01'\n",
    "tradeEnd = '2015-06-03'\n",
    "PAt = PA[tradeStart:tradeEnd]\n",
    "PBt = PB[tradeStart:tradeEnd]\n",
    "CospreadT = np.log(PBt)-beta*np.log(PAt)-alpha\n",
    "CospreadT.describe()"
   ]
  },
  {
   "cell_type": "code",
   "execution_count": 83,
   "metadata": {},
   "outputs": [
    {
     "data": {
      "text/plain": [
       "<matplotlib.lines.Line2D at 0x11f711ca0>"
      ]
     },
     "execution_count": 83,
     "metadata": {},
     "output_type": "execute_result"
    },
    {
     "data": {
      "image/png": "[encoded data removed]",
      "text/plain": [
       "<Figure size 432x288 with 1 Axes>"
      ]
     },
     "metadata": {},
     "output_type": "display_data"
    }
   ],
   "source": [
    "CospreadT.plot()\n",
    "plt.axhline(y=mu,color = 'black')\n",
    "plt.axhline(y=mu+0.2*sd,color = 'blue',ls='-',lw=2)\n",
    "plt.axhline(y=mu+1.5*sd,color = 'green',ls='--',lw = 2.5)\n",
    "plt.axhline(y=mu-1.5*sd,color = 'green',ls='--',lw = 2.5)\n",
    "plt.axhline(y=mu+2.5*sd,color = 'red',ls='-.',lw=3.5)"
   ]
  },
  {
   "cell_type": "code",
   "execution_count": null,
   "metadata": {},
   "outputs": [],
   "source": []
  },
  {
   "cell_type": "code",
   "execution_count": null,
   "metadata": {},
   "outputs": [],
   "source": []
  },
  {
   "cell_type": "code",
   "execution_count": null,
   "metadata": {},
   "outputs": [],
   "source": []
  }
 ],
 "metadata": {
  "kernelspec": {
   "display_name": "Python 2",
   "language": "python",
   "name": "python2"
  },
  "language_info": {
   "codemirror_mode": {
    "name": "ipython",
    "version": 2
   },
   "file_extension": ".py",
   "mimetype": "text/x-python",
   "name": "python",
   "nbconvert_exporter": "python",
   "pygments_lexer": "ipython2",
   "version": "2.7.6"
  }
 },
 "nbformat": 4,
 "nbformat_minor": 0
}
