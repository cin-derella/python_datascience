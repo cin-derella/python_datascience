{
 "cells": [
  {
   "cell_type": "code",
   "execution_count": 1,
   "metadata": {
    "collapsed": true
   },
   "outputs": [],
   "source": [
    "import numpy as np\n",
    "import pandas as pd\n",
    "import matplotlib.pyplot as plt\n",
    "%matplotlib inline\n",
    "from scipy import stats\n",
    "import matplotlib\n",
    "matplotlib.rcParams['font.sans-serif'] = ['SimHei']\n",
    "matplotlib.rcParams['font.family'] = 'sans-serif'\n",
    "matplotlib.rcParams['axes.unicode_minus'] = False\n"
   ]
  },
  {
   "cell_type": "code",
   "execution_count": 2,
   "metadata": {},
   "outputs": [
    {
     "data": {
      "text/plain": [
       "array([ 0,  1,  2,  3,  4,  5,  6,  7,  8,  9, 10, 11, 12, 13, 14, 15, 16,\n       17, 18, 19, 20, 21, 22, 23, 24, 25, 26, 27, 28, 29, 30, 31, 32, 33,\n       34, 35, 36, 37, 38, 39, 40, 41, 42, 43, 44, 45, 46, 47, 48, 49, 50,\n       51, 52, 53, 54, 55, 56, 57, 58, 59, 60, 61, 62, 63, 64, 65, 66, 67,\n       68, 69, 70, 71, 72, 73, 74, 75, 76, 77, 78, 79, 80, 81, 82, 83, 84,\n       85, 86, 87, 88, 89, 90, 91, 92, 93, 94, 95, 96, 97, 98, 99])"
      ]
     },
     "execution_count": 2,
     "metadata": {},
     "output_type": "execute_result"
    }
   ],
   "source": [
    "x = np.arange(100)\n",
    "x"
   ]
  },
  {
   "cell_type": "code",
   "execution_count": 5,
   "metadata": {},
   "outputs": [
    {
     "data": {
      "text/plain": [
       "array([  2,   5,   8,  11,  14,  17,  20,  23,  26,  29,  32,  35,  38,\n        41,  44,  47,  50,  53,  56,  59,  62,  65,  68,  71,  74,  77,\n        80,  83,  86,  89,  92,  95,  98, 101, 104, 107, 110, 113, 116,\n       119, 122, 125, 128, 131, 134, 137, 140, 143, 146, 149, 152, 155,\n       158, 161, 164, 167, 170, 173, 176, 179, 182, 185, 188, 191, 194,\n       197, 200, 203, 206, 209, 212, 215, 218, 221, 224, 227, 230, 233,\n       236, 239, 242, 245, 248, 251, 254, 257, 260, 263, 266, 269, 272,\n       275, 278, 281, 284, 287, 290, 293, 296, 299])"
      ]
     },
     "execution_count": 5,
     "metadata": {},
     "output_type": "execute_result"
    }
   ],
   "source": [
    "y = 3*x+2 #线性方程，一元一次\n",
    "y"
   ]
  },
  {
   "cell_type": "code",
   "execution_count": 7,
   "metadata": {},
   "outputs": [
    {
     "data": {
      "text/plain": [
       "[<matplotlib.lines.Line2D at 0x1a2591ce50>]"
      ]
     },
     "execution_count": 7,
     "metadata": {},
     "output_type": "execute_result"
    },
    {
     "data": {
      "image/png": "[encoded data removed]",
      "text/plain": [
       "<Figure size 432x288 with 1 Axes>"
      ]
     },
     "metadata": {},
     "output_type": "display_data"
    }
   ],
   "source": [
    "plt.plot(x,y)"
   ]
  },
  {
   "cell_type": "code",
   "execution_count": 15,
   "metadata": {},
   "outputs": [
    {
     "data": {
      "text/html": [
       "<div>\n",
       "<style scoped>\n",
       "    .dataframe tbody tr th:only-of-type {\n",
       "        vertical-align: middle;\n",
       "    }\n",
       "\n",
       "    .dataframe tbody tr th {\n",
       "        vertical-align: top;\n",
       "    }\n",
       "\n",
       "    .dataframe thead th {\n",
       "        text-align: right;\n",
       "    }\n",
       "</style>\n",
       "<table border=\"1\" class=\"dataframe\">\n",
       "  <thead>\n",
       "    <tr style=\"text-align: right;\">\n",
       "      <th></th>\n",
       "      <th>Indexcd</th>\n",
       "      <th>Trddt</th>\n",
       "      <th>Daywk</th>\n",
       "      <th>Opnindex</th>\n",
       "      <th>Hiindex</th>\n",
       "      <th>Loindex</th>\n",
       "      <th>Clsindex</th>\n",
       "      <th>Retindex</th>\n",
       "    </tr>\n",
       "  </thead>\n",
       "  <tbody>\n",
       "    <tr>\n",
       "      <th>0</th>\n",
       "      <td>1</td>\n",
       "      <td>2009-01-05</td>\n",
       "      <td>1</td>\n",
       "      <td>1849.020</td>\n",
       "      <td>1880.716</td>\n",
       "      <td>1844.094</td>\n",
       "      <td>1880.716</td>\n",
       "      <td>0.032904</td>\n",
       "    </tr>\n",
       "    <tr>\n",
       "      <th>1</th>\n",
       "      <td>1</td>\n",
       "      <td>2009-01-06</td>\n",
       "      <td>2</td>\n",
       "      <td>1878.827</td>\n",
       "      <td>1938.690</td>\n",
       "      <td>1871.971</td>\n",
       "      <td>1937.145</td>\n",
       "      <td>0.030004</td>\n",
       "    </tr>\n",
       "    <tr>\n",
       "      <th>2</th>\n",
       "      <td>1</td>\n",
       "      <td>2009-01-07</td>\n",
       "      <td>3</td>\n",
       "      <td>1938.974</td>\n",
       "      <td>1948.233</td>\n",
       "      <td>1920.515</td>\n",
       "      <td>1924.012</td>\n",
       "      <td>-0.006780</td>\n",
       "    </tr>\n",
       "    <tr>\n",
       "      <th>3</th>\n",
       "      <td>1</td>\n",
       "      <td>2009-01-08</td>\n",
       "      <td>4</td>\n",
       "      <td>1890.242</td>\n",
       "      <td>1894.171</td>\n",
       "      <td>1862.263</td>\n",
       "      <td>1878.181</td>\n",
       "      <td>-0.023821</td>\n",
       "    </tr>\n",
       "    <tr>\n",
       "      <th>4</th>\n",
       "      <td>1</td>\n",
       "      <td>2009-01-09</td>\n",
       "      <td>5</td>\n",
       "      <td>1875.164</td>\n",
       "      <td>1909.349</td>\n",
       "      <td>1875.164</td>\n",
       "      <td>1904.861</td>\n",
       "      <td>0.014205</td>\n",
       "    </tr>\n",
       "  </tbody>\n",
       "</table>\n",
       "</div>"
      ],
      "text/plain": [
       "<div>\n",
       "<style scoped>\n",
       "    .dataframe tbody tr th:only-of-type {\n",
       "        vertical-align: middle;\n",
       "    }\n",
       "\n",
       "    .dataframe tbody tr th {\n",
       "        vertical-align: top;\n",
       "    }\n",
       "\n",
       "    .dataframe thead th {\n",
       "        text-align: right;\n",
       "    }\n",
       "</style>\n",
       "<table border=\"1\" class=\"dataframe\">\n",
       "  <thead>\n",
       "    <tr style=\"text-align: right;\">\n",
       "      <th></th>\n",
       "      <th>Indexcd</th>\n",
       "      <th>Trddt</th>\n",
       "      <th>Daywk</th>\n",
       "      <th>Opnindex</th>\n",
       "      <th>Hiindex</th>\n",
       "      <th>Loindex</th>\n",
       "      <th>Clsindex</th>\n",
       "      <th>Retindex</th>\n",
       "    </tr>\n",
       "  </thead>\n",
       "  <tbody>\n",
       "    <tr>\n",
       "      <th>0</th>\n",
       "      <td>1</td>\n",
       "      <td>2009-01-05</td>\n",
       "      <td>1</td>\n",
       "      <td>1849.020</td>\n",
       "      <td>1880.716</td>\n",
       "      <td>1844.094</td>\n",
       "      <td>1880.716</td>\n",
       "      <td>0.032904</td>\n",
       "    </tr>\n",
       "    <tr>\n",
       "      <th>1</th>\n",
       "      <td>1</td>\n",
       "      <td>2009-01-06</td>\n",
       "      <td>2</td>\n",
       "      <td>1878.827</td>\n",
       "      <td>1938.690</td>\n",
       "      <td>1871.971</td>\n",
       "      <td>1937.145</td>\n",
       "      <td>0.030004</td>\n",
       "    </tr>\n",
       "    <tr>\n",
       "      <th>2</th>\n",
       "      <td>1</td>\n",
       "      <td>2009-01-07</td>\n",
       "      <td>3</td>\n",
       "      <td>1938.974</td>\n",
       "      <td>1948.233</td>\n",
       "      <td>1920.515</td>\n",
       "      <td>1924.012</td>\n",
       "      <td>-0.006780</td>\n",
       "    </tr>\n",
       "    <tr>\n",
       "      <th>3</th>\n",
       "      <td>1</td>\n",
       "      <td>2009-01-08</td>\n",
       "      <td>4</td>\n",
       "      <td>1890.242</td>\n",
       "      <td>1894.171</td>\n",
       "      <td>1862.263</td>\n",
       "      <td>1878.181</td>\n",
       "      <td>-0.023821</td>\n",
       "    </tr>\n",
       "    <tr>\n",
       "      <th>4</th>\n",
       "      <td>1</td>\n",
       "      <td>2009-01-09</td>\n",
       "      <td>5</td>\n",
       "      <td>1875.164</td>\n",
       "      <td>1909.349</td>\n",
       "      <td>1875.164</td>\n",
       "      <td>1904.861</td>\n",
       "      <td>0.014205</td>\n",
       "    </tr>\n",
       "  </tbody>\n",
       "</table>\n",
       "</div>"
      ]
     },
     "execution_count": 15,
     "metadata": {},
     "output_type": "execute_result"
    }
   ],
   "source": [
    "path = r'../YCdata/TRD_Index.txt'\n",
    "TRDindex = pd.read_table(path,sep='\\t')\n",
    "TRDindex.head()"
   ]
  },
  {
   "cell_type": "code",
   "execution_count": 22,
   "metadata": {},
   "outputs": [
    {
     "data": {
      "text/plain": [
       "0       0.032904\n1       0.030004\n2      -0.006780\n3      -0.023821\n4       0.014205\n          ...   \n1206    0.006426\n1207   -0.015788\n1208    0.013580\n1209   -0.001771\n1210    0.008796\nName: Retindex, Length: 1211, dtype: float64"
      ]
     },
     "execution_count": 22,
     "metadata": {},
     "output_type": "execute_result"
    }
   ],
   "source": [
    "SHindex = TRDindex[TRDindex.Indexcd ==1]\n",
    "SZindex = TRDindex[TRDindex.Indexcd == 399106]\n",
    "SHret = SHindex.Retindex\n",
    "SZret = SZindex.Retindex\n",
    "SHret"
   ]
  },
  {
   "cell_type": "code",
   "execution_count": 18,
   "metadata": {},
   "outputs": [
    {
     "data": {
      "text/plain": [
       "<matplotlib.axes._subplots.AxesSubplot at 0x1a26053f50>"
      ]
     },
     "execution_count": 18,
     "metadata": {},
     "output_type": "execute_result"
    },
    {
     "data": {
      "image/png": "[encoded data removed]",
      "text/plain": [
       "<Figure size 432x288 with 1 Axes>"
      ]
     },
     "metadata": {},
     "output_type": "display_data"
    }
   ],
   "source": [
    "SHret.plot()"
   ]
  },
  {
   "cell_type": "code",
   "execution_count": 19,
   "metadata": {},
   "outputs": [
    {
     "data": {
      "text/plain": [
       "<matplotlib.axes._subplots.AxesSubplot at 0x1a261b6790>"
      ]
     },
     "execution_count": 19,
     "metadata": {},
     "output_type": "execute_result"
    },
    {
     "data": {
      "image/png": "[encoded data removed]",
      "text/plain": [
       "<Figure size 432x288 with 1 Axes>"
      ]
     },
     "metadata": {},
     "output_type": "display_data"
    }
   ],
   "source": [
    "SZret.plot()"
   ]
  },
  {
   "cell_type": "code",
   "execution_count": 23,
   "metadata": {},
   "outputs": [
    {
     "data": {
      "text/plain": [
       "<matplotlib.axes._subplots.AxesSubplot at 0x1a2629c290>"
      ]
     },
     "execution_count": 23,
     "metadata": {},
     "output_type": "execute_result"
    },
    {
     "data": {
      "image/png": "[encoded data removed]",
      "text/plain": [
       "<Figure size 432x288 with 1 Axes>"
      ]
     },
     "metadata": {},
     "output_type": "display_data"
    }
   ],
   "source": [
    "SZret.index = SHret.index #交换索引\n",
    "SZret.plot()"
   ]
  },
  {
   "cell_type": "code",
   "execution_count": 24,
   "metadata": {},
   "outputs": [
    {
     "data": {
      "text/html": [
       "<table class=\"simpletable\">\n",
       "<caption>OLS Regression Results</caption>\n",
       "<tr>\n",
       "  <th>Dep. Variable:</th>        <td>Retindex</td>     <th>  R-squared:         </th> <td>   0.825</td>\n",
       "</tr>\n",
       "<tr>\n",
       "  <th>Model:</th>                   <td>OLS</td>       <th>  Adj. R-squared:    </th> <td>   0.825</td>\n",
       "</tr>\n",
       "<tr>\n",
       "  <th>Method:</th>             <td>Least Squares</td>  <th>  F-statistic:       </th> <td>   5698.</td>\n",
       "</tr>\n",
       "<tr>\n",
       "  <th>Date:</th>             <td>Thu, 23 Apr 2020</td> <th>  Prob (F-statistic):</th>  <td>  0.00</td> \n",
       "</tr>\n",
       "<tr>\n",
       "  <th>Time:</th>                 <td>08:20:36</td>     <th>  Log-Likelihood:    </th> <td>  4520.3</td>\n",
       "</tr>\n",
       "<tr>\n",
       "  <th>No. Observations:</th>      <td>  1211</td>      <th>  AIC:               </th> <td>  -9037.</td>\n",
       "</tr>\n",
       "<tr>\n",
       "  <th>Df Residuals:</th>          <td>  1209</td>      <th>  BIC:               </th> <td>  -9026.</td>\n",
       "</tr>\n",
       "<tr>\n",
       "  <th>Df Model:</th>              <td>     1</td>      <th>                     </th>     <td> </td>   \n",
       "</tr>\n",
       "<tr>\n",
       "  <th>Covariance Type:</th>      <td>nonrobust</td>    <th>                     </th>     <td> </td>   \n",
       "</tr>\n",
       "</table>\n",
       "<table class=\"simpletable\">\n",
       "<tr>\n",
       "      <td></td>        <th>coef</th>     <th>std err</th>      <th>t</th>      <th>P>|t|</th>  <th>[0.025</th>    <th>0.975]</th>  \n",
       "</tr>\n",
       "<tr>\n",
       "  <th>const</th>    <td>   -0.0003</td> <td>    0.000</td> <td>   -1.747</td> <td> 0.081</td> <td>   -0.001</td> <td> 3.58e-05</td>\n",
       "</tr>\n",
       "<tr>\n",
       "  <th>Retindex</th> <td>    0.7603</td> <td>    0.010</td> <td>   75.487</td> <td> 0.000</td> <td>    0.741</td> <td>    0.780</td>\n",
       "</tr>\n",
       "</table>\n",
       "<table class=\"simpletable\">\n",
       "<tr>\n",
       "  <th>Omnibus:</th>       <td>154.029</td> <th>  Durbin-Watson:     </th> <td>   1.821</td>\n",
       "</tr>\n",
       "<tr>\n",
       "  <th>Prob(Omnibus):</th> <td> 0.000</td>  <th>  Jarque-Bera (JB):  </th> <td> 382.039</td>\n",
       "</tr>\n",
       "<tr>\n",
       "  <th>Skew:</th>          <td> 0.701</td>  <th>  Prob(JB):          </th> <td>1.10e-83</td>\n",
       "</tr>\n",
       "<tr>\n",
       "  <th>Kurtosis:</th>      <td> 5.367</td>  <th>  Cond. No.          </th> <td>    60.5</td>\n",
       "</tr>\n",
       "</table><br/><br/>Warnings:<br/>[1] Standard Errors assume that the covariance matrix of the errors is correctly specified."
      ],
      "text/plain": [
       "<table class=\"simpletable\">\n",
       "<caption>OLS Regression Results</caption>\n",
       "<tr>\n",
       "  <th>Dep. Variable:</th>        <td>Retindex</td>     <th>  R-squared:         </th> <td>   0.825</td>\n",
       "</tr>\n",
       "<tr>\n",
       "  <th>Model:</th>                   <td>OLS</td>       <th>  Adj. R-squared:    </th> <td>   0.825</td>\n",
       "</tr>\n",
       "<tr>\n",
       "  <th>Method:</th>             <td>Least Squares</td>  <th>  F-statistic:       </th> <td>   5698.</td>\n",
       "</tr>\n",
       "<tr>\n",
       "  <th>Date:</th>             <td>Thu, 23 Apr 2020</td> <th>  Prob (F-statistic):</th>  <td>  0.00</td> \n",
       "</tr>\n",
       "<tr>\n",
       "  <th>Time:</th>                 <td>08:20:36</td>     <th>  Log-Likelihood:    </th> <td>  4520.3</td>\n",
       "</tr>\n",
       "<tr>\n",
       "  <th>No. Observations:</th>      <td>  1211</td>      <th>  AIC:               </th> <td>  -9037.</td>\n",
       "</tr>\n",
       "<tr>\n",
       "  <th>Df Residuals:</th>          <td>  1209</td>      <th>  BIC:               </th> <td>  -9026.</td>\n",
       "</tr>\n",
       "<tr>\n",
       "  <th>Df Model:</th>              <td>     1</td>      <th>                     </th>     <td> </td>   \n",
       "</tr>\n",
       "<tr>\n",
       "  <th>Covariance Type:</th>      <td>nonrobust</td>    <th>                     </th>     <td> </td>   \n",
       "</tr>\n",
       "</table>\n",
       "<table class=\"simpletable\">\n",
       "<tr>\n",
       "      <td></td>        <th>coef</th>     <th>std err</th>      <th>t</th>      <th>P>|t|</th>  <th>[0.025</th>    <th>0.975]</th>  \n",
       "</tr>\n",
       "<tr>\n",
       "  <th>const</th>    <td>   -0.0003</td> <td>    0.000</td> <td>   -1.747</td> <td> 0.081</td> <td>   -0.001</td> <td> 3.58e-05</td>\n",
       "</tr>\n",
       "<tr>\n",
       "  <th>Retindex</th> <td>    0.7603</td> <td>    0.010</td> <td>   75.487</td> <td> 0.000</td> <td>    0.741</td> <td>    0.780</td>\n",
       "</tr>\n",
       "</table>\n",
       "<table class=\"simpletable\">\n",
       "<tr>\n",
       "  <th>Omnibus:</th>       <td>154.029</td> <th>  Durbin-Watson:     </th> <td>   1.821</td>\n",
       "</tr>\n",
       "<tr>\n",
       "  <th>Prob(Omnibus):</th> <td> 0.000</td>  <th>  Jarque-Bera (JB):  </th> <td> 382.039</td>\n",
       "</tr>\n",
       "<tr>\n",
       "  <th>Skew:</th>          <td> 0.701</td>  <th>  Prob(JB):          </th> <td>1.10e-83</td>\n",
       "</tr>\n",
       "<tr>\n",
       "  <th>Kurtosis:</th>      <td> 5.367</td>  <th>  Cond. No.          </th> <td>    60.5</td>\n",
       "</tr>\n",
       "</table><br/><br/>Warnings:<br/>[1] Standard Errors assume that the covariance matrix of the errors is correctly specified."
      ]
     },
     "execution_count": 24,
     "metadata": {},
     "output_type": "execute_result"
    }
   ],
   "source": [
    "import statsmodels.api as sm\n",
    "model =sm.OLS(SHret,sm.add_constant(SZret)).fit() #建立连个涨幅跌幅的关联模型\n",
    "model.summary()"
   ]
  },
  {
   "cell_type": "code",
   "execution_count": 27,
   "metadata": {},
   "outputs": [
    {
     "data": {
      "text/plain": [
       "0       0.008691\n1       0.010064\n2      -0.004379\n3      -0.008431\n4      -0.002430\n          ...   \n1206   -0.005190\n1207   -0.002192\n1208    0.000431\n1209   -0.003914\n1210    0.006601\nLength: 1211, dtype: float64"
      ]
     },
     "execution_count": 27,
     "metadata": {},
     "output_type": "execute_result"
    }
   ],
   "source": [
    "model.fittedvalues[:5]  #查看线性回归数据\n"
   ]
  },
  {
   "cell_type": "code",
   "execution_count": 28,
   "metadata": {},
   "outputs": [
    {
     "data": {
      "text/plain": [
       "0       0.008691\n1       0.010064\n2      -0.004379\n3      -0.008431\n4      -0.002430\n          ...   \n1206   -0.005190\n1207   -0.002192\n1208    0.000431\n1209   -0.003914\n1210    0.006601\nLength: 1211, dtype: float64"
      ]
     },
     "execution_count": 28,
     "metadata": {},
     "output_type": "execute_result"
    }
   ],
   "source": [
    "model.resid"
   ]
  },
  {
   "cell_type": "code",
   "execution_count": 26,
   "metadata": {},
   "outputs": [
    {
     "name": "stderr",
     "output_type": "stream",
     "text": [
      "No handles with labels found to put in legend.\n"
     ]
    },
    {
     "data": {
      "text/plain": [
       "<matplotlib.legend.Legend at 0x1a27d16710>"
      ]
     },
     "execution_count": 26,
     "metadata": {},
     "output_type": "execute_result"
    },
    {
     "data": {
      "image/png": "[encoded data removed]",
      "text/plain": [
       "<Figure size 432x288 with 1 Axes>"
      ]
     },
     "metadata": {},
     "output_type": "display_data"
    }
   ],
   "source": [
    "plt.scatter(model.fittedvalues,model.resid)  #model.resid是点到直线距离的平方\n",
    "plt.xlabel('X 拟合值')\n",
    "plt.ylabel('Y 残差')\n",
    "plt.legend()"
   ]
  },
  {
   "cell_type": "code",
   "execution_count": 30,
   "metadata": {},
   "outputs": [
    {
     "name": "stderr",
     "output_type": "stream",
     "text": [
      "/Users/dante/opt/anaconda3/lib/python3.7/site-packages/ipykernel_launcher.py:2: RuntimeWarning: invalid value encountered in sqrt\n  \nNo handles with labels found to put in legend.\n"
     ]
    },
    {
     "data": {
      "text/plain": [
       "<matplotlib.legend.Legend at 0x1a281b4c90>"
      ]
     },
     "execution_count": 30,
     "metadata": {},
     "output_type": "execute_result"
    },
    {
     "data": {
      "image/png": "[encoded data removed]",
      "text/plain": [
       "<Figure size 432x288 with 1 Axes>"
      ]
     },
     "metadata": {},
     "output_type": "display_data"
    }
   ],
   "source": [
    "sm.qqplot(model.resid_pearson,stats.norm,line = '45')\n",
    "plt.scatter(model.fittedvalues,model.resid_pearson**0.5) #model.resid是点到直线的距离\n",
    "plt.xlabel('X 拟合值')\n",
    "plt.ylabel('Y 标准化残差的平方根')\n",
    "plt.legend()"
   ]
  },
  {
   "cell_type": "code",
   "execution_count": 37,
   "metadata": {},
   "outputs": [
    {
     "data": {
      "text/html": [
       "<div>\n",
       "<style scoped>\n",
       "    .dataframe tbody tr th:only-of-type {\n",
       "        vertical-align: middle;\n",
       "    }\n",
       "\n",
       "    .dataframe tbody tr th {\n",
       "        vertical-align: top;\n",
       "    }\n",
       "\n",
       "    .dataframe thead th {\n",
       "        text-align: right;\n",
       "    }\n",
       "</style>\n",
       "<table border=\"1\" class=\"dataframe\">\n",
       "  <thead>\n",
       "    <tr style=\"text-align: right;\">\n",
       "      <th></th>\n",
       "      <th>Variable name</th>\n",
       "      <th>Variable definition</th>\n",
       "    </tr>\n",
       "  </thead>\n",
       "  <tbody>\n",
       "    <tr>\n",
       "      <th>0</th>\n",
       "      <td>Identifier variables</td>\n",
       "      <td>NaN</td>\n",
       "    </tr>\n",
       "    <tr>\n",
       "      <th>1</th>\n",
       "      <td>countrycode</td>\n",
       "      <td>3-letter ISO country code</td>\n",
       "    </tr>\n",
       "    <tr>\n",
       "      <th>2</th>\n",
       "      <td>country</td>\n",
       "      <td>Country name</td>\n",
       "    </tr>\n",
       "    <tr>\n",
       "      <th>3</th>\n",
       "      <td>currency_unit</td>\n",
       "      <td>Currency unit</td>\n",
       "    </tr>\n",
       "    <tr>\n",
       "      <th>4</th>\n",
       "      <td>year</td>\n",
       "      <td>Year</td>\n",
       "    </tr>\n",
       "    <tr>\n",
       "      <th>5</th>\n",
       "      <td>rgdpe</td>\n",
       "      <td>Expenditure-side real GDP at chained PPPs (in ...</td>\n",
       "    </tr>\n",
       "    <tr>\n",
       "      <th>6</th>\n",
       "      <td>pl_c</td>\n",
       "      <td>Price level of household consumption,  price l...</td>\n",
       "    </tr>\n",
       "    <tr>\n",
       "      <th>7</th>\n",
       "      <td>pl_i</td>\n",
       "      <td>Price level of capital formation,  price level...</td>\n",
       "    </tr>\n",
       "    <tr>\n",
       "      <th>8</th>\n",
       "      <td>pl_g</td>\n",
       "      <td>Price level of government consumption,  price ...</td>\n",
       "    </tr>\n",
       "    <tr>\n",
       "      <th>9</th>\n",
       "      <td>pl_x</td>\n",
       "      <td>Price level of exports, price level of USA GDP...</td>\n",
       "    </tr>\n",
       "    <tr>\n",
       "      <th>10</th>\n",
       "      <td>pl_m</td>\n",
       "      <td>Price level of imports, price level of USA GDP...</td>\n",
       "    </tr>\n",
       "    <tr>\n",
       "      <th>11</th>\n",
       "      <td>pl_k</td>\n",
       "      <td>Price level of the capital stock, price level ...</td>\n",
       "    </tr>\n",
       "  </tbody>\n",
       "</table>\n",
       "</div>"
      ],
      "text/plain": [
       "<div>\n",
       "<style scoped>\n",
       "    .dataframe tbody tr th:only-of-type {\n",
       "        vertical-align: middle;\n",
       "    }\n",
       "\n",
       "    .dataframe tbody tr th {\n",
       "        vertical-align: top;\n",
       "    }\n",
       "\n",
       "    .dataframe thead th {\n",
       "        text-align: right;\n",
       "    }\n",
       "</style>\n",
       "<table border=\"1\" class=\"dataframe\">\n",
       "  <thead>\n",
       "    <tr style=\"text-align: right;\">\n",
       "      <th></th>\n",
       "      <th>Variable name</th>\n",
       "      <th>Variable definition</th>\n",
       "    </tr>\n",
       "  </thead>\n",
       "  <tbody>\n",
       "    <tr>\n",
       "      <th>0</th>\n",
       "      <td>Identifier variables</td>\n",
       "      <td>NaN</td>\n",
       "    </tr>\n",
       "    <tr>\n",
       "      <th>1</th>\n",
       "      <td>countrycode</td>\n",
       "      <td>3-letter ISO country code</td>\n",
       "    </tr>\n",
       "    <tr>\n",
       "      <th>2</th>\n",
       "      <td>country</td>\n",
       "      <td>Country name</td>\n",
       "    </tr>\n",
       "    <tr>\n",
       "      <th>3</th>\n",
       "      <td>currency_unit</td>\n",
       "      <td>Currency unit</td>\n",
       "    </tr>\n",
       "    <tr>\n",
       "      <th>4</th>\n",
       "      <td>year</td>\n",
       "      <td>Year</td>\n",
       "    </tr>\n",
       "    <tr>\n",
       "      <th>5</th>\n",
       "      <td>rgdpe</td>\n",
       "      <td>Expenditure-side real GDP at chained PPPs (in ...</td>\n",
       "    </tr>\n",
       "    <tr>\n",
       "      <th>6</th>\n",
       "      <td>pl_c</td>\n",
       "      <td>Price level of household consumption,  price l...</td>\n",
       "    </tr>\n",
       "    <tr>\n",
       "      <th>7</th>\n",
       "      <td>pl_i</td>\n",
       "      <td>Price level of capital formation,  price level...</td>\n",
       "    </tr>\n",
       "    <tr>\n",
       "      <th>8</th>\n",
       "      <td>pl_g</td>\n",
       "      <td>Price level of government consumption,  price ...</td>\n",
       "    </tr>\n",
       "    <tr>\n",
       "      <th>9</th>\n",
       "      <td>pl_x</td>\n",
       "      <td>Price level of exports, price level of USA GDP...</td>\n",
       "    </tr>\n",
       "    <tr>\n",
       "      <th>10</th>\n",
       "      <td>pl_m</td>\n",
       "      <td>Price level of imports, price level of USA GDP...</td>\n",
       "    </tr>\n",
       "    <tr>\n",
       "      <th>11</th>\n",
       "      <td>pl_k</td>\n",
       "      <td>Price level of the capital stock, price level ...</td>\n",
       "    </tr>\n",
       "  </tbody>\n",
       "</table>\n",
       "</div>"
      ]
     },
     "execution_count": 37,
     "metadata": {},
     "output_type": "execute_result"
    }
   ],
   "source": [
    "path = r'../YCdata/Penn World Table.xlsx'\n",
    "pen = pd.read_excel(path,1)  # 索引为1的sheet\n",
    "pen"
   ]
  },
  {
   "cell_type": "code",
   "execution_count": 48,
   "metadata": {
    "collapsed": true
   },
   "outputs": [
    {
     "data": {
      "text/html": [
       "<div>\n",
       "<style scoped>\n",
       "    .dataframe tbody tr th:only-of-type {\n",
       "        vertical-align: middle;\n",
       "    }\n",
       "\n",
       "    .dataframe tbody tr th {\n",
       "        vertical-align: top;\n",
       "    }\n",
       "\n",
       "    .dataframe thead th {\n",
       "        text-align: right;\n",
       "    }\n",
       "</style>\n",
       "<table border=\"1\" class=\"dataframe\">\n",
       "  <thead>\n",
       "    <tr style=\"text-align: right;\">\n",
       "      <th></th>\n",
       "      <th>countrycode</th>\n",
       "      <th>country</th>\n",
       "      <th>currency_unit</th>\n",
       "      <th>year</th>\n",
       "      <th>rgdpe</th>\n",
       "      <th>pl_c</th>\n",
       "      <th>pl_i</th>\n",
       "      <th>pl_g</th>\n",
       "      <th>pl_x</th>\n",
       "      <th>pl_m</th>\n",
       "      <th>pl_k</th>\n",
       "    </tr>\n",
       "  </thead>\n",
       "  <tbody>\n",
       "    <tr>\n",
       "      <th>0</th>\n",
       "      <td>AGO</td>\n",
       "      <td>Angola</td>\n",
       "      <td>Kwanza</td>\n",
       "      <td>2007</td>\n",
       "      <td>58131.746094</td>\n",
       "      <td>1.253990</td>\n",
       "      <td>0.738191</td>\n",
       "      <td>1.076301</td>\n",
       "      <td>0.650072</td>\n",
       "      <td>0.764166</td>\n",
       "      <td>0.617699</td>\n",
       "    </tr>\n",
       "    <tr>\n",
       "      <th>1</th>\n",
       "      <td>AGO</td>\n",
       "      <td>Angola</td>\n",
       "      <td>Kwanza</td>\n",
       "      <td>2008</td>\n",
       "      <td>67472.859375</td>\n",
       "      <td>1.418632</td>\n",
       "      <td>0.938361</td>\n",
       "      <td>1.352946</td>\n",
       "      <td>0.774891</td>\n",
       "      <td>0.937404</td>\n",
       "      <td>0.777646</td>\n",
       "    </tr>\n",
       "    <tr>\n",
       "      <th>2</th>\n",
       "      <td>AGO</td>\n",
       "      <td>Angola</td>\n",
       "      <td>Kwanza</td>\n",
       "      <td>2009</td>\n",
       "      <td>59256.636719</td>\n",
       "      <td>1.681747</td>\n",
       "      <td>0.786687</td>\n",
       "      <td>1.105007</td>\n",
       "      <td>0.829843</td>\n",
       "      <td>1.190549</td>\n",
       "      <td>0.657191</td>\n",
       "    </tr>\n",
       "    <tr>\n",
       "      <th>3</th>\n",
       "      <td>AGO</td>\n",
       "      <td>Angola</td>\n",
       "      <td>Kwanza</td>\n",
       "      <td>2010</td>\n",
       "      <td>76151.132812</td>\n",
       "      <td>1.195477</td>\n",
       "      <td>0.843884</td>\n",
       "      <td>1.161518</td>\n",
       "      <td>0.920334</td>\n",
       "      <td>0.961341</td>\n",
       "      <td>0.706732</td>\n",
       "    </tr>\n",
       "    <tr>\n",
       "      <th>4</th>\n",
       "      <td>AGO</td>\n",
       "      <td>Angola</td>\n",
       "      <td>Kwanza</td>\n",
       "      <td>2011</td>\n",
       "      <td>82680.945312</td>\n",
       "      <td>1.294905</td>\n",
       "      <td>1.048095</td>\n",
       "      <td>1.460608</td>\n",
       "      <td>1.194767</td>\n",
       "      <td>1.239069</td>\n",
       "      <td>0.868282</td>\n",
       "    </tr>\n",
       "    <tr>\n",
       "      <th>...</th>\n",
       "      <td>...</td>\n",
       "      <td>...</td>\n",
       "      <td>...</td>\n",
       "      <td>...</td>\n",
       "      <td>...</td>\n",
       "      <td>...</td>\n",
       "      <td>...</td>\n",
       "      <td>...</td>\n",
       "      <td>...</td>\n",
       "      <td>...</td>\n",
       "      <td>...</td>\n",
       "    </tr>\n",
       "    <tr>\n",
       "      <th>830</th>\n",
       "      <td>ZWE</td>\n",
       "      <td>Zimbabwe</td>\n",
       "      <td>Zimbabwe Dollar</td>\n",
       "      <td>2007</td>\n",
       "      <td>45666.082031</td>\n",
       "      <td>0.155326</td>\n",
       "      <td>0.096808</td>\n",
       "      <td>0.030871</td>\n",
       "      <td>0.836226</td>\n",
       "      <td>0.704391</td>\n",
       "      <td>1.322423</td>\n",
       "    </tr>\n",
       "    <tr>\n",
       "      <th>831</th>\n",
       "      <td>ZWE</td>\n",
       "      <td>Zimbabwe</td>\n",
       "      <td>Zimbabwe Dollar</td>\n",
       "      <td>2008</td>\n",
       "      <td>35789.878906</td>\n",
       "      <td>0.187243</td>\n",
       "      <td>0.075830</td>\n",
       "      <td>0.017838</td>\n",
       "      <td>0.812021</td>\n",
       "      <td>0.899782</td>\n",
       "      <td>0.920607</td>\n",
       "    </tr>\n",
       "    <tr>\n",
       "      <th>832</th>\n",
       "      <td>ZWE</td>\n",
       "      <td>Zimbabwe</td>\n",
       "      <td>Zimbabwe Dollar</td>\n",
       "      <td>2009</td>\n",
       "      <td>49294.878906</td>\n",
       "      <td>0.112196</td>\n",
       "      <td>0.211507</td>\n",
       "      <td>0.153393</td>\n",
       "      <td>0.274833</td>\n",
       "      <td>0.375842</td>\n",
       "      <td>3.617210</td>\n",
       "    </tr>\n",
       "    <tr>\n",
       "      <th>833</th>\n",
       "      <td>ZWE</td>\n",
       "      <td>Zimbabwe</td>\n",
       "      <td>Zimbabwe Dollar</td>\n",
       "      <td>2010</td>\n",
       "      <td>51259.152344</td>\n",
       "      <td>0.123692</td>\n",
       "      <td>0.237427</td>\n",
       "      <td>0.168766</td>\n",
       "      <td>0.298547</td>\n",
       "      <td>0.407374</td>\n",
       "      <td>4.071371</td>\n",
       "    </tr>\n",
       "    <tr>\n",
       "      <th>834</th>\n",
       "      <td>ZWE</td>\n",
       "      <td>Zimbabwe</td>\n",
       "      <td>Zimbabwe Dollar</td>\n",
       "      <td>2011</td>\n",
       "      <td>55453.312500</td>\n",
       "      <td>0.140521</td>\n",
       "      <td>0.254450</td>\n",
       "      <td>0.182873</td>\n",
       "      <td>0.296839</td>\n",
       "      <td>0.434173</td>\n",
       "      <td>9.279111</td>\n",
       "    </tr>\n",
       "  </tbody>\n",
       "</table>\n",
       "<p>835 rows × 11 columns</p>\n",
       "</div>"
      ],
      "text/plain": [
       "<div>\n",
       "<style scoped>\n",
       "    .dataframe tbody tr th:only-of-type {\n",
       "        vertical-align: middle;\n",
       "    }\n",
       "\n",
       "    .dataframe tbody tr th {\n",
       "        vertical-align: top;\n",
       "    }\n",
       "\n",
       "    .dataframe thead th {\n",
       "        text-align: right;\n",
       "    }\n",
       "</style>\n",
       "<table border=\"1\" class=\"dataframe\">\n",
       "  <thead>\n",
       "    <tr style=\"text-align: right;\">\n",
       "      <th></th>\n",
       "      <th>countrycode</th>\n",
       "      <th>country</th>\n",
       "      <th>currency_unit</th>\n",
       "      <th>year</th>\n",
       "      <th>rgdpe</th>\n",
       "      <th>pl_c</th>\n",
       "      <th>pl_i</th>\n",
       "      <th>pl_g</th>\n",
       "      <th>pl_x</th>\n",
       "      <th>pl_m</th>\n",
       "      <th>pl_k</th>\n",
       "    </tr>\n",
       "  </thead>\n",
       "  <tbody>\n",
       "    <tr>\n",
       "      <th>0</th>\n",
       "      <td>AGO</td>\n",
       "      <td>Angola</td>\n",
       "      <td>Kwanza</td>\n",
       "      <td>2007</td>\n",
       "      <td>58131.746094</td>\n",
       "      <td>1.253990</td>\n",
       "      <td>0.738191</td>\n",
       "      <td>1.076301</td>\n",
       "      <td>0.650072</td>\n",
       "      <td>0.764166</td>\n",
       "      <td>0.617699</td>\n",
       "    </tr>\n",
       "    <tr>\n",
       "      <th>1</th>\n",
       "      <td>AGO</td>\n",
       "      <td>Angola</td>\n",
       "      <td>Kwanza</td>\n",
       "      <td>2008</td>\n",
       "      <td>67472.859375</td>\n",
       "      <td>1.418632</td>\n",
       "      <td>0.938361</td>\n",
       "      <td>1.352946</td>\n",
       "      <td>0.774891</td>\n",
       "      <td>0.937404</td>\n",
       "      <td>0.777646</td>\n",
       "    </tr>\n",
       "    <tr>\n",
       "      <th>2</th>\n",
       "      <td>AGO</td>\n",
       "      <td>Angola</td>\n",
       "      <td>Kwanza</td>\n",
       "      <td>2009</td>\n",
       "      <td>59256.636719</td>\n",
       "      <td>1.681747</td>\n",
       "      <td>0.786687</td>\n",
       "      <td>1.105007</td>\n",
       "      <td>0.829843</td>\n",
       "      <td>1.190549</td>\n",
       "      <td>0.657191</td>\n",
       "    </tr>\n",
       "    <tr>\n",
       "      <th>3</th>\n",
       "      <td>AGO</td>\n",
       "      <td>Angola</td>\n",
       "      <td>Kwanza</td>\n",
       "      <td>2010</td>\n",
       "      <td>76151.132812</td>\n",
       "      <td>1.195477</td>\n",
       "      <td>0.843884</td>\n",
       "      <td>1.161518</td>\n",
       "      <td>0.920334</td>\n",
       "      <td>0.961341</td>\n",
       "      <td>0.706732</td>\n",
       "    </tr>\n",
       "    <tr>\n",
       "      <th>4</th>\n",
       "      <td>AGO</td>\n",
       "      <td>Angola</td>\n",
       "      <td>Kwanza</td>\n",
       "      <td>2011</td>\n",
       "      <td>82680.945312</td>\n",
       "      <td>1.294905</td>\n",
       "      <td>1.048095</td>\n",
       "      <td>1.460608</td>\n",
       "      <td>1.194767</td>\n",
       "      <td>1.239069</td>\n",
       "      <td>0.868282</td>\n",
       "    </tr>\n",
       "    <tr>\n",
       "      <th>...</th>\n",
       "      <td>...</td>\n",
       "      <td>...</td>\n",
       "      <td>...</td>\n",
       "      <td>...</td>\n",
       "      <td>...</td>\n",
       "      <td>...</td>\n",
       "      <td>...</td>\n",
       "      <td>...</td>\n",
       "      <td>...</td>\n",
       "      <td>...</td>\n",
       "      <td>...</td>\n",
       "    </tr>\n",
       "    <tr>\n",
       "      <th>830</th>\n",
       "      <td>ZWE</td>\n",
       "      <td>Zimbabwe</td>\n",
       "      <td>Zimbabwe Dollar</td>\n",
       "      <td>2007</td>\n",
       "      <td>45666.082031</td>\n",
       "      <td>0.155326</td>\n",
       "      <td>0.096808</td>\n",
       "      <td>0.030871</td>\n",
       "      <td>0.836226</td>\n",
       "      <td>0.704391</td>\n",
       "      <td>1.322423</td>\n",
       "    </tr>\n",
       "    <tr>\n",
       "      <th>831</th>\n",
       "      <td>ZWE</td>\n",
       "      <td>Zimbabwe</td>\n",
       "      <td>Zimbabwe Dollar</td>\n",
       "      <td>2008</td>\n",
       "      <td>35789.878906</td>\n",
       "      <td>0.187243</td>\n",
       "      <td>0.075830</td>\n",
       "      <td>0.017838</td>\n",
       "      <td>0.812021</td>\n",
       "      <td>0.899782</td>\n",
       "      <td>0.920607</td>\n",
       "    </tr>\n",
       "    <tr>\n",
       "      <th>832</th>\n",
       "      <td>ZWE</td>\n",
       "      <td>Zimbabwe</td>\n",
       "      <td>Zimbabwe Dollar</td>\n",
       "      <td>2009</td>\n",
       "      <td>49294.878906</td>\n",
       "      <td>0.112196</td>\n",
       "      <td>0.211507</td>\n",
       "      <td>0.153393</td>\n",
       "      <td>0.274833</td>\n",
       "      <td>0.375842</td>\n",
       "      <td>3.617210</td>\n",
       "    </tr>\n",
       "    <tr>\n",
       "      <th>833</th>\n",
       "      <td>ZWE</td>\n",
       "      <td>Zimbabwe</td>\n",
       "      <td>Zimbabwe Dollar</td>\n",
       "      <td>2010</td>\n",
       "      <td>51259.152344</td>\n",
       "      <td>0.123692</td>\n",
       "      <td>0.237427</td>\n",
       "      <td>0.168766</td>\n",
       "      <td>0.298547</td>\n",
       "      <td>0.407374</td>\n",
       "      <td>4.071371</td>\n",
       "    </tr>\n",
       "    <tr>\n",
       "      <th>834</th>\n",
       "      <td>ZWE</td>\n",
       "      <td>Zimbabwe</td>\n",
       "      <td>Zimbabwe Dollar</td>\n",
       "      <td>2011</td>\n",
       "      <td>55453.312500</td>\n",
       "      <td>0.140521</td>\n",
       "      <td>0.254450</td>\n",
       "      <td>0.182873</td>\n",
       "      <td>0.296839</td>\n",
       "      <td>0.434173</td>\n",
       "      <td>9.279111</td>\n",
       "    </tr>\n",
       "  </tbody>\n",
       "</table>\n",
       "<p>835 rows × 11 columns</p>\n",
       "</div>"
      ]
     },
     "execution_count": 48,
     "metadata": {},
     "output_type": "execute_result"
    }
   ],
   "source": [
    "pen = pd.read_excel(path,2) \n",
    "pen"
   ]
  },
  {
   "cell_type": "code",
   "execution_count": 49,
   "metadata": {},
   "outputs": [],
   "source": [
    "model = sm.OLS(np.log(pen.rgdpe),sm.add_constant(pen.iloc[:,-6])).fit()"
   ]
  },
  {
   "cell_type": "code",
   "execution_count": 51,
   "metadata": {},
   "outputs": [
    {
     "name": "stdout",
     "output_type": "stream",
     "text": [
      "                            OLS Regression Results                            \n==============================================================================\nDep. Variable:                  rgdpe   R-squared:                       0.006\nModel:                            OLS   Adj. R-squared:                  0.005\nMethod:                 Least Squares   F-statistic:                     4.864\nDate:                Thu, 23 Apr 2020   Prob (F-statistic):             0.0277\nTime:                        08:49:58   Log-Likelihood:                -1811.5\nNo. Observations:                 835   AIC:                             3627.\nDf Residuals:                     833   BIC:                             3636.\nDf Model:                           1                                         \nCovariance Type:            nonrobust                                         \n==============================================================================\n                 coef    std err          t      P>|t|      [0.025      0.975]\n------------------------------------------------------------------------------\nconst         10.4918      0.172     61.144      0.000      10.155      10.829\npl_c           0.4183      0.190      2.206      0.028       0.046       0.791\n==============================================================================\nOmnibus:                        4.958   Durbin-Watson:                   0.378\nProb(Omnibus):                  0.084   Jarque-Bera (JB):                3.770\nSkew:                           0.008   Prob(JB):                        0.152\nKurtosis:                       2.671   Cond. No.                         4.48\n==============================================================================\n\nWarnings:\n[1] Standard Errors assume that the covariance matrix of the errors is correctly specified.\n"
     ]
    }
   ],
   "source": [
    "print(model.summary())"
   ]
  },
  {
   "cell_type": "code",
   "execution_count": 52,
   "metadata": {},
   "outputs": [],
   "source": [
    "model = sm.OLS(np.log(pen.rgdpe),sm.add_constant(pen.iloc[:,-5:-1])).fit()"
   ]
  },
  {
   "cell_type": "code",
   "execution_count": 53,
   "metadata": {},
   "outputs": [
    {
     "name": "stdout",
     "output_type": "stream",
     "text": [
      "                            OLS Regression Results                            \n==============================================================================\nDep. Variable:                  rgdpe   R-squared:                       0.288\nModel:                            OLS   Adj. R-squared:                  0.285\nMethod:                 Least Squares   F-statistic:                     84.00\nDate:                Thu, 23 Apr 2020   Prob (F-statistic):           6.58e-60\nTime:                        08:51:01   Log-Likelihood:                -1672.0\nNo. Observations:                 835   AIC:                             3354.\nDf Residuals:                     830   BIC:                             3378.\nDf Model:                           4                                         \nCovariance Type:            nonrobust                                         \n==============================================================================\n                 coef    std err          t      P>|t|      [0.025      0.975]\n------------------------------------------------------------------------------\nconst          8.3558      0.502     16.631      0.000       7.370       9.342\npl_i          -1.1296      0.105    -10.739      0.000      -1.336      -0.923\npl_g           1.5452      0.129     11.954      0.000       1.292       1.799\npl_x          -3.0228      0.516     -5.862      0.000      -4.035      -2.011\npl_m           6.0596      0.639      9.489      0.000       4.806       7.313\n==============================================================================\nOmnibus:                        0.547   Durbin-Watson:                   0.450\nProb(Omnibus):                  0.761   Jarque-Bera (JB):                0.632\nSkew:                           0.049   Prob(JB):                        0.729\nKurtosis:                       2.908   Cond. No.                         24.4\n==============================================================================\n\nWarnings:\n[1] Standard Errors assume that the covariance matrix of the errors is correctly specified.\n"
     ]
    }
   ],
   "source": [
    "print(model.summary())\n"
   ]
  },
  {
   "cell_type": "code",
   "execution_count": null,
   "metadata": {},
   "outputs": [],
   "source": []
  }
 ],
 "metadata": {
  "kernelspec": {
   "display_name": "Python 2",
   "language": "python",
   "name": "python2"
  },
  "language_info": {
   "codemirror_mode": {
    "name": "ipython",
    "version": 2
   },
   "file_extension": ".py",
   "mimetype": "text/x-python",
   "name": "python",
   "nbconvert_exporter": "python",
   "pygments_lexer": "ipython2",
   "version": "2.7.6"
  }
 },
 "nbformat": 4,
 "nbformat_minor": 0
}
