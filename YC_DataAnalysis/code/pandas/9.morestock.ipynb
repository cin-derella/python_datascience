{
 "cells": [
  {
   "cell_type": "code",
   "execution_count": 1,
   "metadata": {
    "collapsed": true
   },
   "outputs": [],
   "source": [
    "import numpy as np\n",
    "import pandas as pd\n",
    "import tushare as ts"
   ]
  },
  {
   "cell_type": "code",
   "execution_count": 3,
   "metadata": {},
   "outputs": [
    {
     "name": "stdout",
     "output_type": "stream",
     "text": [
      "[Getting data:]"
     ]
    },
    {
     "name": "stdout",
     "output_type": "stream",
     "text": [
      "#"
     ]
    },
    {
     "name": "stdout",
     "output_type": "stream",
     "text": [
      "#"
     ]
    },
    {
     "name": "stdout",
     "output_type": "stream",
     "text": [
      "#"
     ]
    },
    {
     "name": "stdout",
     "output_type": "stream",
     "text": [
      "#"
     ]
    },
    {
     "name": "stdout",
     "output_type": "stream",
     "text": [
      "#"
     ]
    },
    {
     "name": "stdout",
     "output_type": "stream",
     "text": [
      "#"
     ]
    },
    {
     "name": "stdout",
     "output_type": "stream",
     "text": [
      "#"
     ]
    },
    {
     "name": "stdout",
     "output_type": "stream",
     "text": [
      "#"
     ]
    },
    {
     "name": "stdout",
     "output_type": "stream",
     "text": [
      "#"
     ]
    },
    {
     "name": "stdout",
     "output_type": "stream",
     "text": [
      "#"
     ]
    },
    {
     "name": "stdout",
     "output_type": "stream",
     "text": [
      "#"
     ]
    },
    {
     "name": "stdout",
     "output_type": "stream",
     "text": [
      "#"
     ]
    },
    {
     "name": "stdout",
     "output_type": "stream",
     "text": [
      "#"
     ]
    },
    {
     "name": "stdout",
     "output_type": "stream",
     "text": [
      "#"
     ]
    },
    {
     "name": "stdout",
     "output_type": "stream",
     "text": [
      "#"
     ]
    },
    {
     "name": "stdout",
     "output_type": "stream",
     "text": [
      "#"
     ]
    },
    {
     "name": "stdout",
     "output_type": "stream",
     "text": [
      "#"
     ]
    },
    {
     "name": "stdout",
     "output_type": "stream",
     "text": [
      "#"
     ]
    },
    {
     "name": "stdout",
     "output_type": "stream",
     "text": [
      "#"
     ]
    },
    {
     "name": "stdout",
     "output_type": "stream",
     "text": [
      "#"
     ]
    },
    {
     "name": "stdout",
     "output_type": "stream",
     "text": [
      "#"
     ]
    },
    {
     "name": "stdout",
     "output_type": "stream",
     "text": [
      "#"
     ]
    },
    {
     "name": "stdout",
     "output_type": "stream",
     "text": [
      "#"
     ]
    },
    {
     "name": "stdout",
     "output_type": "stream",
     "text": [
      "#"
     ]
    },
    {
     "name": "stdout",
     "output_type": "stream",
     "text": [
      "#"
     ]
    },
    {
     "name": "stdout",
     "output_type": "stream",
     "text": [
      "#"
     ]
    },
    {
     "name": "stdout",
     "output_type": "stream",
     "text": [
      "#"
     ]
    },
    {
     "name": "stdout",
     "output_type": "stream",
     "text": [
      "#"
     ]
    },
    {
     "name": "stdout",
     "output_type": "stream",
     "text": [
      "#"
     ]
    },
    {
     "name": "stdout",
     "output_type": "stream",
     "text": [
      "#"
     ]
    },
    {
     "name": "stdout",
     "output_type": "stream",
     "text": [
      "#"
     ]
    },
    {
     "name": "stdout",
     "output_type": "stream",
     "text": [
      "#"
     ]
    },
    {
     "name": "stdout",
     "output_type": "stream",
     "text": [
      "#"
     ]
    },
    {
     "name": "stdout",
     "output_type": "stream",
     "text": [
      "#"
     ]
    },
    {
     "name": "stdout",
     "output_type": "stream",
     "text": [
      "#"
     ]
    },
    {
     "name": "stdout",
     "output_type": "stream",
     "text": [
      "#"
     ]
    },
    {
     "name": "stdout",
     "output_type": "stream",
     "text": [
      "#"
     ]
    },
    {
     "name": "stdout",
     "output_type": "stream",
     "text": [
      "#"
     ]
    },
    {
     "name": "stdout",
     "output_type": "stream",
     "text": [
      "#"
     ]
    },
    {
     "name": "stdout",
     "output_type": "stream",
     "text": [
      "#"
     ]
    },
    {
     "name": "stdout",
     "output_type": "stream",
     "text": [
      "#"
     ]
    },
    {
     "name": "stdout",
     "output_type": "stream",
     "text": [
      "#"
     ]
    },
    {
     "name": "stdout",
     "output_type": "stream",
     "text": [
      "#"
     ]
    },
    {
     "name": "stdout",
     "output_type": "stream",
     "text": [
      "#"
     ]
    },
    {
     "name": "stdout",
     "output_type": "stream",
     "text": [
      "#"
     ]
    },
    {
     "name": "stdout",
     "output_type": "stream",
     "text": [
      "#"
     ]
    },
    {
     "name": "stdout",
     "output_type": "stream",
     "text": [
      "#"
     ]
    },
    {
     "name": "stdout",
     "output_type": "stream",
     "text": [
      "#"
     ]
    },
    {
     "name": "stdout",
     "output_type": "stream",
     "text": [
      "#"
     ]
    },
    {
     "name": "stdout",
     "output_type": "stream",
     "text": [
      "#"
     ]
    },
    {
     "name": "stdout",
     "output_type": "stream",
     "text": [
      "#"
     ]
    },
    {
     "name": "stdout",
     "output_type": "stream",
     "text": [
      "#"
     ]
    },
    {
     "name": "stdout",
     "output_type": "stream",
     "text": [
      "#"
     ]
    },
    {
     "name": "stdout",
     "output_type": "stream",
     "text": [
      "#"
     ]
    },
    {
     "name": "stdout",
     "output_type": "stream",
     "text": [
      "#"
     ]
    },
    {
     "name": "stdout",
     "output_type": "stream",
     "text": [
      "#"
     ]
    },
    {
     "name": "stdout",
     "output_type": "stream",
     "text": [
      "#"
     ]
    },
    {
     "name": "stdout",
     "output_type": "stream",
     "text": [
      "#"
     ]
    },
    {
     "name": "stdout",
     "output_type": "stream",
     "text": [
      "#"
     ]
    },
    {
     "name": "stdout",
     "output_type": "stream",
     "text": [
      "#"
     ]
    }
   ],
   "source": [
    "todayAll = ts.get_today_all()"
   ]
  },
  {
   "cell_type": "code",
   "execution_count": 5,
   "metadata": {},
   "outputs": [
    {
     "data": {
      "text/html": [
       "<div>\n",
       "<style scoped>\n",
       "    .dataframe tbody tr th:only-of-type {\n",
       "        vertical-align: middle;\n",
       "    }\n",
       "\n",
       "    .dataframe tbody tr th {\n",
       "        vertical-align: top;\n",
       "    }\n",
       "\n",
       "    .dataframe thead th {\n",
       "        text-align: right;\n",
       "    }\n",
       "</style>\n",
       "<table border=\"1\" class=\"dataframe\">\n",
       "  <thead>\n",
       "    <tr style=\"text-align: right;\">\n",
       "      <th></th>\n",
       "      <th>code</th>\n",
       "      <th>name</th>\n",
       "      <th>changepercent</th>\n",
       "      <th>trade</th>\n",
       "      <th>open</th>\n",
       "      <th>high</th>\n",
       "      <th>low</th>\n",
       "      <th>settlement</th>\n",
       "      <th>volume</th>\n",
       "      <th>turnoverratio</th>\n",
       "      <th>amount</th>\n",
       "      <th>per</th>\n",
       "      <th>pb</th>\n",
       "      <th>mktcap</th>\n",
       "      <th>nmc</th>\n",
       "    </tr>\n",
       "  </thead>\n",
       "  <tbody>\n",
       "    <tr>\n",
       "      <th>0</th>\n",
       "      <td>688399</td>\n",
       "      <td>硕世生物</td>\n",
       "      <td>-3.056</td>\n",
       "      <td>92.00</td>\n",
       "      <td>95.95</td>\n",
       "      <td>95.95</td>\n",
       "      <td>88.88</td>\n",
       "      <td>94.90</td>\n",
       "      <td>2404701.0</td>\n",
       "      <td>18.02831</td>\n",
       "      <td>220811322.0</td>\n",
       "      <td>63.448</td>\n",
       "      <td>10.817</td>\n",
       "      <td>5.393040e+05</td>\n",
       "      <td>122713.924000</td>\n",
       "    </tr>\n",
       "    <tr>\n",
       "      <th>1</th>\n",
       "      <td>688398</td>\n",
       "      <td>赛特新材</td>\n",
       "      <td>0.264</td>\n",
       "      <td>45.50</td>\n",
       "      <td>45.88</td>\n",
       "      <td>46.55</td>\n",
       "      <td>45.50</td>\n",
       "      <td>45.38</td>\n",
       "      <td>630312.0</td>\n",
       "      <td>3.46304</td>\n",
       "      <td>28965135.0</td>\n",
       "      <td>36.694</td>\n",
       "      <td>8.332</td>\n",
       "      <td>3.640000e+05</td>\n",
       "      <td>82815.187000</td>\n",
       "    </tr>\n",
       "    <tr>\n",
       "      <th>2</th>\n",
       "      <td>688396</td>\n",
       "      <td>华润微</td>\n",
       "      <td>2.068</td>\n",
       "      <td>34.05</td>\n",
       "      <td>33.91</td>\n",
       "      <td>35.33</td>\n",
       "      <td>33.91</td>\n",
       "      <td>33.36</td>\n",
       "      <td>15961778.0</td>\n",
       "      <td>5.67861</td>\n",
       "      <td>550635419.0</td>\n",
       "      <td>69.689</td>\n",
       "      <td>52.096</td>\n",
       "      <td>4.140225e+06</td>\n",
       "      <td>957097.789140</td>\n",
       "    </tr>\n",
       "    <tr>\n",
       "      <th>3</th>\n",
       "      <td>688389</td>\n",
       "      <td>普门科技</td>\n",
       "      <td>-0.995</td>\n",
       "      <td>20.89</td>\n",
       "      <td>21.08</td>\n",
       "      <td>21.08</td>\n",
       "      <td>20.53</td>\n",
       "      <td>21.10</td>\n",
       "      <td>2127949.0</td>\n",
       "      <td>6.12328</td>\n",
       "      <td>44095797.0</td>\n",
       "      <td>80.346</td>\n",
       "      <td>8.402</td>\n",
       "      <td>8.819758e+05</td>\n",
       "      <td>72596.520645</td>\n",
       "    </tr>\n",
       "    <tr>\n",
       "      <th>4</th>\n",
       "      <td>688388</td>\n",
       "      <td>嘉元科技</td>\n",
       "      <td>4.484</td>\n",
       "      <td>56.85</td>\n",
       "      <td>55.40</td>\n",
       "      <td>58.63</td>\n",
       "      <td>55.40</td>\n",
       "      <td>54.41</td>\n",
       "      <td>3936913.0</td>\n",
       "      <td>7.07100</td>\n",
       "      <td>224886826.0</td>\n",
       "      <td>34.042</td>\n",
       "      <td>5.201</td>\n",
       "      <td>1.312530e+06</td>\n",
       "      <td>316522.937730</td>\n",
       "    </tr>\n",
       "    <tr>\n",
       "      <th>...</th>\n",
       "      <td>...</td>\n",
       "      <td>...</td>\n",
       "      <td>...</td>\n",
       "      <td>...</td>\n",
       "      <td>...</td>\n",
       "      <td>...</td>\n",
       "      <td>...</td>\n",
       "      <td>...</td>\n",
       "      <td>...</td>\n",
       "      <td>...</td>\n",
       "      <td>...</td>\n",
       "      <td>...</td>\n",
       "      <td>...</td>\n",
       "      <td>...</td>\n",
       "      <td>...</td>\n",
       "    </tr>\n",
       "    <tr>\n",
       "      <th>3895</th>\n",
       "      <td>600242</td>\n",
       "      <td>中昌数据</td>\n",
       "      <td>-1.355</td>\n",
       "      <td>7.28</td>\n",
       "      <td>7.33</td>\n",
       "      <td>7.48</td>\n",
       "      <td>7.25</td>\n",
       "      <td>7.38</td>\n",
       "      <td>16007198.0</td>\n",
       "      <td>3.87921</td>\n",
       "      <td>117663317.0</td>\n",
       "      <td>26.963</td>\n",
       "      <td>1.560</td>\n",
       "      <td>3.324522e+05</td>\n",
       "      <td>300402.428872</td>\n",
       "    </tr>\n",
       "    <tr>\n",
       "      <th>3896</th>\n",
       "      <td>600238</td>\n",
       "      <td>ST椰岛</td>\n",
       "      <td>-0.426</td>\n",
       "      <td>4.68</td>\n",
       "      <td>4.71</td>\n",
       "      <td>4.71</td>\n",
       "      <td>4.65</td>\n",
       "      <td>4.70</td>\n",
       "      <td>856700.0</td>\n",
       "      <td>0.19252</td>\n",
       "      <td>4000355.0</td>\n",
       "      <td>52.000</td>\n",
       "      <td>3.139</td>\n",
       "      <td>2.097576e+05</td>\n",
       "      <td>208260.739440</td>\n",
       "    </tr>\n",
       "    <tr>\n",
       "      <th>3897</th>\n",
       "      <td>600234</td>\n",
       "      <td>ST山水</td>\n",
       "      <td>-3.119</td>\n",
       "      <td>9.94</td>\n",
       "      <td>10.26</td>\n",
       "      <td>10.31</td>\n",
       "      <td>9.91</td>\n",
       "      <td>10.26</td>\n",
       "      <td>542370.0</td>\n",
       "      <td>0.26791</td>\n",
       "      <td>5457940.0</td>\n",
       "      <td>124.250</td>\n",
       "      <td>27.383</td>\n",
       "      <td>2.012312e+05</td>\n",
       "      <td>201231.204720</td>\n",
       "    </tr>\n",
       "    <tr>\n",
       "      <th>3898</th>\n",
       "      <td>600228</td>\n",
       "      <td>ST昌九</td>\n",
       "      <td>-2.862</td>\n",
       "      <td>11.20</td>\n",
       "      <td>11.38</td>\n",
       "      <td>11.88</td>\n",
       "      <td>11.20</td>\n",
       "      <td>11.53</td>\n",
       "      <td>6109076.0</td>\n",
       "      <td>2.53152</td>\n",
       "      <td>70344379.0</td>\n",
       "      <td>-476.596</td>\n",
       "      <td>48.972</td>\n",
       "      <td>2.702784e+05</td>\n",
       "      <td>270278.400000</td>\n",
       "    </tr>\n",
       "    <tr>\n",
       "      <th>3899</th>\n",
       "      <td>600217</td>\n",
       "      <td>中再资环</td>\n",
       "      <td>-0.196</td>\n",
       "      <td>5.08</td>\n",
       "      <td>5.10</td>\n",
       "      <td>5.12</td>\n",
       "      <td>5.03</td>\n",
       "      <td>5.09</td>\n",
       "      <td>7380955.0</td>\n",
       "      <td>0.55963</td>\n",
       "      <td>37531641.0</td>\n",
       "      <td>22.310</td>\n",
       "      <td>4.081</td>\n",
       "      <td>7.054392e+05</td>\n",
       "      <td>670006.674208</td>\n",
       "    </tr>\n",
       "  </tbody>\n",
       "</table>\n",
       "<p>3900 rows × 15 columns</p>\n",
       "</div>"
      ],
      "text/plain": [
       "<div>\n",
       "<style scoped>\n",
       "    .dataframe tbody tr th:only-of-type {\n",
       "        vertical-align: middle;\n",
       "    }\n",
       "\n",
       "    .dataframe tbody tr th {\n",
       "        vertical-align: top;\n",
       "    }\n",
       "\n",
       "    .dataframe thead th {\n",
       "        text-align: right;\n",
       "    }\n",
       "</style>\n",
       "<table border=\"1\" class=\"dataframe\">\n",
       "  <thead>\n",
       "    <tr style=\"text-align: right;\">\n",
       "      <th></th>\n",
       "      <th>code</th>\n",
       "      <th>name</th>\n",
       "      <th>changepercent</th>\n",
       "      <th>trade</th>\n",
       "      <th>open</th>\n",
       "      <th>high</th>\n",
       "      <th>low</th>\n",
       "      <th>settlement</th>\n",
       "      <th>volume</th>\n",
       "      <th>turnoverratio</th>\n",
       "      <th>amount</th>\n",
       "      <th>per</th>\n",
       "      <th>pb</th>\n",
       "      <th>mktcap</th>\n",
       "      <th>nmc</th>\n",
       "    </tr>\n",
       "  </thead>\n",
       "  <tbody>\n",
       "    <tr>\n",
       "      <th>0</th>\n",
       "      <td>688399</td>\n",
       "      <td>硕世生物</td>\n",
       "      <td>-3.056</td>\n",
       "      <td>92.00</td>\n",
       "      <td>95.95</td>\n",
       "      <td>95.95</td>\n",
       "      <td>88.88</td>\n",
       "      <td>94.90</td>\n",
       "      <td>2404701.0</td>\n",
       "      <td>18.02831</td>\n",
       "      <td>220811322.0</td>\n",
       "      <td>63.448</td>\n",
       "      <td>10.817</td>\n",
       "      <td>5.393040e+05</td>\n",
       "      <td>122713.924000</td>\n",
       "    </tr>\n",
       "    <tr>\n",
       "      <th>1</th>\n",
       "      <td>688398</td>\n",
       "      <td>赛特新材</td>\n",
       "      <td>0.264</td>\n",
       "      <td>45.50</td>\n",
       "      <td>45.88</td>\n",
       "      <td>46.55</td>\n",
       "      <td>45.50</td>\n",
       "      <td>45.38</td>\n",
       "      <td>630312.0</td>\n",
       "      <td>3.46304</td>\n",
       "      <td>28965135.0</td>\n",
       "      <td>36.694</td>\n",
       "      <td>8.332</td>\n",
       "      <td>3.640000e+05</td>\n",
       "      <td>82815.187000</td>\n",
       "    </tr>\n",
       "    <tr>\n",
       "      <th>2</th>\n",
       "      <td>688396</td>\n",
       "      <td>华润微</td>\n",
       "      <td>2.068</td>\n",
       "      <td>34.05</td>\n",
       "      <td>33.91</td>\n",
       "      <td>35.33</td>\n",
       "      <td>33.91</td>\n",
       "      <td>33.36</td>\n",
       "      <td>15961778.0</td>\n",
       "      <td>5.67861</td>\n",
       "      <td>550635419.0</td>\n",
       "      <td>69.689</td>\n",
       "      <td>52.096</td>\n",
       "      <td>4.140225e+06</td>\n",
       "      <td>957097.789140</td>\n",
       "    </tr>\n",
       "    <tr>\n",
       "      <th>3</th>\n",
       "      <td>688389</td>\n",
       "      <td>普门科技</td>\n",
       "      <td>-0.995</td>\n",
       "      <td>20.89</td>\n",
       "      <td>21.08</td>\n",
       "      <td>21.08</td>\n",
       "      <td>20.53</td>\n",
       "      <td>21.10</td>\n",
       "      <td>2127949.0</td>\n",
       "      <td>6.12328</td>\n",
       "      <td>44095797.0</td>\n",
       "      <td>80.346</td>\n",
       "      <td>8.402</td>\n",
       "      <td>8.819758e+05</td>\n",
       "      <td>72596.520645</td>\n",
       "    </tr>\n",
       "    <tr>\n",
       "      <th>4</th>\n",
       "      <td>688388</td>\n",
       "      <td>嘉元科技</td>\n",
       "      <td>4.484</td>\n",
       "      <td>56.85</td>\n",
       "      <td>55.40</td>\n",
       "      <td>58.63</td>\n",
       "      <td>55.40</td>\n",
       "      <td>54.41</td>\n",
       "      <td>3936913.0</td>\n",
       "      <td>7.07100</td>\n",
       "      <td>224886826.0</td>\n",
       "      <td>34.042</td>\n",
       "      <td>5.201</td>\n",
       "      <td>1.312530e+06</td>\n",
       "      <td>316522.937730</td>\n",
       "    </tr>\n",
       "    <tr>\n",
       "      <th>...</th>\n",
       "      <td>...</td>\n",
       "      <td>...</td>\n",
       "      <td>...</td>\n",
       "      <td>...</td>\n",
       "      <td>...</td>\n",
       "      <td>...</td>\n",
       "      <td>...</td>\n",
       "      <td>...</td>\n",
       "      <td>...</td>\n",
       "      <td>...</td>\n",
       "      <td>...</td>\n",
       "      <td>...</td>\n",
       "      <td>...</td>\n",
       "      <td>...</td>\n",
       "      <td>...</td>\n",
       "    </tr>\n",
       "    <tr>\n",
       "      <th>3895</th>\n",
       "      <td>600242</td>\n",
       "      <td>中昌数据</td>\n",
       "      <td>-1.355</td>\n",
       "      <td>7.28</td>\n",
       "      <td>7.33</td>\n",
       "      <td>7.48</td>\n",
       "      <td>7.25</td>\n",
       "      <td>7.38</td>\n",
       "      <td>16007198.0</td>\n",
       "      <td>3.87921</td>\n",
       "      <td>117663317.0</td>\n",
       "      <td>26.963</td>\n",
       "      <td>1.560</td>\n",
       "      <td>3.324522e+05</td>\n",
       "      <td>300402.428872</td>\n",
       "    </tr>\n",
       "    <tr>\n",
       "      <th>3896</th>\n",
       "      <td>600238</td>\n",
       "      <td>ST椰岛</td>\n",
       "      <td>-0.426</td>\n",
       "      <td>4.68</td>\n",
       "      <td>4.71</td>\n",
       "      <td>4.71</td>\n",
       "      <td>4.65</td>\n",
       "      <td>4.70</td>\n",
       "      <td>856700.0</td>\n",
       "      <td>0.19252</td>\n",
       "      <td>4000355.0</td>\n",
       "      <td>52.000</td>\n",
       "      <td>3.139</td>\n",
       "      <td>2.097576e+05</td>\n",
       "      <td>208260.739440</td>\n",
       "    </tr>\n",
       "    <tr>\n",
       "      <th>3897</th>\n",
       "      <td>600234</td>\n",
       "      <td>ST山水</td>\n",
       "      <td>-3.119</td>\n",
       "      <td>9.94</td>\n",
       "      <td>10.26</td>\n",
       "      <td>10.31</td>\n",
       "      <td>9.91</td>\n",
       "      <td>10.26</td>\n",
       "      <td>542370.0</td>\n",
       "      <td>0.26791</td>\n",
       "      <td>5457940.0</td>\n",
       "      <td>124.250</td>\n",
       "      <td>27.383</td>\n",
       "      <td>2.012312e+05</td>\n",
       "      <td>201231.204720</td>\n",
       "    </tr>\n",
       "    <tr>\n",
       "      <th>3898</th>\n",
       "      <td>600228</td>\n",
       "      <td>ST昌九</td>\n",
       "      <td>-2.862</td>\n",
       "      <td>11.20</td>\n",
       "      <td>11.38</td>\n",
       "      <td>11.88</td>\n",
       "      <td>11.20</td>\n",
       "      <td>11.53</td>\n",
       "      <td>6109076.0</td>\n",
       "      <td>2.53152</td>\n",
       "      <td>70344379.0</td>\n",
       "      <td>-476.596</td>\n",
       "      <td>48.972</td>\n",
       "      <td>2.702784e+05</td>\n",
       "      <td>270278.400000</td>\n",
       "    </tr>\n",
       "    <tr>\n",
       "      <th>3899</th>\n",
       "      <td>600217</td>\n",
       "      <td>中再资环</td>\n",
       "      <td>-0.196</td>\n",
       "      <td>5.08</td>\n",
       "      <td>5.10</td>\n",
       "      <td>5.12</td>\n",
       "      <td>5.03</td>\n",
       "      <td>5.09</td>\n",
       "      <td>7380955.0</td>\n",
       "      <td>0.55963</td>\n",
       "      <td>37531641.0</td>\n",
       "      <td>22.310</td>\n",
       "      <td>4.081</td>\n",
       "      <td>7.054392e+05</td>\n",
       "      <td>670006.674208</td>\n",
       "    </tr>\n",
       "  </tbody>\n",
       "</table>\n",
       "<p>3900 rows × 15 columns</p>\n",
       "</div>"
      ]
     },
     "execution_count": 5,
     "metadata": {},
     "output_type": "execute_result"
    }
   ],
   "source": [
    "todayAll"
   ]
  },
  {
   "cell_type": "code",
   "execution_count": 6,
   "metadata": {},
   "outputs": [
    {
     "data": {
      "text/plain": [
       "58500"
      ]
     },
     "execution_count": 6,
     "metadata": {},
     "output_type": "execute_result"
    }
   ],
   "source": [
    "todayAll.size"
   ]
  },
  {
   "cell_type": "code",
   "execution_count": 9,
   "metadata": {},
   "outputs": [
    {
     "data": {
      "text/plain": [
       "Index(['code', 'name', 'changepercent', 'trade', 'open', 'high', 'low',\n       'settlement', 'volume', 'turnoverratio', 'amount', 'per', 'pb',\n       'mktcap', 'nmc'],\n      dtype='object')"
      ]
     },
     "execution_count": 9,
     "metadata": {},
     "output_type": "execute_result"
    }
   ],
   "source": [
    "todayAll.columns"
   ]
  },
  {
   "cell_type": "code",
   "execution_count": 10,
   "metadata": {},
   "outputs": [
    {
     "data": {
      "text/plain": [
       "RangeIndex(start=0, stop=3900, step=1)"
      ]
     },
     "execution_count": 10,
     "metadata": {},
     "output_type": "execute_result"
    }
   ],
   "source": [
    "todayAll.index"
   ]
  },
  {
   "cell_type": "code",
   "execution_count": 11,
   "metadata": {},
   "outputs": [
    {
     "data": {
      "text/plain": [
       "(3900, 15)"
      ]
     },
     "execution_count": 11,
     "metadata": {},
     "output_type": "execute_result"
    }
   ],
   "source": [
    "todayAll.shape"
   ]
  },
  {
   "cell_type": "code",
   "execution_count": 12,
   "metadata": {},
   "outputs": [
    {
     "data": {
      "text/html": [
       "<div>\n",
       "<style scoped>\n",
       "    .dataframe tbody tr th:only-of-type {\n",
       "        vertical-align: middle;\n",
       "    }\n",
       "\n",
       "    .dataframe tbody tr th {\n",
       "        vertical-align: top;\n",
       "    }\n",
       "\n",
       "    .dataframe thead th {\n",
       "        text-align: right;\n",
       "    }\n",
       "</style>\n",
       "<table border=\"1\" class=\"dataframe\">\n",
       "  <thead>\n",
       "    <tr style=\"text-align: right;\">\n",
       "      <th></th>\n",
       "      <th>name</th>\n",
       "      <th>code</th>\n",
       "    </tr>\n",
       "  </thead>\n",
       "  <tbody>\n",
       "    <tr>\n",
       "      <th>0</th>\n",
       "      <td>硕世生物</td>\n",
       "      <td>688399</td>\n",
       "    </tr>\n",
       "    <tr>\n",
       "      <th>1</th>\n",
       "      <td>赛特新材</td>\n",
       "      <td>688398</td>\n",
       "    </tr>\n",
       "    <tr>\n",
       "      <th>2</th>\n",
       "      <td>华润微</td>\n",
       "      <td>688396</td>\n",
       "    </tr>\n",
       "    <tr>\n",
       "      <th>3</th>\n",
       "      <td>普门科技</td>\n",
       "      <td>688389</td>\n",
       "    </tr>\n",
       "    <tr>\n",
       "      <th>4</th>\n",
       "      <td>嘉元科技</td>\n",
       "      <td>688388</td>\n",
       "    </tr>\n",
       "    <tr>\n",
       "      <th>...</th>\n",
       "      <td>...</td>\n",
       "      <td>...</td>\n",
       "    </tr>\n",
       "    <tr>\n",
       "      <th>3895</th>\n",
       "      <td>中昌数据</td>\n",
       "      <td>600242</td>\n",
       "    </tr>\n",
       "    <tr>\n",
       "      <th>3896</th>\n",
       "      <td>ST椰岛</td>\n",
       "      <td>600238</td>\n",
       "    </tr>\n",
       "    <tr>\n",
       "      <th>3897</th>\n",
       "      <td>ST山水</td>\n",
       "      <td>600234</td>\n",
       "    </tr>\n",
       "    <tr>\n",
       "      <th>3898</th>\n",
       "      <td>ST昌九</td>\n",
       "      <td>600228</td>\n",
       "    </tr>\n",
       "    <tr>\n",
       "      <th>3899</th>\n",
       "      <td>中再资环</td>\n",
       "      <td>600217</td>\n",
       "    </tr>\n",
       "  </tbody>\n",
       "</table>\n",
       "<p>3900 rows × 2 columns</p>\n",
       "</div>"
      ],
      "text/plain": [
       "<div>\n",
       "<style scoped>\n",
       "    .dataframe tbody tr th:only-of-type {\n",
       "        vertical-align: middle;\n",
       "    }\n",
       "\n",
       "    .dataframe tbody tr th {\n",
       "        vertical-align: top;\n",
       "    }\n",
       "\n",
       "    .dataframe thead th {\n",
       "        text-align: right;\n",
       "    }\n",
       "</style>\n",
       "<table border=\"1\" class=\"dataframe\">\n",
       "  <thead>\n",
       "    <tr style=\"text-align: right;\">\n",
       "      <th></th>\n",
       "      <th>name</th>\n",
       "      <th>code</th>\n",
       "    </tr>\n",
       "  </thead>\n",
       "  <tbody>\n",
       "    <tr>\n",
       "      <th>0</th>\n",
       "      <td>硕世生物</td>\n",
       "      <td>688399</td>\n",
       "    </tr>\n",
       "    <tr>\n",
       "      <th>1</th>\n",
       "      <td>赛特新材</td>\n",
       "      <td>688398</td>\n",
       "    </tr>\n",
       "    <tr>\n",
       "      <th>2</th>\n",
       "      <td>华润微</td>\n",
       "      <td>688396</td>\n",
       "    </tr>\n",
       "    <tr>\n",
       "      <th>3</th>\n",
       "      <td>普门科技</td>\n",
       "      <td>688389</td>\n",
       "    </tr>\n",
       "    <tr>\n",
       "      <th>4</th>\n",
       "      <td>嘉元科技</td>\n",
       "      <td>688388</td>\n",
       "    </tr>\n",
       "    <tr>\n",
       "      <th>...</th>\n",
       "      <td>...</td>\n",
       "      <td>...</td>\n",
       "    </tr>\n",
       "    <tr>\n",
       "      <th>3895</th>\n",
       "      <td>中昌数据</td>\n",
       "      <td>600242</td>\n",
       "    </tr>\n",
       "    <tr>\n",
       "      <th>3896</th>\n",
       "      <td>ST椰岛</td>\n",
       "      <td>600238</td>\n",
       "    </tr>\n",
       "    <tr>\n",
       "      <th>3897</th>\n",
       "      <td>ST山水</td>\n",
       "      <td>600234</td>\n",
       "    </tr>\n",
       "    <tr>\n",
       "      <th>3898</th>\n",
       "      <td>ST昌九</td>\n",
       "      <td>600228</td>\n",
       "    </tr>\n",
       "    <tr>\n",
       "      <th>3899</th>\n",
       "      <td>中再资环</td>\n",
       "      <td>600217</td>\n",
       "    </tr>\n",
       "  </tbody>\n",
       "</table>\n",
       "<p>3900 rows × 2 columns</p>\n",
       "</div>"
      ]
     },
     "execution_count": 12,
     "metadata": {},
     "output_type": "execute_result"
    }
   ],
   "source": [
    "todayAll[['name','code']]"
   ]
  },
  {
   "cell_type": "code",
   "execution_count": null,
   "metadata": {},
   "outputs": [],
   "source": []
  }
 ],
 "metadata": {
  "kernelspec": {
   "display_name": "Python 2",
   "language": "python",
   "name": "python2"
  },
  "language_info": {
   "codemirror_mode": {
    "name": "ipython",
    "version": 2
   },
   "file_extension": ".py",
   "mimetype": "text/x-python",
   "name": "python",
   "nbconvert_exporter": "python",
   "pygments_lexer": "ipython2",
   "version": "2.7.6"
  }
 },
 "nbformat": 4,
 "nbformat_minor": 0
}
