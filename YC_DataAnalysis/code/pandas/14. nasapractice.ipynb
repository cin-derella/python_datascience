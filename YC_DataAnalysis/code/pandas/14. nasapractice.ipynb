{
 "cells": [
  {
   "cell_type": "code",
   "execution_count": 1,
   "metadata": {
    "collapsed": true
   },
   "outputs": [],
   "source": [
    "import numpy as np\n",
    "import pandas as pd"
   ]
  },
  {
   "cell_type": "code",
   "execution_count": 2,
   "metadata": {},
   "outputs": [
    {
     "data": {
      "text/html": [
       "<div>\n",
       "<style scoped>\n",
       "    .dataframe tbody tr th:only-of-type {\n",
       "        vertical-align: middle;\n",
       "    }\n",
       "\n",
       "    .dataframe tbody tr th {\n",
       "        vertical-align: top;\n",
       "    }\n",
       "\n",
       "    .dataframe thead th {\n",
       "        text-align: right;\n",
       "    }\n",
       "</style>\n",
       "<table border=\"1\" class=\"dataframe\">\n",
       "  <thead>\n",
       "    <tr style=\"text-align: right;\">\n",
       "      <th></th>\n",
       "      <th>会员ID</th>\n",
       "      <th>姓名</th>\n",
       "      <th>性别</th>\n",
       "      <th>年龄</th>\n",
       "      <th>身高</th>\n",
       "      <th>学历</th>\n",
       "      <th>婚否</th>\n",
       "      <th>所在地</th>\n",
       "      <th>星座</th>\n",
       "      <th>职业</th>\n",
       "      <th>...</th>\n",
       "      <th>愿意/可能前往</th>\n",
       "      <th>服务收费/支付能力</th>\n",
       "      <th>伴游经验</th>\n",
       "      <th>服务内容/需求服务</th>\n",
       "      <th>伴游心情/其他说明</th>\n",
       "      <th>最方便联系时间</th>\n",
       "      <th>联系电话</th>\n",
       "      <th>Email</th>\n",
       "      <th>博客</th>\n",
       "      <th>QQ</th>\n",
       "    </tr>\n",
       "  </thead>\n",
       "  <tbody>\n",
       "    <tr>\n",
       "      <th>0</th>\n",
       "      <td>127740</td>\n",
       "      <td>1小姐</td>\n",
       "      <td>女</td>\n",
       "      <td>22</td>\n",
       "      <td>166</td>\n",
       "      <td>本科</td>\n",
       "      <td>未婚</td>\n",
       "      <td>合肥</td>\n",
       "      <td>山羊座</td>\n",
       "      <td>编辑</td>\n",
       "      <td>...</td>\n",
       "      <td>安徽,浙江,江苏,上海</td>\n",
       "      <td>面议元/天</td>\n",
       "      <td>初次接触</td>\n",
       "      <td>商务伴游,私人伴游,交友伴游,景点伴游</td>\n",
       "      <td>本人今年22岁，半年前大学毕业，平时在上海工作，放假时回安徽。有意可以联系我哦。另外我是大叔...</td>\n",
       "      <td>0:00—23:00</td>\n",
       "      <td>15755106787</td>\n",
       "      <td>1718560307@qq.com</td>\n",
       "      <td>http://www.banyou.com/</td>\n",
       "      <td>1718560307</td>\n",
       "    </tr>\n",
       "    <tr>\n",
       "      <th>1</th>\n",
       "      <td>88548</td>\n",
       "      <td>n小姐</td>\n",
       "      <td>女</td>\n",
       "      <td>22</td>\n",
       "      <td>162</td>\n",
       "      <td>本科</td>\n",
       "      <td>未婚</td>\n",
       "      <td>合肥</td>\n",
       "      <td>山羊座</td>\n",
       "      <td>在校学生</td>\n",
       "      <td>...</td>\n",
       "      <td>安徽,合肥</td>\n",
       "      <td>面议元/天</td>\n",
       "      <td>初次接触</td>\n",
       "      <td>私人伴游</td>\n",
       "      <td>希望游客素质比较好，相互尊重，出言不逊者请勿扰。比较好奇，没试过。通过连接看到的，所以就注册...</td>\n",
       "      <td>8:00—23:00</td>\n",
       "      <td>未认证暂不开放或已设置成永久保密</td>\n",
       "      <td>2574230157@qq.com</td>\n",
       "      <td>http://www.banyou.com/</td>\n",
       "      <td>2574230157</td>\n",
       "    </tr>\n",
       "    <tr>\n",
       "      <th>2</th>\n",
       "      <td>31122</td>\n",
       "      <td>张小姐</td>\n",
       "      <td>女</td>\n",
       "      <td>24</td>\n",
       "      <td>166</td>\n",
       "      <td>本科</td>\n",
       "      <td>未婚</td>\n",
       "      <td>合肥</td>\n",
       "      <td>双鱼座</td>\n",
       "      <td>行政</td>\n",
       "      <td>...</td>\n",
       "      <td>安徽,合肥</td>\n",
       "      <td>面议元/天</td>\n",
       "      <td>初次接触</td>\n",
       "      <td>私人伴游</td>\n",
       "      <td>我大学毕业时间不长，有点孤单，希望多认识一些朋友！希望认识全国各地的朋友，希望能带来一些快乐</td>\n",
       "      <td>8:00—23:00</td>\n",
       "      <td>15023283174</td>\n",
       "      <td>271943774@qq.com</td>\n",
       "      <td>http://www.tripby.net/</td>\n",
       "      <td>271943774</td>\n",
       "    </tr>\n",
       "    <tr>\n",
       "      <th>3</th>\n",
       "      <td>51934</td>\n",
       "      <td>雷小姐</td>\n",
       "      <td>女</td>\n",
       "      <td>21</td>\n",
       "      <td>166</td>\n",
       "      <td>本科</td>\n",
       "      <td>未婚</td>\n",
       "      <td>铜陵</td>\n",
       "      <td>处女座</td>\n",
       "      <td>办公室职员</td>\n",
       "      <td>...</td>\n",
       "      <td>安徽,铜陵,马鞍山,芜湖,安庆,合肥</td>\n",
       "      <td>面议元/天</td>\n",
       "      <td>初次接触</td>\n",
       "      <td>学生伴游,商务伴游,私人伴游,交友伴游,景点伴游</td>\n",
       "      <td>我是一个年轻、有活力、性格开朗、有正当职业的女性。因经济原因，所以兼职。最好是景点伴游或者商...</td>\n",
       "      <td>8:00—20:00</td>\n",
       "      <td>18256271009</td>\n",
       "      <td>641946814@qq.com</td>\n",
       "      <td>http://www.tripby.net/</td>\n",
       "      <td>641946814</td>\n",
       "    </tr>\n",
       "    <tr>\n",
       "      <th>4</th>\n",
       "      <td>55171</td>\n",
       "      <td>h小姐</td>\n",
       "      <td>女</td>\n",
       "      <td>26</td>\n",
       "      <td>160</td>\n",
       "      <td>大专</td>\n",
       "      <td>未婚</td>\n",
       "      <td>铜陵</td>\n",
       "      <td>处女座</td>\n",
       "      <td>办公室职员</td>\n",
       "      <td>...</td>\n",
       "      <td>安徽</td>\n",
       "      <td>面议元/天</td>\n",
       "      <td>初次接触</td>\n",
       "      <td>私人伴游,交友伴游</td>\n",
       "      <td>我是刚注册的,我也喜欢旅游,所以希望能交个朋友来开始开心的旅程.</td>\n",
       "      <td>8:00—22:00</td>\n",
       "      <td>13655626954</td>\n",
       "      <td>cherubhe@126.com</td>\n",
       "      <td>NaN</td>\n",
       "      <td>1632914093</td>\n",
       "    </tr>\n",
       "  </tbody>\n",
       "</table>\n",
       "<p>5 rows × 21 columns</p>\n",
       "</div>"
      ],
      "text/plain": [
       "<div>\n",
       "<style scoped>\n",
       "    .dataframe tbody tr th:only-of-type {\n",
       "        vertical-align: middle;\n",
       "    }\n",
       "\n",
       "    .dataframe tbody tr th {\n",
       "        vertical-align: top;\n",
       "    }\n",
       "\n",
       "    .dataframe thead th {\n",
       "        text-align: right;\n",
       "    }\n",
       "</style>\n",
       "<table border=\"1\" class=\"dataframe\">\n",
       "  <thead>\n",
       "    <tr style=\"text-align: right;\">\n",
       "      <th></th>\n",
       "      <th>会员ID</th>\n",
       "      <th>姓名</th>\n",
       "      <th>性别</th>\n",
       "      <th>年龄</th>\n",
       "      <th>身高</th>\n",
       "      <th>学历</th>\n",
       "      <th>婚否</th>\n",
       "      <th>所在地</th>\n",
       "      <th>星座</th>\n",
       "      <th>职业</th>\n",
       "      <th>...</th>\n",
       "      <th>愿意/可能前往</th>\n",
       "      <th>服务收费/支付能力</th>\n",
       "      <th>伴游经验</th>\n",
       "      <th>服务内容/需求服务</th>\n",
       "      <th>伴游心情/其他说明</th>\n",
       "      <th>最方便联系时间</th>\n",
       "      <th>联系电话</th>\n",
       "      <th>Email</th>\n",
       "      <th>博客</th>\n",
       "      <th>QQ</th>\n",
       "    </tr>\n",
       "  </thead>\n",
       "  <tbody>\n",
       "    <tr>\n",
       "      <th>0</th>\n",
       "      <td>127740</td>\n",
       "      <td>1小姐</td>\n",
       "      <td>女</td>\n",
       "      <td>22</td>\n",
       "      <td>166</td>\n",
       "      <td>本科</td>\n",
       "      <td>未婚</td>\n",
       "      <td>合肥</td>\n",
       "      <td>山羊座</td>\n",
       "      <td>编辑</td>\n",
       "      <td>...</td>\n",
       "      <td>安徽,浙江,江苏,上海</td>\n",
       "      <td>面议元/天</td>\n",
       "      <td>初次接触</td>\n",
       "      <td>商务伴游,私人伴游,交友伴游,景点伴游</td>\n",
       "      <td>本人今年22岁，半年前大学毕业，平时在上海工作，放假时回安徽。有意可以联系我哦。另外我是大叔...</td>\n",
       "      <td>0:00—23:00</td>\n",
       "      <td>15755106787</td>\n",
       "      <td>1718560307@qq.com</td>\n",
       "      <td>http://www.banyou.com/</td>\n",
       "      <td>1718560307</td>\n",
       "    </tr>\n",
       "    <tr>\n",
       "      <th>1</th>\n",
       "      <td>88548</td>\n",
       "      <td>n小姐</td>\n",
       "      <td>女</td>\n",
       "      <td>22</td>\n",
       "      <td>162</td>\n",
       "      <td>本科</td>\n",
       "      <td>未婚</td>\n",
       "      <td>合肥</td>\n",
       "      <td>山羊座</td>\n",
       "      <td>在校学生</td>\n",
       "      <td>...</td>\n",
       "      <td>安徽,合肥</td>\n",
       "      <td>面议元/天</td>\n",
       "      <td>初次接触</td>\n",
       "      <td>私人伴游</td>\n",
       "      <td>希望游客素质比较好，相互尊重，出言不逊者请勿扰。比较好奇，没试过。通过连接看到的，所以就注册...</td>\n",
       "      <td>8:00—23:00</td>\n",
       "      <td>未认证暂不开放或已设置成永久保密</td>\n",
       "      <td>2574230157@qq.com</td>\n",
       "      <td>http://www.banyou.com/</td>\n",
       "      <td>2574230157</td>\n",
       "    </tr>\n",
       "    <tr>\n",
       "      <th>2</th>\n",
       "      <td>31122</td>\n",
       "      <td>张小姐</td>\n",
       "      <td>女</td>\n",
       "      <td>24</td>\n",
       "      <td>166</td>\n",
       "      <td>本科</td>\n",
       "      <td>未婚</td>\n",
       "      <td>合肥</td>\n",
       "      <td>双鱼座</td>\n",
       "      <td>行政</td>\n",
       "      <td>...</td>\n",
       "      <td>安徽,合肥</td>\n",
       "      <td>面议元/天</td>\n",
       "      <td>初次接触</td>\n",
       "      <td>私人伴游</td>\n",
       "      <td>我大学毕业时间不长，有点孤单，希望多认识一些朋友！希望认识全国各地的朋友，希望能带来一些快乐</td>\n",
       "      <td>8:00—23:00</td>\n",
       "      <td>15023283174</td>\n",
       "      <td>271943774@qq.com</td>\n",
       "      <td>http://www.tripby.net/</td>\n",
       "      <td>271943774</td>\n",
       "    </tr>\n",
       "    <tr>\n",
       "      <th>3</th>\n",
       "      <td>51934</td>\n",
       "      <td>雷小姐</td>\n",
       "      <td>女</td>\n",
       "      <td>21</td>\n",
       "      <td>166</td>\n",
       "      <td>本科</td>\n",
       "      <td>未婚</td>\n",
       "      <td>铜陵</td>\n",
       "      <td>处女座</td>\n",
       "      <td>办公室职员</td>\n",
       "      <td>...</td>\n",
       "      <td>安徽,铜陵,马鞍山,芜湖,安庆,合肥</td>\n",
       "      <td>面议元/天</td>\n",
       "      <td>初次接触</td>\n",
       "      <td>学生伴游,商务伴游,私人伴游,交友伴游,景点伴游</td>\n",
       "      <td>我是一个年轻、有活力、性格开朗、有正当职业的女性。因经济原因，所以兼职。最好是景点伴游或者商...</td>\n",
       "      <td>8:00—20:00</td>\n",
       "      <td>18256271009</td>\n",
       "      <td>641946814@qq.com</td>\n",
       "      <td>http://www.tripby.net/</td>\n",
       "      <td>641946814</td>\n",
       "    </tr>\n",
       "    <tr>\n",
       "      <th>4</th>\n",
       "      <td>55171</td>\n",
       "      <td>h小姐</td>\n",
       "      <td>女</td>\n",
       "      <td>26</td>\n",
       "      <td>160</td>\n",
       "      <td>大专</td>\n",
       "      <td>未婚</td>\n",
       "      <td>铜陵</td>\n",
       "      <td>处女座</td>\n",
       "      <td>办公室职员</td>\n",
       "      <td>...</td>\n",
       "      <td>安徽</td>\n",
       "      <td>面议元/天</td>\n",
       "      <td>初次接触</td>\n",
       "      <td>私人伴游,交友伴游</td>\n",
       "      <td>我是刚注册的,我也喜欢旅游,所以希望能交个朋友来开始开心的旅程.</td>\n",
       "      <td>8:00—22:00</td>\n",
       "      <td>13655626954</td>\n",
       "      <td>cherubhe@126.com</td>\n",
       "      <td>NaN</td>\n",
       "      <td>1632914093</td>\n",
       "    </tr>\n",
       "  </tbody>\n",
       "</table>\n",
       "<p>5 rows × 21 columns</p>\n",
       "</div>"
      ]
     },
     "execution_count": 2,
     "metadata": {},
     "output_type": "execute_result"
    }
   ],
   "source": [
    "nasa = pd.read_table(r'../YCdata/nasa.txt')\n",
    "nasa.head(5)"
   ]
  },
  {
   "cell_type": "code",
   "execution_count": 4,
   "metadata": {},
   "outputs": [
    {
     "data": {
      "text/plain": [
       "'22'"
      ]
     },
     "execution_count": 4,
     "metadata": {},
     "output_type": "execute_result"
    }
   ],
   "source": [
    "nasa['年龄'][0]"
   ]
  },
  {
   "cell_type": "code",
   "execution_count": 6,
   "metadata": {},
   "outputs": [
    {
     "data": {
      "text/plain": [
       "21    1359\n22    1320\n20    1119\n23    1012\n24     809\n19     677\n25     508\n26     335\n27     245\n18     206\n28     151\n29     133\n32     119\n30     111\n31     111\n33     102\n34      84\n年龄      30\n39      30\n35      28\n38      25\n37      21\n36      21\n40      14\n58       3\n55       2\n52       2\n42       2\n46       1\n47       1\n43       1\n62       1\nName: 年龄, dtype: int64"
      ]
     },
     "execution_count": 6,
     "metadata": {},
     "output_type": "execute_result"
    }
   ],
   "source": [
    "nasa['年龄'].value_counts()"
   ]
  },
  {
   "cell_type": "code",
   "execution_count": 8,
   "metadata": {},
   "outputs": [],
   "source": [
    "def str2int(intstr):\n",
    "    try:\n",
    "        return int(intstr)\n",
    "    except:\n",
    "        return np.nan"
   ]
  },
  {
   "cell_type": "code",
   "execution_count": 10,
   "metadata": {},
   "outputs": [
    {
     "data": {
      "text/plain": [
       "30"
      ]
     },
     "execution_count": 10,
     "metadata": {},
     "output_type": "execute_result"
    }
   ],
   "source": [
    "nasa['年龄'] = nasa['年龄'].map(str2int)\n",
    "nasa['年龄'].isnull().sum()"
   ]
  },
  {
   "cell_type": "code",
   "execution_count": 11,
   "metadata": {},
   "outputs": [
    {
     "data": {
      "text/plain": [
       "Int64Index([  60, 1938, 2078, 2090, 3020, 3071, 3097, 3210, 3357, 3434, 3510,\n            4219, 4326, 4351, 4358, 4530, 5012, 6626, 6818, 6876, 7227, 7239,\n            7280, 7536, 7581, 8058, 8130, 8218, 8376, 8401],\n           dtype='int64')"
      ]
     },
     "execution_count": 11,
     "metadata": {},
     "output_type": "execute_result"
    }
   ],
   "source": [
    "nasa[nasa['年龄'].isnull()].index"
   ]
  },
  {
   "cell_type": "code",
   "execution_count": 12,
   "metadata": {},
   "outputs": [],
   "source": [
    "nasaAge = nasa.drop(nasa[nasa['年龄'].isnull()].index)"
   ]
  },
  {
   "cell_type": "code",
   "execution_count": 13,
   "metadata": {},
   "outputs": [
    {
     "data": {
      "text/plain": [
       "(8583, 21)"
      ]
     },
     "execution_count": 13,
     "metadata": {},
     "output_type": "execute_result"
    }
   ],
   "source": [
    "nasa.shape"
   ]
  },
  {
   "cell_type": "code",
   "execution_count": 14,
   "metadata": {},
   "outputs": [
    {
     "data": {
      "text/plain": [
       "(8553, 21)"
      ]
     },
     "execution_count": 14,
     "metadata": {},
     "output_type": "execute_result"
    }
   ],
   "source": [
    "nasaAge.shape"
   ]
  },
  {
   "cell_type": "code",
   "execution_count": 15,
   "metadata": {},
   "outputs": [
    {
     "data": {
      "text/plain": [
       "<pandas.core.groupby.generic.SeriesGroupBy object at 0x1149b32d0>"
      ]
     },
     "execution_count": 15,
     "metadata": {},
     "output_type": "execute_result"
    }
   ],
   "source": [
    "result = nasaAge.groupby('学历')['年龄']\n",
    "result"
   ]
  },
  {
   "cell_type": "code",
   "execution_count": 17,
   "metadata": {},
   "outputs": [
    {
     "data": {
      "text/plain": [
       "0       22.0\n1       22.0\n2       24.0\n3       21.0\n4       26.0\n5       23.0\n7       21.0\n9       23.0\n10      22.0\n11      22.0\n12      21.0\n13      22.0\n19      29.0\n21      22.0\n24      24.0\n25      22.0\n28      20.0\n30      29.0\n31      18.0\n39      22.0\n65      20.0\n177     25.0\n207     27.0\n256     21.0\n265     25.0\n306     19.0\n546     34.0\n1605    21.0\n2065    21.0\n2079    24.0\n2142    29.0\n2509    34.0\n2797    27.0\n5929    23.0\nName: 年龄, dtype: float64"
      ]
     },
     "execution_count": 17,
     "metadata": {},
     "output_type": "execute_result"
    }
   ],
   "source": [
    "result.head(5)"
   ]
  },
  {
   "cell_type": "code",
   "execution_count": 24,
   "metadata": {},
   "outputs": [],
   "source": [
    "def age_mean(group): #求学历的平均值\n",
    "    if group.size <10: # 样本控制，有10个取平均值\n",
    "        return np.nan\n",
    "    return group.mean()"
   ]
  },
  {
   "cell_type": "code",
   "execution_count": 25,
   "metadata": {},
   "outputs": [
    {
     "data": {
      "text/plain": [
       "学历\n{xueli}                    NaN\n中专                   22.696361\n博士                   30.535714\n大&#65533;\u0010                 NaN\n大专                   23.068493\n本&#65533;&#65533;          NaN\n本科                   23.102022\n硕士                   26.372093\n高中                   23.352528\nName: 年龄, dtype: float64"
      ]
     },
     "execution_count": 25,
     "metadata": {},
     "output_type": "execute_result"
    }
   ],
   "source": [
    "lastResult = result.apply(age_mean)\n",
    "lastResult.head(20)"
   ]
  },
  {
   "cell_type": "code",
   "execution_count": 28,
   "metadata": {},
   "outputs": [],
   "source": [
    "%matplotlib inline  \n"
   ]
  },
  {
   "cell_type": "code",
   "execution_count": null,
   "metadata": {},
   "outputs": [],
   "source": [
    "lastResult[:].plot()"
   ]
  }
 ],
 "metadata": {
  "kernelspec": {
   "display_name": "Python 2",
   "language": "python",
   "name": "python2"
  },
  "language_info": {
   "codemirror_mode": {
    "name": "ipython",
    "version": 2
   },
   "file_extension": ".py",
   "mimetype": "text/x-python",
   "name": "python",
   "nbconvert_exporter": "python",
   "pygments_lexer": "ipython2",
   "version": "2.7.6"
  }
 },
 "nbformat": 4,
 "nbformat_minor": 0
}
