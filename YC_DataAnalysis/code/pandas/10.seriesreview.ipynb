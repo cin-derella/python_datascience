{
 "cells": [
  {
   "cell_type": "code",
   "execution_count": 14,
   "metadata": {
    "collapsed": true
   },
   "outputs": [],
   "source": [
    "import numpy as np\n",
    "import pandas as pd\n",
    "import tushare as ts"
   ]
  },
  {
   "cell_type": "code",
   "execution_count": 19,
   "metadata": {},
   "outputs": [
    {
     "data": {
      "text/html": [
       "<div>\n",
       "<style scoped>\n",
       "    .dataframe tbody tr th:only-of-type {\n",
       "        vertical-align: middle;\n",
       "    }\n",
       "\n",
       "    .dataframe tbody tr th {\n",
       "        vertical-align: top;\n",
       "    }\n",
       "\n",
       "    .dataframe thead th {\n",
       "        text-align: right;\n",
       "    }\n",
       "</style>\n",
       "<table border=\"1\" class=\"dataframe\">\n",
       "  <thead>\n",
       "    <tr style=\"text-align: right;\">\n",
       "      <th></th>\n",
       "      <th>time</th>\n",
       "      <th>price</th>\n",
       "      <th>change</th>\n",
       "      <th>volume</th>\n",
       "      <th>amount</th>\n",
       "      <th>type</th>\n",
       "    </tr>\n",
       "  </thead>\n",
       "  <tbody>\n",
       "    <tr>\n",
       "      <th>0</th>\n",
       "      <td>09:30:03</td>\n",
       "      <td>20.68</td>\n",
       "      <td>0.03</td>\n",
       "      <td>24</td>\n",
       "      <td>49616</td>\n",
       "      <td>买盘</td>\n",
       "    </tr>\n",
       "    <tr>\n",
       "      <th>1</th>\n",
       "      <td>09:30:05</td>\n",
       "      <td>20.70</td>\n",
       "      <td>0.02</td>\n",
       "      <td>1</td>\n",
       "      <td>2070</td>\n",
       "      <td>卖盘</td>\n",
       "    </tr>\n",
       "    <tr>\n",
       "      <th>2</th>\n",
       "      <td>09:30:15</td>\n",
       "      <td>20.77</td>\n",
       "      <td>0.07</td>\n",
       "      <td>2</td>\n",
       "      <td>4152</td>\n",
       "      <td>买盘</td>\n",
       "    </tr>\n",
       "    <tr>\n",
       "      <th>3</th>\n",
       "      <td>09:30:26</td>\n",
       "      <td>20.78</td>\n",
       "      <td>0.01</td>\n",
       "      <td>8</td>\n",
       "      <td>16617</td>\n",
       "      <td>买盘</td>\n",
       "    </tr>\n",
       "    <tr>\n",
       "      <th>4</th>\n",
       "      <td>09:30:33</td>\n",
       "      <td>20.78</td>\n",
       "      <td>0.00</td>\n",
       "      <td>9</td>\n",
       "      <td>18702</td>\n",
       "      <td>卖盘</td>\n",
       "    </tr>\n",
       "    <tr>\n",
       "      <th>5</th>\n",
       "      <td>09:30:36</td>\n",
       "      <td>20.79</td>\n",
       "      <td>0.01</td>\n",
       "      <td>9</td>\n",
       "      <td>18711</td>\n",
       "      <td>买盘</td>\n",
       "    </tr>\n",
       "    <tr>\n",
       "      <th>6</th>\n",
       "      <td>09:30:42</td>\n",
       "      <td>20.78</td>\n",
       "      <td>-0.01</td>\n",
       "      <td>5</td>\n",
       "      <td>10388</td>\n",
       "      <td>买盘</td>\n",
       "    </tr>\n",
       "    <tr>\n",
       "      <th>7</th>\n",
       "      <td>09:30:45</td>\n",
       "      <td>20.78</td>\n",
       "      <td>0.00</td>\n",
       "      <td>3</td>\n",
       "      <td>6232</td>\n",
       "      <td>买盘</td>\n",
       "    </tr>\n",
       "    <tr>\n",
       "      <th>8</th>\n",
       "      <td>09:30:50</td>\n",
       "      <td>20.78</td>\n",
       "      <td>0.00</td>\n",
       "      <td>1</td>\n",
       "      <td>2078</td>\n",
       "      <td>买盘</td>\n",
       "    </tr>\n",
       "    <tr>\n",
       "      <th>9</th>\n",
       "      <td>09:30:54</td>\n",
       "      <td>20.78</td>\n",
       "      <td>0.00</td>\n",
       "      <td>3</td>\n",
       "      <td>6234</td>\n",
       "      <td>卖盘</td>\n",
       "    </tr>\n",
       "  </tbody>\n",
       "</table>\n",
       "</div>"
      ],
      "text/plain": [
       "<div>\n",
       "<style scoped>\n",
       "    .dataframe tbody tr th:only-of-type {\n",
       "        vertical-align: middle;\n",
       "    }\n",
       "\n",
       "    .dataframe tbody tr th {\n",
       "        vertical-align: top;\n",
       "    }\n",
       "\n",
       "    .dataframe thead th {\n",
       "        text-align: right;\n",
       "    }\n",
       "</style>\n",
       "<table border=\"1\" class=\"dataframe\">\n",
       "  <thead>\n",
       "    <tr style=\"text-align: right;\">\n",
       "      <th></th>\n",
       "      <th>time</th>\n",
       "      <th>price</th>\n",
       "      <th>change</th>\n",
       "      <th>volume</th>\n",
       "      <th>amount</th>\n",
       "      <th>type</th>\n",
       "    </tr>\n",
       "  </thead>\n",
       "  <tbody>\n",
       "    <tr>\n",
       "      <th>0</th>\n",
       "      <td>09:30:03</td>\n",
       "      <td>20.68</td>\n",
       "      <td>0.03</td>\n",
       "      <td>24</td>\n",
       "      <td>49616</td>\n",
       "      <td>买盘</td>\n",
       "    </tr>\n",
       "    <tr>\n",
       "      <th>1</th>\n",
       "      <td>09:30:05</td>\n",
       "      <td>20.70</td>\n",
       "      <td>0.02</td>\n",
       "      <td>1</td>\n",
       "      <td>2070</td>\n",
       "      <td>卖盘</td>\n",
       "    </tr>\n",
       "    <tr>\n",
       "      <th>2</th>\n",
       "      <td>09:30:15</td>\n",
       "      <td>20.77</td>\n",
       "      <td>0.07</td>\n",
       "      <td>2</td>\n",
       "      <td>4152</td>\n",
       "      <td>买盘</td>\n",
       "    </tr>\n",
       "    <tr>\n",
       "      <th>3</th>\n",
       "      <td>09:30:26</td>\n",
       "      <td>20.78</td>\n",
       "      <td>0.01</td>\n",
       "      <td>8</td>\n",
       "      <td>16617</td>\n",
       "      <td>买盘</td>\n",
       "    </tr>\n",
       "    <tr>\n",
       "      <th>4</th>\n",
       "      <td>09:30:33</td>\n",
       "      <td>20.78</td>\n",
       "      <td>0.00</td>\n",
       "      <td>9</td>\n",
       "      <td>18702</td>\n",
       "      <td>卖盘</td>\n",
       "    </tr>\n",
       "    <tr>\n",
       "      <th>5</th>\n",
       "      <td>09:30:36</td>\n",
       "      <td>20.79</td>\n",
       "      <td>0.01</td>\n",
       "      <td>9</td>\n",
       "      <td>18711</td>\n",
       "      <td>买盘</td>\n",
       "    </tr>\n",
       "    <tr>\n",
       "      <th>6</th>\n",
       "      <td>09:30:42</td>\n",
       "      <td>20.78</td>\n",
       "      <td>-0.01</td>\n",
       "      <td>5</td>\n",
       "      <td>10388</td>\n",
       "      <td>买盘</td>\n",
       "    </tr>\n",
       "    <tr>\n",
       "      <th>7</th>\n",
       "      <td>09:30:45</td>\n",
       "      <td>20.78</td>\n",
       "      <td>0.00</td>\n",
       "      <td>3</td>\n",
       "      <td>6232</td>\n",
       "      <td>买盘</td>\n",
       "    </tr>\n",
       "    <tr>\n",
       "      <th>8</th>\n",
       "      <td>09:30:50</td>\n",
       "      <td>20.78</td>\n",
       "      <td>0.00</td>\n",
       "      <td>1</td>\n",
       "      <td>2078</td>\n",
       "      <td>买盘</td>\n",
       "    </tr>\n",
       "    <tr>\n",
       "      <th>9</th>\n",
       "      <td>09:30:54</td>\n",
       "      <td>20.78</td>\n",
       "      <td>0.00</td>\n",
       "      <td>3</td>\n",
       "      <td>6234</td>\n",
       "      <td>卖盘</td>\n",
       "    </tr>\n",
       "  </tbody>\n",
       "</table>\n",
       "</div>"
      ]
     },
     "execution_count": 19,
     "metadata": {},
     "output_type": "execute_result"
    }
   ],
   "source": [
    "import tushare as ts\n",
    "\n",
    "df = ts.get_tick_data('600848',date='2018-12-12',src='tt')\n",
    "df.head(10)"
   ]
  },
  {
   "cell_type": "code",
   "execution_count": 20,
   "metadata": {},
   "outputs": [
    {
     "data": {
      "text/plain": [
       "0       20.68\n1       20.70\n2       20.77\n3       20.78\n4       20.78\n        ...  \n1840    20.79\n1841    20.79\n1842    20.79\n1843    20.80\n1844    20.80\nName: price, Length: 1845, dtype: float64"
      ]
     },
     "execution_count": 20,
     "metadata": {},
     "output_type": "execute_result"
    }
   ],
   "source": [
    "price = df['price']\n",
    "price"
   ]
  },
  {
   "cell_type": "code",
   "execution_count": 23,
   "metadata": {},
   "outputs": [
    {
     "data": {
      "text/plain": [
       "0    20.68\n1    20.70\n2    20.77\n3    20.78\n4    20.78\n5    20.79\nName: price, dtype: float64"
      ]
     },
     "execution_count": 23,
     "metadata": {},
     "output_type": "execute_result"
    }
   ],
   "source": [
    "#price[0:5]\n",
    "#price.loc[0:5]\n",
    "price.iloc[0:5] # 索引是数字，全部生效"
   ]
  },
  {
   "cell_type": "code",
   "execution_count": 24,
   "metadata": {},
   "outputs": [
    {
     "data": {
      "text/plain": [
       "20.65    122\n20.82    121\n20.80    111\n20.68    101\n20.81     97\n20.66     95\n20.79     86\n20.83     78\n20.64     67\n20.72     66\n20.63     66\n20.70     65\n20.67     62\n20.78     57\n20.73     54\n20.69     53\n20.71     46\n20.74     43\n20.88     40\n20.85     38\n20.90     36\n20.92     34\n20.61     30\n20.86     27\n20.75     26\n20.91     25\n20.84     22\n20.87     20\n20.62     20\n20.60     18\n20.77     17\n20.89     16\n20.76     15\n20.58     12\n20.94     12\n20.93     11\n20.59     11\n20.57      8\n20.55      7\n20.56      6\n20.54      1\n20.52      1\n20.51      1\n20.53      1\nName: price, dtype: int64"
      ]
     },
     "execution_count": 24,
     "metadata": {},
     "output_type": "execute_result"
    }
   ],
   "source": [
    "priceTimes = df['price'].value_counts()\n",
    "priceTimes"
   ]
  },
  {
   "cell_type": "code",
   "execution_count": 27,
   "metadata": {},
   "outputs": [
    {
     "data": {
      "text/plain": [
       "17"
      ]
     },
     "execution_count": 27,
     "metadata": {},
     "output_type": "execute_result"
    }
   ],
   "source": [
    "priceTimes[20.77]  # 根据自定义键值索引"
   ]
  },
  {
   "cell_type": "code",
   "execution_count": 28,
   "metadata": {},
   "outputs": [
    {
     "data": {
      "text/plain": [
       "17"
      ]
     },
     "execution_count": 28,
     "metadata": {},
     "output_type": "execute_result"
    }
   ],
   "source": [
    "priceTimes.loc[20.77]  # 根据自定义键值索引"
   ]
  },
  {
   "cell_type": "code",
   "execution_count": 29,
   "metadata": {},
   "outputs": [
    {
     "data": {
      "text/plain": [
       "122"
      ]
     },
     "execution_count": 29,
     "metadata": {},
     "output_type": "execute_result"
    }
   ],
   "source": [
    "priceTimes.iloc[0】 #根据默认的数字索引"
   ]
  },
  {
   "cell_type": "code",
   "execution_count": 36,
   "metadata": {},
   "outputs": [
    {
     "data": {
      "text/plain": [
       "20.65    122\n20.82    121\n20.80    111\n20.68    101\n20.81     97\nName: price, dtype: int64"
      ]
     },
     "execution_count": 36,
     "metadata": {},
     "output_type": "execute_result"
    }
   ],
   "source": [
    "#priceTimes[0:5]  报错\n",
    "#priceTimes[[20.51,20.53]]  正确，键值索引\n",
    "#priceTimes.loc[[20.51,20.53]]   正确，键值索引\n",
    "priceTimes.iloc[0:5] #正确，默认数字索引"
   ]
  },
  {
   "cell_type": "code",
   "execution_count": null,
   "metadata": {},
   "outputs": [],
   "source": []
  }
 ],
 "metadata": {
  "kernelspec": {
   "display_name": "Python 2",
   "language": "python",
   "name": "python2"
  },
  "language_info": {
   "codemirror_mode": {
    "name": "ipython",
    "version": 2
   },
   "file_extension": ".py",
   "mimetype": "text/x-python",
   "name": "python",
   "nbconvert_exporter": "python",
   "pygments_lexer": "ipython2",
   "version": "2.7.6"
  }
 },
 "nbformat": 4,
 "nbformat_minor": 0
}
