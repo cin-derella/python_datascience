{
 "cells": [
  {
   "cell_type": "code",
   "execution_count": 89,
   "metadata": {},
   "outputs": [],
   "source": [
    "import numpy as np\n",
    "import pandas as pd\n",
    "import matplotlib.pyplot as plt\n",
    "import matplotlib.dates as mdate\n",
    "#import matplotlib.figure as figure\n",
    "\n",
    "import datetime\n",
    "%matplotlib inline"
   ]
  },
  {
   "cell_type": "code",
   "execution_count": 58,
   "metadata": {},
   "outputs": [],
   "source": [
    "pd.set_option('display.notebook_repr_html',False)\n",
    "pd.set_option('display.max_columns',6)\n",
    "pd.set_option('display.max_rows',10)\n",
    "pd.set_option('display.width',78)\n",
    "pd.set_option('precision',3)\n"
   ]
  },
  {
   "cell_type": "code",
   "execution_count": 39,
   "metadata": {},
   "outputs": [
    {
     "data": {
      "text/plain": [
       "  Ticker        Date     Open  ...   Close  Adj Close    Volume\n0   AAPL  2015-01-02  106.239  ...  109.33    104.274  53204600\n1   AAPL  2015-01-05  103.282  ...  106.25    101.337  64285500\n2   AAPL  2015-01-06  101.613  ...  106.26    101.346  65797100\n3   AAPL  2015-01-07  102.243  ...  107.75    102.767  40105900\n4   AAPL  2015-01-08  104.179  ...  111.89    106.716  59364500\n\n[5 rows x 8 columns]"
      ]
     },
     "execution_count": 39,
     "metadata": {},
     "output_type": "execute_result"
    }
   ],
   "source": [
    "path = '../YCdata/stock2015-2016.csv'\n",
    "allData = pd.read_csv(path)\n",
    "allData.head()"
   ]
  },
  {
   "cell_type": "code",
   "execution_count": 40,
   "metadata": {},
   "outputs": [
    {
     "data": {
      "text/plain": [
       "(4536, 8)"
      ]
     },
     "execution_count": 40,
     "metadata": {},
     "output_type": "execute_result"
    }
   ],
   "source": [
    "allData.shape"
   ]
  },
  {
   "cell_type": "code",
   "execution_count": 41,
   "metadata": {},
   "outputs": [
    {
     "data": {
      "text/plain": [
       "     Ticker        Date   Close\n0      AAPL  2015-01-02  109.33\n1      AAPL  2015-01-05  106.25\n2      AAPL  2015-01-06  106.26\n3      AAPL  2015-01-07  107.75\n4      AAPL  2015-01-08  111.89\n...     ...         ...     ...\n4531     KO  2016-12-23   41.60\n4532     KO  2016-12-27   41.61\n4533     KO  2016-12-28   41.39\n4534     KO  2016-12-29   41.60\n4535     KO  2016-12-30   41.46\n\n[4536 rows x 3 columns]"
      ]
     },
     "execution_count": 41,
     "metadata": {},
     "output_type": "execute_result"
    }
   ],
   "source": [
    "allData[['Ticker','Date','Close']]"
   ]
  },
  {
   "cell_type": "code",
   "execution_count": 42,
   "metadata": {},
   "outputs": [
    {
     "data": {
      "text/plain": [
       "Date    2015-01-02  2015-01-05  2015-01-06  ...  2016-12-28  2016-12-29  \\\nTicker                                      ...                           \nAA           15.88       14.96       15.07  ...       29.43       28.89   \nAAPL        109.33      106.25      106.26  ...      116.76      116.73   \nDAL          49.18       48.36       47.22  ...       49.51       49.31   \nGE           25.06       24.60       24.07  ...       31.70       31.71   \nIBM         162.06      159.51      156.07  ...      166.19      166.60   \nKO           42.14       42.14       42.46  ...       41.39       41.60   \nMSFT         46.76       46.33       45.65  ...       62.99       62.90   \nPEP          94.44       93.73       93.02  ...      104.62      104.99   \nUAL          66.34       66.15       64.58  ...       73.53       73.28   \n\nDate    2016-12-30  \nTicker              \nAA           28.08  \nAAPL        115.82  \nDAL          49.19  \nGE           31.60  \nIBM         165.99  \nKO           41.46  \nMSFT         62.14  \nPEP         104.63  \nUAL          72.88  \n\n[9 rows x 504 columns]"
      ]
     },
     "execution_count": 42,
     "metadata": {},
     "output_type": "execute_result"
    }
   ],
   "source": [
    "just_close_price = allData[['Ticker','Date','Close']]\n",
    "dailyClose = just_close_price.pivot('Ticker','Date','Close')  #生成数据透视表\n",
    "dailyClose"
   ]
  },
  {
   "cell_type": "code",
   "execution_count": 43,
   "metadata": {},
   "outputs": [
    {
     "data": {
      "text/plain": [
       "Index(['2015-01-02', '2015-01-05', '2015-01-06', '2015-01-07', '2015-01-08',\n       '2015-01-09', '2015-01-12', '2015-01-13', '2015-01-14', '2015-01-15',\n       ...\n       '2016-12-16', '2016-12-19', '2016-12-20', '2016-12-21', '2016-12-22',\n       '2016-12-23', '2016-12-27', '2016-12-28', '2016-12-29', '2016-12-30'],\n      dtype='object', name='Date', length=504)"
      ]
     },
     "execution_count": 43,
     "metadata": {},
     "output_type": "execute_result"
    }
   ],
   "source": [
    "dailyClose.columns"
   ]
  },
  {
   "cell_type": "code",
   "execution_count": 44,
   "metadata": {},
   "outputs": [
    {
     "data": {
      "text/plain": [
       "Index(['AA', 'AAPL', 'DAL', 'GE', 'IBM', 'KO', 'MSFT', 'PEP', 'UAL'], dtype='object', name='Ticker')"
      ]
     },
     "execution_count": 44,
     "metadata": {},
     "output_type": "execute_result"
    }
   ],
   "source": [
    "dailyClose.index"
   ]
  },
  {
   "cell_type": "code",
   "execution_count": 45,
   "metadata": {},
   "outputs": [
    {
     "data": {
      "text/plain": [
       "<matplotlib.axes._subplots.AxesSubplot at 0x11a779a10>"
      ]
     },
     "execution_count": 45,
     "metadata": {},
     "output_type": "execute_result"
    },
    {
     "data": {
      "image/png": "[encoded data removed]",
      "text/plain": [
       "<Figure size 432x288 with 1 Axes>"
      ]
     },
     "metadata": {},
     "output_type": "display_data"
    }
   ],
   "source": [
    "dailyClose.loc['IBM'].plot()\n",
    "#dailyClose['IBM'].plt()  不加loc会报错\n"
   ]
  },
  {
   "cell_type": "code",
   "execution_count": 46,
   "metadata": {},
   "outputs": [
    {
     "data": {
      "text/plain": [
       "Index(['Ticker', 'Date', 'Open', 'High', 'Low', 'Close', 'Adj Close',\n       'Volume'],\n      dtype='object')"
      ]
     },
     "execution_count": 46,
     "metadata": {},
     "output_type": "execute_result"
    }
   ],
   "source": [
    "allData.columns"
   ]
  },
  {
   "cell_type": "code",
   "execution_count": 47,
   "metadata": {},
   "outputs": [
    {
     "data": {
      "text/plain": [
       "Ticker           AA      AAPL       DAL  ...      MSFT      PEP      UAL\nDate                                     ...                            \n2015-01-02  4340300  53204600   8637300  ...  27913900  3545700  6215000\n2015-01-05  9026400  64285500  10556500  ...  39673900  6441000  5033400\n2015-01-06  8063600  65797100  12880400  ...  36447900  6195000  6051700\n2015-01-07  6637700  40105900  10516200  ...  29114100  6526300  5135000\n2015-01-08  8185700  59364500  10499300  ...  29645200  7131600  6889500\n...             ...       ...       ...  ...       ...      ...      ...\n2016-12-23  2881800  14181200   4046300  ...  12403800  1769300  1623400\n2016-12-27  1708900  18296900   3365600  ...  11763200  1505000  1092400\n2016-12-28  2751100  20905900   4520200  ...  14653300  1878600  1946800\n2016-12-29  3224400  15039500   3348300  ...  10250600  2438100  1272400\n2016-12-30  2686000  30586300   4532400  ...  25579900  3484000  1720800\n\n[504 rows x 9 columns]"
      ]
     },
     "execution_count": 47,
     "metadata": {},
     "output_type": "execute_result"
    }
   ],
   "source": [
    "just_volume = allData[['Ticker','Date','Volume']]\n",
    "daily_volume = just_volume.pivot('Date','Ticker','Volume')\n",
    "daily_volume"
   ]
  },
  {
   "cell_type": "code",
   "execution_count": 59,
   "metadata": {},
   "outputs": [
    {
     "data": {
      "text/plain": [
       "Date\n2015-01-02    27913900\n2015-01-05    39673900\n2015-01-06    36447900\n2015-01-07    29114100\n2015-01-08    29645200\n                ...   \n2016-12-23    12403800\n2016-12-27    11763200\n2016-12-28    14653300\n2016-12-29    10250600\n2016-12-30    25579900\nName: MSFT, Length: 504, dtype: int64"
      ]
     },
     "execution_count": 59,
     "metadata": {},
     "output_type": "execute_result"
    }
   ],
   "source": [
    "msftV = daily_volume['MSFT']\n",
    "msftV\n",
    "\n"
   ]
  },
  {
   "cell_type": "code",
   "execution_count": 62,
   "metadata": {},
   "outputs": [
    {
     "data": {
      "text/plain": [
       "<matplotlib.axes._subplots.AxesSubplot at 0x11aa61490>"
      ]
     },
     "execution_count": 62,
     "metadata": {},
     "output_type": "execute_result"
    },
    {
     "data": {
      "image/png": "[encoded data removed]",
      "text/plain": [
       "<Figure size 432x288 with 1 Axes>"
      ]
     },
     "metadata": {},
     "output_type": "display_data"
    }
   ],
   "source": [
    "\n",
    "msftV.plot()\n"
   ]
  },
  {
   "cell_type": "code",
   "execution_count": 78,
   "metadata": {},
   "outputs": [],
   "source": [
    "def convert_date(val):  #日期转化\n",
    "    date_, time_ = val.__str__().split(' ')\n",
    "    year,month,day = date_.split('-')\n",
    "    return pd.datetime(int(year),int(month),int(day))"
   ]
  },
  {
   "cell_type": "code",
   "execution_count": 71,
   "metadata": {},
   "outputs": [
    {
     "name": "stdout",
     "output_type": "stream",
     "text": [
      "2015-01-02 00:00:00\nDatetimeIndex(['2015-01-02', '2015-01-05', '2015-01-06', '2015-01-07',\n               '2015-01-08', '2015-01-09', '2015-01-12', '2015-01-13',\n               '2015-01-14', '2015-01-15',\n               ...\n               '2016-12-16', '2016-12-19', '2016-12-20', '2016-12-21',\n               '2016-12-22', '2016-12-23', '2016-12-27', '2016-12-28',\n               '2016-12-29', '2016-12-30'],\n              dtype='datetime64[ns]', name='Date', length=504, freq=None)\n"
     ]
    }
   ],
   "source": [
    "print(msftV.index[0].__str__())\n",
    "print(msftV.index)"
   ]
  },
  {
   "cell_type": "code",
   "execution_count": 79,
   "metadata": {},
   "outputs": [
    {
     "name": "stderr",
     "output_type": "stream",
     "text": [
      "/Users/dante/opt/anaconda3/lib/python3.7/site-packages/ipykernel_launcher.py:4: FutureWarning: The pandas.datetime class is deprecated and will be removed from pandas in a future version. Import from datetime module instead.\n  after removing the cwd from sys.path.\n"
     ]
    },
    {
     "data": {
      "text/plain": [
       "Timestamp('2015-01-02 00:00:00')"
      ]
     },
     "execution_count": 79,
     "metadata": {},
     "output_type": "execute_result"
    }
   ],
   "source": [
    "msftV.index = msftV.index.map(convert_date) #新建列，处理时间。\n",
    "msftV.index[0]"
   ]
  },
  {
   "cell_type": "code",
   "execution_count": 87,
   "metadata": {},
   "outputs": [
    {
     "data": {
      "text/plain": [
       "DatetimeIndex(['2015-01-02', '2015-01-05', '2015-01-06', '2015-01-07',\n               '2015-01-08', '2015-01-09', '2015-01-12', '2015-01-13',\n               '2015-01-14', '2015-01-15',\n               ...\n               '2016-12-16', '2016-12-19', '2016-12-20', '2016-12-21',\n               '2016-12-22', '2016-12-23', '2016-12-27', '2016-12-28',\n               '2016-12-29', '2016-12-30'],\n              dtype='datetime64[ns]', name='Date', length=504, freq=None)"
      ]
     },
     "execution_count": 87,
     "metadata": {},
     "output_type": "execute_result"
    }
   ],
   "source": [
    "msftV.index"
   ]
  },
  {
   "cell_type": "code",
   "execution_count": 88,
   "metadata": {},
   "outputs": [
    {
     "data": {
      "text/plain": [
       "Date\n2015-01-02    27913900\n2015-01-05    39673900\n2015-01-06    36447900\n2015-01-07    29114100\n2015-01-08    29645200\n                ...   \n2016-12-23    12403800\n2016-12-27    11763200\n2016-12-28    14653300\n2016-12-29    10250600\n2016-12-30    25579900\nName: MSFT, Length: 504, dtype: int64"
      ]
     },
     "execution_count": 88,
     "metadata": {},
     "output_type": "execute_result"
    }
   ],
   "source": [
    "msftV"
   ]
  },
  {
   "cell_type": "code",
   "execution_count": 90,
   "metadata": {},
   "outputs": [
    {
     "data": {
      "text/plain": [
       "(array([735599., 735689., 735780., 735872., 735964., 736055., 736146.,\n        736238., 736330.]),\n <a list of 9 Text xticklabel objects>)"
      ]
     },
     "execution_count": 90,
     "metadata": {},
     "output_type": "execute_result"
    },
    {
     "data": {
      "image/png": "[encoded data removed]",
      "text/plain": [
       "<Figure size 864x432 with 1 Axes>"
      ]
     },
     "metadata": {},
     "output_type": "display_data"
    }
   ],
   "source": [
    "fig = plt.figu re(figsize=(12,6))  #1200*600\n",
    "ax1 = fig.add_subplot(111)\n",
    "ax1.xaxis.set_major_formatter(mdate.DateFormatter('%Y-%m'))  #代表时间\n",
    "ax1.bar(msftV.index,msftV)\n",
    "plt.xticks(rotation = 60) #日期文字设定旋转"
   ]
  },
  {
   "cell_type": "code",
   "execution_count": null,
   "metadata": {},
   "outputs": [],
   "source": []
  }
 ],
 "metadata": {
  "kernelspec": {
   "display_name": "Python 2",
   "language": "python",
   "name": "python2"
  },
  "language_info": {
   "codemirror_mode": {
    "name": "ipython",
    "version": 2
   },
   "file_extension": ".py",
   "mimetype": "text/x-python",
   "name": "python",
   "nbconvert_exporter": "python",
   "pygments_lexer": "ipython2",
   "version": "2.7.6"
  }
 },
 "nbformat": 4,
 "nbformat_minor": 0
}
