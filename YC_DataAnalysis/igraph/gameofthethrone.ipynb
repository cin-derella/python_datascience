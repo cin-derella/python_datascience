{
 "cells": [
  {
   "cell_type": "code",
   "execution_count": 4,
   "metadata": {
    "collapsed": true
   },
   "outputs": [],
   "source": [
    "path = r'../YCdata/stormofswords.csv'\n"
   ]
  },
  {
   "cell_type": "code",
   "execution_count": 5,
   "metadata": {},
   "outputs": [
    {
     "name": "stdout",
     "output_type": "stream",
     "text": [
      "['Source', 'Target', 'Weight']\n['Aemon', 'Grenn', '5']\n['Aemon', 'Samwell', '31']\n['Aerys', 'Jaime', '18']\n['Aerys', 'Robert', '6']\n['Aerys', 'Tyrion', '5']\n['Aerys', 'Tywin', '8']\n['Alliser', 'Mance', '5']\n['Amory', 'Oberyn', '5']\n['Arya', 'Anguy', '11']\n['Arya', 'Beric', '23']\n['Arya', 'Bran', '9']\n['Arya', 'Brynden', '6']\n['Arya', 'Cersei', '5']\n['Arya', 'Gendry', '43']\n['Arya', 'Gregor', '7']\n['Arya', 'Jaime', '11']\n['Arya', 'Joffrey', '6']\n['Arya', 'Jon', '7']\n['Arya', 'Rickon', '8']\n['Arya', 'Robert', '4']\n['Arya', 'Roose', '5']\n['Arya', 'Sandor', '46']\n['Arya', 'Thoros', '18']\n['Arya', 'Tyrion', '5']\n['Balon', 'Loras', '4']\n['Belwas', 'Barristan', '18']\n['Belwas', 'Illyrio', '10']\n['Beric', 'Anguy', '4']\n['Beric', 'Gendry', '4']\n['Beric', 'Thoros', '21']\n['Bran', 'Hodor', '96']\n['Bran', 'Jojen', '46']\n['Bran', 'Jon', '12']\n['Bran', 'Luwin', '4']\n['Bran', 'Meera', '54']\n['Bran', 'Nan', '14']\n['Bran', 'Rickon', '35']\n['Bran', 'Samwell', '11']\n['Bran', 'Theon', '11']\n['Brienne', 'Loras', '7']\n['Bronn', 'Gregor', '5']\n['Bronn', 'Podrick', '19']\n['Brynden', 'Lothar', '4']\n['Brynden', 'Walder', '5']\n['Catelyn', 'Bran', '4']\n['Catelyn', 'Brienne', '7']\n['Catelyn', 'Brynden', '8']\n['Catelyn', 'Cersei', '4']\n['Catelyn', 'Edmure', '16']\n['Catelyn', 'Hoster', '9']\n['Catelyn', 'Jaime', '19']\n['Catelyn', 'Jeyne', '10']\n['Catelyn', 'Lysa', '8']\n['Catelyn', 'Petyr', '5']\n['Catelyn', 'Robb', '43']\n['Catelyn', 'Roose', '4']\n['Catelyn', 'Roslin', '6']\n['Catelyn', 'Sansa', '8']\n['Catelyn', 'Stannis', '4']\n['Catelyn', 'Tyrion', '5']\n['Catelyn', 'Walder', '19']\n['Cersei', 'Brienne', '5']\n['Cersei', 'Bronn', '4']\n['Cersei', 'Elia', '4']\n['Cersei', 'Gregor', '6']\n['Cersei', 'Ilyn', '7']\n['Cersei', 'Jaime', '36']\n['Cersei', 'Joffrey', '23']\n['Cersei', 'Meryn', '10']\n['Cersei', 'Pycelle', '4']\n['Cersei', 'Robert', '16']\n['Cersei', 'Sandor', '6']\n['Cersei', 'Shae', '4']\n['Cersei', 'Tyrion', '46']\n['Cersei', 'Varys', '4']\n['Craster', 'Karl', '6']\n['Daario', 'Drogo', '4']\n['Daario', 'Irri', '5']\n['Daenerys', 'Aegon', '8']\n['Daenerys', 'Barristan', '20']\n['Daenerys', 'Belwas', '26']\n['Daenerys', 'Daario', '14']\n['Daenerys', 'Drogo', '18']\n['Daenerys', 'Irri', '17']\n['Daenerys', 'Jorah', '47']\n['Daenerys', 'Kraznys', '10']\n['Daenerys', 'Missandei', '26']\n['Daenerys', 'Rakharo', '7']\n['Daenerys', 'Rhaegar', '12']\n['Daenerys', 'Robert', '5']\n['Daenerys', 'Viserys', '8']\n['Daenerys', 'Worm', '14']\n['Davos', 'Cressen', '4']\n['Davos', 'Salladhor', '16']\n['Eddard', 'Arya', '18']\n['Eddard', 'Beric', '8']\n['Eddard', 'Bran', '15']\n['Eddard', 'Catelyn', '5']\n['Eddard', 'Cersei', '6']\n['Eddard', 'Jaime', '6']\n['Eddard', 'Jon', '8']\n['Eddard', 'Rickon', '8']\n['Eddard', 'Robb', '13']\n['Eddard', 'Robert', '10']\n['Eddard', 'Sandor', '5']\n['Eddard', 'Sansa', '6']\n['Eddison', 'Grenn', '8']\n['Edmure', 'Brynden', '7']\n['Edmure', 'Lothar', '4']\n['Edmure', 'Roslin', '16']\n['Edmure', 'Walder', '9']\n['Gendry', 'Thoros', '7']\n['Gilly', 'Craster', '17']\n['Gregor', 'Elia', '9']\n['Gregor', 'Ilyn', '7']\n['Gregor', 'Meryn', '7']\n['Gregor', 'Oberyn', '24']\n['Gregor', 'Sandor', '12']\n['Hodor', 'Jojen', '35']\n['Hodor', 'Meera', '41']\n['Hoster', 'Edmure', '9']\n['Irri', 'Drogo', '7']\n['Jaime', 'Balon', '6']\n['Jaime', 'Barristan', '4']\n['Jaime', 'Brienne', '88']\n['Jaime', 'Edmure', '5']\n['Jaime', 'Elia', '4']\n['Jaime', 'Gregor', '6']\n['Jaime', 'Joffrey', '15']\n['Jaime', 'Loras', '16']\n['Jaime', 'Meryn', '11']\n['Jaime', 'Qyburn', '11']\n['Jaime', 'Renly', '7']\n['Jaime', 'Robert', '17']\n['Jaime', 'Stannis', '5']\n['Jaime', 'Tommen', '8']\n['Jaime', 'Tyrion', '31']\n['Janos', 'Alliser', '9']\n['Janos', 'Bowen', '5']\n['Janos', 'Mance', '4']\n['Joffrey', 'Gregor', '5']\n['Joffrey', 'Ilyn', '4']\n['Joffrey', 'Kevan', '8']\n['Joffrey', 'Loras', '7']\n['Joffrey', 'Margaery', '28']\n['Joffrey', 'Meryn', '5']\n['Joffrey', 'Myrcella', '5']\n['Joffrey', 'Oberyn', '4']\n['Joffrey', 'Sandor', '14']\n['Joffrey', 'Stannis', '10']\n['Joffrey', 'Tommen', '9']\n['Joffrey', 'Tyrion', '54']\n['Jojen', 'Meera', '33']\n['Jojen', 'Samwell', '11']\n['Jon', 'Aemon', '30']\n['Jon', 'Alliser', '15']\n['Jon', 'Craster', '7']\n['Jon', 'Dalla', '6']\n['Jon', 'Eddison', '4']\n['Jon', 'Gilly', '9']\n['Jon', 'Grenn', '25']\n['Jon', 'Janos', '8']\n['Jon', 'Mance', '69']\n['Jon', 'Meera', '4']\n['Jon', 'Melisandre', '7']\n['Jon', 'Orell', '6']\n['Jon', 'Qhorin', '31']\n['Jon', 'Rattleshirt', '20']\n['Jon', 'Robert', '5']\n['Jon', 'Samwell', '52']\n['Jon', 'Stannis', '9']\n['Jon', 'Styr', '16']\n['Jon', 'Theon', '8']\n['Jon', 'Val', '12']\n['Jon', 'Ygritte', '54']\n['Jon Arryn', 'Lysa', '5']\n['Jon Arryn', 'Robert', '6']\n['Jorah', 'Barristan', '11']\n['Jorah', 'Belwas', '13']\n['Jorah', 'Daario', '7']\n['Jorah', 'Drogo', '6']\n['Kevan', 'Lancel', '7']\n['Kevan', 'Varys', '5']\n['Loras', 'Margaery', '9']\n['Loras', 'Olenna', '5']\n['Lothar', 'Roslin', '4']\n['Luwin', 'Nan', '4']\n['Lysa', 'Cersei', '4']\n['Lysa', 'Hoster', '6']\n['Lysa', 'Marillion', '10']\n['Lysa', 'Petyr', '29']\n['Lysa', 'Robert Arryn', '9']\n['Lysa', 'Tyrion', '5']\n['Lysa', 'Tywin', '4']\n['Mance', 'Craster', '11']\n['Mance', 'Dalla', '8']\n['Mance', 'Gilly', '7']\n['Mance', 'Qhorin', '10']\n['Mance', 'Rattleshirt', '9']\n['Mance', 'Styr', '7']\n['Mance', 'Val', '8']\n['Mance', 'Ygritte', '12']\n['Meera', 'Samwell', '7']\n['Melisandre', 'Davos', '30']\n['Melisandre', 'Samwell', '5']\n['Meryn', 'Ilyn', '5']\n['Missandei', 'Irri', '4']\n['Myrcella', 'Tommen', '5']\n['Myrcella', 'Tyrion', '4']\n['Oberyn', 'Ellaria', '6']\n['Oberyn', 'Mace', '6']\n['Podrick', 'Margaery', '4']\n['Rattleshirt', 'Qhorin', '6']\n['Renly', 'Loras', '8']\n['Renly', 'Margaery', '7']\n['Renly', 'Varys', '4']\n['Rhaegar', 'Barristan', '5']\n['Rhaegar', 'Elia', '7']\n['Rhaegar', 'Jorah', '5']\n['Rhaegar', 'Robert', '6']\n['Rickard', 'Brynden', '4']\n['Rickon', 'Theon', '8']\n['Robb', 'Arya', '15']\n['Robb', 'Balon', '6']\n['Robb', 'Bran', '23']\n['Robb', 'Brienne', '6']\n['Robb', 'Brynden', '17']\n['Robb', 'Edmure', '32']\n['Robb', 'Hodor', '5']\n['Robb', 'Jaime', '15']\n['Robb', 'Jeyne', '18']\n['Robb', 'Joffrey', '10']\n['Robb', 'Jon', '14']\n['Robb', 'Lothar', '10']\n['Robb', 'Petyr', '5']\n['Robb', 'Ramsay', '4']\n['Robb', 'Rickard', '7']\n['Robb', 'Rickon', '15']\n['Robb', 'Roose', '4']\n['Robb', 'Sansa', '15']\n['Robb', 'Stannis', '4']\n['Robb', 'Theon', '11']\n['Robb', 'Tyrion', '12']\n['Robb', 'Tywin', '12']\n['Robb', 'Walder', '26']\n['Robert', 'Aemon', '4']\n['Robert', 'Barristan', '5']\n['Robert', 'Renly', '4']\n['Robert', 'Stannis', '5']\n['Robert', 'Thoros', '4']\n['Robert Arryn', 'Marillion', '4']\n['Roose', 'Brienne', '4']\n['Samwell', 'Bowen', '6']\n['Samwell', 'Craster', '34']\n['Samwell', 'Eddison', '12']\n['Samwell', 'Gilly', '36']\n['Samwell', 'Grenn', '43']\n['Samwell', 'Janos', '6']\n['Samwell', 'Mance', '10']\n['Samwell', 'Qhorin', '5']\n['Sandor', 'Beric', '15']\n['Sandor', 'Gendry', '5']\n['Sandor', 'Ilyn', '4']\n['Sandor', 'Meryn', '4']\n['Sandor', 'Robert', '6']\n['Sandor', 'Thoros', '10']\n['Sansa', 'Arya', '22']\n['Sansa', 'Bran', '10']\n['Sansa', 'Brienne', '5']\n['Sansa', 'Cersei', '16']\n['Sansa', 'Jaime', '10']\n['Sansa', 'Joffrey', '35']\n['Sansa', 'Jon', '4']\n['Sansa', 'Kevan', '5']\n['Sansa', 'Loras', '14']\n['Sansa', 'Lysa', '28']\n['Sansa', 'Margaery', '36']\n['Sansa', 'Marillion', '9']\n['Sansa', 'Myrcella', '4']\n['Sansa', 'Olenna', '7']\n['Sansa', 'Petyr', '28']\n['Sansa', 'Podrick', '8']\n['Sansa', 'Renly', '4']\n['Sansa', 'Rickon', '7']\n['Sansa', 'Robert', '5']\n['Sansa', 'Robert Arryn', '6']\n['Sansa', 'Sandor', '6']\n['Sansa', 'Shae', '8']\n['Sansa', 'Tyrion', '77']\n['Shae', 'Chataya', '4']\n['Shae', 'Varys', '8']\n['Shireen', 'Davos', '5']\n['Stannis', 'Aemon', '4']\n['Stannis', 'Balon', '4']\n['Stannis', 'Davos', '32']\n['Stannis', 'Melisandre', '20']\n['Stannis', 'Renly', '15']\n['Stannis', 'Samwell', '13']\n['Tommen', 'Margaery', '5']\n['Tyrion', 'Balon', '4']\n['Tyrion', 'Bronn', '31']\n['Tyrion', 'Chataya', '5']\n['Tyrion', 'Doran', '5']\n['Tyrion', 'Elia', '5']\n['Tyrion', 'Ellaria', '4']\n['Tyrion', 'Gregor', '22']\n['Tyrion', 'Ilyn', '5']\n['Tyrion', 'Janos', '5']\n['Tyrion', 'Kevan', '11']\n['Tyrion', 'Loras', '6']\n['Tyrion', 'Mace', '9']\n['Tyrion', 'Margaery', '7']\n['Tyrion', 'Meryn', '5']\n['Tyrion', 'Oberyn', '25']\n['Tyrion', 'Petyr', '12']\n['Tyrion', 'Podrick', '28']\n['Tyrion', 'Pycelle', '11']\n['Tyrion', 'Renly', '6']\n['Tyrion', 'Robert', '9']\n['Tyrion', 'Sandor', '4']\n['Tyrion', 'Shae', '21']\n['Tyrion', 'Stannis', '6']\n['Tyrion', 'Varys', '18']\n['Tywin', 'Balon', '5']\n['Tywin', 'Brynden', '4']\n['Tywin', 'Cersei', '16']\n['Tywin', 'Gregor', '7']\n['Tywin', 'Jaime', '13']\n['Tywin', 'Joffrey', '13']\n['Tywin', 'Kevan', '14']\n['Tywin', 'Mace', '5']\n['Tywin', 'Oberyn', '6']\n['Tywin', 'Petyr', '4']\n['Tywin', 'Podrick', '5']\n['Tywin', 'Pycelle', '5']\n['Tywin', 'Robert', '11']\n['Tywin', 'Stannis', '15']\n['Tywin', 'Tommen', '4']\n['Tywin', 'Tyrion', '39']\n['Tywin', 'Val', '4']\n['Tywin', 'Varys', '6']\n['Tywin', 'Walder', '4']\n['Val', 'Dalla', '7']\n['Varys', 'Pycelle', '4']\n['Viserys', 'Rhaegar', '7']\n['Viserys', 'Tyrion', '4']\n['Walder', 'Lothar', '12']\n['Walder', 'Petyr', '6']\n['Walder', 'Roslin', '6']\n['Walton', 'Jaime', '10']\n['Ygritte', 'Qhorin', '7']\n['Ygritte', 'Rattleshirt', '9']\n"
     ]
    }
   ],
   "source": [
    "import csv\n",
    "with open(path,'r') as file:\n",
    "    for row in csv.reader(file.read().splitlines()):\n",
    "        print(row)"
   ]
  },
  {
   "cell_type": "code",
   "execution_count": 6,
   "metadata": {},
   "outputs": [
    {
     "name": "stdout",
     "output_type": "stream",
     "text": [
      "['Aemon', 'Grenn', '5']\n['Aemon', 'Samwell', '31']\n['Aerys', 'Jaime', '18']\n['Aerys', 'Robert', '6']\n['Aerys', 'Tyrion', '5']\n['Aerys', 'Tywin', '8']\n['Alliser', 'Mance', '5']\n['Amory', 'Oberyn', '5']\n['Arya', 'Anguy', '11']\n['Arya', 'Beric', '23']\n['Arya', 'Bran', '9']\n['Arya', 'Brynden', '6']\n['Arya', 'Cersei', '5']\n['Arya', 'Gendry', '43']\n['Arya', 'Gregor', '7']\n['Arya', 'Jaime', '11']\n['Arya', 'Joffrey', '6']\n['Arya', 'Jon', '7']\n['Arya', 'Rickon', '8']\n['Arya', 'Robert', '4']\n['Arya', 'Roose', '5']\n['Arya', 'Sandor', '46']\n['Arya', 'Thoros', '18']\n['Arya', 'Tyrion', '5']\n['Balon', 'Loras', '4']\n['Belwas', 'Barristan', '18']\n['Belwas', 'Illyrio', '10']\n['Beric', 'Anguy', '4']\n['Beric', 'Gendry', '4']\n['Beric', 'Thoros', '21']\n['Bran', 'Hodor', '96']\n['Bran', 'Jojen', '46']\n['Bran', 'Jon', '12']\n['Bran', 'Luwin', '4']\n['Bran', 'Meera', '54']\n['Bran', 'Nan', '14']\n['Bran', 'Rickon', '35']\n['Bran', 'Samwell', '11']\n['Bran', 'Theon', '11']\n['Brienne', 'Loras', '7']\n['Bronn', 'Gregor', '5']\n['Bronn', 'Podrick', '19']\n['Brynden', 'Lothar', '4']\n['Brynden', 'Walder', '5']\n['Catelyn', 'Bran', '4']\n['Catelyn', 'Brienne', '7']\n['Catelyn', 'Brynden', '8']\n['Catelyn', 'Cersei', '4']\n['Catelyn', 'Edmure', '16']\n['Catelyn', 'Hoster', '9']\n['Catelyn', 'Jaime', '19']\n['Catelyn', 'Jeyne', '10']\n['Catelyn', 'Lysa', '8']\n['Catelyn', 'Petyr', '5']\n['Catelyn', 'Robb', '43']\n['Catelyn', 'Roose', '4']\n['Catelyn', 'Roslin', '6']\n['Catelyn', 'Sansa', '8']\n['Catelyn', 'Stannis', '4']\n['Catelyn', 'Tyrion', '5']\n['Catelyn', 'Walder', '19']\n['Cersei', 'Brienne', '5']\n['Cersei', 'Bronn', '4']\n['Cersei', 'Elia', '4']\n['Cersei', 'Gregor', '6']\n['Cersei', 'Ilyn', '7']\n['Cersei', 'Jaime', '36']\n['Cersei', 'Joffrey', '23']\n['Cersei', 'Meryn', '10']\n['Cersei', 'Pycelle', '4']\n['Cersei', 'Robert', '16']\n['Cersei', 'Sandor', '6']\n['Cersei', 'Shae', '4']\n['Cersei', 'Tyrion', '46']\n['Cersei', 'Varys', '4']\n['Craster', 'Karl', '6']\n['Daario', 'Drogo', '4']\n['Daario', 'Irri', '5']\n['Daenerys', 'Aegon', '8']\n['Daenerys', 'Barristan', '20']\n['Daenerys', 'Belwas', '26']\n['Daenerys', 'Daario', '14']\n['Daenerys', 'Drogo', '18']\n['Daenerys', 'Irri', '17']\n['Daenerys', 'Jorah', '47']\n['Daenerys', 'Kraznys', '10']\n['Daenerys', 'Missandei', '26']\n['Daenerys', 'Rakharo', '7']\n['Daenerys', 'Rhaegar', '12']\n['Daenerys', 'Robert', '5']\n['Daenerys', 'Viserys', '8']\n['Daenerys', 'Worm', '14']\n['Davos', 'Cressen', '4']\n['Davos', 'Salladhor', '16']\n['Eddard', 'Arya', '18']\n['Eddard', 'Beric', '8']\n['Eddard', 'Bran', '15']\n['Eddard', 'Catelyn', '5']\n['Eddard', 'Cersei', '6']\n['Eddard', 'Jaime', '6']\n['Eddard', 'Jon', '8']\n['Eddard', 'Rickon', '8']\n['Eddard', 'Robb', '13']\n['Eddard', 'Robert', '10']\n['Eddard', 'Sandor', '5']\n['Eddard', 'Sansa', '6']\n['Eddison', 'Grenn', '8']\n['Edmure', 'Brynden', '7']\n['Edmure', 'Lothar', '4']\n['Edmure', 'Roslin', '16']\n['Edmure', 'Walder', '9']\n['Gendry', 'Thoros', '7']\n['Gilly', 'Craster', '17']\n['Gregor', 'Elia', '9']\n['Gregor', 'Ilyn', '7']\n['Gregor', 'Meryn', '7']\n['Gregor', 'Oberyn', '24']\n['Gregor', 'Sandor', '12']\n['Hodor', 'Jojen', '35']\n['Hodor', 'Meera', '41']\n['Hoster', 'Edmure', '9']\n['Irri', 'Drogo', '7']\n['Jaime', 'Balon', '6']\n['Jaime', 'Barristan', '4']\n['Jaime', 'Brienne', '88']\n['Jaime', 'Edmure', '5']\n['Jaime', 'Elia', '4']\n['Jaime', 'Gregor', '6']\n['Jaime', 'Joffrey', '15']\n['Jaime', 'Loras', '16']\n['Jaime', 'Meryn', '11']\n['Jaime', 'Qyburn', '11']\n['Jaime', 'Renly', '7']\n['Jaime', 'Robert', '17']\n['Jaime', 'Stannis', '5']\n['Jaime', 'Tommen', '8']\n['Jaime', 'Tyrion', '31']\n['Janos', 'Alliser', '9']\n['Janos', 'Bowen', '5']\n['Janos', 'Mance', '4']\n['Joffrey', 'Gregor', '5']\n['Joffrey', 'Ilyn', '4']\n['Joffrey', 'Kevan', '8']\n['Joffrey', 'Loras', '7']\n['Joffrey', 'Margaery', '28']\n['Joffrey', 'Meryn', '5']\n['Joffrey', 'Myrcella', '5']\n['Joffrey', 'Oberyn', '4']\n['Joffrey', 'Sandor', '14']\n['Joffrey', 'Stannis', '10']\n['Joffrey', 'Tommen', '9']\n['Joffrey', 'Tyrion', '54']\n['Jojen', 'Meera', '33']\n['Jojen', 'Samwell', '11']\n['Jon', 'Aemon', '30']\n['Jon', 'Alliser', '15']\n['Jon', 'Craster', '7']\n['Jon', 'Dalla', '6']\n['Jon', 'Eddison', '4']\n['Jon', 'Gilly', '9']\n['Jon', 'Grenn', '25']\n['Jon', 'Janos', '8']\n['Jon', 'Mance', '69']\n['Jon', 'Meera', '4']\n['Jon', 'Melisandre', '7']\n['Jon', 'Orell', '6']\n['Jon', 'Qhorin', '31']\n['Jon', 'Rattleshirt', '20']\n['Jon', 'Robert', '5']\n['Jon', 'Samwell', '52']\n['Jon', 'Stannis', '9']\n['Jon', 'Styr', '16']\n['Jon', 'Theon', '8']\n['Jon', 'Val', '12']\n['Jon', 'Ygritte', '54']\n['Jon Arryn', 'Lysa', '5']\n['Jon Arryn', 'Robert', '6']\n['Jorah', 'Barristan', '11']\n['Jorah', 'Belwas', '13']\n['Jorah', 'Daario', '7']\n['Jorah', 'Drogo', '6']\n['Kevan', 'Lancel', '7']\n['Kevan', 'Varys', '5']\n['Loras', 'Margaery', '9']\n['Loras', 'Olenna', '5']\n['Lothar', 'Roslin', '4']\n['Luwin', 'Nan', '4']\n['Lysa', 'Cersei', '4']\n['Lysa', 'Hoster', '6']\n['Lysa', 'Marillion', '10']\n['Lysa', 'Petyr', '29']\n['Lysa', 'Robert Arryn', '9']\n['Lysa', 'Tyrion', '5']\n['Lysa', 'Tywin', '4']\n['Mance', 'Craster', '11']\n['Mance', 'Dalla', '8']\n['Mance', 'Gilly', '7']\n['Mance', 'Qhorin', '10']\n['Mance', 'Rattleshirt', '9']\n['Mance', 'Styr', '7']\n['Mance', 'Val', '8']\n['Mance', 'Ygritte', '12']\n['Meera', 'Samwell', '7']\n['Melisandre', 'Davos', '30']\n['Melisandre', 'Samwell', '5']\n['Meryn', 'Ilyn', '5']\n['Missandei', 'Irri', '4']\n['Myrcella', 'Tommen', '5']\n['Myrcella', 'Tyrion', '4']\n['Oberyn', 'Ellaria', '6']\n['Oberyn', 'Mace', '6']\n['Podrick', 'Margaery', '4']\n['Rattleshirt', 'Qhorin', '6']\n['Renly', 'Loras', '8']\n['Renly', 'Margaery', '7']\n['Renly', 'Varys', '4']\n['Rhaegar', 'Barristan', '5']\n['Rhaegar', 'Elia', '7']\n['Rhaegar', 'Jorah', '5']\n['Rhaegar', 'Robert', '6']\n['Rickard', 'Brynden', '4']\n['Rickon', 'Theon', '8']\n['Robb', 'Arya', '15']\n['Robb', 'Balon', '6']\n['Robb', 'Bran', '23']\n['Robb', 'Brienne', '6']\n['Robb', 'Brynden', '17']\n['Robb', 'Edmure', '32']\n['Robb', 'Hodor', '5']\n['Robb', 'Jaime', '15']\n['Robb', 'Jeyne', '18']\n['Robb', 'Joffrey', '10']\n['Robb', 'Jon', '14']\n['Robb', 'Lothar', '10']\n['Robb', 'Petyr', '5']\n['Robb', 'Ramsay', '4']\n['Robb', 'Rickard', '7']\n['Robb', 'Rickon', '15']\n['Robb', 'Roose', '4']\n['Robb', 'Sansa', '15']\n['Robb', 'Stannis', '4']\n['Robb', 'Theon', '11']\n['Robb', 'Tyrion', '12']\n['Robb', 'Tywin', '12']\n['Robb', 'Walder', '26']\n['Robert', 'Aemon', '4']\n['Robert', 'Barristan', '5']\n['Robert', 'Renly', '4']\n['Robert', 'Stannis', '5']\n['Robert', 'Thoros', '4']\n['Robert Arryn', 'Marillion', '4']\n['Roose', 'Brienne', '4']\n['Samwell', 'Bowen', '6']\n['Samwell', 'Craster', '34']\n['Samwell', 'Eddison', '12']\n['Samwell', 'Gilly', '36']\n['Samwell', 'Grenn', '43']\n['Samwell', 'Janos', '6']\n['Samwell', 'Mance', '10']\n['Samwell', 'Qhorin', '5']\n['Sandor', 'Beric', '15']\n['Sandor', 'Gendry', '5']\n['Sandor', 'Ilyn', '4']\n['Sandor', 'Meryn', '4']\n['Sandor', 'Robert', '6']\n['Sandor', 'Thoros', '10']\n['Sansa', 'Arya', '22']\n['Sansa', 'Bran', '10']\n['Sansa', 'Brienne', '5']\n['Sansa', 'Cersei', '16']\n['Sansa', 'Jaime', '10']\n['Sansa', 'Joffrey', '35']\n['Sansa', 'Jon', '4']\n['Sansa', 'Kevan', '5']\n['Sansa', 'Loras', '14']\n['Sansa', 'Lysa', '28']\n['Sansa', 'Margaery', '36']\n['Sansa', 'Marillion', '9']\n['Sansa', 'Myrcella', '4']\n['Sansa', 'Olenna', '7']\n['Sansa', 'Petyr', '28']\n['Sansa', 'Podrick', '8']\n['Sansa', 'Renly', '4']\n['Sansa', 'Rickon', '7']\n['Sansa', 'Robert', '5']\n['Sansa', 'Robert Arryn', '6']\n['Sansa', 'Sandor', '6']\n['Sansa', 'Shae', '8']\n['Sansa', 'Tyrion', '77']\n['Shae', 'Chataya', '4']\n['Shae', 'Varys', '8']\n['Shireen', 'Davos', '5']\n['Stannis', 'Aemon', '4']\n['Stannis', 'Balon', '4']\n['Stannis', 'Davos', '32']\n['Stannis', 'Melisandre', '20']\n['Stannis', 'Renly', '15']\n['Stannis', 'Samwell', '13']\n['Tommen', 'Margaery', '5']\n['Tyrion', 'Balon', '4']\n['Tyrion', 'Bronn', '31']\n['Tyrion', 'Chataya', '5']\n['Tyrion', 'Doran', '5']\n['Tyrion', 'Elia', '5']\n['Tyrion', 'Ellaria', '4']\n['Tyrion', 'Gregor', '22']\n['Tyrion', 'Ilyn', '5']\n['Tyrion', 'Janos', '5']\n['Tyrion', 'Kevan', '11']\n['Tyrion', 'Loras', '6']\n['Tyrion', 'Mace', '9']\n['Tyrion', 'Margaery', '7']\n['Tyrion', 'Meryn', '5']\n['Tyrion', 'Oberyn', '25']\n['Tyrion', 'Petyr', '12']\n['Tyrion', 'Podrick', '28']\n['Tyrion', 'Pycelle', '11']\n['Tyrion', 'Renly', '6']\n['Tyrion', 'Robert', '9']\n['Tyrion', 'Sandor', '4']\n['Tyrion', 'Shae', '21']\n['Tyrion', 'Stannis', '6']\n['Tyrion', 'Varys', '18']\n['Tywin', 'Balon', '5']\n['Tywin', 'Brynden', '4']\n['Tywin', 'Cersei', '16']\n['Tywin', 'Gregor', '7']\n['Tywin', 'Jaime', '13']\n['Tywin', 'Joffrey', '13']\n['Tywin', 'Kevan', '14']\n['Tywin', 'Mace', '5']\n['Tywin', 'Oberyn', '6']\n['Tywin', 'Petyr', '4']\n['Tywin', 'Podrick', '5']\n['Tywin', 'Pycelle', '5']\n['Tywin', 'Robert', '11']\n['Tywin', 'Stannis', '15']\n['Tywin', 'Tommen', '4']\n['Tywin', 'Tyrion', '39']\n['Tywin', 'Val', '4']\n['Tywin', 'Varys', '6']\n['Tywin', 'Walder', '4']\n['Val', 'Dalla', '7']\n['Varys', 'Pycelle', '4']\n['Viserys', 'Rhaegar', '7']\n['Viserys', 'Tyrion', '4']\n['Walder', 'Lothar', '12']\n['Walder', 'Petyr', '6']\n['Walder', 'Roslin', '6']\n['Walton', 'Jaime', '10']\n['Ygritte', 'Qhorin', '7']\n['Ygritte', 'Rattleshirt', '9']\n"
     ]
    }
   ],
   "source": [
    "import csv\n",
    "isFirstline = True\n",
    "with open(path,'r') as file:\n",
    "    for row in csv.reader(file.read().splitlines()):\n",
    "        if isFirstline:\n",
    "            isFirstline = False\n",
    "            continue\n",
    "        print(row)"
   ]
  },
  {
   "cell_type": "code",
   "execution_count": 7,
   "metadata": {},
   "outputs": [
    {
     "data": {
      "text/plain": [
       "[('Aemon', 'Grenn', '5'),\n ('Aemon', 'Samwell', '31'),\n ('Aerys', 'Jaime', '18'),\n ('Aerys', 'Robert', '6'),\n ('Aerys', 'Tyrion', '5'),\n ('Aerys', 'Tywin', '8'),\n ('Alliser', 'Mance', '5'),\n ('Amory', 'Oberyn', '5'),\n ('Arya', 'Anguy', '11'),\n ('Arya', 'Beric', '23'),\n ('Arya', 'Bran', '9'),\n ('Arya', 'Brynden', '6'),\n ('Arya', 'Cersei', '5'),\n ('Arya', 'Gendry', '43'),\n ('Arya', 'Gregor', '7'),\n ('Arya', 'Jaime', '11'),\n ('Arya', 'Joffrey', '6'),\n ('Arya', 'Jon', '7'),\n ('Arya', 'Rickon', '8'),\n ('Arya', 'Robert', '4'),\n ('Arya', 'Roose', '5'),\n ('Arya', 'Sandor', '46'),\n ('Arya', 'Thoros', '18'),\n ('Arya', 'Tyrion', '5'),\n ('Balon', 'Loras', '4'),\n ('Belwas', 'Barristan', '18'),\n ('Belwas', 'Illyrio', '10'),\n ('Beric', 'Anguy', '4'),\n ('Beric', 'Gendry', '4'),\n ('Beric', 'Thoros', '21'),\n ('Bran', 'Hodor', '96'),\n ('Bran', 'Jojen', '46'),\n ('Bran', 'Jon', '12'),\n ('Bran', 'Luwin', '4'),\n ('Bran', 'Meera', '54'),\n ('Bran', 'Nan', '14'),\n ('Bran', 'Rickon', '35'),\n ('Bran', 'Samwell', '11'),\n ('Bran', 'Theon', '11'),\n ('Brienne', 'Loras', '7'),\n ('Bronn', 'Gregor', '5'),\n ('Bronn', 'Podrick', '19'),\n ('Brynden', 'Lothar', '4'),\n ('Brynden', 'Walder', '5'),\n ('Catelyn', 'Bran', '4'),\n ('Catelyn', 'Brienne', '7'),\n ('Catelyn', 'Brynden', '8'),\n ('Catelyn', 'Cersei', '4'),\n ('Catelyn', 'Edmure', '16'),\n ('Catelyn', 'Hoster', '9'),\n ('Catelyn', 'Jaime', '19'),\n ('Catelyn', 'Jeyne', '10'),\n ('Catelyn', 'Lysa', '8'),\n ('Catelyn', 'Petyr', '5'),\n ('Catelyn', 'Robb', '43'),\n ('Catelyn', 'Roose', '4'),\n ('Catelyn', 'Roslin', '6'),\n ('Catelyn', 'Sansa', '8'),\n ('Catelyn', 'Stannis', '4'),\n ('Catelyn', 'Tyrion', '5'),\n ('Catelyn', 'Walder', '19'),\n ('Cersei', 'Brienne', '5'),\n ('Cersei', 'Bronn', '4'),\n ('Cersei', 'Elia', '4'),\n ('Cersei', 'Gregor', '6'),\n ('Cersei', 'Ilyn', '7'),\n ('Cersei', 'Jaime', '36'),\n ('Cersei', 'Joffrey', '23'),\n ('Cersei', 'Meryn', '10'),\n ('Cersei', 'Pycelle', '4'),\n ('Cersei', 'Robert', '16'),\n ('Cersei', 'Sandor', '6'),\n ('Cersei', 'Shae', '4'),\n ('Cersei', 'Tyrion', '46'),\n ('Cersei', 'Varys', '4'),\n ('Craster', 'Karl', '6'),\n ('Daario', 'Drogo', '4'),\n ('Daario', 'Irri', '5'),\n ('Daenerys', 'Aegon', '8'),\n ('Daenerys', 'Barristan', '20'),\n ('Daenerys', 'Belwas', '26'),\n ('Daenerys', 'Daario', '14'),\n ('Daenerys', 'Drogo', '18'),\n ('Daenerys', 'Irri', '17'),\n ('Daenerys', 'Jorah', '47'),\n ('Daenerys', 'Kraznys', '10'),\n ('Daenerys', 'Missandei', '26'),\n ('Daenerys', 'Rakharo', '7'),\n ('Daenerys', 'Rhaegar', '12'),\n ('Daenerys', 'Robert', '5'),\n ('Daenerys', 'Viserys', '8'),\n ('Daenerys', 'Worm', '14'),\n ('Davos', 'Cressen', '4'),\n ('Davos', 'Salladhor', '16'),\n ('Eddard', 'Arya', '18'),\n ('Eddard', 'Beric', '8'),\n ('Eddard', 'Bran', '15'),\n ('Eddard', 'Catelyn', '5'),\n ('Eddard', 'Cersei', '6'),\n ('Eddard', 'Jaime', '6'),\n ('Eddard', 'Jon', '8'),\n ('Eddard', 'Rickon', '8'),\n ('Eddard', 'Robb', '13'),\n ('Eddard', 'Robert', '10'),\n ('Eddard', 'Sandor', '5'),\n ('Eddard', 'Sansa', '6'),\n ('Eddison', 'Grenn', '8'),\n ('Edmure', 'Brynden', '7'),\n ('Edmure', 'Lothar', '4'),\n ('Edmure', 'Roslin', '16'),\n ('Edmure', 'Walder', '9'),\n ('Gendry', 'Thoros', '7'),\n ('Gilly', 'Craster', '17'),\n ('Gregor', 'Elia', '9'),\n ('Gregor', 'Ilyn', '7'),\n ('Gregor', 'Meryn', '7'),\n ('Gregor', 'Oberyn', '24'),\n ('Gregor', 'Sandor', '12'),\n ('Hodor', 'Jojen', '35'),\n ('Hodor', 'Meera', '41'),\n ('Hoster', 'Edmure', '9'),\n ('Irri', 'Drogo', '7'),\n ('Jaime', 'Balon', '6'),\n ('Jaime', 'Barristan', '4'),\n ('Jaime', 'Brienne', '88'),\n ('Jaime', 'Edmure', '5'),\n ('Jaime', 'Elia', '4'),\n ('Jaime', 'Gregor', '6'),\n ('Jaime', 'Joffrey', '15'),\n ('Jaime', 'Loras', '16'),\n ('Jaime', 'Meryn', '11'),\n ('Jaime', 'Qyburn', '11'),\n ('Jaime', 'Renly', '7'),\n ('Jaime', 'Robert', '17'),\n ('Jaime', 'Stannis', '5'),\n ('Jaime', 'Tommen', '8'),\n ('Jaime', 'Tyrion', '31'),\n ('Janos', 'Alliser', '9'),\n ('Janos', 'Bowen', '5'),\n ('Janos', 'Mance', '4'),\n ('Joffrey', 'Gregor', '5'),\n ('Joffrey', 'Ilyn', '4'),\n ('Joffrey', 'Kevan', '8'),\n ('Joffrey', 'Loras', '7'),\n ('Joffrey', 'Margaery', '28'),\n ('Joffrey', 'Meryn', '5'),\n ('Joffrey', 'Myrcella', '5'),\n ('Joffrey', 'Oberyn', '4'),\n ('Joffrey', 'Sandor', '14'),\n ('Joffrey', 'Stannis', '10'),\n ('Joffrey', 'Tommen', '9'),\n ('Joffrey', 'Tyrion', '54'),\n ('Jojen', 'Meera', '33'),\n ('Jojen', 'Samwell', '11'),\n ('Jon', 'Aemon', '30'),\n ('Jon', 'Alliser', '15'),\n ('Jon', 'Craster', '7'),\n ('Jon', 'Dalla', '6'),\n ('Jon', 'Eddison', '4'),\n ('Jon', 'Gilly', '9'),\n ('Jon', 'Grenn', '25'),\n ('Jon', 'Janos', '8'),\n ('Jon', 'Mance', '69'),\n ('Jon', 'Meera', '4'),\n ('Jon', 'Melisandre', '7'),\n ('Jon', 'Orell', '6'),\n ('Jon', 'Qhorin', '31'),\n ('Jon', 'Rattleshirt', '20'),\n ('Jon', 'Robert', '5'),\n ('Jon', 'Samwell', '52'),\n ('Jon', 'Stannis', '9'),\n ('Jon', 'Styr', '16'),\n ('Jon', 'Theon', '8'),\n ('Jon', 'Val', '12'),\n ('Jon', 'Ygritte', '54'),\n ('Jon Arryn', 'Lysa', '5'),\n ('Jon Arryn', 'Robert', '6'),\n ('Jorah', 'Barristan', '11'),\n ('Jorah', 'Belwas', '13'),\n ('Jorah', 'Daario', '7'),\n ('Jorah', 'Drogo', '6'),\n ('Kevan', 'Lancel', '7'),\n ('Kevan', 'Varys', '5'),\n ('Loras', 'Margaery', '9'),\n ('Loras', 'Olenna', '5'),\n ('Lothar', 'Roslin', '4'),\n ('Luwin', 'Nan', '4'),\n ('Lysa', 'Cersei', '4'),\n ('Lysa', 'Hoster', '6'),\n ('Lysa', 'Marillion', '10'),\n ('Lysa', 'Petyr', '29'),\n ('Lysa', 'Robert Arryn', '9'),\n ('Lysa', 'Tyrion', '5'),\n ('Lysa', 'Tywin', '4'),\n ('Mance', 'Craster', '11'),\n ('Mance', 'Dalla', '8'),\n ('Mance', 'Gilly', '7'),\n ('Mance', 'Qhorin', '10'),\n ('Mance', 'Rattleshirt', '9'),\n ('Mance', 'Styr', '7'),\n ('Mance', 'Val', '8'),\n ('Mance', 'Ygritte', '12'),\n ('Meera', 'Samwell', '7'),\n ('Melisandre', 'Davos', '30'),\n ('Melisandre', 'Samwell', '5'),\n ('Meryn', 'Ilyn', '5'),\n ('Missandei', 'Irri', '4'),\n ('Myrcella', 'Tommen', '5'),\n ('Myrcella', 'Tyrion', '4'),\n ('Oberyn', 'Ellaria', '6'),\n ('Oberyn', 'Mace', '6'),\n ('Podrick', 'Margaery', '4'),\n ('Rattleshirt', 'Qhorin', '6'),\n ('Renly', 'Loras', '8'),\n ('Renly', 'Margaery', '7'),\n ('Renly', 'Varys', '4'),\n ('Rhaegar', 'Barristan', '5'),\n ('Rhaegar', 'Elia', '7'),\n ('Rhaegar', 'Jorah', '5'),\n ('Rhaegar', 'Robert', '6'),\n ('Rickard', 'Brynden', '4'),\n ('Rickon', 'Theon', '8'),\n ('Robb', 'Arya', '15'),\n ('Robb', 'Balon', '6'),\n ('Robb', 'Bran', '23'),\n ('Robb', 'Brienne', '6'),\n ('Robb', 'Brynden', '17'),\n ('Robb', 'Edmure', '32'),\n ('Robb', 'Hodor', '5'),\n ('Robb', 'Jaime', '15'),\n ('Robb', 'Jeyne', '18'),\n ('Robb', 'Joffrey', '10'),\n ('Robb', 'Jon', '14'),\n ('Robb', 'Lothar', '10'),\n ('Robb', 'Petyr', '5'),\n ('Robb', 'Ramsay', '4'),\n ('Robb', 'Rickard', '7'),\n ('Robb', 'Rickon', '15'),\n ('Robb', 'Roose', '4'),\n ('Robb', 'Sansa', '15'),\n ('Robb', 'Stannis', '4'),\n ('Robb', 'Theon', '11'),\n ('Robb', 'Tyrion', '12'),\n ('Robb', 'Tywin', '12'),\n ('Robb', 'Walder', '26'),\n ('Robert', 'Aemon', '4'),\n ('Robert', 'Barristan', '5'),\n ('Robert', 'Renly', '4'),\n ('Robert', 'Stannis', '5'),\n ('Robert', 'Thoros', '4'),\n ('Robert Arryn', 'Marillion', '4'),\n ('Roose', 'Brienne', '4'),\n ('Samwell', 'Bowen', '6'),\n ('Samwell', 'Craster', '34'),\n ('Samwell', 'Eddison', '12'),\n ('Samwell', 'Gilly', '36'),\n ('Samwell', 'Grenn', '43'),\n ('Samwell', 'Janos', '6'),\n ('Samwell', 'Mance', '10'),\n ('Samwell', 'Qhorin', '5'),\n ('Sandor', 'Beric', '15'),\n ('Sandor', 'Gendry', '5'),\n ('Sandor', 'Ilyn', '4'),\n ('Sandor', 'Meryn', '4'),\n ('Sandor', 'Robert', '6'),\n ('Sandor', 'Thoros', '10'),\n ('Sansa', 'Arya', '22'),\n ('Sansa', 'Bran', '10'),\n ('Sansa', 'Brienne', '5'),\n ('Sansa', 'Cersei', '16'),\n ('Sansa', 'Jaime', '10'),\n ('Sansa', 'Joffrey', '35'),\n ('Sansa', 'Jon', '4'),\n ('Sansa', 'Kevan', '5'),\n ('Sansa', 'Loras', '14'),\n ('Sansa', 'Lysa', '28'),\n ('Sansa', 'Margaery', '36'),\n ('Sansa', 'Marillion', '9'),\n ('Sansa', 'Myrcella', '4'),\n ('Sansa', 'Olenna', '7'),\n ('Sansa', 'Petyr', '28'),\n ('Sansa', 'Podrick', '8'),\n ('Sansa', 'Renly', '4'),\n ('Sansa', 'Rickon', '7'),\n ('Sansa', 'Robert', '5'),\n ('Sansa', 'Robert Arryn', '6'),\n ('Sansa', 'Sandor', '6'),\n ('Sansa', 'Shae', '8'),\n ('Sansa', 'Tyrion', '77'),\n ('Shae', 'Chataya', '4'),\n ('Shae', 'Varys', '8'),\n ('Shireen', 'Davos', '5'),\n ('Stannis', 'Aemon', '4'),\n ('Stannis', 'Balon', '4'),\n ('Stannis', 'Davos', '32'),\n ('Stannis', 'Melisandre', '20'),\n ('Stannis', 'Renly', '15'),\n ('Stannis', 'Samwell', '13'),\n ('Tommen', 'Margaery', '5'),\n ('Tyrion', 'Balon', '4'),\n ('Tyrion', 'Bronn', '31'),\n ('Tyrion', 'Chataya', '5'),\n ('Tyrion', 'Doran', '5'),\n ('Tyrion', 'Elia', '5'),\n ('Tyrion', 'Ellaria', '4'),\n ('Tyrion', 'Gregor', '22'),\n ('Tyrion', 'Ilyn', '5'),\n ('Tyrion', 'Janos', '5'),\n ('Tyrion', 'Kevan', '11'),\n ('Tyrion', 'Loras', '6'),\n ('Tyrion', 'Mace', '9'),\n ('Tyrion', 'Margaery', '7'),\n ('Tyrion', 'Meryn', '5'),\n ('Tyrion', 'Oberyn', '25'),\n ('Tyrion', 'Petyr', '12'),\n ('Tyrion', 'Podrick', '28'),\n ('Tyrion', 'Pycelle', '11'),\n ('Tyrion', 'Renly', '6'),\n ('Tyrion', 'Robert', '9'),\n ('Tyrion', 'Sandor', '4'),\n ('Tyrion', 'Shae', '21'),\n ('Tyrion', 'Stannis', '6'),\n ('Tyrion', 'Varys', '18'),\n ('Tywin', 'Balon', '5'),\n ('Tywin', 'Brynden', '4'),\n ('Tywin', 'Cersei', '16'),\n ('Tywin', 'Gregor', '7'),\n ('Tywin', 'Jaime', '13'),\n ('Tywin', 'Joffrey', '13'),\n ('Tywin', 'Kevan', '14'),\n ('Tywin', 'Mace', '5'),\n ('Tywin', 'Oberyn', '6'),\n ('Tywin', 'Petyr', '4'),\n ('Tywin', 'Podrick', '5'),\n ('Tywin', 'Pycelle', '5'),\n ('Tywin', 'Robert', '11'),\n ('Tywin', 'Stannis', '15'),\n ('Tywin', 'Tommen', '4'),\n ('Tywin', 'Tyrion', '39'),\n ('Tywin', 'Val', '4'),\n ('Tywin', 'Varys', '6'),\n ('Tywin', 'Walder', '4'),\n ('Val', 'Dalla', '7'),\n ('Varys', 'Pycelle', '4'),\n ('Viserys', 'Rhaegar', '7'),\n ('Viserys', 'Tyrion', '4'),\n ('Walder', 'Lothar', '12'),\n ('Walder', 'Petyr', '6'),\n ('Walder', 'Roslin', '6'),\n ('Walton', 'Jaime', '10'),\n ('Ygritte', 'Qhorin', '7'),\n ('Ygritte', 'Rattleshirt', '9')]"
      ]
     },
     "execution_count": 7,
     "metadata": {},
     "output_type": "execute_result"
    }
   ],
   "source": [
    "import csv\n",
    "edges = []\n",
    "isFirstline = True\n",
    "with open(path,'r') as file:\n",
    "    for row in csv.reader(file.read().splitlines()):\n",
    "        if isFirstline:\n",
    "            isFirstline = False\n",
    "            continue\n",
    "        u,v,weight = [i for i in row]\n",
    "        edges.append((u,v,weight))#数据加载到列表\n",
    "edges"
   ]
  },
  {
   "cell_type": "code",
   "execution_count": 9,
   "metadata": {},
   "outputs": [
    {
     "data": {
      "text/plain": [
       "<igraph.Graph at 0x10ada7350>"
      ]
     },
     "execution_count": 9,
     "metadata": {},
     "output_type": "execute_result"
    }
   ],
   "source": [
    "from igraph import Graph as IGragh\n",
    "stfGraph = IGragh.TupleList(edges,\n",
    "                            directed=True,\n",
    "                            vertex_name_attr='name',\n",
    "                            edge_attrs=None,\n",
    "                            weights=True)\n",
    "stfGraph"
   ]
  },
  {
   "cell_type": "code",
   "execution_count": 10,
   "metadata": {},
   "outputs": [
    {
     "name": "stdout",
     "output_type": "stream",
     "text": [
      "IGRAPH DNW- 107 352 --\n+ attr: name (v), weight (e)\n+ edges (vertex names):\nAemon->Grenn, Aemon->Samwell, Aerys->Jaime, Aerys->Robert, Aerys->Tyrion,\nAerys->Tywin, Alliser->Mance, Amory->Oberyn, Arya->Anguy, Arya->Beric,\nArya->Bran, Arya->Brynden, Arya->Cersei, Arya->Gendry, Arya->Gregor,\nArya->Jaime, Arya->Joffrey, Arya->Jon, Arya->Rickon, Arya->Robert,\nArya->Roose, Arya->Sandor, Arya->Thoros, Arya->Tyrion, Balon->Loras,\nBelwas->Barristan, Belwas->Illyrio, Beric->Anguy, Beric->Gendry,\nBeric->Thoros, Bran->Hodor, Bran->Jojen, Bran->Jon, Bran->Luwin, Bran->Meera,\nBran->Nan, Bran->Rickon, Bran->Samwell, Bran->Theon, Brienne->Loras,\nBronn->Gregor, Bronn->Podrick, Brynden->Lothar, Brynden->Walder,\nCatelyn->Bran, Catelyn->Brienne, Catelyn->Brynden, Catelyn->Cersei,\nCatelyn->Edmure, Catelyn->Hoster, Catelyn->Jaime, Catelyn->Jeyne,\nCatelyn->Lysa, Catelyn->Petyr, Catelyn->Robb, Catelyn->Roose, Catelyn->Roslin,\nCatelyn->Sansa, Catelyn->Stannis, Catelyn->Tyrion, Catelyn->Walder,\nCersei->Brienne, Cersei->Bronn, Cersei->Elia, Cersei->Gregor, Cersei->Ilyn,\nCersei->Jaime, Cersei->Joffrey, Cersei->Meryn, Cersei->Pycelle,\nCersei->Robert, Cersei->Sandor, Cersei->Shae, Cersei->Tyrion, Cersei->Varys,\nCraster->Karl, Daario->Drogo, Daario->Irri, Daenerys->Aegon,\nDaenerys->Barristan, Daenerys->Belwas, Daenerys->Daario, Daenerys->Drogo,\nDaenerys->Irri, Daenerys->Jorah, Daenerys->Kraznys, Daenerys->Missandei,\nDaenerys->Rakharo, Daenerys->Rhaegar, Daenerys->Robert, Daenerys->Viserys,\nDaenerys->Worm, Davos->Cressen, Davos->Salladhor, Eddard->Arya, Eddard->Beric,\nEddard->Bran, Eddard->Catelyn, Eddard->Cersei, Eddard->Jaime, Eddard->Jon,\nEddard->Rickon, Eddard->Robb, Eddard->Robert, Eddard->Sandor, Eddard->Sansa,\nEddison->Grenn, Edmure->Brynden, Edmure->Lothar, Edmure->Roslin,\nEdmure->Walder, Gendry->Thoros, Gilly->Craster, Gregor->Elia, Gregor->Ilyn,\nGregor->Meryn, Gregor->Oberyn, Gregor->Sandor, Hodor->Jojen, Hodor->Meera,\nHoster->Edmure, Irri->Drogo, Jaime->Balon, Jaime->Barristan, Jaime->Brienne,\nJaime->Edmure, Jaime->Elia, Jaime->Gregor, Jaime->Joffrey, Jaime->Loras,\nJaime->Meryn, Jaime->Qyburn, Jaime->Renly, Jaime->Robert, Jaime->Stannis,\nJaime->Tommen, Jaime->Tyrion, Janos->Alliser, Janos->Bowen, Janos->Mance,\nJoffrey->Gregor, Joffrey->Ilyn, Joffrey->Kevan, Joffrey->Loras,\nJoffrey->Margaery, Joffrey->Meryn, Joffrey->Myrcella, Joffrey->Oberyn,\nJoffrey->Sandor, Joffrey->Stannis, Joffrey->Tommen, Joffrey->Tyrion,\nJojen->Meera, Jojen->Samwell, Jon->Aemon, Jon->Alliser, Jon->Craster,\nJon->Dalla, Jon->Eddison, Jon->Gilly, Jon->Grenn, Jon->Janos, Jon->Mance,\nJon->Meera, Jon->Melisandre, Jon->Orell, Jon->Qhorin, Jon->Rattleshirt,\nJon->Robert, Jon->Samwell, Jon->Stannis, Jon->Styr, Jon->Theon, Jon->Val,\nJon->Ygritte, Jon Arryn->Lysa, Jon Arryn->Robert, Jorah->Barristan,\nJorah->Belwas, Jorah->Daario, Jorah->Drogo, Kevan->Lancel, Kevan->Varys,\nLoras->Margaery, Loras->Olenna, Lothar->Roslin, Luwin->Nan, Lysa->Cersei,\nLysa->Hoster, Lysa->Marillion, Lysa->Petyr, Lysa->Robert Arryn, Lysa->Tyrion,\nLysa->Tywin, Mance->Craster, Mance->Dalla, Mance->Gilly, Mance->Qhorin,\nMance->Rattleshirt, Mance->Styr, Mance->Val, Mance->Ygritte, Meera->Samwell,\nMelisandre->Davos, Melisandre->Samwell, Meryn->Ilyn, Missandei->Irri,\nMyrcella->Tommen, Myrcella->Tyrion, Oberyn->Ellaria, Oberyn->Mace,\nPodrick->Margaery, Rattleshirt->Qhorin, Renly->Loras, Renly->Margaery,\nRenly->Varys, Rhaegar->Barristan, Rhaegar->Elia, Rhaegar->Jorah,\nRhaegar->Robert, Rickard->Brynden, Rickon->Theon, Robb->Arya, Robb->Balon,\nRobb->Bran, Robb->Brienne, Robb->Brynden, Robb->Edmure, Robb->Hodor,\nRobb->Jaime, Robb->Jeyne, Robb->Joffrey, Robb->Jon, Robb->Lothar, Robb->Petyr,\nRobb->Ramsay, Robb->Rickard, Robb->Rickon, Robb->Roose, Robb->Sansa,\nRobb->Stannis, Robb->Theon, Robb->Tyrion, Robb->Tywin, Robb->Walder,\nRobert->Aemon, Robert->Barristan, Robert->Renly, Robert->Stannis,\nRobert->Thoros, Robert Arryn->Marillion, Roose->Brienne, Samwell->Bowen,\nSamwell->Craster, Samwell->Eddison, Samwell->Gilly, Samwell->Grenn,\nSamwell->Janos, Samwell->Mance, Samwell->Qhorin, Sandor->Beric,\nSandor->Gendry, Sandor->Ilyn, Sandor->Meryn, Sandor->Robert, Sandor->Thoros,\nSansa->Arya, Sansa->Bran, Sansa->Brienne, Sansa->Cersei, Sansa->Jaime,\nSansa->Joffrey, Sansa->Jon, Sansa->Kevan, Sansa->Loras, Sansa->Lysa,\nSansa->Margaery, Sansa->Marillion, Sansa->Myrcella, Sansa->Olenna,\nSansa->Petyr, Sansa->Podrick, Sansa->Renly, Sansa->Rickon, Sansa->Robert,\nSansa->Robert Arryn, Sansa->Sandor, Sansa->Shae, Sansa->Tyrion, Shae->Chataya,\nShae->Varys, Shireen->Davos, Stannis->Aemon, Stannis->Balon, Stannis->Davos,\nStannis->Melisandre, Stannis->Renly, Stannis->Samwell, Tommen->Margaery,\nTyrion->Balon, Tyrion->Bronn, Tyrion->Chataya, Tyrion->Doran, Tyrion->Elia,\nTyrion->Ellaria, Tyrion->Gregor, Tyrion->Ilyn, Tyrion->Janos, Tyrion->Kevan,\nTyrion->Loras, Tyrion->Mace, Tyrion->Margaery, Tyrion->Meryn, Tyrion->Oberyn,\nTyrion->Petyr, Tyrion->Podrick, Tyrion->Pycelle, Tyrion->Renly,\nTyrion->Robert, Tyrion->Sandor, Tyrion->Shae, Tyrion->Stannis, Tyrion->Varys,\nTywin->Balon, Tywin->Brynden, Tywin->Cersei, Tywin->Gregor, Tywin->Jaime,\nTywin->Joffrey, Tywin->Kevan, Tywin->Mace, Tywin->Oberyn, Tywin->Petyr,\nTywin->Podrick, Tywin->Pycelle, Tywin->Robert, Tywin->Stannis, Tywin->Tommen,\nTywin->Tyrion, Tywin->Val, Tywin->Varys, Tywin->Walder, Val->Dalla,\nVarys->Pycelle, Viserys->Rhaegar, Viserys->Tyrion, Walder->Lothar,\nWalder->Petyr, Walder->Roslin, Walton->Jaime, Ygritte->Qhorin,\nYgritte->Rattleshirt\n"
     ]
    }
   ],
   "source": [
    "print(str(stfGraph))"
   ]
  },
  {
   "cell_type": "code",
   "execution_count": 11,
   "metadata": {},
   "outputs": [
    {
     "data": {
      "text/plain": [
       "['Aemon',\n 'Grenn',\n 'Samwell',\n 'Aerys',\n 'Jaime',\n 'Robert',\n 'Tyrion',\n 'Tywin',\n 'Alliser',\n 'Mance',\n 'Amory',\n 'Oberyn',\n 'Arya',\n 'Anguy',\n 'Beric',\n 'Bran',\n 'Brynden',\n 'Cersei',\n 'Gendry',\n 'Gregor',\n 'Joffrey',\n 'Jon',\n 'Rickon',\n 'Roose',\n 'Sandor',\n 'Thoros',\n 'Balon',\n 'Loras',\n 'Belwas',\n 'Barristan',\n 'Illyrio',\n 'Hodor',\n 'Jojen',\n 'Luwin',\n 'Meera',\n 'Nan',\n 'Theon',\n 'Brienne',\n 'Bronn',\n 'Podrick',\n 'Lothar',\n 'Walder',\n 'Catelyn',\n 'Edmure',\n 'Hoster',\n 'Jeyne',\n 'Lysa',\n 'Petyr',\n 'Robb',\n 'Roslin',\n 'Sansa',\n 'Stannis',\n 'Elia',\n 'Ilyn',\n 'Meryn',\n 'Pycelle',\n 'Shae',\n 'Varys',\n 'Craster',\n 'Karl',\n 'Daario',\n 'Drogo',\n 'Irri',\n 'Daenerys',\n 'Aegon',\n 'Jorah',\n 'Kraznys',\n 'Missandei',\n 'Rakharo',\n 'Rhaegar',\n 'Viserys',\n 'Worm',\n 'Davos',\n 'Cressen',\n 'Salladhor',\n 'Eddard',\n 'Eddison',\n 'Gilly',\n 'Qyburn',\n 'Renly',\n 'Tommen',\n 'Janos',\n 'Bowen',\n 'Kevan',\n 'Margaery',\n 'Myrcella',\n 'Dalla',\n 'Melisandre',\n 'Orell',\n 'Qhorin',\n 'Rattleshirt',\n 'Styr',\n 'Val',\n 'Ygritte',\n 'Jon Arryn',\n 'Lancel',\n 'Olenna',\n 'Marillion',\n 'Robert Arryn',\n 'Ellaria',\n 'Mace',\n 'Rickard',\n 'Ramsay',\n 'Chataya',\n 'Shireen',\n 'Doran',\n 'Walton']"
      ]
     },
     "execution_count": 11,
     "metadata": {},
     "output_type": "execute_result"
    }
   ],
   "source": [
    "names = stfGraph.vs['name']  #所有的顶点\n",
    "names  "
   ]
  },
  {
   "cell_type": "code",
   "execution_count": 14,
   "metadata": {},
   "outputs": [
    {
     "name": "stdout",
     "output_type": "stream",
     "text": [
      "['5', '31', '18', '6', '5', '8', '5', '5', '11', '23', '9', '6', '5', '43', '7', '11', '6', '7', '8', '4', '5', '46', '18', '5', '4', '18', '10', '4', '4', '21', '96', '46', '12', '4', '54', '14', '35', '11', '11', '7', '5', '19', '4', '5', '4', '7', '8', '4', '16', '9', '19', '10', '8', '5', '43', '4', '6', '8', '4', '5', '19', '5', '4', '4', '6', '7', '36', '23', '10', '4', '16', '6', '4', '46', '4', '6', '4', '5', '8', '20', '26', '14', '18', '17', '47', '10', '26', '7', '12', '5', '8', '14', '4', '16', '18', '8', '15', '5', '6', '6', '8', '8', '13', '10', '5', '6', '8', '7', '4', '16', '9', '7', '17', '9', '7', '7', '24', '12', '35', '41', '9', '7', '6', '4', '88', '5', '4', '6', '15', '16', '11', '11', '7', '17', '5', '8', '31', '9', '5', '4', '5', '4', '8', '7', '28', '5', '5', '4', '14', '10', '9', '54', '33', '11', '30', '15', '7', '6', '4', '9', '25', '8', '69', '4', '7', '6', '31', '20', '5', '52', '9', '16', '8', '12', '54', '5', '6', '11', '13', '7', '6', '7', '5', '9', '5', '4', '4', '4', '6', '10', '29', '9', '5', '4', '11', '8', '7', '10', '9', '7', '8', '12', '7', '30', '5', '5', '4', '5', '4', '6', '6', '4', '6', '8', '7', '4', '5', '7', '5', '6', '4', '8', '15', '6', '23', '6', '17', '32', '5', '15', '18', '10', '14', '10', '5', '4', '7', '15', '4', '15', '4', '11', '12', '12', '26', '4', '5', '4', '5', '4', '4', '4', '6', '34', '12', '36', '43', '6', '10', '5', '15', '5', '4', '4', '6', '10', '22', '10', '5', '16', '10', '35', '4', '5', '14', '28', '36', '9', '4', '7', '28', '8', '4', '7', '5', '6', '6', '8', '77', '4', '8', '5', '4', '4', '32', '20', '15', '13', '5', '4', '31', '5', '5', '5', '4', '22', '5', '5', '11', '6', '9', '7', '5', '25', '12', '28', '11', '6', '9', '4', '21', '6', '18', '5', '4', '16', '7', '13', '13', '14', '5', '6', '4', '5', '5', '11', '15', '4', '39', '4', '6', '4', '7', '4', '7', '4', '12', '6', '6', '10', '7', '9']\n"
     ]
    }
   ],
   "source": [
    "weights = stfGraph.es['weight']  #es  edge\n",
    "print(weights)"
   ]
  },
  {
   "cell_type": "code",
   "execution_count": 15,
   "metadata": {},
   "outputs": [
    {
     "data": {
      "text/plain": [
       "107"
      ]
     },
     "execution_count": 15,
     "metadata": {},
     "output_type": "execute_result"
    }
   ],
   "source": [
    "stfGraph.vcount() #顶点的数量"
   ]
  },
  {
   "cell_type": "code",
   "execution_count": 16,
   "metadata": {},
   "outputs": [
    {
     "name": "stdout",
     "output_type": "stream",
     "text": [
      "7\n"
     ]
    }
   ],
   "source": [
    "print(stfGraph.diameter())  #网络直径"
   ]
  },
  {
   "cell_type": "code",
   "execution_count": 17,
   "metadata": {},
   "outputs": [
    {
     "name": "stdout",
     "output_type": "stream",
     "text": [
      "[38, 19, 24, 5, 0, 2, 9, 86]\n"
     ]
    }
   ],
   "source": [
    "names = stfGraph.vs['name']  #名字列表\n",
    "print(stfGraph.get_diameter())  #名字编号，最长直径"
   ]
  },
  {
   "cell_type": "code",
   "execution_count": 18,
   "metadata": {},
   "outputs": [
    {
     "data": {
      "text/plain": [
       "['Bronn', 'Gregor', 'Sandor', 'Robert', 'Aemon', 'Samwell', 'Mance', 'Dalla']"
      ]
     },
     "execution_count": 18,
     "metadata": {},
     "output_type": "execute_result"
    }
   ],
   "source": [
    "[names[x] for x in stfGraph.get_diameter()]  #最长路径"
   ]
  },
  {
   "cell_type": "code",
   "execution_count": 19,
   "metadata": {},
   "outputs": [
    {
     "name": "stdout",
     "output_type": "stream",
     "text": [
      "[[3]]\n"
     ]
    }
   ],
   "source": [
    "print(stfGraph.shortest_paths('Robert','Mance'))  #两人之间的最短路径"
   ]
  },
  {
   "cell_type": "code",
   "execution_count": 20,
   "metadata": {},
   "outputs": [
    {
     "data": {
      "text/plain": [
       "['Aerys']"
      ]
     },
     "execution_count": 20,
     "metadata": {},
     "output_type": "execute_result"
    }
   ],
   "source": [
    "[names[x] for x in stfGraph.shortest_paths('Robert','Mance')[0]]"
   ]
  },
  {
   "cell_type": "code",
   "execution_count": 22,
   "metadata": {},
   "outputs": [
    {
     "name": "stdout",
     "output_type": "stream",
     "text": [
      "['Jon', 'Aemon']\n['Jon', 'Grenn']\n['Jon', 'Samwell']\n['Jon', 'Robert']\n['Jon', 'Alliser']\n['Jon', 'Mance']\n['Jon']\n['Jon', 'Robert', 'Thoros']\n['Jon', 'Stannis', 'Balon']\n['Jon', 'Stannis', 'Balon', 'Loras']\n['Jon', 'Robert', 'Renly', 'Loras']\n['Jon', 'Stannis', 'Renly', 'Loras']\n['Jon', 'Robert', 'Barristan']\n['Jon', 'Meera']\n['Jon', 'Theon']\n['Jon', 'Stannis']\n['Jon', 'Stannis', 'Renly', 'Varys', 'Pycelle']\n['Jon', 'Robert', 'Renly', 'Varys', 'Pycelle']\n['Jon', 'Robert', 'Renly', 'Varys']\n['Jon', 'Stannis', 'Renly', 'Varys']\n['Jon', 'Craster']\n['Jon', 'Craster', 'Karl']\n['Jon', 'Melisandre', 'Davos']\n['Jon', 'Stannis', 'Davos']\n['Jon', 'Stannis', 'Davos', 'Cressen']\n['Jon', 'Melisandre', 'Davos', 'Cressen']\n['Jon', 'Stannis', 'Davos', 'Salladhor']\n['Jon', 'Melisandre', 'Davos', 'Salladhor']\n['Jon', 'Eddison']\n['Jon', 'Gilly']\n['Jon', 'Stannis', 'Renly']\n['Jon', 'Robert', 'Renly']\n['Jon', 'Janos']\n['Jon', 'Janos', 'Bowen']\n['Jon', 'Samwell', 'Bowen']\n['Jon', 'Robert', 'Renly', 'Margaery']\n['Jon', 'Stannis', 'Renly', 'Margaery']\n['Jon', 'Dalla']\n['Jon', 'Melisandre']\n['Jon', 'Orell']\n['Jon', 'Qhorin']\n['Jon', 'Rattleshirt']\n['Jon', 'Styr']\n['Jon', 'Val']\n['Jon', 'Ygritte']\n['Jon', 'Stannis', 'Renly', 'Loras', 'Olenna']\n['Jon', 'Robert', 'Renly', 'Loras', 'Olenna']\n['Jon', 'Stannis', 'Balon', 'Loras', 'Olenna']\n"
     ]
    }
   ],
   "source": [
    "paths = stfGraph.get_all_shortest_paths('Jon')\n",
    "for path in paths:\n",
    "    print([names[x] for x in path]) "
   ]
  },
  {
   "cell_type": "code",
   "execution_count": 23,
   "metadata": {},
   "outputs": [
    {
     "name": "stdout",
     "output_type": "stream",
     "text": [
      "36\n"
     ]
    }
   ],
   "source": [
    "print(stfGraph.maxdegree())  #有一个点与36个点有关系"
   ]
  },
  {
   "cell_type": "code",
   "execution_count": 25,
   "metadata": {},
   "outputs": [
    {
     "name": "stdout",
     "output_type": "stream",
     "text": [
      "Jaime 24\nTyrion 36\nTywin 22\nJon 26\nRobb 25\nSansa 26\n"
     ]
    }
   ],
   "source": [
    "for path in stfGraph.vs:\n",
    "    if path.degree()>20:\n",
    "        print(path['name'],path.degree())  #选出活跃分子，小领导"
   ]
  },
  {
   "cell_type": "code",
   "execution_count": 26,
   "metadata": {},
   "outputs": [
    {
     "name": "stdout",
     "output_type": "stream",
     "text": [
      "Jaime 307\nTyrion 357\nArya 279\nCersei 273\nRobb 301\nSansa 325\n"
     ]
    }
   ],
   "source": [
    "# 加权\n",
    "for path in stfGraph.vs:\n",
    "    weightDegree = sum([x.degree() for x in path.neighbors()])\n",
    "    if weightDegree>270:\n",
    "        print(path['name'],weightDegree)  #筛选出权重最高的人"
   ]
  },
  {
   "cell_type": "code",
   "execution_count": 29,
   "metadata": {},
   "outputs": [
    {
     "name": "stdout",
     "output_type": "stream",
     "text": [
      "Aerys 25.0\nBalon 21.666666666666668\nJeyne 21.5\nPetyr 20.714285714285715\nPycelle 21.25\nQyburn 24.0\nMyrcella 21.25\nOrell 26.0\nEllaria 21.5\nMace 21.666666666666668\nRamsay 25.0\nChataya 20.5\nDoran 36.0\nWalton 24.0\n"
     ]
    }
   ],
   "source": [
    "#邻居平均度,聚类近邻\n",
    "for path in zip(stfGraph.vs,stfGraph.knn()[0]):\n",
    "    if path[1]>20:\n",
    "        print(path[0]['name'],path[1])"
   ]
  },
  {
   "cell_type": "code",
   "execution_count": 36,
   "metadata": {},
   "outputs": [
    {
     "data": {
      "text/plain": [
       "[{'name': 'Aemon', 'between': 64.59761904761905},\n {'name': 'Grenn', 'between': 0.0},\n {'name': 'Samwell', 'between': 244.63571428571433},\n {'name': 'Aerys', 'between': 0.0},\n {'name': 'Jaime', 'between': 119.99563492063493},\n {'name': 'Robert', 'between': 208.62301587301587},\n {'name': 'Tyrion', 'between': 332.9746031746032},\n {'name': 'Tywin', 'between': 50.471428571428575},\n {'name': 'Alliser', 'between': 0.0},\n {'name': 'Mance', 'between': 138.66666666666666},\n {'name': 'Amory', 'between': 0.0},\n {'name': 'Oberyn', 'between': 7.5},\n {'name': 'Arya', 'between': 15.590079365079365},\n {'name': 'Anguy', 'between': 0.0},\n {'name': 'Beric', 'between': 16.083333333333336},\n {'name': 'Bran', 'between': 30.899999999999995},\n {'name': 'Brynden', 'between': 9.25},\n {'name': 'Cersei', 'between': 38.17460317460318},\n {'name': 'Gendry', 'between': 0.0},\n {'name': 'Gregor', 'between': 48.516666666666666},\n {'name': 'Joffrey', 'between': 31.616666666666664},\n {'name': 'Jon', 'between': 111.26666666666665},\n {'name': 'Rickon', 'between': 0.9166666666666666},\n {'name': 'Roose', 'between': 0.3333333333333333},\n {'name': 'Sandor', 'between': 114.33333333333334},\n {'name': 'Thoros', 'between': 0.0},\n {'name': 'Balon', 'between': 3.0},\n {'name': 'Loras', 'between': 28.4},\n {'name': 'Belwas', 'between': 4.0},\n {'name': 'Barristan', 'between': 0.0},\n {'name': 'Illyrio', 'between': 0.0},\n {'name': 'Hodor', 'between': 0.8333333333333333},\n {'name': 'Jojen', 'between': 8.0},\n {'name': 'Luwin', 'between': 0.0},\n {'name': 'Meera', 'between': 8.0},\n {'name': 'Nan', 'between': 0.0},\n {'name': 'Theon', 'between': 0.0},\n {'name': 'Brienne', 'between': 3.9166666666666665},\n {'name': 'Bronn', 'between': 0.5},\n {'name': 'Podrick', 'between': 1.25},\n {'name': 'Lothar', 'between': 1.6666666666666665},\n {'name': 'Walder', 'between': 9.916666666666666},\n {'name': 'Catelyn', 'between': 6.567857142857142},\n {'name': 'Edmure', 'between': 22.25},\n {'name': 'Hoster', 'between': 3.6666666666666665},\n {'name': 'Jeyne', 'between': 0.0},\n {'name': 'Lysa', 'between': 50.61666666666667},\n {'name': 'Petyr', 'between': 0.0},\n {'name': 'Robb', 'between': 19.871825396825393},\n {'name': 'Roslin', 'between': 0.0},\n {'name': 'Sansa', 'between': 32.84285714285714},\n {'name': 'Stannis', 'between': 226.2047619047619},\n {'name': 'Elia', 'between': 0.0},\n {'name': 'Ilyn', 'between': 0.0},\n {'name': 'Meryn', 'between': 0.5},\n {'name': 'Pycelle', 'between': 0.0},\n {'name': 'Shae', 'between': 1.45},\n {'name': 'Varys', 'between': 11.0},\n {'name': 'Craster', 'between': 35.0},\n {'name': 'Karl', 'between': 0.0},\n {'name': 'Daario', 'between': 3.0},\n {'name': 'Drogo', 'between': 0.0},\n {'name': 'Irri', 'between': 1.0},\n {'name': 'Daenerys', 'between': 0.0},\n {'name': 'Aegon', 'between': 0.0},\n {'name': 'Jorah', 'between': 10.0},\n {'name': 'Kraznys', 'between': 0.0},\n {'name': 'Missandei', 'between': 0.0},\n {'name': 'Rakharo', 'between': 0.0},\n {'name': 'Rhaegar', 'between': 9.916666666666666},\n {'name': 'Viserys', 'between': 26.833333333333332},\n {'name': 'Worm', 'between': 0.0},\n {'name': 'Davos', 'between': 54.0},\n {'name': 'Cressen', 'between': 0.0},\n {'name': 'Salladhor', 'between': 0.0},\n {'name': 'Eddard', 'between': 0.0},\n {'name': 'Eddison', 'between': 0.0},\n {'name': 'Gilly', 'between': 0.0},\n {'name': 'Qyburn', 'between': 0.0},\n {'name': 'Renly', 'between': 42.016666666666666},\n {'name': 'Tommen', 'between': 1.15},\n {'name': 'Janos', 'between': 90.65},\n {'name': 'Bowen', 'between': 0.0},\n {'name': 'Kevan', 'between': 17.7},\n {'name': 'Margaery', 'between': 0.0},\n {'name': 'Myrcella', 'between': 0.3333333333333333},\n {'name': 'Dalla', 'between': 0.0},\n {'name': 'Melisandre', 'between': 4.5},\n {'name': 'Orell', 'between': 0.0},\n {'name': 'Qhorin', 'between': 0.0},\n {'name': 'Rattleshirt', 'between': 0.0},\n {'name': 'Styr', 'between': 0.0},\n {'name': 'Val', 'between': 4.0},\n {'name': 'Ygritte', 'between': 0.0},\n {'name': 'Jon Arryn', 'between': 0.0},\n {'name': 'Lancel', 'between': 0.0},\n {'name': 'Olenna', 'between': 0.0},\n {'name': 'Marillion', 'between': 0.0},\n {'name': 'Robert Arryn', 'between': 0.0},\n {'name': 'Ellaria', 'between': 0.0},\n {'name': 'Mace', 'between': 0.0},\n {'name': 'Rickard', 'between': 0.0},\n {'name': 'Ramsay', 'between': 0.0},\n {'name': 'Chataya', 'between': 0.0},\n {'name': 'Shireen', 'between': 0.0},\n {'name': 'Doran', 'between': 0.0},\n {'name': 'Walton', 'between': 0.0}]"
      ]
     },
     "execution_count": 36,
     "metadata": {},
     "output_type": "execute_result"
    }
   ],
   "source": [
    "#介数中心\n",
    "btvs =[]\n",
    "for path in zip(stfGraph.vs,stfGraph.betweenness()):\n",
    "    btvs.append({'name':path[0]['name'],\n",
    "                 'between':path[1]})\n",
    "btvs"
   ]
  },
  {
   "cell_type": "code",
   "execution_count": 34,
   "metadata": {},
   "outputs": [
    {
     "data": {
      "text/plain": [
       "[{'name': 'Tyrion', 'between': 332.9746031746032},\n {'name': 'Samwell', 'between': 244.63571428571433},\n {'name': 'Stannis', 'between': 226.2047619047619},\n {'name': 'Robert', 'between': 208.62301587301587},\n {'name': 'Mance', 'between': 138.66666666666666},\n {'name': 'Jaime', 'between': 119.99563492063493},\n {'name': 'Sandor', 'between': 114.33333333333334},\n {'name': 'Jon', 'between': 111.26666666666665},\n {'name': 'Janos', 'between': 90.65},\n {'name': 'Aemon', 'between': 64.59761904761905},\n {'name': 'Davos', 'between': 54.0},\n {'name': 'Lysa', 'between': 50.61666666666667},\n {'name': 'Tywin', 'between': 50.471428571428575},\n {'name': 'Gregor', 'between': 48.516666666666666},\n {'name': 'Renly', 'between': 42.016666666666666},\n {'name': 'Cersei', 'between': 38.17460317460318},\n {'name': 'Craster', 'between': 35.0},\n {'name': 'Sansa', 'between': 32.84285714285714},\n {'name': 'Joffrey', 'between': 31.616666666666664},\n {'name': 'Bran', 'between': 30.899999999999995},\n {'name': 'Loras', 'between': 28.4},\n {'name': 'Viserys', 'between': 26.833333333333332},\n {'name': 'Edmure', 'between': 22.25},\n {'name': 'Robb', 'between': 19.871825396825393},\n {'name': 'Kevan', 'between': 17.7},\n {'name': 'Beric', 'between': 16.083333333333336},\n {'name': 'Arya', 'between': 15.590079365079365},\n {'name': 'Varys', 'between': 11.0},\n {'name': 'Jorah', 'between': 10.0},\n {'name': 'Walder', 'between': 9.916666666666666},\n {'name': 'Rhaegar', 'between': 9.916666666666666},\n {'name': 'Brynden', 'between': 9.25},\n {'name': 'Jojen', 'between': 8.0},\n {'name': 'Meera', 'between': 8.0},\n {'name': 'Oberyn', 'between': 7.5},\n {'name': 'Catelyn', 'between': 6.567857142857142},\n {'name': 'Melisandre', 'between': 4.5},\n {'name': 'Belwas', 'between': 4.0},\n {'name': 'Val', 'between': 4.0},\n {'name': 'Brienne', 'between': 3.9166666666666665},\n {'name': 'Hoster', 'between': 3.6666666666666665},\n {'name': 'Balon', 'between': 3.0},\n {'name': 'Daario', 'between': 3.0},\n {'name': 'Lothar', 'between': 1.6666666666666665},\n {'name': 'Shae', 'between': 1.45},\n {'name': 'Podrick', 'between': 1.25},\n {'name': 'Tommen', 'between': 1.15},\n {'name': 'Irri', 'between': 1.0},\n {'name': 'Rickon', 'between': 0.9166666666666666},\n {'name': 'Hodor', 'between': 0.8333333333333333},\n {'name': 'Bronn', 'between': 0.5},\n {'name': 'Meryn', 'between': 0.5},\n {'name': 'Roose', 'between': 0.3333333333333333},\n {'name': 'Myrcella', 'between': 0.3333333333333333},\n {'name': 'Grenn', 'between': 0.0},\n {'name': 'Aerys', 'between': 0.0},\n {'name': 'Alliser', 'between': 0.0},\n {'name': 'Amory', 'between': 0.0},\n {'name': 'Anguy', 'between': 0.0},\n {'name': 'Gendry', 'between': 0.0},\n {'name': 'Thoros', 'between': 0.0},\n {'name': 'Barristan', 'between': 0.0},\n {'name': 'Illyrio', 'between': 0.0},\n {'name': 'Luwin', 'between': 0.0},\n {'name': 'Nan', 'between': 0.0},\n {'name': 'Theon', 'between': 0.0},\n {'name': 'Jeyne', 'between': 0.0},\n {'name': 'Petyr', 'between': 0.0},\n {'name': 'Roslin', 'between': 0.0},\n {'name': 'Elia', 'between': 0.0},\n {'name': 'Ilyn', 'between': 0.0},\n {'name': 'Pycelle', 'between': 0.0},\n {'name': 'Karl', 'between': 0.0},\n {'name': 'Drogo', 'between': 0.0},\n {'name': 'Daenerys', 'between': 0.0},\n {'name': 'Aegon', 'between': 0.0},\n {'name': 'Kraznys', 'between': 0.0},\n {'name': 'Missandei', 'between': 0.0},\n {'name': 'Rakharo', 'between': 0.0},\n {'name': 'Worm', 'between': 0.0},\n {'name': 'Cressen', 'between': 0.0},\n {'name': 'Salladhor', 'between': 0.0},\n {'name': 'Eddard', 'between': 0.0},\n {'name': 'Eddison', 'between': 0.0},\n {'name': 'Gilly', 'between': 0.0},\n {'name': 'Qyburn', 'between': 0.0},\n {'name': 'Bowen', 'between': 0.0},\n {'name': 'Margaery', 'between': 0.0},\n {'name': 'Dalla', 'between': 0.0},\n {'name': 'Orell', 'between': 0.0},\n {'name': 'Qhorin', 'between': 0.0},\n {'name': 'Rattleshirt', 'between': 0.0},\n {'name': 'Styr', 'between': 0.0},\n {'name': 'Ygritte', 'between': 0.0},\n {'name': 'Jon Arryn', 'between': 0.0},\n {'name': 'Lancel', 'between': 0.0},\n {'name': 'Olenna', 'between': 0.0},\n {'name': 'Marillion', 'between': 0.0},\n {'name': 'Robert Arryn', 'between': 0.0},\n {'name': 'Ellaria', 'between': 0.0},\n {'name': 'Mace', 'between': 0.0},\n {'name': 'Rickard', 'between': 0.0},\n {'name': 'Ramsay', 'between': 0.0},\n {'name': 'Chataya', 'between': 0.0},\n {'name': 'Shireen', 'between': 0.0},\n {'name': 'Doran', 'between': 0.0},\n {'name': 'Walton', 'between': 0.0}]"
      ]
     },
     "execution_count": 34,
     "metadata": {},
     "output_type": "execute_result"
    }
   ],
   "source": [
    "btvs = sorted(btvs,key=lambda x:x['between'],reverse=True)\n",
    "btvs"
   ]
  },
  {
   "cell_type": "code",
   "execution_count": 37,
   "metadata": {},
   "outputs": [
    {
     "data": {
      "text/plain": [
       "[{'name': 'Aemon', 'closeC': 0.3897058823529412},\n {'name': 'Grenn', 'closeC': 0.3302180685358255},\n {'name': 'Samwell', 'closeC': 0.38405797101449274},\n {'name': 'Aerys', 'closeC': 0.3925925925925926},\n {'name': 'Jaime', 'closeC': 0.4796380090497738},\n {'name': 'Robert', 'closeC': 0.5},\n {'name': 'Tyrion', 'closeC': 0.5120772946859904},\n {'name': 'Tywin', 'closeC': 0.4690265486725664},\n {'name': 'Alliser', 'closeC': 0.343042071197411},\n {'name': 'Mance', 'closeC': 0.3581081081081081},\n {'name': 'Amory', 'closeC': 0.2617283950617284},\n {'name': 'Oberyn', 'closeC': 0.35333333333333333},\n {'name': 'Arya', 'closeC': 0.48623853211009177},\n {'name': 'Anguy', 'closeC': 0.32919254658385094},\n {'name': 'Beric', 'closeC': 0.33865814696485624},\n {'name': 'Bran', 'closeC': 0.42063492063492064},\n {'name': 'Brynden', 'closeC': 0.375886524822695},\n {'name': 'Cersei', 'closeC': 0.4435146443514644},\n {'name': 'Gendry', 'closeC': 0.3333333333333333},\n {'name': 'Gregor', 'closeC': 0.40304182509505704},\n {'name': 'Joffrey', 'closeC': 0.43983402489626555},\n {'name': 'Jon', 'closeC': 0.4796380090497738},\n {'name': 'Rickon', 'closeC': 0.37857142857142856},\n {'name': 'Roose', 'closeC': 0.3581081081081081},\n {'name': 'Sandor', 'closeC': 0.41732283464566927},\n {'name': 'Thoros', 'closeC': 0.36177474402730375},\n {'name': 'Balon', 'closeC': 0.4061302681992337},\n {'name': 'Loras', 'closeC': 0.3897058823529412},\n {'name': 'Belwas', 'closeC': 0.2857142857142857},\n {'name': 'Barristan', 'closeC': 0.37992831541218636},\n {'name': 'Illyrio', 'closeC': 0.22268907563025211},\n {'name': 'Hodor', 'closeC': 0.33865814696485624},\n {'name': 'Jojen', 'closeC': 0.3136094674556213},\n {'name': 'Luwin', 'closeC': 0.29775280898876405},\n {'name': 'Meera', 'closeC': 0.33865814696485624},\n {'name': 'Nan', 'closeC': 0.29775280898876405},\n {'name': 'Theon', 'closeC': 0.3732394366197183},\n {'name': 'Brienne', 'closeC': 0.3882783882783883},\n {'name': 'Bronn', 'closeC': 0.34527687296416937},\n {'name': 'Podrick', 'closeC': 0.37722419928825623},\n {'name': 'Lothar', 'closeC': 0.33544303797468356},\n {'name': 'Walder', 'closeC': 0.3693379790940767},\n {'name': 'Catelyn', 'closeC': 0.44166666666666665},\n {'name': 'Edmure', 'closeC': 0.3706293706293706},\n {'name': 'Hoster', 'closeC': 0.314540059347181},\n {'name': 'Jeyne', 'closeC': 0.33544303797468356},\n {'name': 'Lysa', 'closeC': 0.3925925925925926},\n {'name': 'Petyr', 'closeC': 0.39552238805970147},\n {'name': 'Robb', 'closeC': 0.48847926267281105},\n {'name': 'Roslin', 'closeC': 0.31268436578171094},\n {'name': 'Sansa', 'closeC': 0.5096153846153846},\n {'name': 'Stannis', 'closeC': 0.4796380090497738},\n {'name': 'Elia', 'closeC': 0.3693379790940767},\n {'name': 'Ilyn', 'closeC': 0.3521594684385382},\n {'name': 'Meryn', 'closeC': 0.36177474402730375},\n {'name': 'Pycelle', 'closeC': 0.3509933774834437},\n {'name': 'Shae', 'closeC': 0.3719298245614035},\n {'name': 'Varys', 'closeC': 0.35570469798657717},\n {'name': 'Craster', 'closeC': 0.3322884012539185},\n {'name': 'Karl', 'closeC': 0.25},\n {'name': 'Daario', 'closeC': 0.27040816326530615},\n {'name': 'Drogo', 'closeC': 0.27040816326530615},\n {'name': 'Irri', 'closeC': 0.27040816326530615},\n {'name': 'Daenerys', 'closeC': 0.36551724137931035},\n {'name': 'Aegon', 'closeC': 0.2683544303797468},\n {'name': 'Jorah', 'closeC': 0.28804347826086957},\n {'name': 'Kraznys', 'closeC': 0.2683544303797468},\n {'name': 'Missandei', 'closeC': 0.26903553299492383},\n {'name': 'Rakharo', 'closeC': 0.2683544303797468},\n {'name': 'Rhaegar', 'closeC': 0.35570469798657717},\n {'name': 'Viserys', 'closeC': 0.3719298245614035},\n {'name': 'Worm', 'closeC': 0.2683544303797468},\n {'name': 'Davos', 'closeC': 0.3322884012539185},\n {'name': 'Cressen', 'closeC': 0.25},\n {'name': 'Salladhor', 'closeC': 0.25},\n {'name': 'Eddard', 'closeC': 0.4608695652173913},\n {'name': 'Eddison', 'closeC': 0.32919254658385094},\n {'name': 'Gilly', 'closeC': 0.33125},\n {'name': 'Qyburn', 'closeC': 0.32515337423312884},\n {'name': 'Renly', 'closeC': 0.41568627450980394},\n {'name': 'Tommen', 'closeC': 0.34983498349834985},\n {'name': 'Janos', 'closeC': 0.39552238805970147},\n {'name': 'Bowen', 'closeC': 0.30113636363636365},\n {'name': 'Kevan', 'closeC': 0.37992831541218636},\n {'name': 'Margaery', 'closeC': 0.375886524822695},\n {'name': 'Myrcella', 'closeC': 0.3719298245614035},\n {'name': 'Dalla', 'closeC': 0.334384858044164},\n {'name': 'Melisandre', 'closeC': 0.36678200692041524},\n {'name': 'Orell', 'closeC': 0.32515337423312884},\n {'name': 'Qhorin', 'closeC': 0.33125},\n {'name': 'Rattleshirt', 'closeC': 0.3281733746130031},\n {'name': 'Styr', 'closeC': 0.3261538461538461},\n {'name': 'Val', 'closeC': 0.3732394366197183},\n {'name': 'Ygritte', 'closeC': 0.3281733746130031},\n {'name': 'Jon Arryn', 'closeC': 0.34527687296416937},\n {'name': 'Lancel', 'closeC': 0.2760416666666667},\n {'name': 'Olenna', 'closeC': 0.3408360128617363},\n {'name': 'Marillion', 'closeC': 0.34415584415584416},\n {'name': 'Robert Arryn', 'closeC': 0.34415584415584416},\n {'name': 'Ellaria', 'closeC': 0.3419354838709677},\n {'name': 'Mace', 'closeC': 0.34868421052631576},\n {'name': 'Rickard', 'closeC': 0.3302180685358255},\n {'name': 'Ramsay', 'closeC': 0.32919254658385094},\n {'name': 'Chataya', 'closeC': 0.3408360128617363},\n {'name': 'Shireen', 'closeC': 0.25},\n {'name': 'Doran', 'closeC': 0.33974358974358976},\n {'name': 'Walton', 'closeC': 0.32515337423312884}]"
      ]
     },
     "execution_count": 37,
     "metadata": {},
     "output_type": "execute_result"
    }
   ],
   "source": [
    "#接近中心性\n",
    "ccvs = []\n",
    "for path in zip(stfGraph.vs,stfGraph.closeness()):\n",
    "    ccvs.append({'name':path[0]['name'],\n",
    "                 'closeC':path[1]})\n",
    "ccvs"
   ]
  },
  {
   "cell_type": "code",
   "execution_count": 41,
   "metadata": {},
   "outputs": [
    {
     "data": {
      "text/plain": [
       "[{'name': 'Tyrion', 'closeC': 0.5120772946859904},\n {'name': 'Sansa', 'closeC': 0.5096153846153846},\n {'name': 'Robert', 'closeC': 0.5},\n {'name': 'Robb', 'closeC': 0.48847926267281105},\n {'name': 'Arya', 'closeC': 0.48623853211009177},\n {'name': 'Jaime', 'closeC': 0.4796380090497738},\n {'name': 'Jon', 'closeC': 0.4796380090497738},\n {'name': 'Stannis', 'closeC': 0.4796380090497738},\n {'name': 'Tywin', 'closeC': 0.4690265486725664},\n {'name': 'Eddard', 'closeC': 0.4608695652173913},\n {'name': 'Cersei', 'closeC': 0.4435146443514644},\n {'name': 'Catelyn', 'closeC': 0.44166666666666665},\n {'name': 'Joffrey', 'closeC': 0.43983402489626555},\n {'name': 'Bran', 'closeC': 0.42063492063492064},\n {'name': 'Sandor', 'closeC': 0.41732283464566927},\n {'name': 'Renly', 'closeC': 0.41568627450980394},\n {'name': 'Balon', 'closeC': 0.4061302681992337},\n {'name': 'Gregor', 'closeC': 0.40304182509505704},\n {'name': 'Petyr', 'closeC': 0.39552238805970147},\n {'name': 'Janos', 'closeC': 0.39552238805970147},\n {'name': 'Aerys', 'closeC': 0.3925925925925926},\n {'name': 'Lysa', 'closeC': 0.3925925925925926},\n {'name': 'Aemon', 'closeC': 0.3897058823529412},\n {'name': 'Loras', 'closeC': 0.3897058823529412},\n {'name': 'Brienne', 'closeC': 0.3882783882783883},\n {'name': 'Samwell', 'closeC': 0.38405797101449274},\n {'name': 'Barristan', 'closeC': 0.37992831541218636},\n {'name': 'Kevan', 'closeC': 0.37992831541218636},\n {'name': 'Rickon', 'closeC': 0.37857142857142856},\n {'name': 'Podrick', 'closeC': 0.37722419928825623},\n {'name': 'Brynden', 'closeC': 0.375886524822695},\n {'name': 'Margaery', 'closeC': 0.375886524822695},\n {'name': 'Theon', 'closeC': 0.3732394366197183},\n {'name': 'Val', 'closeC': 0.3732394366197183},\n {'name': 'Shae', 'closeC': 0.3719298245614035},\n {'name': 'Viserys', 'closeC': 0.3719298245614035},\n {'name': 'Myrcella', 'closeC': 0.3719298245614035},\n {'name': 'Edmure', 'closeC': 0.3706293706293706},\n {'name': 'Walder', 'closeC': 0.3693379790940767},\n {'name': 'Elia', 'closeC': 0.3693379790940767},\n {'name': 'Melisandre', 'closeC': 0.36678200692041524},\n {'name': 'Daenerys', 'closeC': 0.36551724137931035},\n {'name': 'Thoros', 'closeC': 0.36177474402730375},\n {'name': 'Meryn', 'closeC': 0.36177474402730375},\n {'name': 'Mance', 'closeC': 0.3581081081081081},\n {'name': 'Roose', 'closeC': 0.3581081081081081},\n {'name': 'Varys', 'closeC': 0.35570469798657717},\n {'name': 'Rhaegar', 'closeC': 0.35570469798657717},\n {'name': 'Oberyn', 'closeC': 0.35333333333333333},\n {'name': 'Ilyn', 'closeC': 0.3521594684385382},\n {'name': 'Pycelle', 'closeC': 0.3509933774834437},\n {'name': 'Tommen', 'closeC': 0.34983498349834985},\n {'name': 'Mace', 'closeC': 0.34868421052631576},\n {'name': 'Bronn', 'closeC': 0.34527687296416937},\n {'name': 'Jon Arryn', 'closeC': 0.34527687296416937},\n {'name': 'Marillion', 'closeC': 0.34415584415584416},\n {'name': 'Robert Arryn', 'closeC': 0.34415584415584416},\n {'name': 'Alliser', 'closeC': 0.343042071197411},\n {'name': 'Ellaria', 'closeC': 0.3419354838709677},\n {'name': 'Olenna', 'closeC': 0.3408360128617363},\n {'name': 'Chataya', 'closeC': 0.3408360128617363},\n {'name': 'Doran', 'closeC': 0.33974358974358976},\n {'name': 'Beric', 'closeC': 0.33865814696485624},\n {'name': 'Hodor', 'closeC': 0.33865814696485624},\n {'name': 'Meera', 'closeC': 0.33865814696485624},\n {'name': 'Lothar', 'closeC': 0.33544303797468356},\n {'name': 'Jeyne', 'closeC': 0.33544303797468356},\n {'name': 'Dalla', 'closeC': 0.334384858044164},\n {'name': 'Gendry', 'closeC': 0.3333333333333333},\n {'name': 'Craster', 'closeC': 0.3322884012539185},\n {'name': 'Davos', 'closeC': 0.3322884012539185},\n {'name': 'Gilly', 'closeC': 0.33125},\n {'name': 'Qhorin', 'closeC': 0.33125},\n {'name': 'Grenn', 'closeC': 0.3302180685358255},\n {'name': 'Rickard', 'closeC': 0.3302180685358255},\n {'name': 'Anguy', 'closeC': 0.32919254658385094},\n {'name': 'Eddison', 'closeC': 0.32919254658385094},\n {'name': 'Ramsay', 'closeC': 0.32919254658385094},\n {'name': 'Rattleshirt', 'closeC': 0.3281733746130031},\n {'name': 'Ygritte', 'closeC': 0.3281733746130031},\n {'name': 'Styr', 'closeC': 0.3261538461538461},\n {'name': 'Qyburn', 'closeC': 0.32515337423312884},\n {'name': 'Orell', 'closeC': 0.32515337423312884},\n {'name': 'Walton', 'closeC': 0.32515337423312884},\n {'name': 'Hoster', 'closeC': 0.314540059347181},\n {'name': 'Jojen', 'closeC': 0.3136094674556213},\n {'name': 'Roslin', 'closeC': 0.31268436578171094},\n {'name': 'Bowen', 'closeC': 0.30113636363636365},\n {'name': 'Luwin', 'closeC': 0.29775280898876405},\n {'name': 'Nan', 'closeC': 0.29775280898876405},\n {'name': 'Jorah', 'closeC': 0.28804347826086957},\n {'name': 'Belwas', 'closeC': 0.2857142857142857},\n {'name': 'Lancel', 'closeC': 0.2760416666666667},\n {'name': 'Daario', 'closeC': 0.27040816326530615},\n {'name': 'Drogo', 'closeC': 0.27040816326530615},\n {'name': 'Irri', 'closeC': 0.27040816326530615},\n {'name': 'Missandei', 'closeC': 0.26903553299492383},\n {'name': 'Aegon', 'closeC': 0.2683544303797468},\n {'name': 'Kraznys', 'closeC': 0.2683544303797468},\n {'name': 'Rakharo', 'closeC': 0.2683544303797468},\n {'name': 'Worm', 'closeC': 0.2683544303797468},\n {'name': 'Amory', 'closeC': 0.2617283950617284},\n {'name': 'Karl', 'closeC': 0.25},\n {'name': 'Cressen', 'closeC': 0.25},\n {'name': 'Salladhor', 'closeC': 0.25},\n {'name': 'Shireen', 'closeC': 0.25},\n {'name': 'Illyrio', 'closeC': 0.22268907563025211}]"
      ]
     },
     "execution_count": 41,
     "metadata": {},
     "output_type": "execute_result"
    }
   ],
   "source": [
    "ccvs = sorted(ccvs,key=lambda x:x['closeC'],reverse=True)\n",
    "ccvs"
   ]
  },
  {
   "cell_type": "code",
   "execution_count": 43,
   "metadata": {},
   "outputs": [
    {
     "data": {
      "text/plain": [
       "[{'name': 'Aemon', 'pg': 0.008501107902256048},\n {'name': 'Grenn', 'pg': 0.01762837304517548},\n {'name': 'Samwell', 'pg': 0.025444623421744195},\n {'name': 'Aerys', 'pg': 0.004622288562967562},\n {'name': 'Jaime', 'pg': 0.011495652339751297},\n {'name': 'Robert', 'pg': 0.01343195181265699},\n {'name': 'Tyrion', 'pg': 0.013549980077970657},\n {'name': 'Tywin', 'pg': 0.006650652249173218},\n {'name': 'Alliser', 'pg': 0.00715487515914491},\n {'name': 'Mance', 'pg': 0.01594001028297841},\n {'name': 'Amory', 'pg': 0.004622288562967562},\n {'name': 'Oberyn', 'pg': 0.01142672934349487},\n {'name': 'Arya', 'pg': 0.005340938718012395},\n {'name': 'Anguy', 'pg': 0.006727017682410552},\n {'name': 'Beric', 'pg': 0.006427029706053817},\n {'name': 'Bran', 'pg': 0.005872161120882359},\n {'name': 'Brynden', 'pg': 0.011983250293342927},\n {'name': 'Cersei', 'pg': 0.006831677854196234},\n {'name': 'Gendry', 'pg': 0.007920609349558863},\n {'name': 'Gregor', 'pg': 0.0095661811374484},\n {'name': 'Joffrey', 'pg': 0.006660993900831745},\n {'name': 'Jon', 'pg': 0.006179269082156803},\n {'name': 'Rickon', 'pg': 0.006179269082156803},\n {'name': 'Roose', 'pg': 0.0053455808722522495},\n {'name': 'Sandor', 'pg': 0.008425352944576308},\n {'name': 'Thoros', 'pg': 0.016936559104835578},\n {'name': 'Balon', 'pg': 0.00758847733472838},\n {'name': 'Loras', 'pg': 0.024829863132020076},\n {'name': 'Belwas', 'pg': 0.006260291501737444},\n {'name': 'Barristan', 'pg': 0.01334043523443606},\n {'name': 'Illyrio', 'pg': 0.007282912451205976},\n {'name': 'Hodor', 'pg': 0.005368951464132287},\n {'name': 'Jojen', 'pg': 0.007458685929973784},\n {'name': 'Luwin', 'pg': 0.005176881557717563},\n {'name': 'Meera', 'pg': 0.010878740722585656},\n {'name': 'Nan', 'pg': 0.009577230881777489},\n {'name': 'Theon', 'pg': 0.010871443456338585},\n {'name': 'Brienne', 'pg': 0.010870956126759028},\n {'name': 'Bronn', 'pg': 0.00551696413187665},\n {'name': 'Podrick', 'pg': 0.007943590768431449},\n {'name': 'Lothar', 'pg': 0.01575356243983305},\n {'name': 'Walder', 'pg': 0.012700189599644317},\n {'name': 'Catelyn', 'pg': 0.004949700669511098},\n {'name': 'Edmure', 'pg': 0.010578520200223339},\n {'name': 'Hoster', 'pg': 0.005723831056603441},\n {'name': 'Jeyne', 'pg': 0.005061843502857841},\n {'name': 'Lysa', 'pg': 0.007033414377790903},\n {'name': 'Petyr', 'pg': 0.010490880465667034},\n {'name': 'Robb', 'pg': 0.005197185702986652},\n {'name': 'Roslin', 'pg': 0.02410662426608122},\n {'name': 'Sansa', 'pg': 0.005389255609401377},\n {'name': 'Stannis', 'pg': 0.009496053591273767},\n {'name': 'Elia', 'pg': 0.009279302961551394},\n {'name': 'Ilyn', 'pg': 0.01684966719270988},\n {'name': 'Meryn', 'pg': 0.009460047292952677},\n {'name': 'Pycelle', 'pg': 0.01732234562876074},\n {'name': 'Shae', 'pg': 0.005716132273963223},\n {'name': 'Varys', 'pg': 0.013538649785077427},\n {'name': 'Craster', 'pg': 0.017148610457964602},\n {'name': 'Karl', 'pg': 0.019198607452237473},\n {'name': 'Daario', 'pg': 0.006260291501737444},\n {'name': 'Drogo', 'pg': 0.018892299206707614},\n {'name': 'Irri', 'pg': 0.011731039784390294},\n {'name': 'Daenerys', 'pg': 0.004622288562967562},\n {'name': 'Aegon', 'pg': 0.00490292751143345},\n {'name': 'Jorah', 'pg': 0.006387595248489391},\n {'name': 'Kraznys', 'pg': 0.00490292751143345},\n {'name': 'Missandei', 'pg': 0.00490292751143345},\n {'name': 'Rakharo', 'pg': 0.00490292751143345},\n {'name': 'Rhaegar', 'pg': 0.006986671703792666},\n {'name': 'Viserys', 'pg': 0.00490292751143345},\n {'name': 'Worm', 'pg': 0.00490292751143345},\n {'name': 'Davos', 'pg': 0.012539020440248126},\n {'name': 'Cressen', 'pg': 0.009951372250073014},\n {'name': 'Salladhor', 'pg': 0.009951372250073014},\n {'name': 'Eddard', 'pg': 0.004622288562967562},\n {'name': 'Eddison', 'pg': 0.007575893073900898},\n {'name': 'Gilly', 'pg': 0.009269519166467354},\n {'name': 'Qyburn', 'pg': 0.005273708862220135},\n {'name': 'Renly', 'pg': 0.009581478198983636},\n {'name': 'Tommen', 'pg': 0.00829270121330162},\n {'name': 'Janos', 'pg': 0.008055788201662358},\n {'name': 'Bowen', 'pg': 0.009608253125332217},\n {'name': 'Kevan', 'pg': 0.006070701413692786},\n {'name': 'Margaery', 'pg': 0.032841464406084854},\n {'name': 'Myrcella', 'pg': 0.005293277106363049},\n {'name': 'Dalla', 'pg': 0.012400051469261042},\n {'name': 'Melisandre', 'pg': 0.006217676094104358},\n {'name': 'Orell', 'pg': 0.0048724018353405755},\n {'name': 'Qhorin', 'pg': 0.02001318236350523},\n {'name': 'Rattleshirt', 'pg': 0.009356589797267518},\n {'name': 'Styr', 'pg': 0.006566027927907031},\n {'name': 'Val', 'pg': 0.0068635571074753075},\n {'name': 'Ygritte', 'pg': 0.006566027927907031},\n {'name': 'Jon Arryn', 'pg': 0.004622288562967562},\n {'name': 'Lancel', 'pg': 0.007202336663786997},\n {'name': 'Olenna', 'pg': 0.015374148536162667},\n {'name': 'Marillion', 'pg': 0.010499701205646748},\n {'name': 'Robert Arryn', 'pg': 0.005675514165214459},\n {'name': 'Ellaria', 'pg': 0.009958543661714343},\n {'name': 'Mace', 'pg': 0.010256072841282616},\n {'name': 'Rickard', 'pg': 0.004814358469382287},\n {'name': 'Ramsay', 'pg': 0.004814358469382287},\n {'name': 'Chataya', 'pg': 0.0075315399071633924},\n {'name': 'Shireen', 'pg': 0.004622288562967562},\n {'name': 'Doran', 'pg': 0.005102183690729023},\n {'name': 'Walton', 'pg': 0.004622288562967562}]"
      ]
     },
     "execution_count": 43,
     "metadata": {},
     "output_type": "execute_result"
    }
   ],
   "source": [
    "pg = stfGraph.pagerank()\n",
    "pgvs = []\n",
    "for path in zip(stfGraph.vs,pg):\n",
    "    pgvs.append({'name':path[0]['name'],\n",
    "                  'pg':path[1]})\n",
    "pgvs"
   ]
  },
  {
   "cell_type": "code",
   "execution_count": 52,
   "metadata": {},
   "outputs": [
    {
     "data": {
      "text/plain": [
       "[{'name': 'Margaery', 'pg': 0.032841464406084854},\n {'name': 'Samwell', 'pg': 0.025444623421744195},\n {'name': 'Loras', 'pg': 0.024829863132020076},\n {'name': 'Roslin', 'pg': 0.02410662426608122},\n {'name': 'Qhorin', 'pg': 0.02001318236350523},\n {'name': 'Karl', 'pg': 0.019198607452237473},\n {'name': 'Drogo', 'pg': 0.018892299206707614},\n {'name': 'Grenn', 'pg': 0.01762837304517548},\n {'name': 'Pycelle', 'pg': 0.01732234562876074},\n {'name': 'Craster', 'pg': 0.017148610457964602},\n {'name': 'Thoros', 'pg': 0.016936559104835578},\n {'name': 'Ilyn', 'pg': 0.01684966719270988},\n {'name': 'Mance', 'pg': 0.01594001028297841},\n {'name': 'Lothar', 'pg': 0.01575356243983305},\n {'name': 'Olenna', 'pg': 0.015374148536162667},\n {'name': 'Tyrion', 'pg': 0.013549980077970657},\n {'name': 'Varys', 'pg': 0.013538649785077427},\n {'name': 'Robert', 'pg': 0.01343195181265699},\n {'name': 'Barristan', 'pg': 0.01334043523443606},\n {'name': 'Walder', 'pg': 0.012700189599644317},\n {'name': 'Davos', 'pg': 0.012539020440248126},\n {'name': 'Dalla', 'pg': 0.012400051469261042},\n {'name': 'Brynden', 'pg': 0.011983250293342927},\n {'name': 'Irri', 'pg': 0.011731039784390294},\n {'name': 'Jaime', 'pg': 0.011495652339751297},\n {'name': 'Oberyn', 'pg': 0.01142672934349487},\n {'name': 'Meera', 'pg': 0.010878740722585656},\n {'name': 'Theon', 'pg': 0.010871443456338585},\n {'name': 'Brienne', 'pg': 0.010870956126759028},\n {'name': 'Edmure', 'pg': 0.010578520200223339},\n {'name': 'Marillion', 'pg': 0.010499701205646748},\n {'name': 'Petyr', 'pg': 0.010490880465667034},\n {'name': 'Mace', 'pg': 0.010256072841282616},\n {'name': 'Ellaria', 'pg': 0.009958543661714343},\n {'name': 'Cressen', 'pg': 0.009951372250073014},\n {'name': 'Salladhor', 'pg': 0.009951372250073014},\n {'name': 'Bowen', 'pg': 0.009608253125332217},\n {'name': 'Renly', 'pg': 0.009581478198983636},\n {'name': 'Nan', 'pg': 0.009577230881777489},\n {'name': 'Gregor', 'pg': 0.0095661811374484},\n {'name': 'Stannis', 'pg': 0.009496053591273767},\n {'name': 'Meryn', 'pg': 0.009460047292952677},\n {'name': 'Rattleshirt', 'pg': 0.009356589797267518},\n {'name': 'Elia', 'pg': 0.009279302961551394},\n {'name': 'Gilly', 'pg': 0.009269519166467354},\n {'name': 'Aemon', 'pg': 0.008501107902256048},\n {'name': 'Sandor', 'pg': 0.008425352944576308},\n {'name': 'Tommen', 'pg': 0.00829270121330162},\n {'name': 'Janos', 'pg': 0.008055788201662358},\n {'name': 'Podrick', 'pg': 0.007943590768431449},\n {'name': 'Gendry', 'pg': 0.007920609349558863},\n {'name': 'Balon', 'pg': 0.00758847733472838},\n {'name': 'Eddison', 'pg': 0.007575893073900898},\n {'name': 'Chataya', 'pg': 0.0075315399071633924},\n {'name': 'Jojen', 'pg': 0.007458685929973784},\n {'name': 'Illyrio', 'pg': 0.007282912451205976},\n {'name': 'Lancel', 'pg': 0.007202336663786997},\n {'name': 'Alliser', 'pg': 0.00715487515914491},\n {'name': 'Lysa', 'pg': 0.007033414377790903},\n {'name': 'Rhaegar', 'pg': 0.006986671703792666},\n {'name': 'Val', 'pg': 0.0068635571074753075},\n {'name': 'Cersei', 'pg': 0.006831677854196234},\n {'name': 'Anguy', 'pg': 0.006727017682410552},\n {'name': 'Joffrey', 'pg': 0.006660993900831745},\n {'name': 'Tywin', 'pg': 0.006650652249173218},\n {'name': 'Styr', 'pg': 0.006566027927907031},\n {'name': 'Ygritte', 'pg': 0.006566027927907031},\n {'name': 'Beric', 'pg': 0.006427029706053817},\n {'name': 'Jorah', 'pg': 0.006387595248489391},\n {'name': 'Belwas', 'pg': 0.006260291501737444},\n {'name': 'Daario', 'pg': 0.006260291501737444},\n {'name': 'Melisandre', 'pg': 0.006217676094104358},\n {'name': 'Jon', 'pg': 0.006179269082156803},\n {'name': 'Rickon', 'pg': 0.006179269082156803},\n {'name': 'Kevan', 'pg': 0.006070701413692786},\n {'name': 'Bran', 'pg': 0.005872161120882359},\n {'name': 'Hoster', 'pg': 0.005723831056603441},\n {'name': 'Shae', 'pg': 0.005716132273963223},\n {'name': 'Robert Arryn', 'pg': 0.005675514165214459},\n {'name': 'Bronn', 'pg': 0.00551696413187665},\n {'name': 'Sansa', 'pg': 0.005389255609401377},\n {'name': 'Hodor', 'pg': 0.005368951464132287},\n {'name': 'Roose', 'pg': 0.0053455808722522495},\n {'name': 'Arya', 'pg': 0.005340938718012395},\n {'name': 'Myrcella', 'pg': 0.005293277106363049},\n {'name': 'Qyburn', 'pg': 0.005273708862220135},\n {'name': 'Robb', 'pg': 0.005197185702986652},\n {'name': 'Luwin', 'pg': 0.005176881557717563},\n {'name': 'Doran', 'pg': 0.005102183690729023},\n {'name': 'Jeyne', 'pg': 0.005061843502857841},\n {'name': 'Catelyn', 'pg': 0.004949700669511098},\n {'name': 'Aegon', 'pg': 0.00490292751143345},\n {'name': 'Kraznys', 'pg': 0.00490292751143345},\n {'name': 'Missandei', 'pg': 0.00490292751143345},\n {'name': 'Rakharo', 'pg': 0.00490292751143345},\n {'name': 'Viserys', 'pg': 0.00490292751143345},\n {'name': 'Worm', 'pg': 0.00490292751143345},\n {'name': 'Orell', 'pg': 0.0048724018353405755},\n {'name': 'Rickard', 'pg': 0.004814358469382287},\n {'name': 'Ramsay', 'pg': 0.004814358469382287},\n {'name': 'Aerys', 'pg': 0.004622288562967562},\n {'name': 'Amory', 'pg': 0.004622288562967562},\n {'name': 'Daenerys', 'pg': 0.004622288562967562},\n {'name': 'Eddard', 'pg': 0.004622288562967562},\n {'name': 'Jon Arryn', 'pg': 0.004622288562967562},\n {'name': 'Shireen', 'pg': 0.004622288562967562},\n {'name': 'Walton', 'pg': 0.004622288562967562}]"
      ]
     },
     "execution_count": 52,
     "metadata": {},
     "output_type": "execute_result"
    }
   ],
   "source": [
    "pgvs = sorted(pgvs,key=lambda x:x['pg'],reverse=True)\n",
    "pgvs"
   ]
  },
  {
   "cell_type": "code",
   "execution_count": 55,
   "metadata": {
    "collapsed": true
   },
   "outputs": [
    {
     "name": "stdout",
     "output_type": "stream",
     "text": [
      "community 0 : ['Aemon', ['Grenn'], ['Samwell'], ['Alliser'], ['Mance'], ['Jon'], ['Craster'], ['Karl'], ['Eddison'], ['Gilly'], ['Janos'], ['Bowen'], ['Dalla'], ['Melisandre'], ['Orell'], ['Qhorin'], ['Rattleshirt'], ['Styr'], ['Val'], ['Ygritte']]\ncommunity 1 : ['Aerys', ['Jaime'], ['Robert'], ['Tyrion'], ['Tywin'], ['Amory'], ['Oberyn'], ['Arya'], ['Anguy'], ['Beric'], ['Cersei'], ['Gendry'], ['Gregor'], ['Joffrey'], ['Sandor'], ['Thoros'], ['Balon'], ['Loras'], ['Brienne'], ['Bronn'], ['Podrick'], ['Lysa'], ['Sansa'], ['Stannis'], ['Elia'], ['Ilyn'], ['Meryn'], ['Pycelle'], ['Shae'], ['Varys'], ['Eddard'], ['Qyburn'], ['Renly'], ['Tommen'], ['Kevan'], ['Margaery'], ['Myrcella'], ['Jon Arryn'], ['Lancel'], ['Olenna'], ['Marillion'], ['Robert Arryn'], ['Ellaria'], ['Mace'], ['Chataya'], ['Doran'], ['Walton']]\ncommunity 2 : ['Bran', ['Brynden'], ['Rickon'], ['Roose'], ['Hodor'], ['Jojen'], ['Meera'], ['Theon'], ['Lothar'], ['Walder'], ['Catelyn'], ['Edmure'], ['Hoster'], ['Jeyne'], ['Petyr'], ['Robb'], ['Roslin'], ['Rickard'], ['Ramsay']]\ncommunity 3 : ['Belwas', ['Barristan'], ['Daario'], ['Drogo'], ['Irri'], ['Daenerys'], ['Aegon'], ['Jorah'], ['Kraznys'], ['Missandei'], ['Rakharo'], ['Rhaegar'], ['Viserys'], ['Worm']]\ncommunity 4 : ['Illyrio']\ncommunity 5 : ['Luwin', ['Nan']]\ncommunity 6 : ['Davos', ['Cressen'], ['Salladhor'], ['Shireen']]\n"
     ]
    }
   ],
   "source": [
    "clusters = IGragh.community_walktrap(stfGraph,weights =None ).as_clustering()  #切割社群\n",
    "nodes = [{'name':node['name']} for node in stfGraph.vs]  #dict\n",
    "community = {}\n",
    "for node in nodes:\n",
    "    idx = stfGraph.vs.find(name = node['name']).index  #找到索引下标\n",
    "    node['community'] = clusters.membership[idx]  #遍历cluster切割小团体\n",
    "    if node['community'] not in community:\n",
    "        community[node['community']] = [    node['name']    ]\n",
    "        #不存在就插入一个列表，列表只有一个节点\n",
    "    else:\n",
    "        community[node['community']].append([node['name']])\n",
    "        #存在就在列表里追加数据\n",
    "for cid,namelist in community.items(): #遍历所有小团体\n",
    "    print('community',cid,':', namelist)\n",
    "\n"
   ]
  },
  {
   "cell_type": "code",
   "execution_count": 52,
   "metadata": {},
   "outputs": [],
   "source": [
    ""
   ]
  },
  {
   "cell_type": "code",
   "execution_count": null,
   "metadata": {},
   "outputs": [],
   "source": []
  }
 ],
 "metadata": {
  "kernelspec": {
   "display_name": "Python 2",
   "language": "python",
   "name": "python2"
  },
  "language_info": {
   "codemirror_mode": {
    "name": "ipython",
    "version": 2
   },
   "file_extension": ".py",
   "mimetype": "text/x-python",
   "name": "python",
   "nbconvert_exporter": "python",
   "pygments_lexer": "ipython2",
   "version": "2.7.6"
  }
 },
 "nbformat": 4,
 "nbformat_minor": 0
}
