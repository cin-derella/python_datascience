{
 "cells": [
  {
   "cell_type": "code",
   "execution_count": 43,
   "metadata": {
    "collapsed": true
   },
   "outputs": [],
   "source": [
    "path = './net.data'"
   ]
  },
  {
   "cell_type": "code",
   "execution_count": 44,
   "metadata": {},
   "outputs": [
    {
     "name": "stdout",
     "output_type": "stream",
     "text": [
      "['1', '2']\n['1', '3']\n['2', '3']\n['3', '7']\n['4', '5']\n['4', '6']\n['5', '6']\n['6', '7']\n['7', '8']\n['8', '9']\n['9', '10']\n['9', '11']\n['10', '11']\n['8', '12']\n['12', '13']\n['12', '14']\n['13', '14']\n"
     ]
    }
   ],
   "source": [
    "import csv\n",
    "with open(path,'r') as file:  # rb为二进制，不能直接split\n",
    "    for row in csv.reader(file.read().splitlines()): #读取每一行\n",
    "       print(row)"
   ]
  },
  {
   "cell_type": "code",
   "execution_count": 45,
   "metadata": {},
   "outputs": [
    {
     "data": {
      "text/plain": [
       "[('1', '2'),\n ('1', '3'),\n ('2', '3'),\n ('3', '7'),\n ('4', '5'),\n ('4', '6'),\n ('5', '6'),\n ('6', '7'),\n ('7', '8'),\n ('8', '9'),\n ('9', '10'),\n ('9', '11'),\n ('10', '11'),\n ('8', '12'),\n ('12', '13'),\n ('12', '14'),\n ('13', '14')]"
      ]
     },
     "execution_count": 45,
     "metadata": {},
     "output_type": "execute_result"
    }
   ],
   "source": [
    "import csv\n",
    "edges = [] #边长集合，\n",
    "with open(path,'r') as file:  # rb为二进制，不能直接split\n",
    "    for row in csv.reader(file.read().splitlines()): #读取每一行\n",
    "        u,v = [i for i in row]\n",
    "        edges.append((u,v)) #加入边长tuple\n",
    "edges"
   ]
  },
  {
   "cell_type": "code",
   "execution_count": 46,
   "metadata": {},
   "outputs": [
    {
     "data": {
      "text/plain": [
       "<igraph.Graph at 0x10f14e850>"
      ]
     },
     "execution_count": 46,
     "metadata": {},
     "output_type": "execute_result"
    }
   ],
   "source": [
    "from igraph import Graph as IGraph\n",
    "graph1 = IGraph.TupleList(edges, #边长\n",
    "                         directed=False, #有向或无向\n",
    "                         vertex_name_attr='name',#点的名字\n",
    "                         edge_attrs = None,#边长属性\n",
    "                         weights =False) #权重路径\n",
    "graph1 #返回对象"
   ]
  },
  {
   "cell_type": "code",
   "execution_count": 47,
   "metadata": {},
   "outputs": [
    {
     "name": "stdout",
     "output_type": "stream",
     "text": [
      "1 2\n2 2\n3 3\n7 3\n4 2\n5 2\n6 3\n8 3\n9 3\n10 2\n11 2\n12 3\n13 2\n14 2\n"
     ]
    }
   ],
   "source": [
    "for pdegree in graph1.vs:\n",
    "    print(pdegree['name'],pdegree.degree())"
   ]
  },
  {
   "cell_type": "code",
   "execution_count": 48,
   "metadata": {},
   "outputs": [
    {
     "data": {
      "text/plain": [
       "['IGRAPH UN-- 14 17 --',\n '+ attr: name (v)',\n '+ edges (vertex names):',\n '1--2, 1--3, 2--3, 3--7, 4--5, 4--6, 5--6, 7--6, 7--8, 8--9, 9--10, 9--11,',\n '10--11, 8--12, 12--13, 12--14, 13--14']"
      ]
     },
     "execution_count": 48,
     "metadata": {},
     "output_type": "execute_result"
    }
   ],
   "source": [
    "str(graph1).splitlines()"
   ]
  },
  {
   "cell_type": "code",
   "execution_count": 49,
   "metadata": {},
   "outputs": [
    {
     "data": {
      "text/plain": [
       "[[3, 2, 0],\n [3, 2, 1],\n [3, 2],\n [3],\n [3, 6, 4],\n [3, 6, 5],\n [3, 6],\n [3, 7],\n [3, 7, 8],\n [3, 7, 8, 9],\n [3, 7, 8, 10],\n [3, 7, 11],\n [3, 7, 11, 12],\n [3, 7, 11, 13]]"
      ]
     },
     "execution_count": 49,
     "metadata": {},
     "output_type": "execute_result"
    }
   ],
   "source": [
    "paths = graph1.get_all_shortest_paths('7') # 找到包含7的所有路径的pos[]\n",
    "paths"
   ]
  },
  {
   "cell_type": "code",
   "execution_count": 50,
   "metadata": {},
   "outputs": [
    {
     "name": "stdout",
     "output_type": "stream",
     "text": [
      "['7', '3', '1']\n['7', '3', '2']\n['7', '3']\n['7']\n['7', '6', '4']\n['7', '6', '5']\n['7', '6']\n['7', '8']\n['7', '8', '9']\n['7', '8', '9', '10']\n['7', '8', '9', '11']\n['7', '8', '12']\n['7', '8', '12', '13']\n['7', '8', '12', '14']\ncloseness centrality:  0.48148148148148145\n"
     ]
    }
   ],
   "source": [
    "cc=0\n",
    "names = graph1.vs['name']  #顶点名称\n",
    "for path in paths: #筛选所有包含7的\n",
    "    print([names[x] for x in path])\n",
    "    cc+= (len(path)-1)  \n",
    "print('closeness centrality: ',(len(paths)-1)/cc)  #paths是一共有多少路径[], path是每个路径有多少线段[7-3-1]是2条线段"
   ]
  },
  {
   "cell_type": "code",
   "execution_count": 55,
   "metadata": {},
   "outputs": [
    {
     "data": {
      "text/plain": [
       "[{'name': '1', 'cc': 0.2826086956521739},\n {'name': '2', 'cc': 0.2826086956521739},\n {'name': '3', 'cc': 0.37142857142857144},\n {'name': '7', 'cc': 0.48148148148148145},\n {'name': '4', 'cc': 0.2826086956521739},\n {'name': '5', 'cc': 0.2826086956521739},\n {'name': '6', 'cc': 0.37142857142857144},\n {'name': '8', 'cc': 0.48148148148148145},\n {'name': '9', 'cc': 0.37142857142857144},\n {'name': '10', 'cc': 0.2826086956521739},\n {'name': '11', 'cc': 0.2826086956521739},\n {'name': '12', 'cc': 0.37142857142857144},\n {'name': '13', 'cc': 0.2826086956521739},\n {'name': '14', 'cc': 0.2826086956521739}]"
      ]
     },
     "execution_count": 55,
     "metadata": {},
     "output_type": "execute_result"
    }
   ],
   "source": [
    "ccvs = []\n",
    "#数据打包为一个list，包含紧密程度，每个节点名称\n",
    "for path in zip(graph1.vs,graph1.closeness()):\n",
    "    ccvs.append({'name':path[0]['name'],'cc':path[1]})\n",
    "ccvs"
   ]
  },
  {
   "cell_type": "code",
   "execution_count": 53,
   "metadata": {},
   "outputs": [
    {
     "data": {
      "text/plain": [
       "[{'name': '7', 'cc': 0.48148148148148145},\n {'name': '8', 'cc': 0.48148148148148145},\n {'name': '3', 'cc': 0.37142857142857144},\n {'name': '6', 'cc': 0.37142857142857144},\n {'name': '9', 'cc': 0.37142857142857144},\n {'name': '12', 'cc': 0.37142857142857144},\n {'name': '1', 'cc': 0.2826086956521739},\n {'name': '2', 'cc': 0.2826086956521739},\n {'name': '4', 'cc': 0.2826086956521739},\n {'name': '5', 'cc': 0.2826086956521739},\n {'name': '10', 'cc': 0.2826086956521739},\n {'name': '11', 'cc': 0.2826086956521739},\n {'name': '13', 'cc': 0.2826086956521739},\n {'name': '14', 'cc': 0.2826086956521739}]"
      ]
     },
     "execution_count": 53,
     "metadata": {},
     "output_type": "execute_result"
    }
   ],
   "source": [
    "sorted(ccvs,key = lambda x : x['cc'],reverse=True)"
   ]
  },
  {
   "cell_type": "code",
   "execution_count": 59,
   "metadata": {},
   "outputs": [
    {
     "name": "stdout",
     "output_type": "stream",
     "text": [
      "igraph.Vertex(<igraph.Graph object at 0x10f14e850>, 0, {'name': '1'})\nigraph.Vertex(<igraph.Graph object at 0x10f14e850>, 1, {'name': '2'})\nigraph.Vertex(<igraph.Graph object at 0x10f14e850>, 2, {'name': '3'})\nigraph.Vertex(<igraph.Graph object at 0x10f14e850>, 3, {'name': '7'})\nigraph.Vertex(<igraph.Graph object at 0x10f14e850>, 4, {'name': '4'})\nigraph.Vertex(<igraph.Graph object at 0x10f14e850>, 5, {'name': '5'})\nigraph.Vertex(<igraph.Graph object at 0x10f14e850>, 6, {'name': '6'})\nigraph.Vertex(<igraph.Graph object at 0x10f14e850>, 7, {'name': '8'})\nigraph.Vertex(<igraph.Graph object at 0x10f14e850>, 8, {'name': '9'})\nigraph.Vertex(<igraph.Graph object at 0x10f14e850>, 9, {'name': '10'})\nigraph.Vertex(<igraph.Graph object at 0x10f14e850>, 10, {'name': '11'})\nigraph.Vertex(<igraph.Graph object at 0x10f14e850>, 11, {'name': '12'})\nigraph.Vertex(<igraph.Graph object at 0x10f14e850>, 12, {'name': '13'})\nigraph.Vertex(<igraph.Graph object at 0x10f14e850>, 13, {'name': '14'})\n"
     ]
    }
   ],
   "source": [
    "target = 7\n",
    "for v in graph1.vs: #graph1.vs代表14个姐弟爱你\n",
    "    print(v)"
   ]
  },
  {
   "cell_type": "code",
   "execution_count": 62,
   "metadata": {},
   "outputs": [
    {
     "name": "stdout",
     "output_type": "stream",
     "text": [
      "igraph.Vertex(<igraph.Graph object at 0x10f14e850>, 0, {'name': '1'}) 1\nigraph.Vertex(<igraph.Graph object at 0x10f14e850>, 1, {'name': '2'}) 2\nigraph.Vertex(<igraph.Graph object at 0x10f14e850>, 2, {'name': '3'}) 3\nigraph.Vertex(<igraph.Graph object at 0x10f14e850>, 3, {'name': '7'}) 7\nigraph.Vertex(<igraph.Graph object at 0x10f14e850>, 4, {'name': '4'}) 4\nigraph.Vertex(<igraph.Graph object at 0x10f14e850>, 5, {'name': '5'}) 5\nigraph.Vertex(<igraph.Graph object at 0x10f14e850>, 6, {'name': '6'}) 6\nigraph.Vertex(<igraph.Graph object at 0x10f14e850>, 7, {'name': '8'}) 8\nigraph.Vertex(<igraph.Graph object at 0x10f14e850>, 8, {'name': '9'}) 9\nigraph.Vertex(<igraph.Graph object at 0x10f14e850>, 9, {'name': '10'}) 10\nigraph.Vertex(<igraph.Graph object at 0x10f14e850>, 10, {'name': '11'}) 11\nigraph.Vertex(<igraph.Graph object at 0x10f14e850>, 11, {'name': '12'}) 12\nigraph.Vertex(<igraph.Graph object at 0x10f14e850>, 12, {'name': '13'}) 13\nigraph.Vertex(<igraph.Graph object at 0x10f14e850>, 13, {'name': '14'}) 14\n"
     ]
    }
   ],
   "source": [
    "target = 7\n",
    "for v in graph1.vs:\n",
    "    print(v,v['name'])"
   ]
  },
  {
   "cell_type": "code",
   "execution_count": 63,
   "metadata": {},
   "outputs": [
    {
     "data": {
      "text/plain": [
       "[[0, 2, 3, 7, 8],\n [0, 2, 3, 7, 8, 9],\n [0, 2, 3, 7, 8, 10],\n [0, 2, 3, 7, 11],\n [0, 2, 3, 7, 11, 12],\n [0, 2, 3, 7, 11, 13],\n [1, 2, 3, 7, 8],\n [1, 2, 3, 7, 8, 9],\n [1, 2, 3, 7, 8, 10],\n [1, 2, 3, 7, 11],\n [1, 2, 3, 7, 11, 12],\n [1, 2, 3, 7, 11, 13],\n [2, 3, 7, 8],\n [2, 3, 7, 8, 9],\n [2, 3, 7, 8, 10],\n [2, 3, 7, 11],\n [2, 3, 7, 11, 12],\n [2, 3, 7, 11, 13],\n [3, 7, 8],\n [3, 7, 8, 9],\n [3, 7, 8, 10],\n [3, 7, 11],\n [3, 7, 11, 12],\n [3, 7, 11, 13],\n [4, 6, 3, 7, 8],\n [4, 6, 3, 7, 8, 9],\n [4, 6, 3, 7, 8, 10],\n [4, 6, 3, 7, 11],\n [4, 6, 3, 7, 11, 12],\n [4, 6, 3, 7, 11, 13],\n [5, 6, 3, 7, 8],\n [5, 6, 3, 7, 8, 9],\n [5, 6, 3, 7, 8, 10],\n [5, 6, 3, 7, 11],\n [5, 6, 3, 7, 11, 12],\n [5, 6, 3, 7, 11, 13],\n [6, 3, 7, 8],\n [6, 3, 7, 8, 9],\n [6, 3, 7, 8, 10],\n [6, 3, 7, 11],\n [6, 3, 7, 11, 12],\n [6, 3, 7, 11, 13],\n [8, 7, 3, 2, 0],\n [8, 7, 3, 2, 1],\n [8, 7, 3, 2],\n [8, 7, 3],\n [8, 7, 3, 6, 4],\n [8, 7, 3, 6, 5],\n [8, 7, 3, 6],\n [8, 7, 11],\n [8, 7, 11, 12],\n [8, 7, 11, 13],\n [9, 8, 7, 3, 2, 0],\n [9, 8, 7, 3, 2, 1],\n [9, 8, 7, 3, 2],\n [9, 8, 7, 3],\n [9, 8, 7, 3, 6, 4],\n [9, 8, 7, 3, 6, 5],\n [9, 8, 7, 3, 6],\n [9, 8, 7, 11],\n [9, 8, 7, 11, 12],\n [9, 8, 7, 11, 13],\n [10, 8, 7, 3, 2, 0],\n [10, 8, 7, 3, 2, 1],\n [10, 8, 7, 3, 2],\n [10, 8, 7, 3],\n [10, 8, 7, 3, 6, 4],\n [10, 8, 7, 3, 6, 5],\n [10, 8, 7, 3, 6],\n [10, 8, 7, 11],\n [10, 8, 7, 11, 12],\n [10, 8, 7, 11, 13],\n [11, 7, 3, 2, 0],\n [11, 7, 3, 2, 1],\n [11, 7, 3, 2],\n [11, 7, 3],\n [11, 7, 3, 6, 4],\n [11, 7, 3, 6, 5],\n [11, 7, 3, 6],\n [11, 7, 8],\n [11, 7, 8, 9],\n [11, 7, 8, 10],\n [12, 11, 7, 3, 2, 0],\n [12, 11, 7, 3, 2, 1],\n [12, 11, 7, 3, 2],\n [12, 11, 7, 3],\n [12, 11, 7, 3, 6, 4],\n [12, 11, 7, 3, 6, 5],\n [12, 11, 7, 3, 6],\n [12, 11, 7, 8],\n [12, 11, 7, 8, 9],\n [12, 11, 7, 8, 10],\n [13, 11, 7, 3, 2, 0],\n [13, 11, 7, 3, 2, 1],\n [13, 11, 7, 3, 2],\n [13, 11, 7, 3],\n [13, 11, 7, 3, 6, 4],\n [13, 11, 7, 3, 6, 5],\n [13, 11, 7, 3, 6],\n [13, 11, 7, 8],\n [13, 11, 7, 8, 9],\n [13, 11, 7, 8, 10]]"
      ]
     },
     "execution_count": 63,
     "metadata": {},
     "output_type": "execute_result"
    }
   ],
   "source": [
    "target = 7\n",
    "plist=[]\n",
    "for v in graph1.vs:\n",
    "    paths = graph1.get_all_shortest_paths(v['name'])\n",
    "    for path in paths:\n",
    "        if target in path and target!=path[0] and target!=path[-1]:  #[-1]最后一个\n",
    "            plist.append(path)\n",
    "\n",
    "plist #筛选包含7的最短路径"
   ]
  },
  {
   "cell_type": "code",
   "execution_count": 65,
   "metadata": {},
   "outputs": [
    {
     "data": {
      "text/plain": [
       "[{0, 8},\n {0, 9},\n {0, 10},\n {0, 11},\n {0, 12},\n {0, 13},\n {1, 8},\n {1, 9},\n {1, 10},\n {1, 11},\n {1, 12},\n {1, 13},\n {2, 8},\n {2, 9},\n {2, 10},\n {2, 11},\n {2, 12},\n {2, 13},\n {3, 8},\n {3, 9},\n {3, 10},\n {3, 11},\n {3, 12},\n {3, 13},\n {4, 8},\n {4, 9},\n {4, 10},\n {4, 11},\n {4, 12},\n {4, 13},\n {5, 8},\n {5, 9},\n {5, 10},\n {5, 11},\n {5, 12},\n {5, 13},\n {6, 8},\n {6, 9},\n {6, 10},\n {6, 11},\n {6, 12},\n {6, 13},\n {8, 11},\n {8, 12},\n {8, 13},\n {9, 11},\n {9, 12},\n {9, 13},\n {10, 11},\n {10, 12},\n {10, 13}]"
      ]
     },
     "execution_count": 0,
     "metadata": {},
     "output_type": "execute_result"
    },
    {
     "data": {
      "text/plain": [
       "51"
      ]
     },
     "execution_count": 0,
     "metadata": {},
     "output_type": "execute_result"
    }
   ],
   "source": [
    "last = []\n",
    "times = 0\n",
    "for path in plist:\n",
    "    if set((path[0],path[-1]) )not in last: #去掉重复\n",
    "        last.append(set((path[0],path[-1])))\n",
    "        times+=1\n",
    "display(last,times)\n"
   ]
  },
  {
   "cell_type": "code",
   "execution_count": 74,
   "metadata": {},
   "outputs": [
    {
     "data": {
      "text/plain": [
       "[{'name': '1', 'betweenness': 0.0},\n {'name': '2', 'betweenness': 0.0},\n {'name': '3', 'betweenness': 22.0},\n {'name': '7', 'betweenness': 51.0},\n {'name': '4', 'betweenness': 0.0},\n {'name': '5', 'betweenness': 0.0},\n {'name': '6', 'betweenness': 22.0},\n {'name': '8', 'betweenness': 51.0},\n {'name': '9', 'betweenness': 22.0},\n {'name': '10', 'betweenness': 0.0},\n {'name': '11', 'betweenness': 0.0},\n {'name': '12', 'betweenness': 22.0},\n {'name': '13', 'betweenness': 0.0},\n {'name': '14', 'betweenness': 0.0}]"
      ]
     },
     "execution_count": 74,
     "metadata": {},
     "output_type": "execute_result"
    }
   ],
   "source": [
    "btvs = []\n",
    "for p in zip(graph1.vs,graph1.betweenness()):\n",
    "    btvs.append({'name':p[0]['name'],'betweenness': p[1]})\n",
    "btvs"
   ]
  },
  {
   "cell_type": "code",
   "execution_count": 75,
   "metadata": {},
   "outputs": [
    {
     "data": {
      "text/plain": [
       "[{'name': '7', 'betweenness': 51.0},\n {'name': '8', 'betweenness': 51.0},\n {'name': '3', 'betweenness': 22.0},\n {'name': '6', 'betweenness': 22.0},\n {'name': '9', 'betweenness': 22.0},\n {'name': '12', 'betweenness': 22.0},\n {'name': '1', 'betweenness': 0.0},\n {'name': '2', 'betweenness': 0.0},\n {'name': '4', 'betweenness': 0.0},\n {'name': '5', 'betweenness': 0.0},\n {'name': '10', 'betweenness': 0.0},\n {'name': '11', 'betweenness': 0.0},\n {'name': '13', 'betweenness': 0.0},\n {'name': '14', 'betweenness': 0.0}]"
      ]
     },
     "execution_count": 75,
     "metadata": {},
     "output_type": "execute_result"
    }
   ],
   "source": [
    "btvs = sorted(btvs,key= lambda x : x['betweenness'],reverse=True)\n",
    "btvs"
   ]
  },
  {
   "cell_type": "code",
   "execution_count": null,
   "metadata": {},
   "outputs": [],
   "source": []
  }
 ],
 "metadata": {
  "kernelspec": {
   "display_name": "Python 2",
   "language": "python",
   "name": "python2"
  },
  "language_info": {
   "codemirror_mode": {
    "name": "ipython",
    "version": 2
   },
   "file_extension": ".py",
   "mimetype": "text/x-python",
   "name": "python",
   "nbconvert_exporter": "python",
   "pygments_lexer": "ipython2",
   "version": "2.7.6"
  }
 },
 "nbformat": 4,
 "nbformat_minor": 0
}
