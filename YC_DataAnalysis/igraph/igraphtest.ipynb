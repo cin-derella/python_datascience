{
 "cells": [
  {
   "cell_type": "code",
   "execution_count": 19,
   "metadata": {
    "collapsed": true
   },
   "outputs": [],
   "source": [
    "path = './net.data'"
   ]
  },
  {
   "cell_type": "code",
   "execution_count": 20,
   "metadata": {},
   "outputs": [
    {
     "name": "stdout",
     "output_type": "stream",
     "text": [
      "['1', '2']\n['1', '3']\n['2', '3']\n['3', '7']\n['4', '5']\n['4', '6']\n['5', '6']\n['6', '7']\n['7', '8']\n['8', '9']\n['9', '10']\n['9', '11']\n['10', '11']\n['8', '12']\n['12', '13']\n['12', '14']\n['13', '14']\n"
     ]
    }
   ],
   "source": [
    "import csv\n",
    "with open(path,'r') as file:  # rb为二进制，不能直接split\n",
    "    for row in csv.reader(file.read().splitlines()): #读取每一行\n",
    "       print(row)"
   ]
  },
  {
   "cell_type": "code",
   "execution_count": 21,
   "metadata": {},
   "outputs": [
    {
     "data": {
      "text/plain": [
       "[('1', '2'),\n ('1', '3'),\n ('2', '3'),\n ('3', '7'),\n ('4', '5'),\n ('4', '6'),\n ('5', '6'),\n ('6', '7'),\n ('7', '8'),\n ('8', '9'),\n ('9', '10'),\n ('9', '11'),\n ('10', '11'),\n ('8', '12'),\n ('12', '13'),\n ('12', '14'),\n ('13', '14')]"
      ]
     },
     "execution_count": 21,
     "metadata": {},
     "output_type": "execute_result"
    }
   ],
   "source": [
    "import csv\n",
    "edges = [] #边长集合，\n",
    "with open(path,'r') as file:  # rb为二进制，不能直接split\n",
    "    for row in csv.reader(file.read().splitlines()): #读取每一行\n",
    "        u,v = [i for i in row]\n",
    "        edges.append((u,v)) #加入边长tuple\n",
    "edges"
   ]
  },
  {
   "cell_type": "code",
   "execution_count": 39,
   "metadata": {},
   "outputs": [
    {
     "name": "stdout",
     "output_type": "stream",
     "text": [
      "IGRAPH UN-- 14 17 --\n+ attr: name (v)\n+ edges (vertex names):\n1--2, 1--3, 2--3, 3--7, 4--5, 4--6, 5--6, 7--6, 7--8, 8--9, 9--10, 9--11,\n10--11, 8--12, 12--13, 12--14, 13--14\n"
     ]
    }
   ],
   "source": [
    "from igraph import Graph as IGraph\n",
    "graph1 = IGraph.TupleList(edges, #边长\n",
    "                         directed=False, #有向或无向\n",
    "                         vertex_name_attr='name',#点的名字\n",
    "                         edge_attrs = None,#边长属性\n",
    "                         weights =False) #权重路径\n",
    "graph1 #返回对象\n",
    "print(graph1)"
   ]
  },
  {
   "cell_type": "code",
   "execution_count": 23,
   "metadata": {},
   "outputs": [
    {
     "name": "stdout",
     "output_type": "stream",
     "text": [
      "1 2\n2 2\n3 3\n7 3\n4 2\n5 2\n6 3\n8 3\n9 3\n10 2\n11 2\n12 3\n13 2\n14 2\n"
     ]
    }
   ],
   "source": [
    "for pdegree in graph1.vs:\n",
    "    print(pdegree['name'],pdegree.degree())"
   ]
  },
  {
   "cell_type": "code",
   "execution_count": 24,
   "metadata": {},
   "outputs": [
    {
     "data": {
      "text/plain": [
       "['IGRAPH UN-- 14 17 --',\n '+ attr: name (v)',\n '+ edges (vertex names):',\n '1--2, 1--3, 2--3, 3--7, 4--5, 4--6, 5--6, 7--6, 7--8, 8--9, 9--10, 9--11,',\n '10--11, 8--12, 12--13, 12--14, 13--14']"
      ]
     },
     "execution_count": 24,
     "metadata": {},
     "output_type": "execute_result"
    }
   ],
   "source": [
    "str(graph1).splitlines()"
   ]
  },
  {
   "cell_type": "code",
   "execution_count": 25,
   "metadata": {},
   "outputs": [
    {
     "data": {
      "text/plain": [
       "[[3, 2, 0],\n [3, 2, 1],\n [3, 2],\n [3],\n [3, 6, 4],\n [3, 6, 5],\n [3, 6],\n [3, 7],\n [3, 7, 8],\n [3, 7, 8, 9],\n [3, 7, 8, 10],\n [3, 7, 11],\n [3, 7, 11, 12],\n [3, 7, 11, 13]]"
      ]
     },
     "execution_count": 25,
     "metadata": {},
     "output_type": "execute_result"
    }
   ],
   "source": [
    "paths = graph1.get_all_shortest_paths('7') # 找到包含7的所有路径的pos[]\n",
    "paths"
   ]
  },
  {
   "cell_type": "code",
   "execution_count": 26,
   "metadata": {},
   "outputs": [
    {
     "name": "stdout",
     "output_type": "stream",
     "text": [
      "['7', '3', '1']\n['7', '3', '2']\n['7', '3']\n['7']\n['7', '6', '4']\n['7', '6', '5']\n['7', '6']\n['7', '8']\n['7', '8', '9']\n['7', '8', '9', '10']\n['7', '8', '9', '11']\n['7', '8', '12']\n['7', '8', '12', '13']\n['7', '8', '12', '14']\ncloseness centrality:  0.48148148148148145\n"
     ]
    }
   ],
   "source": [
    "cc=0\n",
    "names = graph1.vs['name']  #顶点名称\n",
    "for path in paths: #筛选所有包含7的\n",
    "    print([names[x] for x in path])\n",
    "    cc+= (len(path)-1)  \n",
    "print('closeness centrality: ',(len(paths)-1)/cc)  #paths是一共有多少路径[], path是每个路径有多少线段[7-3-1]是2条线段"
   ]
  },
  {
   "cell_type": "code",
   "execution_count": 27,
   "metadata": {},
   "outputs": [
    {
     "data": {
      "text/plain": [
       "[{'name': '1', 'cc': 0.2826086956521739},\n {'name': '2', 'cc': 0.2826086956521739},\n {'name': '3', 'cc': 0.37142857142857144},\n {'name': '7', 'cc': 0.48148148148148145},\n {'name': '4', 'cc': 0.2826086956521739},\n {'name': '5', 'cc': 0.2826086956521739},\n {'name': '6', 'cc': 0.37142857142857144},\n {'name': '8', 'cc': 0.48148148148148145},\n {'name': '9', 'cc': 0.37142857142857144},\n {'name': '10', 'cc': 0.2826086956521739},\n {'name': '11', 'cc': 0.2826086956521739},\n {'name': '12', 'cc': 0.37142857142857144},\n {'name': '13', 'cc': 0.2826086956521739},\n {'name': '14', 'cc': 0.2826086956521739}]"
      ]
     },
     "execution_count": 27,
     "metadata": {},
     "output_type": "execute_result"
    }
   ],
   "source": [
    "ccvs = []\n",
    "#数据打包为一个list，包含紧密程度，每个节点名称\n",
    "for path in zip(graph1.vs,graph1.closeness()):\n",
    "    ccvs.append({'name':path[0]['name'],'cc':path[1]})\n",
    "ccvs"
   ]
  },
  {
   "cell_type": "code",
   "execution_count": 28,
   "metadata": {},
   "outputs": [
    {
     "data": {
      "text/plain": [
       "[{'name': '7', 'cc': 0.48148148148148145},\n {'name': '8', 'cc': 0.48148148148148145},\n {'name': '3', 'cc': 0.37142857142857144},\n {'name': '6', 'cc': 0.37142857142857144},\n {'name': '9', 'cc': 0.37142857142857144},\n {'name': '12', 'cc': 0.37142857142857144},\n {'name': '1', 'cc': 0.2826086956521739},\n {'name': '2', 'cc': 0.2826086956521739},\n {'name': '4', 'cc': 0.2826086956521739},\n {'name': '5', 'cc': 0.2826086956521739},\n {'name': '10', 'cc': 0.2826086956521739},\n {'name': '11', 'cc': 0.2826086956521739},\n {'name': '13', 'cc': 0.2826086956521739},\n {'name': '14', 'cc': 0.2826086956521739}]"
      ]
     },
     "execution_count": 28,
     "metadata": {},
     "output_type": "execute_result"
    }
   ],
   "source": [
    "sorted(ccvs,key = lambda x : x['cc'],reverse=True)"
   ]
  },
  {
   "cell_type": "code",
   "execution_count": 29,
   "metadata": {},
   "outputs": [
    {
     "name": "stdout",
     "output_type": "stream",
     "text": [
      "igraph.Vertex(<igraph.Graph object at 0x1071fa350>, 0, {'name': '1'})\nigraph.Vertex(<igraph.Graph object at 0x1071fa350>, 1, {'name': '2'})\nigraph.Vertex(<igraph.Graph object at 0x1071fa350>, 2, {'name': '3'})\nigraph.Vertex(<igraph.Graph object at 0x1071fa350>, 3, {'name': '7'})\nigraph.Vertex(<igraph.Graph object at 0x1071fa350>, 4, {'name': '4'})\nigraph.Vertex(<igraph.Graph object at 0x1071fa350>, 5, {'name': '5'})\nigraph.Vertex(<igraph.Graph object at 0x1071fa350>, 6, {'name': '6'})\nigraph.Vertex(<igraph.Graph object at 0x1071fa350>, 7, {'name': '8'})\nigraph.Vertex(<igraph.Graph object at 0x1071fa350>, 8, {'name': '9'})\nigraph.Vertex(<igraph.Graph object at 0x1071fa350>, 9, {'name': '10'})\nigraph.Vertex(<igraph.Graph object at 0x1071fa350>, 10, {'name': '11'})\nigraph.Vertex(<igraph.Graph object at 0x1071fa350>, 11, {'name': '12'})\nigraph.Vertex(<igraph.Graph object at 0x1071fa350>, 12, {'name': '13'})\nigraph.Vertex(<igraph.Graph object at 0x1071fa350>, 13, {'name': '14'})\n"
     ]
    }
   ],
   "source": [
    "target = 7\n",
    "for v in graph1.vs: #graph1.vs代表14个姐弟爱你\n",
    "    print(v)"
   ]
  },
  {
   "cell_type": "code",
   "execution_count": 30,
   "metadata": {},
   "outputs": [
    {
     "name": "stdout",
     "output_type": "stream",
     "text": [
      "igraph.Vertex(<igraph.Graph object at 0x1071fa350>, 0, {'name': '1'}) 1\nigraph.Vertex(<igraph.Graph object at 0x1071fa350>, 1, {'name': '2'}) 2\nigraph.Vertex(<igraph.Graph object at 0x1071fa350>, 2, {'name': '3'}) 3\nigraph.Vertex(<igraph.Graph object at 0x1071fa350>, 3, {'name': '7'}) 7\nigraph.Vertex(<igraph.Graph object at 0x1071fa350>, 4, {'name': '4'}) 4\nigraph.Vertex(<igraph.Graph object at 0x1071fa350>, 5, {'name': '5'}) 5\nigraph.Vertex(<igraph.Graph object at 0x1071fa350>, 6, {'name': '6'}) 6\nigraph.Vertex(<igraph.Graph object at 0x1071fa350>, 7, {'name': '8'}) 8\nigraph.Vertex(<igraph.Graph object at 0x1071fa350>, 8, {'name': '9'}) 9\nigraph.Vertex(<igraph.Graph object at 0x1071fa350>, 9, {'name': '10'}) 10\nigraph.Vertex(<igraph.Graph object at 0x1071fa350>, 10, {'name': '11'}) 11\nigraph.Vertex(<igraph.Graph object at 0x1071fa350>, 11, {'name': '12'}) 12\nigraph.Vertex(<igraph.Graph object at 0x1071fa350>, 12, {'name': '13'}) 13\nigraph.Vertex(<igraph.Graph object at 0x1071fa350>, 13, {'name': '14'}) 14\n"
     ]
    }
   ],
   "source": [
    "target = 7\n",
    "for v in graph1.vs:\n",
    "    print(v,v['name'])"
   ]
  },
  {
   "cell_type": "code",
   "execution_count": 31,
   "metadata": {},
   "outputs": [
    {
     "data": {
      "text/plain": [
       "[[0, 2, 3, 7, 8],\n [0, 2, 3, 7, 8, 9],\n [0, 2, 3, 7, 8, 10],\n [0, 2, 3, 7, 11],\n [0, 2, 3, 7, 11, 12],\n [0, 2, 3, 7, 11, 13],\n [1, 2, 3, 7, 8],\n [1, 2, 3, 7, 8, 9],\n [1, 2, 3, 7, 8, 10],\n [1, 2, 3, 7, 11],\n [1, 2, 3, 7, 11, 12],\n [1, 2, 3, 7, 11, 13],\n [2, 3, 7, 8],\n [2, 3, 7, 8, 9],\n [2, 3, 7, 8, 10],\n [2, 3, 7, 11],\n [2, 3, 7, 11, 12],\n [2, 3, 7, 11, 13],\n [3, 7, 8],\n [3, 7, 8, 9],\n [3, 7, 8, 10],\n [3, 7, 11],\n [3, 7, 11, 12],\n [3, 7, 11, 13],\n [4, 6, 3, 7, 8],\n [4, 6, 3, 7, 8, 9],\n [4, 6, 3, 7, 8, 10],\n [4, 6, 3, 7, 11],\n [4, 6, 3, 7, 11, 12],\n [4, 6, 3, 7, 11, 13],\n [5, 6, 3, 7, 8],\n [5, 6, 3, 7, 8, 9],\n [5, 6, 3, 7, 8, 10],\n [5, 6, 3, 7, 11],\n [5, 6, 3, 7, 11, 12],\n [5, 6, 3, 7, 11, 13],\n [6, 3, 7, 8],\n [6, 3, 7, 8, 9],\n [6, 3, 7, 8, 10],\n [6, 3, 7, 11],\n [6, 3, 7, 11, 12],\n [6, 3, 7, 11, 13],\n [8, 7, 3, 2, 0],\n [8, 7, 3, 2, 1],\n [8, 7, 3, 2],\n [8, 7, 3],\n [8, 7, 3, 6, 4],\n [8, 7, 3, 6, 5],\n [8, 7, 3, 6],\n [8, 7, 11],\n [8, 7, 11, 12],\n [8, 7, 11, 13],\n [9, 8, 7, 3, 2, 0],\n [9, 8, 7, 3, 2, 1],\n [9, 8, 7, 3, 2],\n [9, 8, 7, 3],\n [9, 8, 7, 3, 6, 4],\n [9, 8, 7, 3, 6, 5],\n [9, 8, 7, 3, 6],\n [9, 8, 7, 11],\n [9, 8, 7, 11, 12],\n [9, 8, 7, 11, 13],\n [10, 8, 7, 3, 2, 0],\n [10, 8, 7, 3, 2, 1],\n [10, 8, 7, 3, 2],\n [10, 8, 7, 3],\n [10, 8, 7, 3, 6, 4],\n [10, 8, 7, 3, 6, 5],\n [10, 8, 7, 3, 6],\n [10, 8, 7, 11],\n [10, 8, 7, 11, 12],\n [10, 8, 7, 11, 13],\n [11, 7, 3, 2, 0],\n [11, 7, 3, 2, 1],\n [11, 7, 3, 2],\n [11, 7, 3],\n [11, 7, 3, 6, 4],\n [11, 7, 3, 6, 5],\n [11, 7, 3, 6],\n [11, 7, 8],\n [11, 7, 8, 9],\n [11, 7, 8, 10],\n [12, 11, 7, 3, 2, 0],\n [12, 11, 7, 3, 2, 1],\n [12, 11, 7, 3, 2],\n [12, 11, 7, 3],\n [12, 11, 7, 3, 6, 4],\n [12, 11, 7, 3, 6, 5],\n [12, 11, 7, 3, 6],\n [12, 11, 7, 8],\n [12, 11, 7, 8, 9],\n [12, 11, 7, 8, 10],\n [13, 11, 7, 3, 2, 0],\n [13, 11, 7, 3, 2, 1],\n [13, 11, 7, 3, 2],\n [13, 11, 7, 3],\n [13, 11, 7, 3, 6, 4],\n [13, 11, 7, 3, 6, 5],\n [13, 11, 7, 3, 6],\n [13, 11, 7, 8],\n [13, 11, 7, 8, 9],\n [13, 11, 7, 8, 10]]"
      ]
     },
     "execution_count": 31,
     "metadata": {},
     "output_type": "execute_result"
    }
   ],
   "source": [
    "target = 7\n",
    "plist=[]\n",
    "for v in graph1.vs:\n",
    "    paths = graph1.get_all_shortest_paths(v['name'])\n",
    "    for path in paths:\n",
    "        if target in path and target!=path[0] and target!=path[-1]:  #[-1]最后一个\n",
    "            plist.append(path)\n",
    "\n",
    "plist #筛选包含7的最短路径"
   ]
  },
  {
   "cell_type": "code",
   "execution_count": 32,
   "metadata": {},
   "outputs": [
    {
     "data": {
      "text/plain": [
       "[{0, 8},\n {0, 9},\n {0, 10},\n {0, 11},\n {0, 12},\n {0, 13},\n {1, 8},\n {1, 9},\n {1, 10},\n {1, 11},\n {1, 12},\n {1, 13},\n {2, 8},\n {2, 9},\n {2, 10},\n {2, 11},\n {2, 12},\n {2, 13},\n {3, 8},\n {3, 9},\n {3, 10},\n {3, 11},\n {3, 12},\n {3, 13},\n {4, 8},\n {4, 9},\n {4, 10},\n {4, 11},\n {4, 12},\n {4, 13},\n {5, 8},\n {5, 9},\n {5, 10},\n {5, 11},\n {5, 12},\n {5, 13},\n {6, 8},\n {6, 9},\n {6, 10},\n {6, 11},\n {6, 12},\n {6, 13},\n {8, 11},\n {8, 12},\n {8, 13},\n {9, 11},\n {9, 12},\n {9, 13},\n {10, 11},\n {10, 12},\n {10, 13}]"
      ]
     },
     "execution_count": 0,
     "metadata": {},
     "output_type": "execute_result"
    },
    {
     "data": {
      "text/plain": [
       "51"
      ]
     },
     "execution_count": 0,
     "metadata": {},
     "output_type": "execute_result"
    }
   ],
   "source": [
    "last = []\n",
    "times = 0\n",
    "for path in plist:\n",
    "    if set((path[0],path[-1]) )not in last: #去掉重复\n",
    "        last.append(set((path[0],path[-1])))\n",
    "        times+=1\n",
    "display(last,times)\n"
   ]
  },
  {
   "cell_type": "code",
   "execution_count": 33,
   "metadata": {},
   "outputs": [
    {
     "data": {
      "text/plain": [
       "[{'name': '1', 'betweenness': 0.0},\n {'name': '2', 'betweenness': 0.0},\n {'name': '3', 'betweenness': 22.0},\n {'name': '7', 'betweenness': 51.0},\n {'name': '4', 'betweenness': 0.0},\n {'name': '5', 'betweenness': 0.0},\n {'name': '6', 'betweenness': 22.0},\n {'name': '8', 'betweenness': 51.0},\n {'name': '9', 'betweenness': 22.0},\n {'name': '10', 'betweenness': 0.0},\n {'name': '11', 'betweenness': 0.0},\n {'name': '12', 'betweenness': 22.0},\n {'name': '13', 'betweenness': 0.0},\n {'name': '14', 'betweenness': 0.0}]"
      ]
     },
     "execution_count": 33,
     "metadata": {},
     "output_type": "execute_result"
    }
   ],
   "source": [
    "btvs = []\n",
    "for p in zip(graph1.vs,graph1.betweenness()):\n",
    "    btvs.append({'name':p[0]['name'],'betweenness': p[1]})\n",
    "btvs"
   ]
  },
  {
   "cell_type": "code",
   "execution_count": 34,
   "metadata": {},
   "outputs": [
    {
     "data": {
      "text/plain": [
       "[{'name': '7', 'betweenness': 51.0},\n {'name': '8', 'betweenness': 51.0},\n {'name': '3', 'betweenness': 22.0},\n {'name': '6', 'betweenness': 22.0},\n {'name': '9', 'betweenness': 22.0},\n {'name': '12', 'betweenness': 22.0},\n {'name': '1', 'betweenness': 0.0},\n {'name': '2', 'betweenness': 0.0},\n {'name': '4', 'betweenness': 0.0},\n {'name': '5', 'betweenness': 0.0},\n {'name': '10', 'betweenness': 0.0},\n {'name': '11', 'betweenness': 0.0},\n {'name': '13', 'betweenness': 0.0},\n {'name': '14', 'betweenness': 0.0}]"
      ]
     },
     "execution_count": 34,
     "metadata": {},
     "output_type": "execute_result"
    }
   ],
   "source": [
    "btvs = sorted(btvs,key= lambda x : x['betweenness'],reverse=True)\n",
    "btvs"
   ]
  },
  {
   "cell_type": "code",
   "execution_count": 35,
   "metadata": {},
   "outputs": [
    {
     "ename": "SyntaxError",
     "evalue": "invalid character in identifier (<ipython-input-35-e3013229a1e4>, line 5)",
     "traceback": [
      "\u001b[0;36m  File \u001b[0;32m\"<ipython-input-35-e3013229a1e4>\"\u001b[0;36m, line \u001b[0;32m5\u001b[0m\n\u001b[0;31m    pgvs   计算每个网站的权重，\u001b[0m\n\u001b[0m                    ^\u001b[0m\n\u001b[0;31mSyntaxError\u001b[0m\u001b[0;31m:\u001b[0m invalid character in identifier\n"
     ],
     "output_type": "error"
    }
   ],
   "source": [
    "pg = graph1.pagerank()\n",
    "pgvs=[]\n",
    "for path in zip(graph1.vs,pg):\n",
    "    pgvs.append({'name':path[0]['name'],'pg':path[1]})\n",
    "pgvs   计算每个网站的权重，\n"
   ]
  },
  {
   "cell_type": "code",
   "execution_count": 36,
   "metadata": {},
   "outputs": [
    {
     "data": {
      "text/plain": [
       "[{'name': '3', 'pg': 0.08621177802944507},\n {'name': '6', 'pg': 0.08621177802944507},\n {'name': '9', 'pg': 0.08621177802944506},\n {'name': '12', 'pg': 0.08621177802944506},\n {'name': '7', 'pg': 0.08311761850833196},\n {'name': '8', 'pg': 0.08311761850833196},\n {'name': '2', 'pg': 0.06111470635819448},\n {'name': '5', 'pg': 0.06111470635819448},\n {'name': '14', 'pg': 0.06111470635819448},\n {'name': '1', 'pg': 0.06111470635819447},\n {'name': '4', 'pg': 0.06111470635819447},\n {'name': '13', 'pg': 0.06111470635819447},\n {'name': '10', 'pg': 0.06111470635819446},\n {'name': '11', 'pg': 0.06111470635819446}]"
      ]
     },
     "execution_count": 36,
     "metadata": {},
     "output_type": "execute_result"
    }
   ],
   "source": [
    "pgvs=sorted(pgvs,key = lambda x :x['pg'],reverse=True)\n",
    "pgvs"
   ]
  },
  {
   "cell_type": "code",
   "execution_count": 42,
   "metadata": {},
   "outputs": [
    {
     "data": {
      "text/plain": [
       "[{'edge': ('1', '2'), 'between': 1.0},\n {'edge': ('1', '3'), 'between': 12.0},\n {'edge': ('2', '3'), 'between': 12.0},\n {'edge': ('3', '7'), 'between': 33.0},\n {'edge': ('4', '5'), 'between': 1.0},\n {'edge': ('4', '6'), 'between': 12.0},\n {'edge': ('5', '6'), 'between': 12.0},\n {'edge': ('7', '6'), 'between': 33.0},\n {'edge': ('7', '8'), 'between': 49.0},\n {'edge': ('8', '9'), 'between': 33.0},\n {'edge': ('9', '10'), 'between': 12.0},\n {'edge': ('9', '11'), 'between': 12.0},\n {'edge': ('10', '11'), 'between': 1.0},\n {'edge': ('8', '12'), 'between': 33.0},\n {'edge': ('12', '13'), 'between': 12.0},\n {'edge': ('12', '14'), 'between': 12.0},\n {'edge': ('13', '14'), 'between': 1.0}]"
      ]
     },
     "execution_count": 42,
     "metadata": {},
     "output_type": "execute_result"
    }
   ],
   "source": [
    "btes = []\n",
    "for path in zip(graph1.es(),graph1.edge_betweenness()):\n",
    "    e = path[0].tuple #两个顶点 \n",
    "    btes.append({'edge':(names[e[0]],names[e[1]]),\n",
    "                 'between':path[1]}) #经过的边长数量\n",
    "btes  #每个边长在最短路径的数量"
   ]
  },
  {
   "cell_type": "code",
   "execution_count": 43,
   "metadata": {},
   "outputs": [
    {
     "data": {
      "text/plain": [
       "[{'edge': ('7', '8'), 'between': 49.0},\n {'edge': ('3', '7'), 'between': 33.0},\n {'edge': ('7', '6'), 'between': 33.0},\n {'edge': ('8', '9'), 'between': 33.0},\n {'edge': ('8', '12'), 'between': 33.0},\n {'edge': ('1', '3'), 'between': 12.0},\n {'edge': ('2', '3'), 'between': 12.0},\n {'edge': ('4', '6'), 'between': 12.0},\n {'edge': ('5', '6'), 'between': 12.0},\n {'edge': ('9', '10'), 'between': 12.0},\n {'edge': ('9', '11'), 'between': 12.0},\n {'edge': ('12', '13'), 'between': 12.0},\n {'edge': ('12', '14'), 'between': 12.0},\n {'edge': ('1', '2'), 'between': 1.0},\n {'edge': ('4', '5'), 'between': 1.0},\n {'edge': ('10', '11'), 'between': 1.0},\n {'edge': ('13', '14'), 'between': 1.0}]"
      ]
     },
     "execution_count": 43,
     "metadata": {},
     "output_type": "execute_result"
    }
   ],
   "source": [
    "btes = sorted(btes,key = lambda x : x['between'],reverse=True)\n",
    "btes"
   ]
  },
  {
   "cell_type": "code",
   "execution_count": 45,
   "metadata": {},
   "outputs": [
    {
     "data": {
      "text/plain": [
       "<igraph.clustering.VertexDendrogram at 0x113a06810>"
      ]
     },
     "execution_count": 45,
     "metadata": {},
     "output_type": "execute_result"
    }
   ],
   "source": [
    "#GN 算法\n",
    "lastResult = graph1.community_edge_betweenness(directed=False,\n",
    "                                               weights=None)\n",
    "lastResult"
   ]
  },
  {
   "cell_type": "code",
   "execution_count": 46,
   "metadata": {},
   "outputs": [
    {
     "name": "stdout",
     "output_type": "stream",
     "text": [
      "Dendrogram, 14 elements, 13 merges\n\n0 1 2 3 4 5 6 7 11 12 13 8 9 10\n| | | | | | | | |  |  |  | | |\n| | | | | | | | |  `--'  | | |\n| | | | | | | | |   |    | | |\n| | | | | | | | `---'    | `-'\n| | | | | | | |   |      |  | \n| | | | | `-' |   |      `--' \n| | | | |  |  |   |       |   \n| `-' | `--'  |   |       |   \n|  |  |  |    |   |       |   \n`--'  `--'    `---'       |   \n |     |        |         |   \n `-----'        `---------'   \n    |                |        \n    `----------------'\n"
     ]
    }
   ],
   "source": [
    "print(str(lastResult))"
   ]
  },
  {
   "cell_type": "code",
   "execution_count": 48,
   "metadata": {},
   "outputs": [
    {
     "name": "stdout",
     "output_type": "stream",
     "text": [
      "['1', '2', '3', '7', '4', '5', '6', '8', '9', '10', '11', '12', '13', '14']\n"
     ]
    }
   ],
   "source": [
    "print(graph1.vs['name'])"
   ]
  },
  {
   "cell_type": "code",
   "execution_count": null,
   "metadata": {},
   "outputs": [],
   "source": []
  }
 ],
 "metadata": {
  "kernelspec": {
   "display_name": "Python 2",
   "language": "python",
   "name": "python2"
  },
  "language_info": {
   "codemirror_mode": {
    "name": "ipython",
    "version": 2
   },
   "file_extension": ".py",
   "mimetype": "text/x-python",
   "name": "python",
   "nbconvert_exporter": "python",
   "pygments_lexer": "ipython2",
   "version": "2.7.6"
  }
 },
 "nbformat": 4,
 "nbformat_minor": 0
}
