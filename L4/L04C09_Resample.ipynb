{
 "cells": [
  {
   "cell_type": "code",
   "execution_count": 1,
   "metadata": {
    "collapsed": true
   },
   "outputs": [],
   "source": [
    "import numpy as np\n",
    "import pandas as pd\n",
    "from pandas import Series, DataFrame\n"
   ]
  },
  {
   "cell_type": "code",
   "execution_count": 2,
   "metadata": {
    "collapsed": true
   },
   "outputs": [],
   "source": [
    "t_range = pd.date_range('2019-01-01','2020-01-01')"
   ]
  },
  {
   "cell_type": "code",
   "execution_count": 3,
   "metadata": {},
   "outputs": [
    {
     "data": {
      "text/plain": [
       "DatetimeIndex(['2019-01-01', '2019-01-02', '2019-01-03', '2019-01-04',\n",
       "               '2019-01-05', '2019-01-06', '2019-01-07', '2019-01-08',\n",
       "               '2019-01-09', '2019-01-10',\n",
       "               ...\n",
       "               '2019-12-23', '2019-12-24', '2019-12-25', '2019-12-26',\n",
       "               '2019-12-27', '2019-12-28', '2019-12-29', '2019-12-30',\n",
       "               '2019-12-31', '2020-01-01'],\n",
       "              dtype='datetime64[ns]', length=366, freq='D')"
      ]
     },
     "execution_count": 3,
     "metadata": {},
     "output_type": "execute_result"
    }
   ],
   "source": [
    "t_range"
   ]
  },
  {
   "cell_type": "code",
   "execution_count": 4,
   "metadata": {
    "collapsed": true
   },
   "outputs": [],
   "source": [
    "s1 = Series(np.random.randn(len(t_range)),index = t_range)"
   ]
  },
  {
   "cell_type": "code",
   "execution_count": 5,
   "metadata": {},
   "outputs": [
    {
     "data": {
      "text/plain": [
       "2019-01-01    0.933343\n",
       "2019-01-02   -0.544696\n",
       "2019-01-03   -0.381656\n",
       "2019-01-04    0.589284\n",
       "2019-01-05    0.803589\n",
       "2019-01-06    0.018200\n",
       "2019-01-07    0.355658\n",
       "2019-01-08    0.113515\n",
       "2019-01-09   -1.041946\n",
       "2019-01-10   -0.229029\n",
       "2019-01-11   -1.367863\n",
       "2019-01-12   -1.259752\n",
       "2019-01-13    0.124952\n",
       "2019-01-14    0.959491\n",
       "2019-01-15   -0.608298\n",
       "2019-01-16   -0.505977\n",
       "2019-01-17    0.401611\n",
       "2019-01-18   -0.142378\n",
       "2019-01-19    1.047996\n",
       "2019-01-20   -1.626799\n",
       "2019-01-21   -0.612007\n",
       "2019-01-22   -0.213051\n",
       "2019-01-23    0.800353\n",
       "2019-01-24    0.101499\n",
       "2019-01-25   -1.379190\n",
       "2019-01-26    0.526923\n",
       "2019-01-27    0.137674\n",
       "2019-01-28    1.243631\n",
       "2019-01-29   -1.960691\n",
       "2019-01-30   -0.230508\n",
       "                ...   \n",
       "2019-12-03   -0.049871\n",
       "2019-12-04    1.495369\n",
       "2019-12-05    0.296732\n",
       "2019-12-06    1.194087\n",
       "2019-12-07   -0.521042\n",
       "2019-12-08    0.234438\n",
       "2019-12-09    0.617141\n",
       "2019-12-10   -0.744209\n",
       "2019-12-11    0.363467\n",
       "2019-12-12    1.826673\n",
       "2019-12-13    0.512787\n",
       "2019-12-14   -0.463611\n",
       "2019-12-15    0.847914\n",
       "2019-12-16    1.324582\n",
       "2019-12-17    0.803952\n",
       "2019-12-18   -1.481889\n",
       "2019-12-19    1.186038\n",
       "2019-12-20   -1.177728\n",
       "2019-12-21   -1.155773\n",
       "2019-12-22   -0.162699\n",
       "2019-12-23    1.014740\n",
       "2019-12-24   -0.339086\n",
       "2019-12-25   -0.135380\n",
       "2019-12-26   -0.657920\n",
       "2019-12-27    0.243697\n",
       "2019-12-28    0.284073\n",
       "2019-12-29    1.545591\n",
       "2019-12-30    0.769189\n",
       "2019-12-31    0.926035\n",
       "2020-01-01   -0.906334\n",
       "Freq: D, Length: 366, dtype: float64"
      ]
     },
     "execution_count": 5,
     "metadata": {},
     "output_type": "execute_result"
    }
   ],
   "source": [
    "s1"
   ]
  },
  {
   "cell_type": "code",
   "execution_count": 7,
   "metadata": {},
   "outputs": [
    {
     "data": {
      "text/plain": [
       "-0.15820860409348023"
      ]
     },
     "execution_count": 7,
     "metadata": {},
     "output_type": "execute_result"
    }
   ],
   "source": [
    "s1['2019-01'].mean()  # aver()"
   ]
  },
  {
   "cell_type": "code",
   "execution_count": 12,
   "metadata": {},
   "outputs": [
    {
     "data": {
      "text/plain": [
       "2019-01-31   -0.158209\n",
       "2019-02-28   -0.214750\n",
       "2019-03-31    0.108973\n",
       "2019-04-30    0.014355\n",
       "2019-05-31   -0.372135\n",
       "2019-06-30    0.023701\n",
       "2019-07-31    0.187867\n",
       "2019-08-31    0.046619\n",
       "2019-09-30    0.317981\n",
       "2019-10-31   -0.104616\n",
       "2019-11-30    0.250939\n",
       "2019-12-31    0.237392\n",
       "2020-01-31   -0.906334\n",
       "Freq: M, dtype: float64"
      ]
     },
     "execution_count": 12,
     "metadata": {},
     "output_type": "execute_result"
    }
   ],
   "source": [
    "s1.resample('M').mean()"
   ]
  },
  {
   "cell_type": "code",
   "execution_count": 54,
   "metadata": {},
   "outputs": [
    {
     "data": {
      "text/plain": [
       "2019-01-01 00:00:00    0.933343\n",
       "2019-01-01 01:00:00    0.933343\n",
       "2019-01-01 02:00:00    0.933343\n",
       "2019-01-01 03:00:00    0.933343\n",
       "2019-01-01 04:00:00    0.933343\n",
       "2019-01-01 05:00:00    0.933343\n",
       "2019-01-01 06:00:00    0.933343\n",
       "2019-01-01 07:00:00    0.933343\n",
       "2019-01-01 08:00:00    0.933343\n",
       "2019-01-01 09:00:00    0.933343\n",
       "2019-01-01 10:00:00    0.933343\n",
       "2019-01-01 11:00:00    0.933343\n",
       "2019-01-01 12:00:00    0.933343\n",
       "2019-01-01 13:00:00    0.933343\n",
       "2019-01-01 14:00:00    0.933343\n",
       "2019-01-01 15:00:00    0.933343\n",
       "2019-01-01 16:00:00    0.933343\n",
       "2019-01-01 17:00:00    0.933343\n",
       "2019-01-01 18:00:00    0.933343\n",
       "2019-01-01 19:00:00    0.933343\n",
       "2019-01-01 20:00:00    0.933343\n",
       "2019-01-01 21:00:00    0.933343\n",
       "2019-01-01 22:00:00    0.933343\n",
       "2019-01-01 23:00:00    0.933343\n",
       "2019-01-02 00:00:00   -0.544696\n",
       "2019-01-02 01:00:00   -0.544696\n",
       "2019-01-02 02:00:00   -0.544696\n",
       "2019-01-02 03:00:00   -0.544696\n",
       "2019-01-02 04:00:00   -0.544696\n",
       "2019-01-02 05:00:00   -0.544696\n",
       "                         ...   \n",
       "2019-12-30 19:00:00    0.769189\n",
       "2019-12-30 20:00:00    0.769189\n",
       "2019-12-30 21:00:00    0.769189\n",
       "2019-12-30 22:00:00    0.769189\n",
       "2019-12-30 23:00:00    0.769189\n",
       "2019-12-31 00:00:00    0.926035\n",
       "2019-12-31 01:00:00    0.926035\n",
       "2019-12-31 02:00:00    0.926035\n",
       "2019-12-31 03:00:00    0.926035\n",
       "2019-12-31 04:00:00    0.926035\n",
       "2019-12-31 05:00:00    0.926035\n",
       "2019-12-31 06:00:00    0.926035\n",
       "2019-12-31 07:00:00    0.926035\n",
       "2019-12-31 08:00:00    0.926035\n",
       "2019-12-31 09:00:00    0.926035\n",
       "2019-12-31 10:00:00    0.926035\n",
       "2019-12-31 11:00:00    0.926035\n",
       "2019-12-31 12:00:00    0.926035\n",
       "2019-12-31 13:00:00    0.926035\n",
       "2019-12-31 14:00:00    0.926035\n",
       "2019-12-31 15:00:00    0.926035\n",
       "2019-12-31 16:00:00    0.926035\n",
       "2019-12-31 17:00:00    0.926035\n",
       "2019-12-31 18:00:00    0.926035\n",
       "2019-12-31 19:00:00    0.926035\n",
       "2019-12-31 20:00:00    0.926035\n",
       "2019-12-31 21:00:00    0.926035\n",
       "2019-12-31 22:00:00    0.926035\n",
       "2019-12-31 23:00:00    0.926035\n",
       "2020-01-01 00:00:00   -0.906334\n",
       "Freq: H, Length: 8761, dtype: float64"
      ]
     },
     "execution_count": 54,
     "metadata": {},
     "output_type": "execute_result"
    }
   ],
   "source": [
    "s1.resample('H').ffill()"
   ]
  },
  {
   "cell_type": "code",
   "execution_count": 55,
   "metadata": {},
   "outputs": [],
   "source": [
    "t_range = pd.date_range('2019-01-01','2019-12-31',freq = 'H')"
   ]
  },
  {
   "cell_type": "code",
   "execution_count": 39,
   "metadata": {},
   "outputs": [
    {
     "data": {
      "text/plain": [
       "DatetimeIndex(['2019-01-01 00:00:00', '2019-01-01 01:00:00',\n",
       "               '2019-01-01 02:00:00', '2019-01-01 03:00:00',\n",
       "               '2019-01-01 04:00:00', '2019-01-01 05:00:00',\n",
       "               '2019-01-01 06:00:00', '2019-01-01 07:00:00',\n",
       "               '2019-01-01 08:00:00', '2019-01-01 09:00:00',\n",
       "               ...\n",
       "               '2019-12-30 15:00:00', '2019-12-30 16:00:00',\n",
       "               '2019-12-30 17:00:00', '2019-12-30 18:00:00',\n",
       "               '2019-12-30 19:00:00', '2019-12-30 20:00:00',\n",
       "               '2019-12-30 21:00:00', '2019-12-30 22:00:00',\n",
       "               '2019-12-30 23:00:00', '2019-12-31 00:00:00'],\n",
       "              dtype='datetime64[ns]', length=8737, freq='H')"
      ]
     },
     "execution_count": 39,
     "metadata": {},
     "output_type": "execute_result"
    }
   ],
   "source": [
    "t_range"
   ]
  },
  {
   "cell_type": "code",
   "execution_count": 40,
   "metadata": {
    "collapsed": true
   },
   "outputs": [],
   "source": [
    "stock_df = DataFrame(index = t_range)"
   ]
  },
  {
   "cell_type": "code",
   "execution_count": 41,
   "metadata": {},
   "outputs": [
    {
     "data": {
      "text/html": [
       "<div>\n",
       "<style>\n",
       "    .dataframe thead tr:only-child th {\n",
       "        text-align: right;\n",
       "    }\n",
       "\n",
       "    .dataframe thead th {\n",
       "        text-align: left;\n",
       "    }\n",
       "\n",
       "    .dataframe tbody tr th {\n",
       "        vertical-align: top;\n",
       "    }\n",
       "</style>\n",
       "<table border=\"1\" class=\"dataframe\">\n",
       "  <thead>\n",
       "    <tr style=\"text-align: right;\">\n",
       "      <th></th>\n",
       "    </tr>\n",
       "  </thead>\n",
       "  <tbody>\n",
       "    <tr>\n",
       "      <th>2019-01-01 00:00:00</th>\n",
       "    </tr>\n",
       "    <tr>\n",
       "      <th>2019-01-01 01:00:00</th>\n",
       "    </tr>\n",
       "    <tr>\n",
       "      <th>2019-01-01 02:00:00</th>\n",
       "    </tr>\n",
       "    <tr>\n",
       "      <th>2019-01-01 03:00:00</th>\n",
       "    </tr>\n",
       "    <tr>\n",
       "      <th>2019-01-01 04:00:00</th>\n",
       "    </tr>\n",
       "  </tbody>\n",
       "</table>\n",
       "</div>"
      ],
      "text/plain": [
       "Empty DataFrame\n",
       "Columns: []\n",
       "Index: [2019-01-01 00:00:00, 2019-01-01 01:00:00, 2019-01-01 02:00:00, 2019-01-01 03:00:00, 2019-01-01 04:00:00]"
      ]
     },
     "execution_count": 41,
     "metadata": {},
     "output_type": "execute_result"
    }
   ],
   "source": [
    "stock_df.head()"
   ]
  },
  {
   "cell_type": "code",
   "execution_count": 42,
   "metadata": {
    "collapsed": true
   },
   "outputs": [],
   "source": [
    "stock_df['BABA'] = np.random.randint(80,160,size=8737)\n",
    "stock_df['TENCENT'] = np.random.randint(30,50,size=8737)"
   ]
  },
  {
   "cell_type": "code",
   "execution_count": 43,
   "metadata": {},
   "outputs": [
    {
     "data": {
      "text/html": [
       "<div>\n",
       "<style>\n",
       "    .dataframe thead tr:only-child th {\n",
       "        text-align: right;\n",
       "    }\n",
       "\n",
       "    .dataframe thead th {\n",
       "        text-align: left;\n",
       "    }\n",
       "\n",
       "    .dataframe tbody tr th {\n",
       "        vertical-align: top;\n",
       "    }\n",
       "</style>\n",
       "<table border=\"1\" class=\"dataframe\">\n",
       "  <thead>\n",
       "    <tr style=\"text-align: right;\">\n",
       "      <th></th>\n",
       "      <th>BABA</th>\n",
       "      <th>TENCENT</th>\n",
       "    </tr>\n",
       "  </thead>\n",
       "  <tbody>\n",
       "    <tr>\n",
       "      <th>2019-01-01 00:00:00</th>\n",
       "      <td>147</td>\n",
       "      <td>42</td>\n",
       "    </tr>\n",
       "    <tr>\n",
       "      <th>2019-01-01 01:00:00</th>\n",
       "      <td>100</td>\n",
       "      <td>32</td>\n",
       "    </tr>\n",
       "    <tr>\n",
       "      <th>2019-01-01 02:00:00</th>\n",
       "      <td>139</td>\n",
       "      <td>31</td>\n",
       "    </tr>\n",
       "    <tr>\n",
       "      <th>2019-01-01 03:00:00</th>\n",
       "      <td>105</td>\n",
       "      <td>47</td>\n",
       "    </tr>\n",
       "    <tr>\n",
       "      <th>2019-01-01 04:00:00</th>\n",
       "      <td>116</td>\n",
       "      <td>48</td>\n",
       "    </tr>\n",
       "  </tbody>\n",
       "</table>\n",
       "</div>"
      ],
      "text/plain": [
       "                     BABA  TENCENT\n",
       "2019-01-01 00:00:00   147       42\n",
       "2019-01-01 01:00:00   100       32\n",
       "2019-01-01 02:00:00   139       31\n",
       "2019-01-01 03:00:00   105       47\n",
       "2019-01-01 04:00:00   116       48"
      ]
     },
     "execution_count": 43,
     "metadata": {},
     "output_type": "execute_result"
    }
   ],
   "source": [
    "stock_df.head()"
   ]
  },
  {
   "cell_type": "code",
   "execution_count": 44,
   "metadata": {},
   "outputs": [
    {
     "data": {
      "text/plain": [
       "<matplotlib.axes._subplots.AxesSubplot at 0x111e6ce48>"
      ]
     },
     "execution_count": 44,
     "metadata": {},
     "output_type": "execute_result"
    }
   ],
   "source": [
    "stock_df.plot()"
   ]
  },
  {
   "cell_type": "code",
   "execution_count": 46,
   "metadata": {
    "collapsed": true
   },
   "outputs": [],
   "source": [
    "import matplotlib.pyplot as plt"
   ]
  },
  {
   "cell_type": "code",
   "execution_count": 47,
   "metadata": {},
   "outputs": [
    {
     "data": {
      "image/png": "[encoded data removed]",
      "text/plain": [
       "<matplotlib.figure.Figure at 0x1112e64e0>"
      ]
     },
     "metadata": {},
     "output_type": "display_data"
    }
   ],
   "source": [
    "plt.show()"
   ]
  },
  {
   "cell_type": "code",
   "execution_count": 48,
   "metadata": {
    "collapsed": true
   },
   "outputs": [],
   "source": [
    "weekly_df = DataFrame()\n",
    "weekly_df['BABA'] = stock_df['BABA'].resample('W').mean()\n",
    "weekly_df['TENCENT'] = stock_df['TENCENT'].resample('W').mean()"
   ]
  },
  {
   "cell_type": "code",
   "execution_count": 50,
   "metadata": {},
   "outputs": [
    {
     "data": {
      "text/html": [
       "<div>\n",
       "<style>\n",
       "    .dataframe thead tr:only-child th {\n",
       "        text-align: right;\n",
       "    }\n",
       "\n",
       "    .dataframe thead th {\n",
       "        text-align: left;\n",
       "    }\n",
       "\n",
       "    .dataframe tbody tr th {\n",
       "        vertical-align: top;\n",
       "    }\n",
       "</style>\n",
       "<table border=\"1\" class=\"dataframe\">\n",
       "  <thead>\n",
       "    <tr style=\"text-align: right;\">\n",
       "      <th></th>\n",
       "      <th>BABA</th>\n",
       "      <th>TENCENT</th>\n",
       "    </tr>\n",
       "  </thead>\n",
       "  <tbody>\n",
       "    <tr>\n",
       "      <th>2019-01-06</th>\n",
       "      <td>121.701389</td>\n",
       "      <td>39.951389</td>\n",
       "    </tr>\n",
       "    <tr>\n",
       "      <th>2019-01-13</th>\n",
       "      <td>121.125000</td>\n",
       "      <td>39.446429</td>\n",
       "    </tr>\n",
       "    <tr>\n",
       "      <th>2019-01-20</th>\n",
       "      <td>118.607143</td>\n",
       "      <td>39.613095</td>\n",
       "    </tr>\n",
       "    <tr>\n",
       "      <th>2019-01-27</th>\n",
       "      <td>120.375000</td>\n",
       "      <td>39.607143</td>\n",
       "    </tr>\n",
       "    <tr>\n",
       "      <th>2019-02-03</th>\n",
       "      <td>119.773810</td>\n",
       "      <td>40.000000</td>\n",
       "    </tr>\n",
       "  </tbody>\n",
       "</table>\n",
       "</div>"
      ],
      "text/plain": [
       "                  BABA    TENCENT\n",
       "2019-01-06  121.701389  39.951389\n",
       "2019-01-13  121.125000  39.446429\n",
       "2019-01-20  118.607143  39.613095\n",
       "2019-01-27  120.375000  39.607143\n",
       "2019-02-03  119.773810  40.000000"
      ]
     },
     "execution_count": 50,
     "metadata": {},
     "output_type": "execute_result"
    }
   ],
   "source": [
    "weekly_df.head()"
   ]
  },
  {
   "cell_type": "code",
   "execution_count": 51,
   "metadata": {},
   "outputs": [
    {
     "data": {
      "text/plain": [
       "<matplotlib.axes._subplots.AxesSubplot at 0x1156ff668>"
      ]
     },
     "execution_count": 51,
     "metadata": {},
     "output_type": "execute_result"
    }
   ],
   "source": [
    "weekly_df.plot()"
   ]
  },
  {
   "cell_type": "code",
   "execution_count": 53,
   "metadata": {},
   "outputs": [
    {
     "data": {
      "image/png": "[encoded data removed]",
      "text/plain": [
       "<matplotlib.figure.Figure at 0x115607198>"
      ]
     },
     "metadata": {},
     "output_type": "display_data"
    }
   ],
   "source": [
    "plt.show()"
   ]
  },
  {
   "cell_type": "code",
   "execution_count": null,
   "metadata": {
    "collapsed": true
   },
   "outputs": [],
   "source": []
  }
 ],
 "metadata": {
  "kernelspec": {
   "display_name": "Python 3",
   "language": "python",
   "name": "python3"
  },
  "language_info": {
   "codemirror_mode": {
    "name": "ipython",
    "version": 3
   },
   "file_extension": ".py",
   "mimetype": "text/x-python",
   "name": "python",
   "nbconvert_exporter": "python",
   "pygments_lexer": "ipython3",
   "version": "3.6.1"
  }
 },
 "nbformat": 4,
 "nbformat_minor": 2
}
